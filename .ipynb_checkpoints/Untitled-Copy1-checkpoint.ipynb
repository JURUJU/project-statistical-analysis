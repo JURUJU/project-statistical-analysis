{
 "cells": [
  {
   "cell_type": "code",
   "execution_count": 230,
   "metadata": {},
   "outputs": [],
   "source": [
    "# Importación de librerias"
   ]
  },
  {
   "cell_type": "code",
   "execution_count": 765,
   "metadata": {},
   "outputs": [],
   "source": [
    "import pandas as pd\n",
    "import seaborn as sns\n",
    "import matplotlib.pyplot as plt\n",
    "import numpy as np\n",
    "import cufflinks as cf\n",
    "from scipy import stats\n",
    "from datetime import datetime\n",
    "from pmdarima import auto_arima\n",
    "\n",
    "\n",
    "from statsmodels.tsa.seasonal import seasonal_decompose\n",
    "from statsmodels.tsa.stattools import adfuller\n",
    "from statsmodels.graphics.tsaplots import plot_acf, plot_pacf\n",
    "from statsmodels.tsa.arima_model import ARIMA\n",
    "from statsmodels.tsa.statespace.sarimax import SARIMAX\n",
    "\n",
    "from sklearn.linear_model import LogisticRegression\n",
    "from sklearn.model_selection import train_test_split\n",
    "from sklearn import preprocessing\n",
    "\n",
    "\n",
    "from sklearn.metrics import confusion_matrix,classification_report\n",
    "from sklearn.metrics import accuracy_score,precision_score,recall_score,f1_score,log_loss\n",
    "from sklearn.metrics import auc,roc_curve,roc_auc_score,precision_recall_curve"
   ]
  },
  {
   "cell_type": "code",
   "execution_count": 231,
   "metadata": {},
   "outputs": [],
   "source": [
    "# Importación del dataset"
   ]
  },
  {
   "cell_type": "code",
   "execution_count": 804,
   "metadata": {},
   "outputs": [],
   "source": [
    "tdf=pd.read_excel('ATP_Tennis_Stats.xlsx')"
   ]
  },
  {
   "cell_type": "code",
   "execution_count": 805,
   "metadata": {
    "scrolled": true
   },
   "outputs": [
    {
     "data": {
      "text/html": [
       "<div>\n",
       "<style scoped>\n",
       "    .dataframe tbody tr th:only-of-type {\n",
       "        vertical-align: middle;\n",
       "    }\n",
       "\n",
       "    .dataframe tbody tr th {\n",
       "        vertical-align: top;\n",
       "    }\n",
       "\n",
       "    .dataframe thead th {\n",
       "        text-align: right;\n",
       "    }\n",
       "</style>\n",
       "<table border=\"1\" class=\"dataframe\">\n",
       "  <thead>\n",
       "    <tr style=\"text-align: right;\">\n",
       "      <th></th>\n",
       "      <th>Ranking</th>\n",
       "      <th>Jugador</th>\n",
       "      <th>Nacionalidad</th>\n",
       "      <th>Edad</th>\n",
       "      <th>Altura cm</th>\n",
       "      <th>Año</th>\n",
       "      <th>Efectividad Al Saque ©</th>\n",
       "      <th>% 1er Servicio</th>\n",
       "      <th>% Puntos Ganados 1er Saque</th>\n",
       "      <th>% Puntos Ganados 2do Saque</th>\n",
       "      <th>...</th>\n",
       "      <th>% Games Al Resto</th>\n",
       "      <th>% Break Points Convertidos</th>\n",
       "      <th>Efectividad Bajo Presión</th>\n",
       "      <th>% Break Points Convertidos.1</th>\n",
       "      <th>% Break Points Salvados</th>\n",
       "      <th>% Tie Breaks Ganados</th>\n",
       "      <th>% Victorias Sets Definitivos</th>\n",
       "      <th>Tiempo de partido (min)</th>\n",
       "      <th>% de Victorias</th>\n",
       "      <th>Lesiones</th>\n",
       "    </tr>\n",
       "  </thead>\n",
       "  <tbody>\n",
       "    <tr>\n",
       "      <th>0</th>\n",
       "      <td>14</td>\n",
       "      <td>John Isner</td>\n",
       "      <td>United States</td>\n",
       "      <td>27</td>\n",
       "      <td>208</td>\n",
       "      <td>2012</td>\n",
       "      <td>309.3</td>\n",
       "      <td>68.7</td>\n",
       "      <td>77.8</td>\n",
       "      <td>56.6</td>\n",
       "      <td>...</td>\n",
       "      <td>10.8</td>\n",
       "      <td>30.9</td>\n",
       "      <td>232.4</td>\n",
       "      <td>30.9</td>\n",
       "      <td>73.6</td>\n",
       "      <td>67.9</td>\n",
       "      <td>60.0</td>\n",
       "      <td>120</td>\n",
       "      <td>68.18</td>\n",
       "      <td>0</td>\n",
       "    </tr>\n",
       "    <tr>\n",
       "      <th>1</th>\n",
       "      <td>13</td>\n",
       "      <td>Milos Raonic</td>\n",
       "      <td>Canada</td>\n",
       "      <td>22</td>\n",
       "      <td>196</td>\n",
       "      <td>2012</td>\n",
       "      <td>305.0</td>\n",
       "      <td>61.7</td>\n",
       "      <td>82.3</td>\n",
       "      <td>55.5</td>\n",
       "      <td>...</td>\n",
       "      <td>15.1</td>\n",
       "      <td>38.8</td>\n",
       "      <td>214.9</td>\n",
       "      <td>38.8</td>\n",
       "      <td>73.9</td>\n",
       "      <td>55.1</td>\n",
       "      <td>47.1</td>\n",
       "      <td>110</td>\n",
       "      <td>69.23</td>\n",
       "      <td>1</td>\n",
       "    </tr>\n",
       "    <tr>\n",
       "      <th>2</th>\n",
       "      <td>2</td>\n",
       "      <td>Roger Federer</td>\n",
       "      <td>Switzerland</td>\n",
       "      <td>31</td>\n",
       "      <td>185</td>\n",
       "      <td>2012</td>\n",
       "      <td>298.3</td>\n",
       "      <td>62.9</td>\n",
       "      <td>77.7</td>\n",
       "      <td>59.9</td>\n",
       "      <td>...</td>\n",
       "      <td>25.9</td>\n",
       "      <td>41.9</td>\n",
       "      <td>252.9</td>\n",
       "      <td>41.9</td>\n",
       "      <td>68.6</td>\n",
       "      <td>60.0</td>\n",
       "      <td>82.4</td>\n",
       "      <td>105</td>\n",
       "      <td>85.54</td>\n",
       "      <td>0</td>\n",
       "    </tr>\n",
       "    <tr>\n",
       "      <th>3</th>\n",
       "      <td>100</td>\n",
       "      <td>Ivo Karlovic</td>\n",
       "      <td>Croatia</td>\n",
       "      <td>33</td>\n",
       "      <td>211</td>\n",
       "      <td>2012</td>\n",
       "      <td>296.9</td>\n",
       "      <td>64.9</td>\n",
       "      <td>79.1</td>\n",
       "      <td>51.6</td>\n",
       "      <td>...</td>\n",
       "      <td>10.9</td>\n",
       "      <td>28.0</td>\n",
       "      <td>173.6</td>\n",
       "      <td>28.0</td>\n",
       "      <td>64.3</td>\n",
       "      <td>56.3</td>\n",
       "      <td>25.0</td>\n",
       "      <td>117</td>\n",
       "      <td>48.48</td>\n",
       "      <td>1</td>\n",
       "    </tr>\n",
       "    <tr>\n",
       "      <th>4</th>\n",
       "      <td>4</td>\n",
       "      <td>Rafael Nadal</td>\n",
       "      <td>Spain</td>\n",
       "      <td>26</td>\n",
       "      <td>185</td>\n",
       "      <td>2012</td>\n",
       "      <td>289.0</td>\n",
       "      <td>67.4</td>\n",
       "      <td>74.6</td>\n",
       "      <td>57.1</td>\n",
       "      <td>...</td>\n",
       "      <td>37.7</td>\n",
       "      <td>49.2</td>\n",
       "      <td>242.4</td>\n",
       "      <td>49.2</td>\n",
       "      <td>70.5</td>\n",
       "      <td>72.7</td>\n",
       "      <td>50.0</td>\n",
       "      <td>124</td>\n",
       "      <td>87.50</td>\n",
       "      <td>0</td>\n",
       "    </tr>\n",
       "    <tr>\n",
       "      <th>...</th>\n",
       "      <td>...</td>\n",
       "      <td>...</td>\n",
       "      <td>...</td>\n",
       "      <td>...</td>\n",
       "      <td>...</td>\n",
       "      <td>...</td>\n",
       "      <td>...</td>\n",
       "      <td>...</td>\n",
       "      <td>...</td>\n",
       "      <td>...</td>\n",
       "      <td>...</td>\n",
       "      <td>...</td>\n",
       "      <td>...</td>\n",
       "      <td>...</td>\n",
       "      <td>...</td>\n",
       "      <td>...</td>\n",
       "      <td>...</td>\n",
       "      <td>...</td>\n",
       "      <td>...</td>\n",
       "      <td>...</td>\n",
       "      <td>...</td>\n",
       "    </tr>\n",
       "    <tr>\n",
       "      <th>258</th>\n",
       "      <td>178</td>\n",
       "      <td>Nikoloz Basilashvili</td>\n",
       "      <td>Russian Federation</td>\n",
       "      <td>22</td>\n",
       "      <td>185</td>\n",
       "      <td>2014</td>\n",
       "      <td>245.6</td>\n",
       "      <td>59.2</td>\n",
       "      <td>68.9</td>\n",
       "      <td>45.2</td>\n",
       "      <td>...</td>\n",
       "      <td>12.5</td>\n",
       "      <td>25.0</td>\n",
       "      <td>175.0</td>\n",
       "      <td>25.0</td>\n",
       "      <td>50.0</td>\n",
       "      <td>100.0</td>\n",
       "      <td>0.0</td>\n",
       "      <td>131</td>\n",
       "      <td>0.00</td>\n",
       "      <td>0</td>\n",
       "    </tr>\n",
       "    <tr>\n",
       "      <th>259</th>\n",
       "      <td>136</td>\n",
       "      <td>Alexander Zverev</td>\n",
       "      <td>Germany</td>\n",
       "      <td>17</td>\n",
       "      <td>198</td>\n",
       "      <td>2014</td>\n",
       "      <td>232.2</td>\n",
       "      <td>54.7</td>\n",
       "      <td>61.8</td>\n",
       "      <td>50.0</td>\n",
       "      <td>...</td>\n",
       "      <td>24.0</td>\n",
       "      <td>32.9</td>\n",
       "      <td>162.2</td>\n",
       "      <td>32.9</td>\n",
       "      <td>46.0</td>\n",
       "      <td>33.3</td>\n",
       "      <td>50.0</td>\n",
       "      <td>88</td>\n",
       "      <td>40.00</td>\n",
       "      <td>1</td>\n",
       "    </tr>\n",
       "    <tr>\n",
       "      <th>260</th>\n",
       "      <td>61</td>\n",
       "      <td>Diego Schwartzman</td>\n",
       "      <td>Argentina</td>\n",
       "      <td>22</td>\n",
       "      <td>170</td>\n",
       "      <td>2014</td>\n",
       "      <td>227.4</td>\n",
       "      <td>60.1</td>\n",
       "      <td>56.8</td>\n",
       "      <td>50.0</td>\n",
       "      <td>...</td>\n",
       "      <td>36.0</td>\n",
       "      <td>49.1</td>\n",
       "      <td>92.9</td>\n",
       "      <td>49.1</td>\n",
       "      <td>43.8</td>\n",
       "      <td>0.0</td>\n",
       "      <td>0.0</td>\n",
       "      <td>100</td>\n",
       "      <td>33.30</td>\n",
       "      <td>1</td>\n",
       "    </tr>\n",
       "    <tr>\n",
       "      <th>261</th>\n",
       "      <td>372</td>\n",
       "      <td>Karen Khachanov</td>\n",
       "      <td>Russian Federation</td>\n",
       "      <td>19</td>\n",
       "      <td>198</td>\n",
       "      <td>2014</td>\n",
       "      <td>215.8</td>\n",
       "      <td>58.7</td>\n",
       "      <td>60.2</td>\n",
       "      <td>42.1</td>\n",
       "      <td>...</td>\n",
       "      <td>7.7</td>\n",
       "      <td>40.0</td>\n",
       "      <td>195.6</td>\n",
       "      <td>40.0</td>\n",
       "      <td>55.6</td>\n",
       "      <td>100.0</td>\n",
       "      <td>0.0</td>\n",
       "      <td>116</td>\n",
       "      <td>0.00</td>\n",
       "      <td>1</td>\n",
       "    </tr>\n",
       "    <tr>\n",
       "      <th>262</th>\n",
       "      <td>252</td>\n",
       "      <td>Cristian Garin</td>\n",
       "      <td>Chile</td>\n",
       "      <td>18</td>\n",
       "      <td>185</td>\n",
       "      <td>2014</td>\n",
       "      <td>198.1</td>\n",
       "      <td>64.2</td>\n",
       "      <td>56.8</td>\n",
       "      <td>32.1</td>\n",
       "      <td>...</td>\n",
       "      <td>21.7</td>\n",
       "      <td>33.3</td>\n",
       "      <td>81.1</td>\n",
       "      <td>33.3</td>\n",
       "      <td>47.8</td>\n",
       "      <td>0.0</td>\n",
       "      <td>0.0</td>\n",
       "      <td>94</td>\n",
       "      <td>40.00</td>\n",
       "      <td>0</td>\n",
       "    </tr>\n",
       "  </tbody>\n",
       "</table>\n",
       "<p>263 rows × 26 columns</p>\n",
       "</div>"
      ],
      "text/plain": [
       "     Ranking               Jugador        Nacionalidad  Edad  Altura cm   Año  \\\n",
       "0         14            John Isner       United States    27        208  2012   \n",
       "1         13          Milos Raonic              Canada    22        196  2012   \n",
       "2          2         Roger Federer         Switzerland    31        185  2012   \n",
       "3        100          Ivo Karlovic             Croatia    33        211  2012   \n",
       "4          4          Rafael Nadal               Spain    26        185  2012   \n",
       "..       ...                   ...                 ...   ...        ...   ...   \n",
       "258      178  Nikoloz Basilashvili  Russian Federation    22        185  2014   \n",
       "259      136      Alexander Zverev             Germany    17        198  2014   \n",
       "260       61     Diego Schwartzman           Argentina    22        170  2014   \n",
       "261      372       Karen Khachanov  Russian Federation    19        198  2014   \n",
       "262      252        Cristian Garin               Chile    18        185  2014   \n",
       "\n",
       "     Efectividad Al Saque ©  % 1er Servicio  % Puntos Ganados 1er Saque  \\\n",
       "0                     309.3            68.7                        77.8   \n",
       "1                     305.0            61.7                        82.3   \n",
       "2                     298.3            62.9                        77.7   \n",
       "3                     296.9            64.9                        79.1   \n",
       "4                     289.0            67.4                        74.6   \n",
       "..                      ...             ...                         ...   \n",
       "258                   245.6            59.2                        68.9   \n",
       "259                   232.2            54.7                        61.8   \n",
       "260                   227.4            60.1                        56.8   \n",
       "261                   215.8            58.7                        60.2   \n",
       "262                   198.1            64.2                        56.8   \n",
       "\n",
       "     % Puntos Ganados 2do Saque  ...  % Games Al Resto  \\\n",
       "0                          56.6  ...              10.8   \n",
       "1                          55.5  ...              15.1   \n",
       "2                          59.9  ...              25.9   \n",
       "3                          51.6  ...              10.9   \n",
       "4                          57.1  ...              37.7   \n",
       "..                          ...  ...               ...   \n",
       "258                        45.2  ...              12.5   \n",
       "259                        50.0  ...              24.0   \n",
       "260                        50.0  ...              36.0   \n",
       "261                        42.1  ...               7.7   \n",
       "262                        32.1  ...              21.7   \n",
       "\n",
       "     % Break Points Convertidos  Efectividad Bajo Presión  \\\n",
       "0                          30.9                     232.4   \n",
       "1                          38.8                     214.9   \n",
       "2                          41.9                     252.9   \n",
       "3                          28.0                     173.6   \n",
       "4                          49.2                     242.4   \n",
       "..                          ...                       ...   \n",
       "258                        25.0                     175.0   \n",
       "259                        32.9                     162.2   \n",
       "260                        49.1                      92.9   \n",
       "261                        40.0                     195.6   \n",
       "262                        33.3                      81.1   \n",
       "\n",
       "     % Break Points Convertidos.1  % Break Points Salvados  \\\n",
       "0                            30.9                     73.6   \n",
       "1                            38.8                     73.9   \n",
       "2                            41.9                     68.6   \n",
       "3                            28.0                     64.3   \n",
       "4                            49.2                     70.5   \n",
       "..                            ...                      ...   \n",
       "258                          25.0                     50.0   \n",
       "259                          32.9                     46.0   \n",
       "260                          49.1                     43.8   \n",
       "261                          40.0                     55.6   \n",
       "262                          33.3                     47.8   \n",
       "\n",
       "     % Tie Breaks Ganados  % Victorias Sets Definitivos  \\\n",
       "0                    67.9                          60.0   \n",
       "1                    55.1                          47.1   \n",
       "2                    60.0                          82.4   \n",
       "3                    56.3                          25.0   \n",
       "4                    72.7                          50.0   \n",
       "..                    ...                           ...   \n",
       "258                 100.0                           0.0   \n",
       "259                  33.3                          50.0   \n",
       "260                   0.0                           0.0   \n",
       "261                 100.0                           0.0   \n",
       "262                   0.0                           0.0   \n",
       "\n",
       "     Tiempo de partido (min)  % de Victorias   Lesiones  \n",
       "0                        120            68.18         0  \n",
       "1                        110            69.23         1  \n",
       "2                        105            85.54         0  \n",
       "3                        117            48.48         1  \n",
       "4                        124            87.50         0  \n",
       "..                       ...              ...       ...  \n",
       "258                      131             0.00         0  \n",
       "259                       88            40.00         1  \n",
       "260                      100            33.30         1  \n",
       "261                      116             0.00         1  \n",
       "262                       94            40.00         0  \n",
       "\n",
       "[263 rows x 26 columns]"
      ]
     },
     "execution_count": 805,
     "metadata": {},
     "output_type": "execute_result"
    }
   ],
   "source": [
    "tdf"
   ]
  },
  {
   "cell_type": "code",
   "execution_count": 751,
   "metadata": {},
   "outputs": [],
   "source": [
    "# Análisis del dataset"
   ]
  },
  {
   "cell_type": "code",
   "execution_count": 752,
   "metadata": {
    "scrolled": true
   },
   "outputs": [
    {
     "data": {
      "text/plain": [
       "Index(['Ranking', 'Jugador', 'Nacionalidad', 'Edad', 'Altura cm', 'Año',\n",
       "       'Efectividad Al Saque ©', '% 1er Servicio',\n",
       "       '% Puntos Ganados 1er Saque', '% Puntos Ganados 2do Saque',\n",
       "       '% Games Ganados Saque', 'Prom. Aces Por Partido',\n",
       "       'Prom. Dobles Por Partido', 'Efectividad Al Resto ',\n",
       "       '% Restos 1er Saque', '% Restos 2° Saque', '% Games Al Resto',\n",
       "       '% Break Points Convertidos', 'Efectividad Bajo Presión',\n",
       "       '% Break Points Convertidos.1', '% Break Points Salvados',\n",
       "       '% Tie Breaks Ganados', '% Victorias Sets Definitivos',\n",
       "       'Tiempo de partido (min)', '% de Victorias ', 'Lesiones'],\n",
       "      dtype='object')"
      ]
     },
     "execution_count": 752,
     "metadata": {},
     "output_type": "execute_result"
    }
   ],
   "source": [
    "tdf.columns"
   ]
  },
  {
   "cell_type": "code",
   "execution_count": 753,
   "metadata": {},
   "outputs": [],
   "source": [
    "tdf2['Tarifa Jugador'] = [200000 if x<8 else 100000 if 8<=x<30 else 50000 for x in tdf2['Ranking']]"
   ]
  },
  {
   "cell_type": "code",
   "execution_count": 754,
   "metadata": {},
   "outputs": [],
   "source": [
    "tdf['Perfil jugador'] = ['Restador' if x<3.500 else 'Equilibrado' if 3.500<=x<5.000 else 'Sacador' for x in tdf['Prom. Aces Por Partido']]"
   ]
  },
  {
   "cell_type": "code",
   "execution_count": 755,
   "metadata": {},
   "outputs": [],
   "source": [
    "tdf_2012=tdf_2012[['Ranking', 'Jugador', 'Nacionalidad', 'Edad', 'Altura cm', 'Año',\n",
    "       'Efectividad Al Saque ©', '% 1er Servicio',\n",
    "       '% Puntos Ganados 1er Saque', '% Puntos Ganados 2do Saque',\n",
    "       '% Games Ganados Saque', 'Prom. Aces Por Partido',\n",
    "       'Prom. Dobles Por Partido', 'Efectividad Al Resto ',\n",
    "       '% Restos 1er Saque', '% Restos 2° Saque', '% Games Al Resto',\n",
    "       '% Break Points Convertidos', 'Efectividad Bajo Presión',\n",
    "       '% Break Points Convertidos.1', '% Break Points Salvados',\n",
    "       '% Tie Breaks Ganados', '% Victorias Sets Definitivos',\n",
    "       'Tiempo de partido (min)', 'Lesiones',\n",
    "       'Tarifa Jugador', 'Perfil jugador','% de Victorias ']]"
   ]
  },
  {
   "cell_type": "code",
   "execution_count": 424,
   "metadata": {},
   "outputs": [],
   "source": [
    "# Características de los jugadores"
   ]
  },
  {
   "cell_type": "code",
   "execution_count": 757,
   "metadata": {},
   "outputs": [],
   "source": [
    "tdf_2012=tdf[tdf['Año']==2012]"
   ]
  },
  {
   "cell_type": "code",
   "execution_count": 758,
   "metadata": {},
   "outputs": [
    {
     "data": {
      "text/html": [
       "<div>\n",
       "<style scoped>\n",
       "    .dataframe tbody tr th:only-of-type {\n",
       "        vertical-align: middle;\n",
       "    }\n",
       "\n",
       "    .dataframe tbody tr th {\n",
       "        vertical-align: top;\n",
       "    }\n",
       "\n",
       "    .dataframe thead th {\n",
       "        text-align: right;\n",
       "    }\n",
       "</style>\n",
       "<table border=\"1\" class=\"dataframe\">\n",
       "  <thead>\n",
       "    <tr style=\"text-align: right;\">\n",
       "      <th></th>\n",
       "      <th>Ranking</th>\n",
       "      <th>Jugador</th>\n",
       "      <th>Nacionalidad</th>\n",
       "      <th>Edad</th>\n",
       "      <th>Altura cm</th>\n",
       "      <th>Año</th>\n",
       "      <th>Efectividad Al Saque ©</th>\n",
       "      <th>% 1er Servicio</th>\n",
       "      <th>% Puntos Ganados 1er Saque</th>\n",
       "      <th>% Puntos Ganados 2do Saque</th>\n",
       "      <th>...</th>\n",
       "      <th>% Break Points Convertidos</th>\n",
       "      <th>Efectividad Bajo Presión</th>\n",
       "      <th>% Break Points Convertidos.1</th>\n",
       "      <th>% Break Points Salvados</th>\n",
       "      <th>% Tie Breaks Ganados</th>\n",
       "      <th>% Victorias Sets Definitivos</th>\n",
       "      <th>Tiempo de partido (min)</th>\n",
       "      <th>% de Victorias</th>\n",
       "      <th>Lesiones</th>\n",
       "      <th>Perfil jugador</th>\n",
       "    </tr>\n",
       "  </thead>\n",
       "  <tbody>\n",
       "    <tr>\n",
       "      <th>0</th>\n",
       "      <td>14</td>\n",
       "      <td>John Isner</td>\n",
       "      <td>United States</td>\n",
       "      <td>27</td>\n",
       "      <td>208</td>\n",
       "      <td>2012</td>\n",
       "      <td>309.3</td>\n",
       "      <td>68.7</td>\n",
       "      <td>77.8</td>\n",
       "      <td>56.6</td>\n",
       "      <td>...</td>\n",
       "      <td>30.9</td>\n",
       "      <td>232.4</td>\n",
       "      <td>30.9</td>\n",
       "      <td>73.6</td>\n",
       "      <td>67.9</td>\n",
       "      <td>60.0</td>\n",
       "      <td>120</td>\n",
       "      <td>68.18</td>\n",
       "      <td>0</td>\n",
       "      <td>Sacador</td>\n",
       "    </tr>\n",
       "    <tr>\n",
       "      <th>1</th>\n",
       "      <td>13</td>\n",
       "      <td>Milos Raonic</td>\n",
       "      <td>Canada</td>\n",
       "      <td>22</td>\n",
       "      <td>196</td>\n",
       "      <td>2012</td>\n",
       "      <td>305.0</td>\n",
       "      <td>61.7</td>\n",
       "      <td>82.3</td>\n",
       "      <td>55.5</td>\n",
       "      <td>...</td>\n",
       "      <td>38.8</td>\n",
       "      <td>214.9</td>\n",
       "      <td>38.8</td>\n",
       "      <td>73.9</td>\n",
       "      <td>55.1</td>\n",
       "      <td>47.1</td>\n",
       "      <td>110</td>\n",
       "      <td>69.23</td>\n",
       "      <td>1</td>\n",
       "      <td>Sacador</td>\n",
       "    </tr>\n",
       "    <tr>\n",
       "      <th>2</th>\n",
       "      <td>2</td>\n",
       "      <td>Roger Federer</td>\n",
       "      <td>Switzerland</td>\n",
       "      <td>31</td>\n",
       "      <td>185</td>\n",
       "      <td>2012</td>\n",
       "      <td>298.3</td>\n",
       "      <td>62.9</td>\n",
       "      <td>77.7</td>\n",
       "      <td>59.9</td>\n",
       "      <td>...</td>\n",
       "      <td>41.9</td>\n",
       "      <td>252.9</td>\n",
       "      <td>41.9</td>\n",
       "      <td>68.6</td>\n",
       "      <td>60.0</td>\n",
       "      <td>82.4</td>\n",
       "      <td>105</td>\n",
       "      <td>85.54</td>\n",
       "      <td>0</td>\n",
       "      <td>Sacador</td>\n",
       "    </tr>\n",
       "    <tr>\n",
       "      <th>3</th>\n",
       "      <td>100</td>\n",
       "      <td>Ivo Karlovic</td>\n",
       "      <td>Croatia</td>\n",
       "      <td>33</td>\n",
       "      <td>211</td>\n",
       "      <td>2012</td>\n",
       "      <td>296.9</td>\n",
       "      <td>64.9</td>\n",
       "      <td>79.1</td>\n",
       "      <td>51.6</td>\n",
       "      <td>...</td>\n",
       "      <td>28.0</td>\n",
       "      <td>173.6</td>\n",
       "      <td>28.0</td>\n",
       "      <td>64.3</td>\n",
       "      <td>56.3</td>\n",
       "      <td>25.0</td>\n",
       "      <td>117</td>\n",
       "      <td>48.48</td>\n",
       "      <td>1</td>\n",
       "      <td>Sacador</td>\n",
       "    </tr>\n",
       "    <tr>\n",
       "      <th>4</th>\n",
       "      <td>4</td>\n",
       "      <td>Rafael Nadal</td>\n",
       "      <td>Spain</td>\n",
       "      <td>26</td>\n",
       "      <td>185</td>\n",
       "      <td>2012</td>\n",
       "      <td>289.0</td>\n",
       "      <td>67.4</td>\n",
       "      <td>74.6</td>\n",
       "      <td>57.1</td>\n",
       "      <td>...</td>\n",
       "      <td>49.2</td>\n",
       "      <td>242.4</td>\n",
       "      <td>49.2</td>\n",
       "      <td>70.5</td>\n",
       "      <td>72.7</td>\n",
       "      <td>50.0</td>\n",
       "      <td>124</td>\n",
       "      <td>87.50</td>\n",
       "      <td>0</td>\n",
       "      <td>Restador</td>\n",
       "    </tr>\n",
       "    <tr>\n",
       "      <th>...</th>\n",
       "      <td>...</td>\n",
       "      <td>...</td>\n",
       "      <td>...</td>\n",
       "      <td>...</td>\n",
       "      <td>...</td>\n",
       "      <td>...</td>\n",
       "      <td>...</td>\n",
       "      <td>...</td>\n",
       "      <td>...</td>\n",
       "      <td>...</td>\n",
       "      <td>...</td>\n",
       "      <td>...</td>\n",
       "      <td>...</td>\n",
       "      <td>...</td>\n",
       "      <td>...</td>\n",
       "      <td>...</td>\n",
       "      <td>...</td>\n",
       "      <td>...</td>\n",
       "      <td>...</td>\n",
       "      <td>...</td>\n",
       "      <td>...</td>\n",
       "    </tr>\n",
       "    <tr>\n",
       "      <th>80</th>\n",
       "      <td>42</td>\n",
       "      <td>Pablo Andujar</td>\n",
       "      <td>Spain</td>\n",
       "      <td>27</td>\n",
       "      <td>180</td>\n",
       "      <td>2012</td>\n",
       "      <td>235.3</td>\n",
       "      <td>59.3</td>\n",
       "      <td>64.5</td>\n",
       "      <td>47.5</td>\n",
       "      <td>...</td>\n",
       "      <td>40.3</td>\n",
       "      <td>193.0</td>\n",
       "      <td>40.3</td>\n",
       "      <td>52.7</td>\n",
       "      <td>61.1</td>\n",
       "      <td>38.9</td>\n",
       "      <td>118</td>\n",
       "      <td>39.58</td>\n",
       "      <td>1</td>\n",
       "      <td>Restador</td>\n",
       "    </tr>\n",
       "    <tr>\n",
       "      <th>81</th>\n",
       "      <td>95</td>\n",
       "      <td>Flavio Cipolla</td>\n",
       "      <td>Italy</td>\n",
       "      <td>29</td>\n",
       "      <td>173</td>\n",
       "      <td>2012</td>\n",
       "      <td>235.0</td>\n",
       "      <td>70.2</td>\n",
       "      <td>60.4</td>\n",
       "      <td>44.2</td>\n",
       "      <td>...</td>\n",
       "      <td>44.8</td>\n",
       "      <td>211.5</td>\n",
       "      <td>44.8</td>\n",
       "      <td>55.6</td>\n",
       "      <td>66.7</td>\n",
       "      <td>44.4</td>\n",
       "      <td>104</td>\n",
       "      <td>42.50</td>\n",
       "      <td>1</td>\n",
       "      <td>Restador</td>\n",
       "    </tr>\n",
       "    <tr>\n",
       "      <th>82</th>\n",
       "      <td>80</td>\n",
       "      <td>Roberto Bautista Agut</td>\n",
       "      <td>Spain</td>\n",
       "      <td>24</td>\n",
       "      <td>183</td>\n",
       "      <td>2012</td>\n",
       "      <td>233.5</td>\n",
       "      <td>60.7</td>\n",
       "      <td>64.4</td>\n",
       "      <td>44.4</td>\n",
       "      <td>...</td>\n",
       "      <td>35.0</td>\n",
       "      <td>142.9</td>\n",
       "      <td>35.0</td>\n",
       "      <td>57.9</td>\n",
       "      <td>0.0</td>\n",
       "      <td>50.0</td>\n",
       "      <td>106</td>\n",
       "      <td>23.10</td>\n",
       "      <td>1</td>\n",
       "      <td>Restador</td>\n",
       "    </tr>\n",
       "    <tr>\n",
       "      <th>83</th>\n",
       "      <td>192</td>\n",
       "      <td>Adrian Mannarino</td>\n",
       "      <td>France</td>\n",
       "      <td>25</td>\n",
       "      <td>181</td>\n",
       "      <td>2012</td>\n",
       "      <td>227.4</td>\n",
       "      <td>60.0</td>\n",
       "      <td>65.7</td>\n",
       "      <td>40.2</td>\n",
       "      <td>...</td>\n",
       "      <td>32.4</td>\n",
       "      <td>78.2</td>\n",
       "      <td>32.4</td>\n",
       "      <td>45.8</td>\n",
       "      <td>0.0</td>\n",
       "      <td>0.0</td>\n",
       "      <td>86</td>\n",
       "      <td>12.50</td>\n",
       "      <td>1</td>\n",
       "      <td>Equilibrado</td>\n",
       "    </tr>\n",
       "    <tr>\n",
       "      <th>84</th>\n",
       "      <td>420</td>\n",
       "      <td>Filip Krajinovic</td>\n",
       "      <td>Serbia</td>\n",
       "      <td>21</td>\n",
       "      <td>185</td>\n",
       "      <td>2012</td>\n",
       "      <td>186.5</td>\n",
       "      <td>58.6</td>\n",
       "      <td>51.6</td>\n",
       "      <td>37.3</td>\n",
       "      <td>...</td>\n",
       "      <td>66.7</td>\n",
       "      <td>94.0</td>\n",
       "      <td>66.7</td>\n",
       "      <td>27.3</td>\n",
       "      <td>0.0</td>\n",
       "      <td>0.0</td>\n",
       "      <td>77</td>\n",
       "      <td>33.30</td>\n",
       "      <td>0</td>\n",
       "      <td>Restador</td>\n",
       "    </tr>\n",
       "  </tbody>\n",
       "</table>\n",
       "<p>85 rows × 27 columns</p>\n",
       "</div>"
      ],
      "text/plain": [
       "    Ranking                Jugador   Nacionalidad  Edad  Altura cm   Año  \\\n",
       "0        14             John Isner  United States    27        208  2012   \n",
       "1        13           Milos Raonic         Canada    22        196  2012   \n",
       "2         2          Roger Federer    Switzerland    31        185  2012   \n",
       "3       100           Ivo Karlovic        Croatia    33        211  2012   \n",
       "4         4           Rafael Nadal          Spain    26        185  2012   \n",
       "..      ...                    ...            ...   ...        ...   ...   \n",
       "80       42          Pablo Andujar          Spain    27        180  2012   \n",
       "81       95         Flavio Cipolla          Italy    29        173  2012   \n",
       "82       80  Roberto Bautista Agut          Spain    24        183  2012   \n",
       "83      192       Adrian Mannarino         France    25        181  2012   \n",
       "84      420       Filip Krajinovic         Serbia    21        185  2012   \n",
       "\n",
       "    Efectividad Al Saque ©  % 1er Servicio  % Puntos Ganados 1er Saque  \\\n",
       "0                    309.3            68.7                        77.8   \n",
       "1                    305.0            61.7                        82.3   \n",
       "2                    298.3            62.9                        77.7   \n",
       "3                    296.9            64.9                        79.1   \n",
       "4                    289.0            67.4                        74.6   \n",
       "..                     ...             ...                         ...   \n",
       "80                   235.3            59.3                        64.5   \n",
       "81                   235.0            70.2                        60.4   \n",
       "82                   233.5            60.7                        64.4   \n",
       "83                   227.4            60.0                        65.7   \n",
       "84                   186.5            58.6                        51.6   \n",
       "\n",
       "    % Puntos Ganados 2do Saque  ...  % Break Points Convertidos  \\\n",
       "0                         56.6  ...                        30.9   \n",
       "1                         55.5  ...                        38.8   \n",
       "2                         59.9  ...                        41.9   \n",
       "3                         51.6  ...                        28.0   \n",
       "4                         57.1  ...                        49.2   \n",
       "..                         ...  ...                         ...   \n",
       "80                        47.5  ...                        40.3   \n",
       "81                        44.2  ...                        44.8   \n",
       "82                        44.4  ...                        35.0   \n",
       "83                        40.2  ...                        32.4   \n",
       "84                        37.3  ...                        66.7   \n",
       "\n",
       "    Efectividad Bajo Presión  % Break Points Convertidos.1  \\\n",
       "0                      232.4                          30.9   \n",
       "1                      214.9                          38.8   \n",
       "2                      252.9                          41.9   \n",
       "3                      173.6                          28.0   \n",
       "4                      242.4                          49.2   \n",
       "..                       ...                           ...   \n",
       "80                     193.0                          40.3   \n",
       "81                     211.5                          44.8   \n",
       "82                     142.9                          35.0   \n",
       "83                      78.2                          32.4   \n",
       "84                      94.0                          66.7   \n",
       "\n",
       "    % Break Points Salvados  % Tie Breaks Ganados  \\\n",
       "0                      73.6                  67.9   \n",
       "1                      73.9                  55.1   \n",
       "2                      68.6                  60.0   \n",
       "3                      64.3                  56.3   \n",
       "4                      70.5                  72.7   \n",
       "..                      ...                   ...   \n",
       "80                     52.7                  61.1   \n",
       "81                     55.6                  66.7   \n",
       "82                     57.9                   0.0   \n",
       "83                     45.8                   0.0   \n",
       "84                     27.3                   0.0   \n",
       "\n",
       "    % Victorias Sets Definitivos  Tiempo de partido (min)  % de Victorias   \\\n",
       "0                           60.0                      120            68.18   \n",
       "1                           47.1                      110            69.23   \n",
       "2                           82.4                      105            85.54   \n",
       "3                           25.0                      117            48.48   \n",
       "4                           50.0                      124            87.50   \n",
       "..                           ...                      ...              ...   \n",
       "80                          38.9                      118            39.58   \n",
       "81                          44.4                      104            42.50   \n",
       "82                          50.0                      106            23.10   \n",
       "83                           0.0                       86            12.50   \n",
       "84                           0.0                       77            33.30   \n",
       "\n",
       "    Lesiones  Perfil jugador  \n",
       "0          0         Sacador  \n",
       "1          1         Sacador  \n",
       "2          0         Sacador  \n",
       "3          1         Sacador  \n",
       "4          0        Restador  \n",
       "..       ...             ...  \n",
       "80         1        Restador  \n",
       "81         1        Restador  \n",
       "82         1        Restador  \n",
       "83         1     Equilibrado  \n",
       "84         0        Restador  \n",
       "\n",
       "[85 rows x 27 columns]"
      ]
     },
     "execution_count": 758,
     "metadata": {},
     "output_type": "execute_result"
    }
   ],
   "source": [
    "tdf_2012"
   ]
  },
  {
   "cell_type": "code",
   "execution_count": 514,
   "metadata": {},
   "outputs": [
    {
     "data": {
      "text/plain": [
       "85"
      ]
     },
     "execution_count": 514,
     "metadata": {},
     "output_type": "execute_result"
    }
   ],
   "source": [
    "sum(nacionalidad_jugadores)"
   ]
  },
  {
   "cell_type": "code",
   "execution_count": 515,
   "metadata": {},
   "outputs": [],
   "source": [
    "# Identificación de mercados potenciales"
   ]
  },
  {
   "cell_type": "code",
   "execution_count": 759,
   "metadata": {},
   "outputs": [
    {
     "data": {
      "text/plain": [
       "Nacionalidad\n",
       "France                11\n",
       "Spain                 10\n",
       "Serbia                 5\n",
       "United States          5\n",
       "Italy                  4\n",
       "Australia              4\n",
       "Belgium                4\n",
       "Argentina              4\n",
       "Croatia                3\n",
       "Russian Federation     3\n",
       "Germany                3\n",
       "Czech Republic         3\n",
       "Slovakia               2\n",
       "United Kingdom         2\n",
       "Austria                2\n",
       "Ukraine                2\n",
       "Japan                  2\n",
       "Switzerland            2\n",
       "Colombia               2\n",
       "Brazil                 1\n",
       "Bulgaria               1\n",
       "Canada                 1\n",
       "Finland                1\n",
       "Cyprus                 1\n",
       "South Africa           1\n",
       "Taiwan                 1\n",
       "Hungary                1\n",
       "Luxembourg             1\n",
       "Netherlands            1\n",
       "Poland                 1\n",
       "Uzbekistan             1\n",
       "Name: Jugador, dtype: int64"
      ]
     },
     "execution_count": 759,
     "metadata": {},
     "output_type": "execute_result"
    }
   ],
   "source": [
    "nacionalidad_jugadores=tdf_2012[(tdf_2012['Año']==2012)].groupby('Nacionalidad')['Jugador'].count().sort_values(ascending=False)\n",
    "nacionalidad_jugadores"
   ]
  },
  {
   "cell_type": "raw",
   "metadata": {},
   "source": [
    "Insights:\n",
    "Francia y España son los países que tienen mayor representación en el top del ranking mundial, por lo que podemos asumir que este es un deporte muy seguido en estos países por lo que existe un gran mercado"
   ]
  },
  {
   "cell_type": "code",
   "execution_count": 517,
   "metadata": {},
   "outputs": [
    {
     "name": "stderr",
     "output_type": "stream",
     "text": [
      "<ipython-input-517-0a3efec55af4>:1: FutureWarning:\n",
      "\n",
      "Indexing with multiple keys (implicitly converted to a tuple of keys) will be deprecated, use a list instead.\n",
      "\n"
     ]
    },
    {
     "data": {
      "text/html": [
       "<div>\n",
       "<style scoped>\n",
       "    .dataframe tbody tr th:only-of-type {\n",
       "        vertical-align: middle;\n",
       "    }\n",
       "\n",
       "    .dataframe tbody tr th {\n",
       "        vertical-align: top;\n",
       "    }\n",
       "\n",
       "    .dataframe thead th {\n",
       "        text-align: right;\n",
       "    }\n",
       "</style>\n",
       "<table border=\"1\" class=\"dataframe\">\n",
       "  <thead>\n",
       "    <tr style=\"text-align: right;\">\n",
       "      <th></th>\n",
       "      <th>Altura cm</th>\n",
       "      <th>Efectividad Al Saque ©</th>\n",
       "      <th>% 1er Servicio</th>\n",
       "      <th>% Puntos Ganados 1er Saque</th>\n",
       "      <th>% Puntos Ganados 2do Saque</th>\n",
       "      <th>% Games Ganados Saque</th>\n",
       "      <th>Prom. Aces Por Partido</th>\n",
       "      <th>Prom. Dobles Por Partido</th>\n",
       "      <th>Efectividad Al Resto</th>\n",
       "      <th>% Restos 1er Saque</th>\n",
       "      <th>...</th>\n",
       "      <th>% Games Al Resto</th>\n",
       "      <th>% Break Points Convertidos</th>\n",
       "      <th>Efectividad Bajo Presión</th>\n",
       "      <th>% Break Points Convertidos.1</th>\n",
       "      <th>% Break Points Salvados</th>\n",
       "      <th>% Tie Breaks Ganados</th>\n",
       "      <th>% Victorias Sets Definitivos</th>\n",
       "      <th>Tiempo de partido (min)</th>\n",
       "      <th>Tarifa Jugador</th>\n",
       "      <th>% de Victorias</th>\n",
       "    </tr>\n",
       "    <tr>\n",
       "      <th>Año</th>\n",
       "      <th></th>\n",
       "      <th></th>\n",
       "      <th></th>\n",
       "      <th></th>\n",
       "      <th></th>\n",
       "      <th></th>\n",
       "      <th></th>\n",
       "      <th></th>\n",
       "      <th></th>\n",
       "      <th></th>\n",
       "      <th></th>\n",
       "      <th></th>\n",
       "      <th></th>\n",
       "      <th></th>\n",
       "      <th></th>\n",
       "      <th></th>\n",
       "      <th></th>\n",
       "      <th></th>\n",
       "      <th></th>\n",
       "      <th></th>\n",
       "      <th></th>\n",
       "    </tr>\n",
       "  </thead>\n",
       "  <tbody>\n",
       "    <tr>\n",
       "      <th>2012</th>\n",
       "      <td>186.376471</td>\n",
       "      <td>264.791765</td>\n",
       "      <td>61.114118</td>\n",
       "      <td>71.044706</td>\n",
       "      <td>51.115294</td>\n",
       "      <td>78.390588</td>\n",
       "      <td>5.810588</td>\n",
       "      <td>2.683529</td>\n",
       "      <td>140.375294</td>\n",
       "      <td>29.291765</td>\n",
       "      <td>...</td>\n",
       "      <td>22.129412</td>\n",
       "      <td>39.791765</td>\n",
       "      <td>197.409412</td>\n",
       "      <td>39.791765</td>\n",
       "      <td>60.72</td>\n",
       "      <td>47.341176</td>\n",
       "      <td>49.556471</td>\n",
       "      <td>108.8</td>\n",
       "      <td>77058.823529</td>\n",
       "      <td>52.455059</td>\n",
       "    </tr>\n",
       "  </tbody>\n",
       "</table>\n",
       "<p>1 rows × 21 columns</p>\n",
       "</div>"
      ],
      "text/plain": [
       "       Altura cm  Efectividad Al Saque ©  % 1er Servicio  \\\n",
       "Año                                                        \n",
       "2012  186.376471              264.791765       61.114118   \n",
       "\n",
       "      % Puntos Ganados 1er Saque  % Puntos Ganados 2do Saque  \\\n",
       "Año                                                            \n",
       "2012                   71.044706                   51.115294   \n",
       "\n",
       "      % Games Ganados Saque  Prom. Aces Por Partido  Prom. Dobles Por Partido  \\\n",
       "Año                                                                             \n",
       "2012              78.390588                5.810588                  2.683529   \n",
       "\n",
       "      Efectividad Al Resto   % Restos 1er Saque  ...  % Games Al Resto  \\\n",
       "Año                                              ...                     \n",
       "2012             140.375294           29.291765  ...         22.129412   \n",
       "\n",
       "      % Break Points Convertidos  Efectividad Bajo Presión  \\\n",
       "Año                                                          \n",
       "2012                   39.791765                197.409412   \n",
       "\n",
       "      % Break Points Convertidos.1  % Break Points Salvados  \\\n",
       "Año                                                           \n",
       "2012                     39.791765                    60.72   \n",
       "\n",
       "      % Tie Breaks Ganados  % Victorias Sets Definitivos  \\\n",
       "Año                                                        \n",
       "2012             47.341176                     49.556471   \n",
       "\n",
       "      Tiempo de partido (min)  Tarifa Jugador  % de Victorias   \n",
       "Año                                                             \n",
       "2012                    108.8    77058.823529        52.455059  \n",
       "\n",
       "[1 rows x 21 columns]"
      ]
     },
     "execution_count": 517,
     "metadata": {},
     "output_type": "execute_result"
    }
   ],
   "source": [
    "resumen_stats=tdf_2012[(tdf_2012['Año']==2012)].groupby('Año')[ 'Altura cm',\n",
    "       'Efectividad Al Saque ©', '% 1er Servicio',\n",
    "       '% Puntos Ganados 1er Saque', '% Puntos Ganados 2do Saque',\n",
    "       '% Games Ganados Saque', 'Prom. Aces Por Partido',\n",
    "       'Prom. Dobles Por Partido', 'Efectividad Al Resto ',\n",
    "       '% Restos 1er Saque', '% Restos 2° Saque', '% Games Al Resto',\n",
    "       '% Break Points Convertidos', 'Efectividad Bajo Presión',\n",
    "       '% Break Points Convertidos.1', '% Break Points Salvados',\n",
    "       '% Tie Breaks Ganados', '% Victorias Sets Definitivos',\n",
    "       'Tiempo de partido (min)',\n",
    "       'Tarifa Jugador','% de Victorias '].mean()\n",
    "resumen_stats"
   ]
  },
  {
   "cell_type": "code",
   "execution_count": 518,
   "metadata": {},
   "outputs": [],
   "source": [
    "# Estilo de Juego: Sacador es el más efectivo"
   ]
  },
  {
   "cell_type": "code",
   "execution_count": 519,
   "metadata": {},
   "outputs": [
    {
     "data": {
      "text/html": [
       "        <script type=\"text/javascript\">\n",
       "        window.PlotlyConfig = {MathJaxConfig: 'local'};\n",
       "        if (window.MathJax) {MathJax.Hub.Config({SVG: {font: \"STIX-Web\"}});}\n",
       "        if (typeof require !== 'undefined') {\n",
       "        require.undef(\"plotly\");\n",
       "        requirejs.config({\n",
       "            paths: {\n",
       "                'plotly': ['https://cdn.plot.ly/plotly-latest.min']\n",
       "            }\n",
       "        });\n",
       "        require(['plotly'], function(Plotly) {\n",
       "            window._Plotly = Plotly;\n",
       "        });\n",
       "        }\n",
       "        </script>\n",
       "        "
      ]
     },
     "metadata": {},
     "output_type": "display_data"
    }
   ],
   "source": [
    "cf.set_config_file(offline=True)"
   ]
  },
  {
   "cell_type": "code",
   "execution_count": 660,
   "metadata": {},
   "outputs": [
    {
     "data": {
      "text/plain": [
       "<Figure size 720x576 with 0 Axes>"
      ]
     },
     "execution_count": 660,
     "metadata": {},
     "output_type": "execute_result"
    },
    {
     "data": {
      "text/plain": [
       "<Figure size 720x576 with 0 Axes>"
      ]
     },
     "metadata": {},
     "output_type": "display_data"
    }
   ],
   "source": [
    "plt.figure(figsize=(10,8))"
   ]
  },
  {
   "cell_type": "code",
   "execution_count": 556,
   "metadata": {},
   "outputs": [],
   "source": [
    "plt.rcParams['figure.figsize']=(12,8)"
   ]
  },
  {
   "cell_type": "code",
   "execution_count": 661,
   "metadata": {
    "scrolled": true
   },
   "outputs": [
    {
     "data": {
      "application/vnd.plotly.v1+json": {
       "config": {
        "linkText": "Export to plot.ly",
        "plotlyServerURL": "https://plot.ly",
        "showLink": true
       },
       "data": [
        {
         "boxpoints": "outliers",
         "line": {
          "width": 1.3
         },
         "marker": {
          "color": "rgba(255, 153, 51, 1.0)"
         },
         "name": "Equilibrado",
         "orientation": "v",
         "type": "box",
         "y": [
          null,
          null,
          null,
          null,
          null,
          null,
          null,
          null,
          null,
          null,
          null,
          null,
          null,
          null,
          null,
          null,
          null,
          null,
          null,
          null,
          null,
          null,
          null,
          null,
          null,
          59.26,
          null,
          null,
          null,
          null,
          null,
          61.11,
          null,
          null,
          null,
          null,
          null,
          null,
          null,
          null,
          56.41,
          null,
          null,
          46.94,
          null,
          null,
          null,
          58.46,
          47.06,
          null,
          40,
          null,
          47.4,
          null,
          null,
          null,
          63.24,
          null,
          null,
          47.22,
          null,
          null,
          46,
          null,
          50,
          null,
          null,
          null,
          null,
          55.88,
          54.84,
          null,
          null,
          null,
          44.4,
          null,
          null,
          0,
          null,
          null,
          null,
          null,
          null,
          12.5,
          null,
          null,
          null,
          null,
          null,
          null,
          null,
          null,
          null,
          null,
          null,
          null,
          null,
          null,
          null,
          null,
          null,
          null,
          null,
          null,
          null,
          null,
          null,
          null,
          null,
          null,
          null,
          null,
          null,
          null,
          null,
          40.91,
          null,
          null,
          null,
          null,
          null,
          null,
          null,
          64.29,
          61.9,
          null,
          null,
          46.9,
          null,
          50,
          null,
          null,
          39.02,
          52.73,
          48.08,
          null,
          null,
          null,
          null,
          null,
          null,
          null,
          50,
          null,
          null,
          null,
          null,
          null,
          null,
          52.94,
          null,
          null,
          null,
          48.65,
          null,
          null,
          null,
          null,
          null,
          60,
          null,
          null,
          40.54,
          41.86,
          null,
          null,
          null,
          null,
          null,
          null,
          null,
          null,
          null,
          null,
          null,
          null,
          null,
          null,
          null,
          null,
          50,
          null,
          null,
          null,
          null,
          null,
          null,
          null,
          null,
          null,
          null,
          null,
          null,
          null,
          null,
          null,
          null,
          null,
          null,
          null,
          null,
          null,
          null,
          null,
          79.41,
          null,
          null,
          42.9,
          null,
          null,
          null,
          null,
          null,
          42.55,
          53.3,
          null,
          null,
          null,
          null,
          null,
          null,
          50,
          null,
          null,
          null,
          null,
          null,
          null,
          null,
          null,
          null,
          null,
          null,
          null,
          null,
          44.44,
          41.03,
          48.89,
          43.9,
          37.21,
          null,
          null,
          null,
          null,
          null,
          null,
          null,
          40.43,
          35.5,
          null,
          null,
          55.56,
          null,
          49,
          null,
          null,
          null,
          null,
          0,
          40,
          null,
          0,
          null
         ]
        },
        {
         "boxpoints": "outliers",
         "line": {
          "width": 1.3
         },
         "marker": {
          "color": "rgba(55, 128, 191, 1.0)"
         },
         "name": "Restador",
         "orientation": "v",
         "type": "box",
         "y": [
          null,
          null,
          null,
          null,
          87.5,
          null,
          null,
          null,
          null,
          null,
          null,
          null,
          66.7,
          null,
          null,
          null,
          null,
          83.52,
          null,
          null,
          null,
          null,
          null,
          null,
          null,
          null,
          null,
          null,
          null,
          null,
          null,
          null,
          50,
          null,
          null,
          null,
          null,
          null,
          null,
          null,
          null,
          null,
          null,
          null,
          67.24,
          67.27,
          null,
          null,
          null,
          null,
          null,
          null,
          null,
          55.26,
          null,
          null,
          null,
          49.06,
          null,
          null,
          null,
          51.06,
          null,
          30.3,
          null,
          null,
          31.1,
          44.64,
          null,
          null,
          null,
          45.5,
          35.9,
          34.38,
          null,
          null,
          47.83,
          null,
          40,
          38.24,
          39.58,
          42.5,
          23.1,
          null,
          33.3,
          null,
          null,
          null,
          91.46,
          null,
          null,
          null,
          null,
          null,
          null,
          null,
          null,
          null,
          null,
          33.3,
          null,
          null,
          null,
          null,
          null,
          null,
          null,
          null,
          null,
          null,
          null,
          null,
          null,
          null,
          null,
          null,
          null,
          null,
          null,
          null,
          null,
          52.83,
          71.43,
          null,
          null,
          null,
          null,
          null,
          54.17,
          null,
          null,
          null,
          null,
          null,
          null,
          53.45,
          null,
          null,
          null,
          null,
          52.08,
          65.45,
          null,
          null,
          46.5,
          50,
          null,
          null,
          null,
          null,
          null,
          null,
          null,
          null,
          null,
          null,
          null,
          null,
          null,
          null,
          null,
          43.59,
          null,
          null,
          60.87,
          null,
          34.21,
          47.6,
          32.35,
          36.73,
          50,
          0,
          0,
          16.7,
          0,
          0,
          null,
          null,
          null,
          null,
          null,
          null,
          null,
          null,
          null,
          null,
          81.36,
          null,
          null,
          null,
          null,
          null,
          null,
          null,
          null,
          null,
          null,
          null,
          null,
          null,
          null,
          null,
          66.18,
          null,
          null,
          null,
          null,
          null,
          null,
          null,
          null,
          null,
          null,
          null,
          null,
          null,
          null,
          null,
          null,
          null,
          null,
          null,
          69.23,
          null,
          null,
          52.38,
          null,
          49.06,
          null,
          null,
          null,
          null,
          null,
          null,
          null,
          null,
          null,
          null,
          null,
          null,
          null,
          null,
          45,
          51.35,
          48.89,
          39.4,
          null,
          null,
          null,
          34.21,
          46.15,
          null,
          60.61,
          null,
          40,
          34.29,
          43.18,
          0,
          null,
          null,
          33.3,
          null,
          40
         ]
        },
        {
         "boxpoints": "outliers",
         "line": {
          "width": 1.3
         },
         "marker": {
          "color": "rgba(50, 171, 96, 1.0)"
         },
         "name": "Sacador",
         "orientation": "v",
         "type": "box",
         "y": [
          68.18,
          69.23,
          85.54,
          48.48,
          null,
          79.27,
          51.16,
          86.21,
          53.57,
          58.97,
          40.1,
          68.8,
          null,
          72.62,
          70.73,
          59.68,
          63.64,
          null,
          49.06,
          65.63,
          65.63,
          77.78,
          66.67,
          48.39,
          55.81,
          null,
          65.96,
          48.94,
          63.64,
          51.35,
          42.4,
          null,
          null,
          46.67,
          47.06,
          57.63,
          54,
          36.36,
          54.55,
          33.1,
          null,
          67.24,
          58.33,
          null,
          null,
          null,
          49.06,
          null,
          null,
          55.1,
          null,
          38.24,
          null,
          null,
          65.52,
          44.44,
          null,
          null,
          48.21,
          null,
          40.43,
          null,
          null,
          null,
          null,
          38.1,
          null,
          null,
          42.5,
          null,
          null,
          null,
          null,
          null,
          null,
          50,
          null,
          null,
          null,
          null,
          null,
          null,
          null,
          null,
          null,
          61.9,
          68.18,
          89.16,
          null,
          61.67,
          70.9,
          72.58,
          76.12,
          51.06,
          66.7,
          53.19,
          64.62,
          55.1,
          68.35,
          null,
          56.14,
          68.42,
          84.31,
          48.57,
          61.67,
          68.92,
          59.18,
          57.45,
          69.12,
          68.49,
          51.61,
          67.27,
          55,
          60,
          44.44,
          null,
          55.77,
          46.81,
          45.45,
          53.57,
          40.54,
          null,
          null,
          null,
          null,
          50.98,
          59.62,
          null,
          null,
          null,
          40,
          39.39,
          null,
          null,
          null,
          null,
          66.7,
          0,
          39.47,
          46,
          null,
          null,
          null,
          34.38,
          null,
          null,
          30.8,
          47.06,
          50.85,
          null,
          50,
          60,
          40.63,
          null,
          38.24,
          51.61,
          40,
          34.1,
          57.14,
          null,
          33.3,
          null,
          null,
          null,
          null,
          33.33,
          null,
          null,
          null,
          null,
          null,
          null,
          null,
          null,
          null,
          null,
          56.25,
          66.1,
          71.01,
          85.88,
          null,
          88.41,
          57.14,
          53.13,
          65.5,
          61.29,
          null,
          60.61,
          73.53,
          62,
          71.43,
          66.13,
          69.64,
          62.32,
          72,
          51.85,
          57.45,
          58.73,
          48.72,
          46.51,
          70.59,
          53.8,
          null,
          58.33,
          null,
          52,
          55,
          null,
          56.52,
          63.6,
          56.25,
          39.47,
          74.68,
          null,
          null,
          37.84,
          46.9,
          47.37,
          48.48,
          50.94,
          48.57,
          null,
          null,
          40,
          42.42,
          null,
          62.5,
          null,
          48,
          50,
          45.71,
          43.9,
          64.1,
          26.32,
          51.92,
          null,
          null,
          null,
          null,
          null,
          44.44,
          50,
          null,
          null,
          null,
          null,
          34.48,
          null,
          null,
          null,
          null,
          null,
          null,
          null,
          null,
          null,
          null,
          null,
          null,
          null,
          null,
          null,
          null
         ]
        }
       ],
       "layout": {
        "legend": {
         "bgcolor": "#F5F6F9",
         "font": {
          "color": "#4D5663"
         }
        },
        "paper_bgcolor": "#F5F6F9",
        "plot_bgcolor": "#F5F6F9",
        "template": {
         "data": {
          "bar": [
           {
            "error_x": {
             "color": "#2a3f5f"
            },
            "error_y": {
             "color": "#2a3f5f"
            },
            "marker": {
             "line": {
              "color": "#E5ECF6",
              "width": 0.5
             }
            },
            "type": "bar"
           }
          ],
          "barpolar": [
           {
            "marker": {
             "line": {
              "color": "#E5ECF6",
              "width": 0.5
             }
            },
            "type": "barpolar"
           }
          ],
          "carpet": [
           {
            "aaxis": {
             "endlinecolor": "#2a3f5f",
             "gridcolor": "white",
             "linecolor": "white",
             "minorgridcolor": "white",
             "startlinecolor": "#2a3f5f"
            },
            "baxis": {
             "endlinecolor": "#2a3f5f",
             "gridcolor": "white",
             "linecolor": "white",
             "minorgridcolor": "white",
             "startlinecolor": "#2a3f5f"
            },
            "type": "carpet"
           }
          ],
          "choropleth": [
           {
            "colorbar": {
             "outlinewidth": 0,
             "ticks": ""
            },
            "type": "choropleth"
           }
          ],
          "contour": [
           {
            "colorbar": {
             "outlinewidth": 0,
             "ticks": ""
            },
            "colorscale": [
             [
              0,
              "#0d0887"
             ],
             [
              0.1111111111111111,
              "#46039f"
             ],
             [
              0.2222222222222222,
              "#7201a8"
             ],
             [
              0.3333333333333333,
              "#9c179e"
             ],
             [
              0.4444444444444444,
              "#bd3786"
             ],
             [
              0.5555555555555556,
              "#d8576b"
             ],
             [
              0.6666666666666666,
              "#ed7953"
             ],
             [
              0.7777777777777778,
              "#fb9f3a"
             ],
             [
              0.8888888888888888,
              "#fdca26"
             ],
             [
              1,
              "#f0f921"
             ]
            ],
            "type": "contour"
           }
          ],
          "contourcarpet": [
           {
            "colorbar": {
             "outlinewidth": 0,
             "ticks": ""
            },
            "type": "contourcarpet"
           }
          ],
          "heatmap": [
           {
            "colorbar": {
             "outlinewidth": 0,
             "ticks": ""
            },
            "colorscale": [
             [
              0,
              "#0d0887"
             ],
             [
              0.1111111111111111,
              "#46039f"
             ],
             [
              0.2222222222222222,
              "#7201a8"
             ],
             [
              0.3333333333333333,
              "#9c179e"
             ],
             [
              0.4444444444444444,
              "#bd3786"
             ],
             [
              0.5555555555555556,
              "#d8576b"
             ],
             [
              0.6666666666666666,
              "#ed7953"
             ],
             [
              0.7777777777777778,
              "#fb9f3a"
             ],
             [
              0.8888888888888888,
              "#fdca26"
             ],
             [
              1,
              "#f0f921"
             ]
            ],
            "type": "heatmap"
           }
          ],
          "heatmapgl": [
           {
            "colorbar": {
             "outlinewidth": 0,
             "ticks": ""
            },
            "colorscale": [
             [
              0,
              "#0d0887"
             ],
             [
              0.1111111111111111,
              "#46039f"
             ],
             [
              0.2222222222222222,
              "#7201a8"
             ],
             [
              0.3333333333333333,
              "#9c179e"
             ],
             [
              0.4444444444444444,
              "#bd3786"
             ],
             [
              0.5555555555555556,
              "#d8576b"
             ],
             [
              0.6666666666666666,
              "#ed7953"
             ],
             [
              0.7777777777777778,
              "#fb9f3a"
             ],
             [
              0.8888888888888888,
              "#fdca26"
             ],
             [
              1,
              "#f0f921"
             ]
            ],
            "type": "heatmapgl"
           }
          ],
          "histogram": [
           {
            "marker": {
             "colorbar": {
              "outlinewidth": 0,
              "ticks": ""
             }
            },
            "type": "histogram"
           }
          ],
          "histogram2d": [
           {
            "colorbar": {
             "outlinewidth": 0,
             "ticks": ""
            },
            "colorscale": [
             [
              0,
              "#0d0887"
             ],
             [
              0.1111111111111111,
              "#46039f"
             ],
             [
              0.2222222222222222,
              "#7201a8"
             ],
             [
              0.3333333333333333,
              "#9c179e"
             ],
             [
              0.4444444444444444,
              "#bd3786"
             ],
             [
              0.5555555555555556,
              "#d8576b"
             ],
             [
              0.6666666666666666,
              "#ed7953"
             ],
             [
              0.7777777777777778,
              "#fb9f3a"
             ],
             [
              0.8888888888888888,
              "#fdca26"
             ],
             [
              1,
              "#f0f921"
             ]
            ],
            "type": "histogram2d"
           }
          ],
          "histogram2dcontour": [
           {
            "colorbar": {
             "outlinewidth": 0,
             "ticks": ""
            },
            "colorscale": [
             [
              0,
              "#0d0887"
             ],
             [
              0.1111111111111111,
              "#46039f"
             ],
             [
              0.2222222222222222,
              "#7201a8"
             ],
             [
              0.3333333333333333,
              "#9c179e"
             ],
             [
              0.4444444444444444,
              "#bd3786"
             ],
             [
              0.5555555555555556,
              "#d8576b"
             ],
             [
              0.6666666666666666,
              "#ed7953"
             ],
             [
              0.7777777777777778,
              "#fb9f3a"
             ],
             [
              0.8888888888888888,
              "#fdca26"
             ],
             [
              1,
              "#f0f921"
             ]
            ],
            "type": "histogram2dcontour"
           }
          ],
          "mesh3d": [
           {
            "colorbar": {
             "outlinewidth": 0,
             "ticks": ""
            },
            "type": "mesh3d"
           }
          ],
          "parcoords": [
           {
            "line": {
             "colorbar": {
              "outlinewidth": 0,
              "ticks": ""
             }
            },
            "type": "parcoords"
           }
          ],
          "pie": [
           {
            "automargin": true,
            "type": "pie"
           }
          ],
          "scatter": [
           {
            "marker": {
             "colorbar": {
              "outlinewidth": 0,
              "ticks": ""
             }
            },
            "type": "scatter"
           }
          ],
          "scatter3d": [
           {
            "line": {
             "colorbar": {
              "outlinewidth": 0,
              "ticks": ""
             }
            },
            "marker": {
             "colorbar": {
              "outlinewidth": 0,
              "ticks": ""
             }
            },
            "type": "scatter3d"
           }
          ],
          "scattercarpet": [
           {
            "marker": {
             "colorbar": {
              "outlinewidth": 0,
              "ticks": ""
             }
            },
            "type": "scattercarpet"
           }
          ],
          "scattergeo": [
           {
            "marker": {
             "colorbar": {
              "outlinewidth": 0,
              "ticks": ""
             }
            },
            "type": "scattergeo"
           }
          ],
          "scattergl": [
           {
            "marker": {
             "colorbar": {
              "outlinewidth": 0,
              "ticks": ""
             }
            },
            "type": "scattergl"
           }
          ],
          "scattermapbox": [
           {
            "marker": {
             "colorbar": {
              "outlinewidth": 0,
              "ticks": ""
             }
            },
            "type": "scattermapbox"
           }
          ],
          "scatterpolar": [
           {
            "marker": {
             "colorbar": {
              "outlinewidth": 0,
              "ticks": ""
             }
            },
            "type": "scatterpolar"
           }
          ],
          "scatterpolargl": [
           {
            "marker": {
             "colorbar": {
              "outlinewidth": 0,
              "ticks": ""
             }
            },
            "type": "scatterpolargl"
           }
          ],
          "scatterternary": [
           {
            "marker": {
             "colorbar": {
              "outlinewidth": 0,
              "ticks": ""
             }
            },
            "type": "scatterternary"
           }
          ],
          "surface": [
           {
            "colorbar": {
             "outlinewidth": 0,
             "ticks": ""
            },
            "colorscale": [
             [
              0,
              "#0d0887"
             ],
             [
              0.1111111111111111,
              "#46039f"
             ],
             [
              0.2222222222222222,
              "#7201a8"
             ],
             [
              0.3333333333333333,
              "#9c179e"
             ],
             [
              0.4444444444444444,
              "#bd3786"
             ],
             [
              0.5555555555555556,
              "#d8576b"
             ],
             [
              0.6666666666666666,
              "#ed7953"
             ],
             [
              0.7777777777777778,
              "#fb9f3a"
             ],
             [
              0.8888888888888888,
              "#fdca26"
             ],
             [
              1,
              "#f0f921"
             ]
            ],
            "type": "surface"
           }
          ],
          "table": [
           {
            "cells": {
             "fill": {
              "color": "#EBF0F8"
             },
             "line": {
              "color": "white"
             }
            },
            "header": {
             "fill": {
              "color": "#C8D4E3"
             },
             "line": {
              "color": "white"
             }
            },
            "type": "table"
           }
          ]
         },
         "layout": {
          "annotationdefaults": {
           "arrowcolor": "#2a3f5f",
           "arrowhead": 0,
           "arrowwidth": 1
          },
          "autotypenumbers": "strict",
          "coloraxis": {
           "colorbar": {
            "outlinewidth": 0,
            "ticks": ""
           }
          },
          "colorscale": {
           "diverging": [
            [
             0,
             "#8e0152"
            ],
            [
             0.1,
             "#c51b7d"
            ],
            [
             0.2,
             "#de77ae"
            ],
            [
             0.3,
             "#f1b6da"
            ],
            [
             0.4,
             "#fde0ef"
            ],
            [
             0.5,
             "#f7f7f7"
            ],
            [
             0.6,
             "#e6f5d0"
            ],
            [
             0.7,
             "#b8e186"
            ],
            [
             0.8,
             "#7fbc41"
            ],
            [
             0.9,
             "#4d9221"
            ],
            [
             1,
             "#276419"
            ]
           ],
           "sequential": [
            [
             0,
             "#0d0887"
            ],
            [
             0.1111111111111111,
             "#46039f"
            ],
            [
             0.2222222222222222,
             "#7201a8"
            ],
            [
             0.3333333333333333,
             "#9c179e"
            ],
            [
             0.4444444444444444,
             "#bd3786"
            ],
            [
             0.5555555555555556,
             "#d8576b"
            ],
            [
             0.6666666666666666,
             "#ed7953"
            ],
            [
             0.7777777777777778,
             "#fb9f3a"
            ],
            [
             0.8888888888888888,
             "#fdca26"
            ],
            [
             1,
             "#f0f921"
            ]
           ],
           "sequentialminus": [
            [
             0,
             "#0d0887"
            ],
            [
             0.1111111111111111,
             "#46039f"
            ],
            [
             0.2222222222222222,
             "#7201a8"
            ],
            [
             0.3333333333333333,
             "#9c179e"
            ],
            [
             0.4444444444444444,
             "#bd3786"
            ],
            [
             0.5555555555555556,
             "#d8576b"
            ],
            [
             0.6666666666666666,
             "#ed7953"
            ],
            [
             0.7777777777777778,
             "#fb9f3a"
            ],
            [
             0.8888888888888888,
             "#fdca26"
            ],
            [
             1,
             "#f0f921"
            ]
           ]
          },
          "colorway": [
           "#636efa",
           "#EF553B",
           "#00cc96",
           "#ab63fa",
           "#FFA15A",
           "#19d3f3",
           "#FF6692",
           "#B6E880",
           "#FF97FF",
           "#FECB52"
          ],
          "font": {
           "color": "#2a3f5f"
          },
          "geo": {
           "bgcolor": "white",
           "lakecolor": "white",
           "landcolor": "#E5ECF6",
           "showlakes": true,
           "showland": true,
           "subunitcolor": "white"
          },
          "hoverlabel": {
           "align": "left"
          },
          "hovermode": "closest",
          "mapbox": {
           "style": "light"
          },
          "paper_bgcolor": "white",
          "plot_bgcolor": "#E5ECF6",
          "polar": {
           "angularaxis": {
            "gridcolor": "white",
            "linecolor": "white",
            "ticks": ""
           },
           "bgcolor": "#E5ECF6",
           "radialaxis": {
            "gridcolor": "white",
            "linecolor": "white",
            "ticks": ""
           }
          },
          "scene": {
           "xaxis": {
            "backgroundcolor": "#E5ECF6",
            "gridcolor": "white",
            "gridwidth": 2,
            "linecolor": "white",
            "showbackground": true,
            "ticks": "",
            "zerolinecolor": "white"
           },
           "yaxis": {
            "backgroundcolor": "#E5ECF6",
            "gridcolor": "white",
            "gridwidth": 2,
            "linecolor": "white",
            "showbackground": true,
            "ticks": "",
            "zerolinecolor": "white"
           },
           "zaxis": {
            "backgroundcolor": "#E5ECF6",
            "gridcolor": "white",
            "gridwidth": 2,
            "linecolor": "white",
            "showbackground": true,
            "ticks": "",
            "zerolinecolor": "white"
           }
          },
          "shapedefaults": {
           "line": {
            "color": "#2a3f5f"
           }
          },
          "ternary": {
           "aaxis": {
            "gridcolor": "white",
            "linecolor": "white",
            "ticks": ""
           },
           "baxis": {
            "gridcolor": "white",
            "linecolor": "white",
            "ticks": ""
           },
           "bgcolor": "#E5ECF6",
           "caxis": {
            "gridcolor": "white",
            "linecolor": "white",
            "ticks": ""
           }
          },
          "title": {
           "x": 0.05
          },
          "xaxis": {
           "automargin": true,
           "gridcolor": "white",
           "linecolor": "white",
           "ticks": "",
           "title": {
            "standoff": 15
           },
           "zerolinecolor": "white",
           "zerolinewidth": 2
          },
          "yaxis": {
           "automargin": true,
           "gridcolor": "white",
           "linecolor": "white",
           "ticks": "",
           "title": {
            "standoff": 15
           },
           "zerolinecolor": "white",
           "zerolinewidth": 2
          }
         }
        },
        "title": {
         "font": {
          "color": "#4D5663"
         }
        },
        "xaxis": {
         "gridcolor": "#E1E5ED",
         "showgrid": true,
         "tickfont": {
          "color": "#4D5663"
         },
         "title": {
          "font": {
           "color": "#4D5663"
          },
          "text": ""
         },
         "zerolinecolor": "#E1E5ED"
        },
        "yaxis": {
         "gridcolor": "#E1E5ED",
         "showgrid": true,
         "tickfont": {
          "color": "#4D5663"
         },
         "title": {
          "font": {
           "color": "#4D5663"
          },
          "text": ""
         },
         "zerolinecolor": "#E1E5ED"
        }
       }
      },
      "text/html": [
       "<div>                            <div id=\"24438816-821c-492f-bd26-423e8d490110\" class=\"plotly-graph-div\" style=\"height:525px; width:100%;\"></div>            <script type=\"text/javascript\">                require([\"plotly\"], function(Plotly) {                    window.PLOTLYENV=window.PLOTLYENV || {};\n",
       "                    window.PLOTLYENV.BASE_URL='https://plot.ly';                                    if (document.getElementById(\"24438816-821c-492f-bd26-423e8d490110\")) {                    Plotly.newPlot(                        \"24438816-821c-492f-bd26-423e8d490110\",                        [{\"boxpoints\": \"outliers\", \"line\": {\"width\": 1.3}, \"marker\": {\"color\": \"rgba(255, 153, 51, 1.0)\"}, \"name\": \"Equilibrado\", \"orientation\": \"v\", \"type\": \"box\", \"y\": [null, null, null, null, null, null, null, null, null, null, null, null, null, null, null, null, null, null, null, null, null, null, null, null, null, 59.26, null, null, null, null, null, 61.11, null, null, null, null, null, null, null, null, 56.41, null, null, 46.94, null, null, null, 58.46, 47.06, null, 40.0, null, 47.4, null, null, null, 63.24, null, null, 47.22, null, null, 46.0, null, 50.0, null, null, null, null, 55.88, 54.84, null, null, null, 44.4, null, null, 0.0, null, null, null, null, null, 12.5, null, null, null, null, null, null, null, null, null, null, null, null, null, null, null, null, null, null, null, null, null, null, null, null, null, null, null, null, null, null, null, 40.91, null, null, null, null, null, null, null, 64.29, 61.9, null, null, 46.9, null, 50.0, null, null, 39.02, 52.73, 48.08, null, null, null, null, null, null, null, 50.0, null, null, null, null, null, null, 52.94, null, null, null, 48.65, null, null, null, null, null, 60.0, null, null, 40.54, 41.86, null, null, null, null, null, null, null, null, null, null, null, null, null, null, null, null, 50.0, null, null, null, null, null, null, null, null, null, null, null, null, null, null, null, null, null, null, null, null, null, null, null, 79.41, null, null, 42.9, null, null, null, null, null, 42.55, 53.3, null, null, null, null, null, null, 50.0, null, null, null, null, null, null, null, null, null, null, null, null, null, 44.44, 41.03, 48.89, 43.9, 37.21, null, null, null, null, null, null, null, 40.43, 35.5, null, null, 55.56, null, 49.0, null, null, null, null, 0.0, 40.0, null, 0.0, null]}, {\"boxpoints\": \"outliers\", \"line\": {\"width\": 1.3}, \"marker\": {\"color\": \"rgba(55, 128, 191, 1.0)\"}, \"name\": \"Restador\", \"orientation\": \"v\", \"type\": \"box\", \"y\": [null, null, null, null, 87.5, null, null, null, null, null, null, null, 66.7, null, null, null, null, 83.52, null, null, null, null, null, null, null, null, null, null, null, null, null, null, 50.0, null, null, null, null, null, null, null, null, null, null, null, 67.24, 67.27, null, null, null, null, null, null, null, 55.26, null, null, null, 49.06, null, null, null, 51.06, null, 30.3, null, null, 31.1, 44.64, null, null, null, 45.5, 35.9, 34.38, null, null, 47.83, null, 40.0, 38.24, 39.58, 42.5, 23.1, null, 33.3, null, null, null, 91.46, null, null, null, null, null, null, null, null, null, null, 33.3, null, null, null, null, null, null, null, null, null, null, null, null, null, null, null, null, null, null, null, null, null, 52.83, 71.43, null, null, null, null, null, 54.17, null, null, null, null, null, null, 53.45, null, null, null, null, 52.08, 65.45, null, null, 46.5, 50.0, null, null, null, null, null, null, null, null, null, null, null, null, null, null, null, 43.59, null, null, 60.87, null, 34.21, 47.6, 32.35, 36.73, 50.0, 0.0, 0.0, 16.7, 0.0, 0.0, null, null, null, null, null, null, null, null, null, null, 81.36, null, null, null, null, null, null, null, null, null, null, null, null, null, null, null, 66.18, null, null, null, null, null, null, null, null, null, null, null, null, null, null, null, null, null, null, null, 69.23, null, null, 52.38, null, 49.06, null, null, null, null, null, null, null, null, null, null, null, null, null, null, 45.0, 51.35, 48.89, 39.4, null, null, null, 34.21, 46.15, null, 60.61, null, 40.0, 34.29, 43.18, 0.0, null, null, 33.3, null, 40.0]}, {\"boxpoints\": \"outliers\", \"line\": {\"width\": 1.3}, \"marker\": {\"color\": \"rgba(50, 171, 96, 1.0)\"}, \"name\": \"Sacador\", \"orientation\": \"v\", \"type\": \"box\", \"y\": [68.18, 69.23, 85.54, 48.48, null, 79.27, 51.16, 86.21, 53.57, 58.97, 40.1, 68.8, null, 72.62, 70.73, 59.68, 63.64, null, 49.06, 65.63, 65.63, 77.78, 66.67, 48.39, 55.81, null, 65.96, 48.94, 63.64, 51.35, 42.4, null, null, 46.67, 47.06, 57.63, 54.0, 36.36, 54.55, 33.1, null, 67.24, 58.33, null, null, null, 49.06, null, null, 55.1, null, 38.24, null, null, 65.52, 44.44, null, null, 48.21, null, 40.43, null, null, null, null, 38.1, null, null, 42.5, null, null, null, null, null, null, 50.0, null, null, null, null, null, null, null, null, null, 61.9, 68.18, 89.16, null, 61.67, 70.9, 72.58, 76.12, 51.06, 66.7, 53.19, 64.62, 55.1, 68.35, null, 56.14, 68.42, 84.31, 48.57, 61.67, 68.92, 59.18, 57.45, 69.12, 68.49, 51.61, 67.27, 55.0, 60.0, 44.44, null, 55.77, 46.81, 45.45, 53.57, 40.54, null, null, null, null, 50.98, 59.62, null, null, null, 40.0, 39.39, null, null, null, null, 66.7, 0.0, 39.47, 46.0, null, null, null, 34.38, null, null, 30.8, 47.06, 50.85, null, 50.0, 60.0, 40.63, null, 38.24, 51.61, 40.0, 34.1, 57.14, null, 33.3, null, null, null, null, 33.33, null, null, null, null, null, null, null, null, null, null, 56.25, 66.1, 71.01, 85.88, null, 88.41, 57.14, 53.13, 65.5, 61.29, null, 60.61, 73.53, 62.0, 71.43, 66.13, 69.64, 62.32, 72.0, 51.85, 57.45, 58.73, 48.72, 46.51, 70.59, 53.8, null, 58.33, null, 52.0, 55.0, null, 56.52, 63.6, 56.25, 39.47, 74.68, null, null, 37.84, 46.9, 47.37, 48.48, 50.94, 48.57, null, null, 40.0, 42.42, null, 62.5, null, 48.0, 50.0, 45.71, 43.9, 64.1, 26.32, 51.92, null, null, null, null, null, 44.44, 50.0, null, null, null, null, 34.48, null, null, null, null, null, null, null, null, null, null, null, null, null, null, null, null]}],                        {\"legend\": {\"bgcolor\": \"#F5F6F9\", \"font\": {\"color\": \"#4D5663\"}}, \"paper_bgcolor\": \"#F5F6F9\", \"plot_bgcolor\": \"#F5F6F9\", \"template\": {\"data\": {\"bar\": [{\"error_x\": {\"color\": \"#2a3f5f\"}, \"error_y\": {\"color\": \"#2a3f5f\"}, \"marker\": {\"line\": {\"color\": \"#E5ECF6\", \"width\": 0.5}}, \"type\": \"bar\"}], \"barpolar\": [{\"marker\": {\"line\": {\"color\": \"#E5ECF6\", \"width\": 0.5}}, \"type\": \"barpolar\"}], \"carpet\": [{\"aaxis\": {\"endlinecolor\": \"#2a3f5f\", \"gridcolor\": \"white\", \"linecolor\": \"white\", \"minorgridcolor\": \"white\", \"startlinecolor\": \"#2a3f5f\"}, \"baxis\": {\"endlinecolor\": \"#2a3f5f\", \"gridcolor\": \"white\", \"linecolor\": \"white\", \"minorgridcolor\": \"white\", \"startlinecolor\": \"#2a3f5f\"}, \"type\": \"carpet\"}], \"choropleth\": [{\"colorbar\": {\"outlinewidth\": 0, \"ticks\": \"\"}, \"type\": \"choropleth\"}], \"contour\": [{\"colorbar\": {\"outlinewidth\": 0, \"ticks\": \"\"}, \"colorscale\": [[0.0, \"#0d0887\"], [0.1111111111111111, \"#46039f\"], [0.2222222222222222, \"#7201a8\"], [0.3333333333333333, \"#9c179e\"], [0.4444444444444444, \"#bd3786\"], [0.5555555555555556, \"#d8576b\"], [0.6666666666666666, \"#ed7953\"], [0.7777777777777778, \"#fb9f3a\"], [0.8888888888888888, \"#fdca26\"], [1.0, \"#f0f921\"]], \"type\": \"contour\"}], \"contourcarpet\": [{\"colorbar\": {\"outlinewidth\": 0, \"ticks\": \"\"}, \"type\": \"contourcarpet\"}], \"heatmap\": [{\"colorbar\": {\"outlinewidth\": 0, \"ticks\": \"\"}, \"colorscale\": [[0.0, \"#0d0887\"], [0.1111111111111111, \"#46039f\"], [0.2222222222222222, \"#7201a8\"], [0.3333333333333333, \"#9c179e\"], [0.4444444444444444, \"#bd3786\"], [0.5555555555555556, \"#d8576b\"], [0.6666666666666666, \"#ed7953\"], [0.7777777777777778, \"#fb9f3a\"], [0.8888888888888888, \"#fdca26\"], [1.0, \"#f0f921\"]], \"type\": \"heatmap\"}], \"heatmapgl\": [{\"colorbar\": {\"outlinewidth\": 0, \"ticks\": \"\"}, \"colorscale\": [[0.0, \"#0d0887\"], [0.1111111111111111, \"#46039f\"], [0.2222222222222222, \"#7201a8\"], [0.3333333333333333, \"#9c179e\"], [0.4444444444444444, \"#bd3786\"], [0.5555555555555556, \"#d8576b\"], [0.6666666666666666, \"#ed7953\"], [0.7777777777777778, \"#fb9f3a\"], [0.8888888888888888, \"#fdca26\"], [1.0, \"#f0f921\"]], \"type\": \"heatmapgl\"}], \"histogram\": [{\"marker\": {\"colorbar\": {\"outlinewidth\": 0, \"ticks\": \"\"}}, \"type\": \"histogram\"}], \"histogram2d\": [{\"colorbar\": {\"outlinewidth\": 0, \"ticks\": \"\"}, \"colorscale\": [[0.0, \"#0d0887\"], [0.1111111111111111, \"#46039f\"], [0.2222222222222222, \"#7201a8\"], [0.3333333333333333, \"#9c179e\"], [0.4444444444444444, \"#bd3786\"], [0.5555555555555556, \"#d8576b\"], [0.6666666666666666, \"#ed7953\"], [0.7777777777777778, \"#fb9f3a\"], [0.8888888888888888, \"#fdca26\"], [1.0, \"#f0f921\"]], \"type\": \"histogram2d\"}], \"histogram2dcontour\": [{\"colorbar\": {\"outlinewidth\": 0, \"ticks\": \"\"}, \"colorscale\": [[0.0, \"#0d0887\"], [0.1111111111111111, \"#46039f\"], [0.2222222222222222, \"#7201a8\"], [0.3333333333333333, \"#9c179e\"], [0.4444444444444444, \"#bd3786\"], [0.5555555555555556, \"#d8576b\"], [0.6666666666666666, \"#ed7953\"], [0.7777777777777778, \"#fb9f3a\"], [0.8888888888888888, \"#fdca26\"], [1.0, \"#f0f921\"]], \"type\": \"histogram2dcontour\"}], \"mesh3d\": [{\"colorbar\": {\"outlinewidth\": 0, \"ticks\": \"\"}, \"type\": \"mesh3d\"}], \"parcoords\": [{\"line\": {\"colorbar\": {\"outlinewidth\": 0, \"ticks\": \"\"}}, \"type\": \"parcoords\"}], \"pie\": [{\"automargin\": true, \"type\": \"pie\"}], \"scatter\": [{\"marker\": {\"colorbar\": {\"outlinewidth\": 0, \"ticks\": \"\"}}, \"type\": \"scatter\"}], \"scatter3d\": [{\"line\": {\"colorbar\": {\"outlinewidth\": 0, \"ticks\": \"\"}}, \"marker\": {\"colorbar\": {\"outlinewidth\": 0, \"ticks\": \"\"}}, \"type\": \"scatter3d\"}], \"scattercarpet\": [{\"marker\": {\"colorbar\": {\"outlinewidth\": 0, \"ticks\": \"\"}}, \"type\": \"scattercarpet\"}], \"scattergeo\": [{\"marker\": {\"colorbar\": {\"outlinewidth\": 0, \"ticks\": \"\"}}, \"type\": \"scattergeo\"}], \"scattergl\": [{\"marker\": {\"colorbar\": {\"outlinewidth\": 0, \"ticks\": \"\"}}, \"type\": \"scattergl\"}], \"scattermapbox\": [{\"marker\": {\"colorbar\": {\"outlinewidth\": 0, \"ticks\": \"\"}}, \"type\": \"scattermapbox\"}], \"scatterpolar\": [{\"marker\": {\"colorbar\": {\"outlinewidth\": 0, \"ticks\": \"\"}}, \"type\": \"scatterpolar\"}], \"scatterpolargl\": [{\"marker\": {\"colorbar\": {\"outlinewidth\": 0, \"ticks\": \"\"}}, \"type\": \"scatterpolargl\"}], \"scatterternary\": [{\"marker\": {\"colorbar\": {\"outlinewidth\": 0, \"ticks\": \"\"}}, \"type\": \"scatterternary\"}], \"surface\": [{\"colorbar\": {\"outlinewidth\": 0, \"ticks\": \"\"}, \"colorscale\": [[0.0, \"#0d0887\"], [0.1111111111111111, \"#46039f\"], [0.2222222222222222, \"#7201a8\"], [0.3333333333333333, \"#9c179e\"], [0.4444444444444444, \"#bd3786\"], [0.5555555555555556, \"#d8576b\"], [0.6666666666666666, \"#ed7953\"], [0.7777777777777778, \"#fb9f3a\"], [0.8888888888888888, \"#fdca26\"], [1.0, \"#f0f921\"]], \"type\": \"surface\"}], \"table\": [{\"cells\": {\"fill\": {\"color\": \"#EBF0F8\"}, \"line\": {\"color\": \"white\"}}, \"header\": {\"fill\": {\"color\": \"#C8D4E3\"}, \"line\": {\"color\": \"white\"}}, \"type\": \"table\"}]}, \"layout\": {\"annotationdefaults\": {\"arrowcolor\": \"#2a3f5f\", \"arrowhead\": 0, \"arrowwidth\": 1}, \"autotypenumbers\": \"strict\", \"coloraxis\": {\"colorbar\": {\"outlinewidth\": 0, \"ticks\": \"\"}}, \"colorscale\": {\"diverging\": [[0, \"#8e0152\"], [0.1, \"#c51b7d\"], [0.2, \"#de77ae\"], [0.3, \"#f1b6da\"], [0.4, \"#fde0ef\"], [0.5, \"#f7f7f7\"], [0.6, \"#e6f5d0\"], [0.7, \"#b8e186\"], [0.8, \"#7fbc41\"], [0.9, \"#4d9221\"], [1, \"#276419\"]], \"sequential\": [[0.0, \"#0d0887\"], [0.1111111111111111, \"#46039f\"], [0.2222222222222222, \"#7201a8\"], [0.3333333333333333, \"#9c179e\"], [0.4444444444444444, \"#bd3786\"], [0.5555555555555556, \"#d8576b\"], [0.6666666666666666, \"#ed7953\"], [0.7777777777777778, \"#fb9f3a\"], [0.8888888888888888, \"#fdca26\"], [1.0, \"#f0f921\"]], \"sequentialminus\": [[0.0, \"#0d0887\"], [0.1111111111111111, \"#46039f\"], [0.2222222222222222, \"#7201a8\"], [0.3333333333333333, \"#9c179e\"], [0.4444444444444444, \"#bd3786\"], [0.5555555555555556, \"#d8576b\"], [0.6666666666666666, \"#ed7953\"], [0.7777777777777778, \"#fb9f3a\"], [0.8888888888888888, \"#fdca26\"], [1.0, \"#f0f921\"]]}, \"colorway\": [\"#636efa\", \"#EF553B\", \"#00cc96\", \"#ab63fa\", \"#FFA15A\", \"#19d3f3\", \"#FF6692\", \"#B6E880\", \"#FF97FF\", \"#FECB52\"], \"font\": {\"color\": \"#2a3f5f\"}, \"geo\": {\"bgcolor\": \"white\", \"lakecolor\": \"white\", \"landcolor\": \"#E5ECF6\", \"showlakes\": true, \"showland\": true, \"subunitcolor\": \"white\"}, \"hoverlabel\": {\"align\": \"left\"}, \"hovermode\": \"closest\", \"mapbox\": {\"style\": \"light\"}, \"paper_bgcolor\": \"white\", \"plot_bgcolor\": \"#E5ECF6\", \"polar\": {\"angularaxis\": {\"gridcolor\": \"white\", \"linecolor\": \"white\", \"ticks\": \"\"}, \"bgcolor\": \"#E5ECF6\", \"radialaxis\": {\"gridcolor\": \"white\", \"linecolor\": \"white\", \"ticks\": \"\"}}, \"scene\": {\"xaxis\": {\"backgroundcolor\": \"#E5ECF6\", \"gridcolor\": \"white\", \"gridwidth\": 2, \"linecolor\": \"white\", \"showbackground\": true, \"ticks\": \"\", \"zerolinecolor\": \"white\"}, \"yaxis\": {\"backgroundcolor\": \"#E5ECF6\", \"gridcolor\": \"white\", \"gridwidth\": 2, \"linecolor\": \"white\", \"showbackground\": true, \"ticks\": \"\", \"zerolinecolor\": \"white\"}, \"zaxis\": {\"backgroundcolor\": \"#E5ECF6\", \"gridcolor\": \"white\", \"gridwidth\": 2, \"linecolor\": \"white\", \"showbackground\": true, \"ticks\": \"\", \"zerolinecolor\": \"white\"}}, \"shapedefaults\": {\"line\": {\"color\": \"#2a3f5f\"}}, \"ternary\": {\"aaxis\": {\"gridcolor\": \"white\", \"linecolor\": \"white\", \"ticks\": \"\"}, \"baxis\": {\"gridcolor\": \"white\", \"linecolor\": \"white\", \"ticks\": \"\"}, \"bgcolor\": \"#E5ECF6\", \"caxis\": {\"gridcolor\": \"white\", \"linecolor\": \"white\", \"ticks\": \"\"}}, \"title\": {\"x\": 0.05}, \"xaxis\": {\"automargin\": true, \"gridcolor\": \"white\", \"linecolor\": \"white\", \"ticks\": \"\", \"title\": {\"standoff\": 15}, \"zerolinecolor\": \"white\", \"zerolinewidth\": 2}, \"yaxis\": {\"automargin\": true, \"gridcolor\": \"white\", \"linecolor\": \"white\", \"ticks\": \"\", \"title\": {\"standoff\": 15}, \"zerolinecolor\": \"white\", \"zerolinewidth\": 2}}}, \"title\": {\"font\": {\"color\": \"#4D5663\"}}, \"xaxis\": {\"gridcolor\": \"#E1E5ED\", \"showgrid\": true, \"tickfont\": {\"color\": \"#4D5663\"}, \"title\": {\"font\": {\"color\": \"#4D5663\"}, \"text\": \"\"}, \"zerolinecolor\": \"#E1E5ED\"}, \"yaxis\": {\"gridcolor\": \"#E1E5ED\", \"showgrid\": true, \"tickfont\": {\"color\": \"#4D5663\"}, \"title\": {\"font\": {\"color\": \"#4D5663\"}, \"text\": \"\"}, \"zerolinecolor\": \"#E1E5ED\"}},                        {\"showLink\": true, \"linkText\": \"Export to plot.ly\", \"plotlyServerURL\": \"https://plot.ly\", \"responsive\": true}                    ).then(function(){\n",
       "                            \n",
       "var gd = document.getElementById('24438816-821c-492f-bd26-423e8d490110');\n",
       "var x = new MutationObserver(function (mutations, observer) {{\n",
       "        var display = window.getComputedStyle(gd).display;\n",
       "        if (!display || display === 'none') {{\n",
       "            console.log([gd, 'removed!']);\n",
       "            Plotly.purge(gd);\n",
       "            observer.disconnect();\n",
       "        }}\n",
       "}});\n",
       "\n",
       "// Listen for the removal of the full notebook cells\n",
       "var notebookContainer = gd.closest('#notebook-container');\n",
       "if (notebookContainer) {{\n",
       "    x.observe(notebookContainer, {childList: true});\n",
       "}}\n",
       "\n",
       "// Listen for the clearing of the current output cell\n",
       "var outputEl = gd.closest('.output');\n",
       "if (outputEl) {{\n",
       "    x.observe(outputEl, {childList: true});\n",
       "}}\n",
       "\n",
       "                        })                };                });            </script>        </div>"
      ]
     },
     "metadata": {},
     "output_type": "display_data"
    }
   ],
   "source": [
    "tdf[['Perfil jugador','% de Victorias ']].pivot(columns='Perfil jugador',values='% de Victorias ').iplot(kind='box',boxpoints='outliers')"
   ]
  },
  {
   "cell_type": "raw",
   "metadata": {},
   "source": [
    "Insights del gráfico Box Blot:\n",
    "\n",
    "1.El perfil de jugador más eficaz es el de Sacador, con una media de victorias superior al 56%, % de victorias notablemente superior al de los otros dos estilos de juego (Equilibrado=48% y Restador=45%)\n",
    "\n",
    "2. Podemos identificar valores outliers, correspondientes a jugadores con un muy bajo porcentaje de victorias, por lo que podemos filtrar nuestra busqueda.\n",
    "\n",
    "CONCLUSION: INTUIMOS QUE PUEDE EXISTIR CIERTA CORRELACIÓN ENTRE AQUELLOS JUGADORES QUE DISPONEN DE UN BUEN SERVICIO Y EL % DE VICTORIAS"
   ]
  },
  {
   "cell_type": "code",
   "execution_count": 521,
   "metadata": {},
   "outputs": [],
   "source": [
    "# Correlación entre altura y estilo de juego"
   ]
  },
  {
   "cell_type": "code",
   "execution_count": 522,
   "metadata": {
    "scrolled": true
   },
   "outputs": [
    {
     "name": "stderr",
     "output_type": "stream",
     "text": [
      "C:\\Users\\joanu\\anaconda\\lib\\site-packages\\cufflinks\\plotlytools.py:807: FutureWarning:\n",
      "\n",
      "The pandas.np module is deprecated and will be removed from pandas in a future version. Import numpy directly instead\n",
      "\n",
      "C:\\Users\\joanu\\anaconda\\lib\\site-packages\\cufflinks\\plotlytools.py:810: FutureWarning:\n",
      "\n",
      "The pandas.np module is deprecated and will be removed from pandas in a future version. Import numpy directly instead\n",
      "\n"
     ]
    },
    {
     "data": {
      "application/vnd.plotly.v1+json": {
       "config": {
        "linkText": "Export to plot.ly",
        "plotlyServerURL": "https://plot.ly",
        "showLink": true
       },
       "data": [
        {
         "marker": {
          "color": "rgba(255, 153, 51, 1.0)",
          "line": {
           "width": 1.3
          },
          "opacity": 0.8,
          "size": 12,
          "symbol": "circle"
         },
         "mode": "markers",
         "name": "Sacador",
         "textfont": {
          "color": "#4D5663"
         },
         "type": "scatter",
         "x": [
          208,
          196,
          185,
          211,
          198,
          192,
          188,
          203,
          187,
          188,
          188,
          196,
          183,
          198,
          178,
          188,
          183,
          188,
          191,
          180,
          188,
          190,
          188,
          188,
          183,
          193,
          188,
          185,
          191,
          180,
          185,
          193,
          188,
          185,
          198,
          178,
          195,
          188,
          185,
          193,
          184,
          190,
          190,
          183,
          188,
          196
         ],
         "y": [
          16.8,
          16.2,
          8.3,
          16.9,
          7.5,
          13.3,
          5.9,
          11.4,
          9.2,
          9,
          8.6,
          8.4,
          8.7,
          11.6,
          7.6,
          10.2,
          5.5,
          9.7,
          7.2,
          7.8,
          7.1,
          7.2,
          6.2,
          6.5,
          7.6,
          7.2,
          5,
          7,
          8,
          7.8,
          6.8,
          6.5,
          7.4,
          5,
          6.3,
          6.5,
          5,
          5.8,
          6.2,
          7.1,
          5,
          8.2,
          5.6,
          8,
          5.4,
          7.4
         ]
        },
        {
         "marker": {
          "color": "rgba(55, 128, 191, 1.0)",
          "line": {
           "width": 1.3
          },
          "opacity": 0.8,
          "size": 12,
          "symbol": "circle"
         },
         "mode": "markers",
         "name": "Restador",
         "textfont": {
          "color": "#4D5663"
         },
         "type": "scatter",
         "x": [
          185,
          183,
          175,
          188,
          178,
          178,
          180,
          185,
          177,
          168,
          178,
          183,
          188,
          181,
          183,
          178,
          175,
          180,
          180,
          173,
          183,
          185
         ],
         "y": [
          3.3,
          2,
          3.3,
          2.7,
          1.7,
          2.6,
          3.4,
          2.8,
          2,
          1.8,
          2.2,
          3,
          3.2,
          2.8,
          0.4,
          2.4,
          2,
          2.8,
          1.6,
          0.8,
          2.5,
          0.3
         ]
        },
        {
         "marker": {
          "color": "rgba(50, 171, 96, 1.0)",
          "line": {
           "width": 1.3
          },
          "opacity": 0.8,
          "size": 12,
          "symbol": "circle"
         },
         "mode": "markers",
         "name": "Equilibrado",
         "textfont": {
          "color": "#4D5663"
         },
         "type": "scatter",
         "x": [
          187,
          183,
          178,
          191,
          190,
          186,
          180,
          185,
          180,
          193,
          191,
          190,
          190,
          180,
          188,
          183,
          181
         ],
         "y": [
          4.6,
          4.4,
          4.2,
          4,
          4.5,
          4.7,
          4.7,
          4.9,
          4.2,
          4.4,
          4.3,
          4.1,
          3.8,
          4.7,
          3.6,
          4,
          3.6
         ]
        }
       ],
       "layout": {
        "legend": {
         "bgcolor": "#F5F6F9",
         "font": {
          "color": "#4D5663"
         }
        },
        "paper_bgcolor": "#F5F6F9",
        "plot_bgcolor": "#F5F6F9",
        "template": {
         "data": {
          "bar": [
           {
            "error_x": {
             "color": "#2a3f5f"
            },
            "error_y": {
             "color": "#2a3f5f"
            },
            "marker": {
             "line": {
              "color": "#E5ECF6",
              "width": 0.5
             }
            },
            "type": "bar"
           }
          ],
          "barpolar": [
           {
            "marker": {
             "line": {
              "color": "#E5ECF6",
              "width": 0.5
             }
            },
            "type": "barpolar"
           }
          ],
          "carpet": [
           {
            "aaxis": {
             "endlinecolor": "#2a3f5f",
             "gridcolor": "white",
             "linecolor": "white",
             "minorgridcolor": "white",
             "startlinecolor": "#2a3f5f"
            },
            "baxis": {
             "endlinecolor": "#2a3f5f",
             "gridcolor": "white",
             "linecolor": "white",
             "minorgridcolor": "white",
             "startlinecolor": "#2a3f5f"
            },
            "type": "carpet"
           }
          ],
          "choropleth": [
           {
            "colorbar": {
             "outlinewidth": 0,
             "ticks": ""
            },
            "type": "choropleth"
           }
          ],
          "contour": [
           {
            "colorbar": {
             "outlinewidth": 0,
             "ticks": ""
            },
            "colorscale": [
             [
              0,
              "#0d0887"
             ],
             [
              0.1111111111111111,
              "#46039f"
             ],
             [
              0.2222222222222222,
              "#7201a8"
             ],
             [
              0.3333333333333333,
              "#9c179e"
             ],
             [
              0.4444444444444444,
              "#bd3786"
             ],
             [
              0.5555555555555556,
              "#d8576b"
             ],
             [
              0.6666666666666666,
              "#ed7953"
             ],
             [
              0.7777777777777778,
              "#fb9f3a"
             ],
             [
              0.8888888888888888,
              "#fdca26"
             ],
             [
              1,
              "#f0f921"
             ]
            ],
            "type": "contour"
           }
          ],
          "contourcarpet": [
           {
            "colorbar": {
             "outlinewidth": 0,
             "ticks": ""
            },
            "type": "contourcarpet"
           }
          ],
          "heatmap": [
           {
            "colorbar": {
             "outlinewidth": 0,
             "ticks": ""
            },
            "colorscale": [
             [
              0,
              "#0d0887"
             ],
             [
              0.1111111111111111,
              "#46039f"
             ],
             [
              0.2222222222222222,
              "#7201a8"
             ],
             [
              0.3333333333333333,
              "#9c179e"
             ],
             [
              0.4444444444444444,
              "#bd3786"
             ],
             [
              0.5555555555555556,
              "#d8576b"
             ],
             [
              0.6666666666666666,
              "#ed7953"
             ],
             [
              0.7777777777777778,
              "#fb9f3a"
             ],
             [
              0.8888888888888888,
              "#fdca26"
             ],
             [
              1,
              "#f0f921"
             ]
            ],
            "type": "heatmap"
           }
          ],
          "heatmapgl": [
           {
            "colorbar": {
             "outlinewidth": 0,
             "ticks": ""
            },
            "colorscale": [
             [
              0,
              "#0d0887"
             ],
             [
              0.1111111111111111,
              "#46039f"
             ],
             [
              0.2222222222222222,
              "#7201a8"
             ],
             [
              0.3333333333333333,
              "#9c179e"
             ],
             [
              0.4444444444444444,
              "#bd3786"
             ],
             [
              0.5555555555555556,
              "#d8576b"
             ],
             [
              0.6666666666666666,
              "#ed7953"
             ],
             [
              0.7777777777777778,
              "#fb9f3a"
             ],
             [
              0.8888888888888888,
              "#fdca26"
             ],
             [
              1,
              "#f0f921"
             ]
            ],
            "type": "heatmapgl"
           }
          ],
          "histogram": [
           {
            "marker": {
             "colorbar": {
              "outlinewidth": 0,
              "ticks": ""
             }
            },
            "type": "histogram"
           }
          ],
          "histogram2d": [
           {
            "colorbar": {
             "outlinewidth": 0,
             "ticks": ""
            },
            "colorscale": [
             [
              0,
              "#0d0887"
             ],
             [
              0.1111111111111111,
              "#46039f"
             ],
             [
              0.2222222222222222,
              "#7201a8"
             ],
             [
              0.3333333333333333,
              "#9c179e"
             ],
             [
              0.4444444444444444,
              "#bd3786"
             ],
             [
              0.5555555555555556,
              "#d8576b"
             ],
             [
              0.6666666666666666,
              "#ed7953"
             ],
             [
              0.7777777777777778,
              "#fb9f3a"
             ],
             [
              0.8888888888888888,
              "#fdca26"
             ],
             [
              1,
              "#f0f921"
             ]
            ],
            "type": "histogram2d"
           }
          ],
          "histogram2dcontour": [
           {
            "colorbar": {
             "outlinewidth": 0,
             "ticks": ""
            },
            "colorscale": [
             [
              0,
              "#0d0887"
             ],
             [
              0.1111111111111111,
              "#46039f"
             ],
             [
              0.2222222222222222,
              "#7201a8"
             ],
             [
              0.3333333333333333,
              "#9c179e"
             ],
             [
              0.4444444444444444,
              "#bd3786"
             ],
             [
              0.5555555555555556,
              "#d8576b"
             ],
             [
              0.6666666666666666,
              "#ed7953"
             ],
             [
              0.7777777777777778,
              "#fb9f3a"
             ],
             [
              0.8888888888888888,
              "#fdca26"
             ],
             [
              1,
              "#f0f921"
             ]
            ],
            "type": "histogram2dcontour"
           }
          ],
          "mesh3d": [
           {
            "colorbar": {
             "outlinewidth": 0,
             "ticks": ""
            },
            "type": "mesh3d"
           }
          ],
          "parcoords": [
           {
            "line": {
             "colorbar": {
              "outlinewidth": 0,
              "ticks": ""
             }
            },
            "type": "parcoords"
           }
          ],
          "pie": [
           {
            "automargin": true,
            "type": "pie"
           }
          ],
          "scatter": [
           {
            "marker": {
             "colorbar": {
              "outlinewidth": 0,
              "ticks": ""
             }
            },
            "type": "scatter"
           }
          ],
          "scatter3d": [
           {
            "line": {
             "colorbar": {
              "outlinewidth": 0,
              "ticks": ""
             }
            },
            "marker": {
             "colorbar": {
              "outlinewidth": 0,
              "ticks": ""
             }
            },
            "type": "scatter3d"
           }
          ],
          "scattercarpet": [
           {
            "marker": {
             "colorbar": {
              "outlinewidth": 0,
              "ticks": ""
             }
            },
            "type": "scattercarpet"
           }
          ],
          "scattergeo": [
           {
            "marker": {
             "colorbar": {
              "outlinewidth": 0,
              "ticks": ""
             }
            },
            "type": "scattergeo"
           }
          ],
          "scattergl": [
           {
            "marker": {
             "colorbar": {
              "outlinewidth": 0,
              "ticks": ""
             }
            },
            "type": "scattergl"
           }
          ],
          "scattermapbox": [
           {
            "marker": {
             "colorbar": {
              "outlinewidth": 0,
              "ticks": ""
             }
            },
            "type": "scattermapbox"
           }
          ],
          "scatterpolar": [
           {
            "marker": {
             "colorbar": {
              "outlinewidth": 0,
              "ticks": ""
             }
            },
            "type": "scatterpolar"
           }
          ],
          "scatterpolargl": [
           {
            "marker": {
             "colorbar": {
              "outlinewidth": 0,
              "ticks": ""
             }
            },
            "type": "scatterpolargl"
           }
          ],
          "scatterternary": [
           {
            "marker": {
             "colorbar": {
              "outlinewidth": 0,
              "ticks": ""
             }
            },
            "type": "scatterternary"
           }
          ],
          "surface": [
           {
            "colorbar": {
             "outlinewidth": 0,
             "ticks": ""
            },
            "colorscale": [
             [
              0,
              "#0d0887"
             ],
             [
              0.1111111111111111,
              "#46039f"
             ],
             [
              0.2222222222222222,
              "#7201a8"
             ],
             [
              0.3333333333333333,
              "#9c179e"
             ],
             [
              0.4444444444444444,
              "#bd3786"
             ],
             [
              0.5555555555555556,
              "#d8576b"
             ],
             [
              0.6666666666666666,
              "#ed7953"
             ],
             [
              0.7777777777777778,
              "#fb9f3a"
             ],
             [
              0.8888888888888888,
              "#fdca26"
             ],
             [
              1,
              "#f0f921"
             ]
            ],
            "type": "surface"
           }
          ],
          "table": [
           {
            "cells": {
             "fill": {
              "color": "#EBF0F8"
             },
             "line": {
              "color": "white"
             }
            },
            "header": {
             "fill": {
              "color": "#C8D4E3"
             },
             "line": {
              "color": "white"
             }
            },
            "type": "table"
           }
          ]
         },
         "layout": {
          "annotationdefaults": {
           "arrowcolor": "#2a3f5f",
           "arrowhead": 0,
           "arrowwidth": 1
          },
          "autotypenumbers": "strict",
          "coloraxis": {
           "colorbar": {
            "outlinewidth": 0,
            "ticks": ""
           }
          },
          "colorscale": {
           "diverging": [
            [
             0,
             "#8e0152"
            ],
            [
             0.1,
             "#c51b7d"
            ],
            [
             0.2,
             "#de77ae"
            ],
            [
             0.3,
             "#f1b6da"
            ],
            [
             0.4,
             "#fde0ef"
            ],
            [
             0.5,
             "#f7f7f7"
            ],
            [
             0.6,
             "#e6f5d0"
            ],
            [
             0.7,
             "#b8e186"
            ],
            [
             0.8,
             "#7fbc41"
            ],
            [
             0.9,
             "#4d9221"
            ],
            [
             1,
             "#276419"
            ]
           ],
           "sequential": [
            [
             0,
             "#0d0887"
            ],
            [
             0.1111111111111111,
             "#46039f"
            ],
            [
             0.2222222222222222,
             "#7201a8"
            ],
            [
             0.3333333333333333,
             "#9c179e"
            ],
            [
             0.4444444444444444,
             "#bd3786"
            ],
            [
             0.5555555555555556,
             "#d8576b"
            ],
            [
             0.6666666666666666,
             "#ed7953"
            ],
            [
             0.7777777777777778,
             "#fb9f3a"
            ],
            [
             0.8888888888888888,
             "#fdca26"
            ],
            [
             1,
             "#f0f921"
            ]
           ],
           "sequentialminus": [
            [
             0,
             "#0d0887"
            ],
            [
             0.1111111111111111,
             "#46039f"
            ],
            [
             0.2222222222222222,
             "#7201a8"
            ],
            [
             0.3333333333333333,
             "#9c179e"
            ],
            [
             0.4444444444444444,
             "#bd3786"
            ],
            [
             0.5555555555555556,
             "#d8576b"
            ],
            [
             0.6666666666666666,
             "#ed7953"
            ],
            [
             0.7777777777777778,
             "#fb9f3a"
            ],
            [
             0.8888888888888888,
             "#fdca26"
            ],
            [
             1,
             "#f0f921"
            ]
           ]
          },
          "colorway": [
           "#636efa",
           "#EF553B",
           "#00cc96",
           "#ab63fa",
           "#FFA15A",
           "#19d3f3",
           "#FF6692",
           "#B6E880",
           "#FF97FF",
           "#FECB52"
          ],
          "font": {
           "color": "#2a3f5f"
          },
          "geo": {
           "bgcolor": "white",
           "lakecolor": "white",
           "landcolor": "#E5ECF6",
           "showlakes": true,
           "showland": true,
           "subunitcolor": "white"
          },
          "hoverlabel": {
           "align": "left"
          },
          "hovermode": "closest",
          "mapbox": {
           "style": "light"
          },
          "paper_bgcolor": "white",
          "plot_bgcolor": "#E5ECF6",
          "polar": {
           "angularaxis": {
            "gridcolor": "white",
            "linecolor": "white",
            "ticks": ""
           },
           "bgcolor": "#E5ECF6",
           "radialaxis": {
            "gridcolor": "white",
            "linecolor": "white",
            "ticks": ""
           }
          },
          "scene": {
           "xaxis": {
            "backgroundcolor": "#E5ECF6",
            "gridcolor": "white",
            "gridwidth": 2,
            "linecolor": "white",
            "showbackground": true,
            "ticks": "",
            "zerolinecolor": "white"
           },
           "yaxis": {
            "backgroundcolor": "#E5ECF6",
            "gridcolor": "white",
            "gridwidth": 2,
            "linecolor": "white",
            "showbackground": true,
            "ticks": "",
            "zerolinecolor": "white"
           },
           "zaxis": {
            "backgroundcolor": "#E5ECF6",
            "gridcolor": "white",
            "gridwidth": 2,
            "linecolor": "white",
            "showbackground": true,
            "ticks": "",
            "zerolinecolor": "white"
           }
          },
          "shapedefaults": {
           "line": {
            "color": "#2a3f5f"
           }
          },
          "ternary": {
           "aaxis": {
            "gridcolor": "white",
            "linecolor": "white",
            "ticks": ""
           },
           "baxis": {
            "gridcolor": "white",
            "linecolor": "white",
            "ticks": ""
           },
           "bgcolor": "#E5ECF6",
           "caxis": {
            "gridcolor": "white",
            "linecolor": "white",
            "ticks": ""
           }
          },
          "title": {
           "x": 0.05
          },
          "xaxis": {
           "automargin": true,
           "gridcolor": "white",
           "linecolor": "white",
           "ticks": "",
           "title": {
            "standoff": 15
           },
           "zerolinecolor": "white",
           "zerolinewidth": 2
          },
          "yaxis": {
           "automargin": true,
           "gridcolor": "white",
           "linecolor": "white",
           "ticks": "",
           "title": {
            "standoff": 15
           },
           "zerolinecolor": "white",
           "zerolinewidth": 2
          }
         }
        },
        "title": {
         "font": {
          "color": "#4D5663"
         }
        },
        "xaxis": {
         "gridcolor": "#E1E5ED",
         "showgrid": true,
         "tickfont": {
          "color": "#4D5663"
         },
         "title": {
          "font": {
           "color": "#4D5663"
          },
          "text": ""
         },
         "zerolinecolor": "#E1E5ED"
        },
        "yaxis": {
         "gridcolor": "#E1E5ED",
         "showgrid": true,
         "tickfont": {
          "color": "#4D5663"
         },
         "title": {
          "font": {
           "color": "#4D5663"
          },
          "text": ""
         },
         "zerolinecolor": "#E1E5ED"
        }
       }
      },
      "text/html": [
       "<div>                            <div id=\"01ce4e6c-ea5c-4147-bfa4-b6f43eb2d3cc\" class=\"plotly-graph-div\" style=\"height:525px; width:100%;\"></div>            <script type=\"text/javascript\">                require([\"plotly\"], function(Plotly) {                    window.PLOTLYENV=window.PLOTLYENV || {};\n",
       "                    window.PLOTLYENV.BASE_URL='https://plot.ly';                                    if (document.getElementById(\"01ce4e6c-ea5c-4147-bfa4-b6f43eb2d3cc\")) {                    Plotly.newPlot(                        \"01ce4e6c-ea5c-4147-bfa4-b6f43eb2d3cc\",                        [{\"marker\": {\"color\": \"rgba(255, 153, 51, 1.0)\", \"line\": {\"width\": 1.3}, \"opacity\": 0.8, \"size\": 12, \"symbol\": \"circle\"}, \"mode\": \"markers\", \"name\": \"Sacador\", \"textfont\": {\"color\": \"#4D5663\"}, \"type\": \"scatter\", \"x\": [208, 196, 185, 211, 198, 192, 188, 203, 187, 188, 188, 196, 183, 198, 178, 188, 183, 188, 191, 180, 188, 190, 188, 188, 183, 193, 188, 185, 191, 180, 185, 193, 188, 185, 198, 178, 195, 188, 185, 193, 184, 190, 190, 183, 188, 196], \"y\": [16.8, 16.2, 8.3, 16.9, 7.5, 13.3, 5.9, 11.4, 9.2, 9.0, 8.6, 8.4, 8.7, 11.6, 7.6, 10.2, 5.5, 9.7, 7.2, 7.8, 7.1, 7.2, 6.2, 6.5, 7.6, 7.2, 5.0, 7.0, 8.0, 7.8, 6.8, 6.5, 7.4, 5.0, 6.3, 6.5, 5.0, 5.8, 6.2, 7.1, 5.0, 8.2, 5.6, 8.0, 5.4, 7.4]}, {\"marker\": {\"color\": \"rgba(55, 128, 191, 1.0)\", \"line\": {\"width\": 1.3}, \"opacity\": 0.8, \"size\": 12, \"symbol\": \"circle\"}, \"mode\": \"markers\", \"name\": \"Restador\", \"textfont\": {\"color\": \"#4D5663\"}, \"type\": \"scatter\", \"x\": [185, 183, 175, 188, 178, 178, 180, 185, 177, 168, 178, 183, 188, 181, 183, 178, 175, 180, 180, 173, 183, 185], \"y\": [3.3, 2.0, 3.3, 2.7, 1.7, 2.6, 3.4, 2.8, 2.0, 1.8, 2.2, 3.0, 3.2, 2.8, 0.4, 2.4, 2.0, 2.8, 1.6, 0.8, 2.5, 0.3]}, {\"marker\": {\"color\": \"rgba(50, 171, 96, 1.0)\", \"line\": {\"width\": 1.3}, \"opacity\": 0.8, \"size\": 12, \"symbol\": \"circle\"}, \"mode\": \"markers\", \"name\": \"Equilibrado\", \"textfont\": {\"color\": \"#4D5663\"}, \"type\": \"scatter\", \"x\": [187, 183, 178, 191, 190, 186, 180, 185, 180, 193, 191, 190, 190, 180, 188, 183, 181], \"y\": [4.6, 4.4, 4.2, 4.0, 4.5, 4.7, 4.7, 4.9, 4.2, 4.4, 4.3, 4.1, 3.8, 4.7, 3.6, 4.0, 3.6]}],                        {\"legend\": {\"bgcolor\": \"#F5F6F9\", \"font\": {\"color\": \"#4D5663\"}}, \"paper_bgcolor\": \"#F5F6F9\", \"plot_bgcolor\": \"#F5F6F9\", \"template\": {\"data\": {\"bar\": [{\"error_x\": {\"color\": \"#2a3f5f\"}, \"error_y\": {\"color\": \"#2a3f5f\"}, \"marker\": {\"line\": {\"color\": \"#E5ECF6\", \"width\": 0.5}}, \"type\": \"bar\"}], \"barpolar\": [{\"marker\": {\"line\": {\"color\": \"#E5ECF6\", \"width\": 0.5}}, \"type\": \"barpolar\"}], \"carpet\": [{\"aaxis\": {\"endlinecolor\": \"#2a3f5f\", \"gridcolor\": \"white\", \"linecolor\": \"white\", \"minorgridcolor\": \"white\", \"startlinecolor\": \"#2a3f5f\"}, \"baxis\": {\"endlinecolor\": \"#2a3f5f\", \"gridcolor\": \"white\", \"linecolor\": \"white\", \"minorgridcolor\": \"white\", \"startlinecolor\": \"#2a3f5f\"}, \"type\": \"carpet\"}], \"choropleth\": [{\"colorbar\": {\"outlinewidth\": 0, \"ticks\": \"\"}, \"type\": \"choropleth\"}], \"contour\": [{\"colorbar\": {\"outlinewidth\": 0, \"ticks\": \"\"}, \"colorscale\": [[0.0, \"#0d0887\"], [0.1111111111111111, \"#46039f\"], [0.2222222222222222, \"#7201a8\"], [0.3333333333333333, \"#9c179e\"], [0.4444444444444444, \"#bd3786\"], [0.5555555555555556, \"#d8576b\"], [0.6666666666666666, \"#ed7953\"], [0.7777777777777778, \"#fb9f3a\"], [0.8888888888888888, \"#fdca26\"], [1.0, \"#f0f921\"]], \"type\": \"contour\"}], \"contourcarpet\": [{\"colorbar\": {\"outlinewidth\": 0, \"ticks\": \"\"}, \"type\": \"contourcarpet\"}], \"heatmap\": [{\"colorbar\": {\"outlinewidth\": 0, \"ticks\": \"\"}, \"colorscale\": [[0.0, \"#0d0887\"], [0.1111111111111111, \"#46039f\"], [0.2222222222222222, \"#7201a8\"], [0.3333333333333333, \"#9c179e\"], [0.4444444444444444, \"#bd3786\"], [0.5555555555555556, \"#d8576b\"], [0.6666666666666666, \"#ed7953\"], [0.7777777777777778, \"#fb9f3a\"], [0.8888888888888888, \"#fdca26\"], [1.0, \"#f0f921\"]], \"type\": \"heatmap\"}], \"heatmapgl\": [{\"colorbar\": {\"outlinewidth\": 0, \"ticks\": \"\"}, \"colorscale\": [[0.0, \"#0d0887\"], [0.1111111111111111, \"#46039f\"], [0.2222222222222222, \"#7201a8\"], [0.3333333333333333, \"#9c179e\"], [0.4444444444444444, \"#bd3786\"], [0.5555555555555556, \"#d8576b\"], [0.6666666666666666, \"#ed7953\"], [0.7777777777777778, \"#fb9f3a\"], [0.8888888888888888, \"#fdca26\"], [1.0, \"#f0f921\"]], \"type\": \"heatmapgl\"}], \"histogram\": [{\"marker\": {\"colorbar\": {\"outlinewidth\": 0, \"ticks\": \"\"}}, \"type\": \"histogram\"}], \"histogram2d\": [{\"colorbar\": {\"outlinewidth\": 0, \"ticks\": \"\"}, \"colorscale\": [[0.0, \"#0d0887\"], [0.1111111111111111, \"#46039f\"], [0.2222222222222222, \"#7201a8\"], [0.3333333333333333, \"#9c179e\"], [0.4444444444444444, \"#bd3786\"], [0.5555555555555556, \"#d8576b\"], [0.6666666666666666, \"#ed7953\"], [0.7777777777777778, \"#fb9f3a\"], [0.8888888888888888, \"#fdca26\"], [1.0, \"#f0f921\"]], \"type\": \"histogram2d\"}], \"histogram2dcontour\": [{\"colorbar\": {\"outlinewidth\": 0, \"ticks\": \"\"}, \"colorscale\": [[0.0, \"#0d0887\"], [0.1111111111111111, \"#46039f\"], [0.2222222222222222, \"#7201a8\"], [0.3333333333333333, \"#9c179e\"], [0.4444444444444444, \"#bd3786\"], [0.5555555555555556, \"#d8576b\"], [0.6666666666666666, \"#ed7953\"], [0.7777777777777778, \"#fb9f3a\"], [0.8888888888888888, \"#fdca26\"], [1.0, \"#f0f921\"]], \"type\": \"histogram2dcontour\"}], \"mesh3d\": [{\"colorbar\": {\"outlinewidth\": 0, \"ticks\": \"\"}, \"type\": \"mesh3d\"}], \"parcoords\": [{\"line\": {\"colorbar\": {\"outlinewidth\": 0, \"ticks\": \"\"}}, \"type\": \"parcoords\"}], \"pie\": [{\"automargin\": true, \"type\": \"pie\"}], \"scatter\": [{\"marker\": {\"colorbar\": {\"outlinewidth\": 0, \"ticks\": \"\"}}, \"type\": \"scatter\"}], \"scatter3d\": [{\"line\": {\"colorbar\": {\"outlinewidth\": 0, \"ticks\": \"\"}}, \"marker\": {\"colorbar\": {\"outlinewidth\": 0, \"ticks\": \"\"}}, \"type\": \"scatter3d\"}], \"scattercarpet\": [{\"marker\": {\"colorbar\": {\"outlinewidth\": 0, \"ticks\": \"\"}}, \"type\": \"scattercarpet\"}], \"scattergeo\": [{\"marker\": {\"colorbar\": {\"outlinewidth\": 0, \"ticks\": \"\"}}, \"type\": \"scattergeo\"}], \"scattergl\": [{\"marker\": {\"colorbar\": {\"outlinewidth\": 0, \"ticks\": \"\"}}, \"type\": \"scattergl\"}], \"scattermapbox\": [{\"marker\": {\"colorbar\": {\"outlinewidth\": 0, \"ticks\": \"\"}}, \"type\": \"scattermapbox\"}], \"scatterpolar\": [{\"marker\": {\"colorbar\": {\"outlinewidth\": 0, \"ticks\": \"\"}}, \"type\": \"scatterpolar\"}], \"scatterpolargl\": [{\"marker\": {\"colorbar\": {\"outlinewidth\": 0, \"ticks\": \"\"}}, \"type\": \"scatterpolargl\"}], \"scatterternary\": [{\"marker\": {\"colorbar\": {\"outlinewidth\": 0, \"ticks\": \"\"}}, \"type\": \"scatterternary\"}], \"surface\": [{\"colorbar\": {\"outlinewidth\": 0, \"ticks\": \"\"}, \"colorscale\": [[0.0, \"#0d0887\"], [0.1111111111111111, \"#46039f\"], [0.2222222222222222, \"#7201a8\"], [0.3333333333333333, \"#9c179e\"], [0.4444444444444444, \"#bd3786\"], [0.5555555555555556, \"#d8576b\"], [0.6666666666666666, \"#ed7953\"], [0.7777777777777778, \"#fb9f3a\"], [0.8888888888888888, \"#fdca26\"], [1.0, \"#f0f921\"]], \"type\": \"surface\"}], \"table\": [{\"cells\": {\"fill\": {\"color\": \"#EBF0F8\"}, \"line\": {\"color\": \"white\"}}, \"header\": {\"fill\": {\"color\": \"#C8D4E3\"}, \"line\": {\"color\": \"white\"}}, \"type\": \"table\"}]}, \"layout\": {\"annotationdefaults\": {\"arrowcolor\": \"#2a3f5f\", \"arrowhead\": 0, \"arrowwidth\": 1}, \"autotypenumbers\": \"strict\", \"coloraxis\": {\"colorbar\": {\"outlinewidth\": 0, \"ticks\": \"\"}}, \"colorscale\": {\"diverging\": [[0, \"#8e0152\"], [0.1, \"#c51b7d\"], [0.2, \"#de77ae\"], [0.3, \"#f1b6da\"], [0.4, \"#fde0ef\"], [0.5, \"#f7f7f7\"], [0.6, \"#e6f5d0\"], [0.7, \"#b8e186\"], [0.8, \"#7fbc41\"], [0.9, \"#4d9221\"], [1, \"#276419\"]], \"sequential\": [[0.0, \"#0d0887\"], [0.1111111111111111, \"#46039f\"], [0.2222222222222222, \"#7201a8\"], [0.3333333333333333, \"#9c179e\"], [0.4444444444444444, \"#bd3786\"], [0.5555555555555556, \"#d8576b\"], [0.6666666666666666, \"#ed7953\"], [0.7777777777777778, \"#fb9f3a\"], [0.8888888888888888, \"#fdca26\"], [1.0, \"#f0f921\"]], \"sequentialminus\": [[0.0, \"#0d0887\"], [0.1111111111111111, \"#46039f\"], [0.2222222222222222, \"#7201a8\"], [0.3333333333333333, \"#9c179e\"], [0.4444444444444444, \"#bd3786\"], [0.5555555555555556, \"#d8576b\"], [0.6666666666666666, \"#ed7953\"], [0.7777777777777778, \"#fb9f3a\"], [0.8888888888888888, \"#fdca26\"], [1.0, \"#f0f921\"]]}, \"colorway\": [\"#636efa\", \"#EF553B\", \"#00cc96\", \"#ab63fa\", \"#FFA15A\", \"#19d3f3\", \"#FF6692\", \"#B6E880\", \"#FF97FF\", \"#FECB52\"], \"font\": {\"color\": \"#2a3f5f\"}, \"geo\": {\"bgcolor\": \"white\", \"lakecolor\": \"white\", \"landcolor\": \"#E5ECF6\", \"showlakes\": true, \"showland\": true, \"subunitcolor\": \"white\"}, \"hoverlabel\": {\"align\": \"left\"}, \"hovermode\": \"closest\", \"mapbox\": {\"style\": \"light\"}, \"paper_bgcolor\": \"white\", \"plot_bgcolor\": \"#E5ECF6\", \"polar\": {\"angularaxis\": {\"gridcolor\": \"white\", \"linecolor\": \"white\", \"ticks\": \"\"}, \"bgcolor\": \"#E5ECF6\", \"radialaxis\": {\"gridcolor\": \"white\", \"linecolor\": \"white\", \"ticks\": \"\"}}, \"scene\": {\"xaxis\": {\"backgroundcolor\": \"#E5ECF6\", \"gridcolor\": \"white\", \"gridwidth\": 2, \"linecolor\": \"white\", \"showbackground\": true, \"ticks\": \"\", \"zerolinecolor\": \"white\"}, \"yaxis\": {\"backgroundcolor\": \"#E5ECF6\", \"gridcolor\": \"white\", \"gridwidth\": 2, \"linecolor\": \"white\", \"showbackground\": true, \"ticks\": \"\", \"zerolinecolor\": \"white\"}, \"zaxis\": {\"backgroundcolor\": \"#E5ECF6\", \"gridcolor\": \"white\", \"gridwidth\": 2, \"linecolor\": \"white\", \"showbackground\": true, \"ticks\": \"\", \"zerolinecolor\": \"white\"}}, \"shapedefaults\": {\"line\": {\"color\": \"#2a3f5f\"}}, \"ternary\": {\"aaxis\": {\"gridcolor\": \"white\", \"linecolor\": \"white\", \"ticks\": \"\"}, \"baxis\": {\"gridcolor\": \"white\", \"linecolor\": \"white\", \"ticks\": \"\"}, \"bgcolor\": \"#E5ECF6\", \"caxis\": {\"gridcolor\": \"white\", \"linecolor\": \"white\", \"ticks\": \"\"}}, \"title\": {\"x\": 0.05}, \"xaxis\": {\"automargin\": true, \"gridcolor\": \"white\", \"linecolor\": \"white\", \"ticks\": \"\", \"title\": {\"standoff\": 15}, \"zerolinecolor\": \"white\", \"zerolinewidth\": 2}, \"yaxis\": {\"automargin\": true, \"gridcolor\": \"white\", \"linecolor\": \"white\", \"ticks\": \"\", \"title\": {\"standoff\": 15}, \"zerolinecolor\": \"white\", \"zerolinewidth\": 2}}}, \"title\": {\"font\": {\"color\": \"#4D5663\"}}, \"xaxis\": {\"gridcolor\": \"#E1E5ED\", \"showgrid\": true, \"tickfont\": {\"color\": \"#4D5663\"}, \"title\": {\"font\": {\"color\": \"#4D5663\"}, \"text\": \"\"}, \"zerolinecolor\": \"#E1E5ED\"}, \"yaxis\": {\"gridcolor\": \"#E1E5ED\", \"showgrid\": true, \"tickfont\": {\"color\": \"#4D5663\"}, \"title\": {\"font\": {\"color\": \"#4D5663\"}, \"text\": \"\"}, \"zerolinecolor\": \"#E1E5ED\"}},                        {\"showLink\": true, \"linkText\": \"Export to plot.ly\", \"plotlyServerURL\": \"https://plot.ly\", \"responsive\": true}                    ).then(function(){\n",
       "                            \n",
       "var gd = document.getElementById('01ce4e6c-ea5c-4147-bfa4-b6f43eb2d3cc');\n",
       "var x = new MutationObserver(function (mutations, observer) {{\n",
       "        var display = window.getComputedStyle(gd).display;\n",
       "        if (!display || display === 'none') {{\n",
       "            console.log([gd, 'removed!']);\n",
       "            Plotly.purge(gd);\n",
       "            observer.disconnect();\n",
       "        }}\n",
       "}});\n",
       "\n",
       "// Listen for the removal of the full notebook cells\n",
       "var notebookContainer = gd.closest('#notebook-container');\n",
       "if (notebookContainer) {{\n",
       "    x.observe(notebookContainer, {childList: true});\n",
       "}}\n",
       "\n",
       "// Listen for the clearing of the current output cell\n",
       "var outputEl = gd.closest('.output');\n",
       "if (outputEl) {{\n",
       "    x.observe(outputEl, {childList: true});\n",
       "}}\n",
       "\n",
       "                        })                };                });            </script>        </div>"
      ]
     },
     "metadata": {},
     "output_type": "display_data"
    }
   ],
   "source": [
    "tdf_2012.iplot(kind='scatter',x='Altura cm',y='Prom. Aces Por Partido', mode='markers',categories='Perfil jugador')"
   ]
  },
  {
   "cell_type": "code",
   "execution_count": 523,
   "metadata": {},
   "outputs": [
    {
     "data": {
      "text/plain": [
       "[% de Victorias \n",
       " 53.57    203.0\n",
       " 54.00    185.0\n",
       " 54.55    188.0\n",
       " 54.84    180.0\n",
       " 55.10    188.0\n",
       " 55.26    180.0\n",
       " 55.81    190.0\n",
       " 55.88    190.0\n",
       " 56.41    178.0\n",
       " 57.63    180.0\n",
       " 58.33    178.0\n",
       " 58.46    190.0\n",
       " 58.97    187.0\n",
       " 59.26    187.0\n",
       " 59.68    198.0\n",
       " 61.11    183.0\n",
       " 63.24    180.0\n",
       " 63.64    180.5\n",
       " 65.52    193.0\n",
       " 65.63    185.5\n",
       " 65.96    188.0\n",
       " 66.67    180.0\n",
       " 66.70    183.0\n",
       " 67.24    188.0\n",
       " 67.27    178.0\n",
       " 68.18    208.0\n",
       " 68.80    188.0\n",
       " 69.23    196.0\n",
       " 70.73    183.0\n",
       " 72.62    196.0\n",
       " 77.78    191.0\n",
       " 79.27    198.0\n",
       " 83.52    175.0\n",
       " 85.54    185.0\n",
       " 86.21    188.0\n",
       " 87.50    185.0\n",
       " Name: Altura cm, dtype: float64]"
      ]
     },
     "execution_count": 523,
     "metadata": {},
     "output_type": "execute_result"
    }
   ],
   "source": [
    "altura_optima=[tdf_2012[(tdf_2012['% de Victorias ']>52)].groupby('% de Victorias ')['Altura cm'].mean()]\n",
    "altura_optima"
   ]
  },
  {
   "cell_type": "code",
   "execution_count": 524,
   "metadata": {},
   "outputs": [
    {
     "name": "stdout",
     "output_type": "stream",
     "text": [
      "0    188.0\n",
      "dtype: float64\n"
     ]
    }
   ],
   "source": [
    "for i in altura_optima:\n",
    "    print(i.mode())"
   ]
  },
  {
   "cell_type": "code",
   "execution_count": 525,
   "metadata": {},
   "outputs": [],
   "source": [
    "# Edad a la que se tiene mayor rendimiento"
   ]
  },
  {
   "cell_type": "code",
   "execution_count": 526,
   "metadata": {},
   "outputs": [
    {
     "data": {
      "text/plain": [
       "(187.53847488372801, 191.6789164206198)"
      ]
     },
     "execution_count": 526,
     "metadata": {},
     "output_type": "execute_result"
    }
   ],
   "source": [
    "# Your code here:\n",
    "ic_altura = tdf_2012[tdf_2012['Perfil jugador']=='Sacador']['Altura cm']\n",
    "\n",
    "alpha = 0.95\n",
    "\n",
    "m= ic_altura.mean()\n",
    "\n",
    "k_1 = len(ic_altura)-1\n",
    "\n",
    "stand_err = stats.sem(ic_altura)\n",
    "\n",
    "stats.t.interval(alpha, k_1, loc = m, scale = stand_err )"
   ]
  },
  {
   "cell_type": "code",
   "execution_count": 527,
   "metadata": {
    "scrolled": true
   },
   "outputs": [
    {
     "name": "stderr",
     "output_type": "stream",
     "text": [
      "C:\\Users\\joanu\\anaconda\\lib\\site-packages\\seaborn\\distributions.py:2551: FutureWarning:\n",
      "\n",
      "`distplot` is a deprecated function and will be removed in a future version. Please adapt your code to use either `displot` (a figure-level function with similar flexibility) or `histplot` (an axes-level function for histograms).\n",
      "\n"
     ]
    },
    {
     "data": {
      "text/plain": [
       "<AxesSubplot:xlabel='Edad', ylabel='Density'>"
      ]
     },
     "execution_count": 527,
     "metadata": {},
     "output_type": "execute_result"
    },
    {
     "data": {
      "image/png": "[encoded data removed]",
      "text/plain": [
       "<Figure size 432x288 with 1 Axes>"
      ]
     },
     "metadata": {
      "needs_background": "light"
     },
     "output_type": "display_data"
    }
   ],
   "source": [
    "edad_optima= tdf_2012[tdf_2012['% de Victorias ']>0]['Edad']\n",
    "sns.distplot(sample,)        "
   ]
  },
  {
   "cell_type": "raw",
   "metadata": {},
   "source": [
    "Insights:\n",
    "Edad entre 25 y 30"
   ]
  },
  {
   "cell_type": "code",
   "execution_count": 528,
   "metadata": {
    "scrolled": true
   },
   "outputs": [
    {
     "data": {
      "text/plain": [
       "[% de Victorias \n",
       " 65.52    26.0\n",
       " 65.63    28.5\n",
       " 65.96    34.0\n",
       " 66.67    28.0\n",
       " 66.70    22.0\n",
       " 67.24    26.5\n",
       " 67.27    23.0\n",
       " 68.18    27.0\n",
       " 68.80    27.0\n",
       " 69.23    22.0\n",
       " 70.73    28.0\n",
       " 72.62    27.0\n",
       " 77.78    25.0\n",
       " 79.27    24.0\n",
       " 83.52    30.0\n",
       " 85.54    31.0\n",
       " 86.21    25.0\n",
       " 87.50    26.0\n",
       " Name: Edad, dtype: float64]"
      ]
     },
     "execution_count": 528,
     "metadata": {},
     "output_type": "execute_result"
    }
   ],
   "source": [
    "edad_optima= [tdf2[(tdf2['% de Victorias '] >65)].groupby('% de Victorias ')['Edad'].mean()]\n",
    "edad_optima"
   ]
  },
  {
   "cell_type": "code",
   "execution_count": 529,
   "metadata": {},
   "outputs": [
    {
     "name": "stdout",
     "output_type": "stream",
     "text": [
      "26.7\n"
     ]
    }
   ],
   "source": [
    "for i in edad_optima:\n",
    "    print(round(i.mean(),1))"
   ]
  },
  {
   "cell_type": "code",
   "execution_count": 544,
   "metadata": {},
   "outputs": [
    {
     "data": {
      "text/plain": [
       "(25.771904595619603, 27.715274891559886)"
      ]
     },
     "execution_count": 544,
     "metadata": {},
     "output_type": "execute_result"
    }
   ],
   "source": [
    "# Your code here:\n",
    "ic_edad = tdf_2012[tdf_2012['% de Victorias ']>52]['Edad']\n",
    "\n",
    "alpha = 0.95\n",
    "\n",
    "m= ic_edad.mean()\n",
    "\n",
    "k_1 = len(ic_edad)-1\n",
    "\n",
    "stand_err = stats.sem(ic_edad)\n",
    "\n",
    "stats.t.interval(alpha, k_1, loc = m, scale = stand_err )"
   ]
  },
  {
   "cell_type": "code",
   "execution_count": 531,
   "metadata": {},
   "outputs": [],
   "source": [
    "# Comparación de la media de % de Victorias entre los jugadores que han tenido lesiones y los que no"
   ]
  },
  {
   "cell_type": "code",
   "execution_count": 532,
   "metadata": {},
   "outputs": [
    {
     "data": {
      "text/plain": [
       "Ttest_indResult(statistic=1.11989523806458, pvalue=0.2659962184263893)"
      ]
     },
     "execution_count": 532,
     "metadata": {},
     "output_type": "execute_result"
    }
   ],
   "source": [
    "Lesionado=tdf_2012[tdf_2012['Lesiones']==1]\n",
    "No_Lesionado=tdf_2012[tdf_2012['Lesiones']==0]\n",
    "\n",
    "stats.ttest_ind(Lesionado['% de Victorias '],No_Lesionado['% de Victorias '],equal_var=False)"
   ]
  },
  {
   "cell_type": "raw",
   "metadata": {},
   "source": [
    "Insights:\n",
    "La media de % de Victorias entre jugadores que han sufrido una lesion y los que no, no es estadísticamente significativa.\n",
    "Por lo que esta estadística no será crucial en nuestro análisis, pero evidentemente si el jugador esta sano, mejor.\n",
    "pvalue(0.65)>alfa(0.05)"
   ]
  },
  {
   "cell_type": "code",
   "execution_count": 545,
   "metadata": {},
   "outputs": [
    {
     "data": {
      "text/html": [
       "<div>\n",
       "<style scoped>\n",
       "    .dataframe tbody tr th:only-of-type {\n",
       "        vertical-align: middle;\n",
       "    }\n",
       "\n",
       "    .dataframe tbody tr th {\n",
       "        vertical-align: top;\n",
       "    }\n",
       "\n",
       "    .dataframe thead th {\n",
       "        text-align: right;\n",
       "    }\n",
       "</style>\n",
       "<table border=\"1\" class=\"dataframe\">\n",
       "  <thead>\n",
       "    <tr style=\"text-align: right;\">\n",
       "      <th></th>\n",
       "      <th>Ranking</th>\n",
       "      <th>Jugador</th>\n",
       "      <th>Nacionalidad</th>\n",
       "      <th>Edad</th>\n",
       "      <th>Altura cm</th>\n",
       "      <th>Año</th>\n",
       "      <th>Efectividad Al Saque ©</th>\n",
       "      <th>% 1er Servicio</th>\n",
       "      <th>% Puntos Ganados 1er Saque</th>\n",
       "      <th>% Puntos Ganados 2do Saque</th>\n",
       "      <th>...</th>\n",
       "      <th>Efectividad Bajo Presión</th>\n",
       "      <th>% Break Points Convertidos.1</th>\n",
       "      <th>% Break Points Salvados</th>\n",
       "      <th>% Tie Breaks Ganados</th>\n",
       "      <th>% Victorias Sets Definitivos</th>\n",
       "      <th>Tiempo de partido (min)</th>\n",
       "      <th>% de Victorias</th>\n",
       "      <th>Lesiones</th>\n",
       "      <th>Tarifa Jugador</th>\n",
       "      <th>Perfil jugador</th>\n",
       "    </tr>\n",
       "  </thead>\n",
       "  <tbody>\n",
       "    <tr>\n",
       "      <th>11</th>\n",
       "      <td>11</td>\n",
       "      <td>Jo-Wilfried Tsonga</td>\n",
       "      <td>France</td>\n",
       "      <td>27</td>\n",
       "      <td>188</td>\n",
       "      <td>2012</td>\n",
       "      <td>283.6</td>\n",
       "      <td>61.9</td>\n",
       "      <td>75.8</td>\n",
       "      <td>53.1</td>\n",
       "      <td>...</td>\n",
       "      <td>217.8</td>\n",
       "      <td>41.7</td>\n",
       "      <td>69.2</td>\n",
       "      <td>59.5</td>\n",
       "      <td>47.4</td>\n",
       "      <td>111</td>\n",
       "      <td>68.80</td>\n",
       "      <td>0</td>\n",
       "      <td>100000</td>\n",
       "      <td>Sacador</td>\n",
       "    </tr>\n",
       "    <tr>\n",
       "      <th>23</th>\n",
       "      <td>43</td>\n",
       "      <td>Denis Istomin</td>\n",
       "      <td>Uzbekistan</td>\n",
       "      <td>26</td>\n",
       "      <td>188</td>\n",
       "      <td>2012</td>\n",
       "      <td>274.9</td>\n",
       "      <td>64.5</td>\n",
       "      <td>71.4</td>\n",
       "      <td>52.8</td>\n",
       "      <td>...</td>\n",
       "      <td>200.1</td>\n",
       "      <td>38.6</td>\n",
       "      <td>62.2</td>\n",
       "      <td>51.7</td>\n",
       "      <td>47.6</td>\n",
       "      <td>109</td>\n",
       "      <td>48.39</td>\n",
       "      <td>1</td>\n",
       "      <td>50000</td>\n",
       "      <td>Sacador</td>\n",
       "    </tr>\n",
       "    <tr>\n",
       "      <th>58</th>\n",
       "      <td>38</td>\n",
       "      <td>Viktor Troicki</td>\n",
       "      <td>Serbia</td>\n",
       "      <td>26</td>\n",
       "      <td>190</td>\n",
       "      <td>2012</td>\n",
       "      <td>256.7</td>\n",
       "      <td>60.9</td>\n",
       "      <td>71.0</td>\n",
       "      <td>45.0</td>\n",
       "      <td>...</td>\n",
       "      <td>210.6</td>\n",
       "      <td>41.4</td>\n",
       "      <td>56.3</td>\n",
       "      <td>55.0</td>\n",
       "      <td>57.9</td>\n",
       "      <td>112</td>\n",
       "      <td>48.21</td>\n",
       "      <td>1</td>\n",
       "      <td>50000</td>\n",
       "      <td>Sacador</td>\n",
       "    </tr>\n",
       "    <tr>\n",
       "      <th>68</th>\n",
       "      <td>105</td>\n",
       "      <td>Matthew Ebden</td>\n",
       "      <td>Australia</td>\n",
       "      <td>26</td>\n",
       "      <td>188</td>\n",
       "      <td>2012</td>\n",
       "      <td>251.8</td>\n",
       "      <td>62.3</td>\n",
       "      <td>69.3</td>\n",
       "      <td>45.7</td>\n",
       "      <td>...</td>\n",
       "      <td>224.0</td>\n",
       "      <td>33.9</td>\n",
       "      <td>59.1</td>\n",
       "      <td>66.7</td>\n",
       "      <td>64.3</td>\n",
       "      <td>102</td>\n",
       "      <td>42.50</td>\n",
       "      <td>0</td>\n",
       "      <td>50000</td>\n",
       "      <td>Sacador</td>\n",
       "    </tr>\n",
       "  </tbody>\n",
       "</table>\n",
       "<p>4 rows × 28 columns</p>\n",
       "</div>"
      ],
      "text/plain": [
       "    Ranking             Jugador Nacionalidad  Edad  Altura cm   Año  \\\n",
       "11       11  Jo-Wilfried Tsonga       France    27        188  2012   \n",
       "23       43       Denis Istomin   Uzbekistan    26        188  2012   \n",
       "58       38      Viktor Troicki       Serbia    26        190  2012   \n",
       "68      105       Matthew Ebden    Australia    26        188  2012   \n",
       "\n",
       "    Efectividad Al Saque ©  % 1er Servicio  % Puntos Ganados 1er Saque  \\\n",
       "11                   283.6            61.9                        75.8   \n",
       "23                   274.9            64.5                        71.4   \n",
       "58                   256.7            60.9                        71.0   \n",
       "68                   251.8            62.3                        69.3   \n",
       "\n",
       "    % Puntos Ganados 2do Saque  ...  Efectividad Bajo Presión  \\\n",
       "11                        53.1  ...                     217.8   \n",
       "23                        52.8  ...                     200.1   \n",
       "58                        45.0  ...                     210.6   \n",
       "68                        45.7  ...                     224.0   \n",
       "\n",
       "    % Break Points Convertidos.1  % Break Points Salvados  \\\n",
       "11                          41.7                     69.2   \n",
       "23                          38.6                     62.2   \n",
       "58                          41.4                     56.3   \n",
       "68                          33.9                     59.1   \n",
       "\n",
       "    % Tie Breaks Ganados  % Victorias Sets Definitivos  \\\n",
       "11                  59.5                          47.4   \n",
       "23                  51.7                          47.6   \n",
       "58                  55.0                          57.9   \n",
       "68                  66.7                          64.3   \n",
       "\n",
       "    Tiempo de partido (min)  % de Victorias   Lesiones  Tarifa Jugador  \\\n",
       "11                      111            68.80         0          100000   \n",
       "23                      109            48.39         1           50000   \n",
       "58                      112            48.21         1           50000   \n",
       "68                      102            42.50         0           50000   \n",
       "\n",
       "    Perfil jugador  \n",
       "11         Sacador  \n",
       "23         Sacador  \n",
       "58         Sacador  \n",
       "68         Sacador  \n",
       "\n",
       "[4 rows x 28 columns]"
      ]
     },
     "execution_count": 545,
     "metadata": {},
     "output_type": "execute_result"
    }
   ],
   "source": [
    "tdf_2012[(tdf_2012['Perfil jugador']=='Sacador')&(tdf_2012['Altura cm']>187)&(tdf_2012['Altura cm']<192)&(tdf_2012['Tarifa Jugador']<200000)&(tdf_2012['Edad']>25)&(tdf_2012['Edad']<28)]"
   ]
  },
  {
   "cell_type": "raw",
   "metadata": {},
   "source": [
    "Análisis de Correlación"
   ]
  },
  {
   "cell_type": "code",
   "execution_count": 485,
   "metadata": {},
   "outputs": [
    {
     "data": {
      "text/plain": [
       "% de Victorias                  1.000000\n",
       "Tarifa Jugador                  0.728212\n",
       "Efectividad Bajo Presión        0.709498\n",
       "% Games Ganados Saque           0.667291\n",
       "Efectividad Al Saque ©          0.666999\n",
       "% Puntos Ganados 2do Saque      0.638295\n",
       "% Victorias Sets Definitivos    0.610100\n",
       "% Puntos Ganados 1er Saque      0.565976\n",
       "% Games Al Resto                0.535884\n",
       "% Restos 1er Saque              0.528571\n",
       "% Tie Breaks Ganados            0.517393\n",
       "% Break Points Salvados         0.496138\n",
       "Efectividad Al Resto            0.475851\n",
       "Tiempo de partido (min)         0.411772\n",
       "Prom. Aces Por Partido          0.320933\n",
       "% Restos 2° Saque               0.317594\n",
       "% Break Points Convertidos      0.273576\n",
       "% Break Points Convertidos.1    0.273576\n",
       "Altura cm                       0.191849\n",
       "Lesiones                        0.121903\n",
       "Edad                            0.059897\n",
       "% 1er Servicio                  0.044283\n",
       "Prom. Dobles Por Partido       -0.138982\n",
       "Ranking                        -0.554832\n",
       "Año                                  NaN\n",
       "Name: % de Victorias , dtype: float64"
      ]
     },
     "execution_count": 485,
     "metadata": {},
     "output_type": "execute_result"
    }
   ],
   "source": [
    "corr=tdf_2012.corr()[\"% de Victorias \"].sort_values(ascending=False)\n",
    "corr"
   ]
  },
  {
   "cell_type": "code",
   "execution_count": 493,
   "metadata": {},
   "outputs": [
    {
     "data": {
      "text/plain": [
       "{'Tarifa Jugador': 0.728211989970382,\n",
       " 'Efectividad Bajo Presión': 0.709498179712935,\n",
       " '% Games Ganados Saque': 0.667291281019658,\n",
       " 'Efectividad Al Saque ©': 0.6669986049751795,\n",
       " '% Puntos Ganados 2do Saque': 0.6382952903417058,\n",
       " '% Victorias Sets Definitivos': 0.6100999640057122}"
      ]
     },
     "execution_count": 493,
     "metadata": {},
     "output_type": "execute_result"
    }
   ],
   "source": [
    "important_corrs = (corr[abs(corr) > 0.6][corr != 1.0]).to_dict()\n",
    "\n",
    "important_corrs"
   ]
  },
  {
   "cell_type": "code",
   "execution_count": 536,
   "metadata": {},
   "outputs": [],
   "source": [
    "min_Efectividad_BP=tdf_2012['Efectividad Bajo Presión'].mean()\n",
    "min_por_juegos_ganados_saque=tdf_2012['% Games Ganados Saque'].mean()\n",
    "min_efectividad_saque=tdf_2012['Efectividad Al Saque ©'].mean()\n",
    "min_pts_ganados_2ndosaque=tdf_2012['% Puntos Ganados 2do Saque'].mean()\n",
    "min_vic_sets_def=tdf_2012['% Victorias Sets Definitivos'].mean()\n",
    "\n"
   ]
  },
  {
   "cell_type": "code",
   "execution_count": 539,
   "metadata": {},
   "outputs": [
    {
     "name": "stdout",
     "output_type": "stream",
     "text": [
      "Jugador\n",
      "Jo-Wilfried Tsonga    True\n",
      "Name: Efectividad Bajo Presión, dtype: bool\n",
      "Jugador\n",
      "Jo-Wilfried Tsonga    True\n",
      "Name: % Games Ganados Saque, dtype: bool\n"
     ]
    }
   ],
   "source": [
    "print(min_Efectividad_BP<tdf_2012[tdf_2012['Jugador']=='Jo-Wilfried Tsonga'].groupby('Jugador')['Efectividad Bajo Presión'].mean())\n",
    "print(min_por_juegos_ganados_saque<tdf_2012[tdf_2012['Jugador']=='Jo-Wilfried Tsonga'].groupby('Jugador')['% Games Ganados Saque'].mean())"
   ]
  },
  {
   "cell_type": "code",
   "execution_count": 855,
   "metadata": {},
   "outputs": [],
   "source": [
    "tdf_FRA=pd.read_excel('Tenis_stats_FRA.xlsx')"
   ]
  },
  {
   "cell_type": "code",
   "execution_count": 856,
   "metadata": {},
   "outputs": [
    {
     "data": {
      "text/html": [
       "<div>\n",
       "<style scoped>\n",
       "    .dataframe tbody tr th:only-of-type {\n",
       "        vertical-align: middle;\n",
       "    }\n",
       "\n",
       "    .dataframe tbody tr th {\n",
       "        vertical-align: top;\n",
       "    }\n",
       "\n",
       "    .dataframe thead th {\n",
       "        text-align: right;\n",
       "    }\n",
       "</style>\n",
       "<table border=\"1\" class=\"dataframe\">\n",
       "  <thead>\n",
       "    <tr style=\"text-align: right;\">\n",
       "      <th></th>\n",
       "      <th>date</th>\n",
       "      <th>Jugador</th>\n",
       "      <th>Balance V/D</th>\n",
       "      <th>tournament</th>\n",
       "      <th>level</th>\n",
       "      <th>bestOf</th>\n",
       "      <th>surface</th>\n",
       "      <th>indoor</th>\n",
       "      <th>speed</th>\n",
       "      <th>round</th>\n",
       "      <th>...</th>\n",
       "      <th>loser_seed</th>\n",
       "      <th>loser_country_name</th>\n",
       "      <th>loser_country_id</th>\n",
       "      <th>loser_rank</th>\n",
       "      <th>loser_eloRatingDelta</th>\n",
       "      <th>loser_eloRating</th>\n",
       "      <th>score</th>\n",
       "      <th>outcome</th>\n",
       "      <th>loser_entry</th>\n",
       "      <th>winner_entry</th>\n",
       "    </tr>\n",
       "  </thead>\n",
       "  <tbody>\n",
       "    <tr>\n",
       "      <th>0</th>\n",
       "      <td>2012-11-05</td>\n",
       "      <td>Jo-Wilfried Tsonga</td>\n",
       "      <td>0</td>\n",
       "      <td>Tour Finals</td>\n",
       "      <td>F</td>\n",
       "      <td>3</td>\n",
       "      <td>H</td>\n",
       "      <td>True</td>\n",
       "      <td>77.0</td>\n",
       "      <td>RR</td>\n",
       "      <td>...</td>\n",
       "      <td>7</td>\n",
       "      <td>France</td>\n",
       "      <td>FRA</td>\n",
       "      <td>8</td>\n",
       "      <td>-6</td>\n",
       "      <td>2177.0</td>\n",
       "      <td>6-2 7-6(3)</td>\n",
       "      <td>NaN</td>\n",
       "      <td>NaN</td>\n",
       "      <td>NaN</td>\n",
       "    </tr>\n",
       "    <tr>\n",
       "      <th>1</th>\n",
       "      <td>2012-11-05</td>\n",
       "      <td>Jo-Wilfried Tsonga</td>\n",
       "      <td>0</td>\n",
       "      <td>Tour Finals</td>\n",
       "      <td>F</td>\n",
       "      <td>3</td>\n",
       "      <td>H</td>\n",
       "      <td>True</td>\n",
       "      <td>77.0</td>\n",
       "      <td>RR</td>\n",
       "      <td>...</td>\n",
       "      <td>7</td>\n",
       "      <td>France</td>\n",
       "      <td>FRA</td>\n",
       "      <td>8</td>\n",
       "      <td>-9</td>\n",
       "      <td>2186.0</td>\n",
       "      <td>7-5 3-6 6-1</td>\n",
       "      <td>NaN</td>\n",
       "      <td>NaN</td>\n",
       "      <td>NaN</td>\n",
       "    </tr>\n",
       "    <tr>\n",
       "      <th>2</th>\n",
       "      <td>2012-11-05</td>\n",
       "      <td>Jo-Wilfried Tsonga</td>\n",
       "      <td>0</td>\n",
       "      <td>Tour Finals</td>\n",
       "      <td>F</td>\n",
       "      <td>3</td>\n",
       "      <td>H</td>\n",
       "      <td>True</td>\n",
       "      <td>77.0</td>\n",
       "      <td>RR</td>\n",
       "      <td>...</td>\n",
       "      <td>7</td>\n",
       "      <td>France</td>\n",
       "      <td>FRA</td>\n",
       "      <td>8</td>\n",
       "      <td>-4</td>\n",
       "      <td>2190.0</td>\n",
       "      <td>7-6(4) 6-3</td>\n",
       "      <td>NaN</td>\n",
       "      <td>NaN</td>\n",
       "      <td>NaN</td>\n",
       "    </tr>\n",
       "    <tr>\n",
       "      <th>3</th>\n",
       "      <td>2012-10-29</td>\n",
       "      <td>Jo-Wilfried Tsonga</td>\n",
       "      <td>0</td>\n",
       "      <td>Paris Masters</td>\n",
       "      <td>M</td>\n",
       "      <td>3</td>\n",
       "      <td>H</td>\n",
       "      <td>True</td>\n",
       "      <td>69.0</td>\n",
       "      <td>QF</td>\n",
       "      <td>...</td>\n",
       "      <td>6</td>\n",
       "      <td>France</td>\n",
       "      <td>FRA</td>\n",
       "      <td>7</td>\n",
       "      <td>-8</td>\n",
       "      <td>2198.0</td>\n",
       "      <td>6-2 7-5</td>\n",
       "      <td>NaN</td>\n",
       "      <td>NaN</td>\n",
       "      <td>NaN</td>\n",
       "    </tr>\n",
       "    <tr>\n",
       "      <th>4</th>\n",
       "      <td>2012-10-29</td>\n",
       "      <td>Jo-Wilfried Tsonga</td>\n",
       "      <td>1</td>\n",
       "      <td>Paris Masters</td>\n",
       "      <td>M</td>\n",
       "      <td>3</td>\n",
       "      <td>H</td>\n",
       "      <td>True</td>\n",
       "      <td>69.0</td>\n",
       "      <td>R16</td>\n",
       "      <td>...</td>\n",
       "      <td>11</td>\n",
       "      <td>Spain</td>\n",
       "      <td>ESP</td>\n",
       "      <td>13</td>\n",
       "      <td>-8</td>\n",
       "      <td>2141.0</td>\n",
       "      <td>7-6(4) 7-6(3)</td>\n",
       "      <td>NaN</td>\n",
       "      <td>NaN</td>\n",
       "      <td>NaN</td>\n",
       "    </tr>\n",
       "    <tr>\n",
       "      <th>...</th>\n",
       "      <td>...</td>\n",
       "      <td>...</td>\n",
       "      <td>...</td>\n",
       "      <td>...</td>\n",
       "      <td>...</td>\n",
       "      <td>...</td>\n",
       "      <td>...</td>\n",
       "      <td>...</td>\n",
       "      <td>...</td>\n",
       "      <td>...</td>\n",
       "      <td>...</td>\n",
       "      <td>...</td>\n",
       "      <td>...</td>\n",
       "      <td>...</td>\n",
       "      <td>...</td>\n",
       "      <td>...</td>\n",
       "      <td>...</td>\n",
       "      <td>...</td>\n",
       "      <td>...</td>\n",
       "      <td>...</td>\n",
       "      <td>...</td>\n",
       "    </tr>\n",
       "    <tr>\n",
       "      <th>158</th>\n",
       "      <td>2011-01-17</td>\n",
       "      <td>Jo-Wilfried Tsonga</td>\n",
       "      <td>1</td>\n",
       "      <td>Australian Open</td>\n",
       "      <td>G</td>\n",
       "      <td>5</td>\n",
       "      <td>H</td>\n",
       "      <td>False</td>\n",
       "      <td>55.0</td>\n",
       "      <td>R128</td>\n",
       "      <td>...</td>\n",
       "      <td>GER</td>\n",
       "      <td>57</td>\n",
       "      <td>-7</td>\n",
       "      <td>1905</td>\n",
       "      <td>4-6 2-6 6-2 6-3 6-4</td>\n",
       "      <td>13.0</td>\n",
       "      <td>NaN</td>\n",
       "      <td>NaN</td>\n",
       "      <td>NaN</td>\n",
       "      <td>NaN</td>\n",
       "    </tr>\n",
       "    <tr>\n",
       "      <th>159</th>\n",
       "      <td>2011-01-03</td>\n",
       "      <td>Jo-Wilfried Tsonga</td>\n",
       "      <td>0</td>\n",
       "      <td>Doha</td>\n",
       "      <td>B</td>\n",
       "      <td>3</td>\n",
       "      <td>H</td>\n",
       "      <td>False</td>\n",
       "      <td>73.0</td>\n",
       "      <td>SF</td>\n",
       "      <td>...</td>\n",
       "      <td>FRA</td>\n",
       "      <td>13</td>\n",
       "      <td>-3</td>\n",
       "      <td>2121</td>\n",
       "      <td>6-3 7-6(2)</td>\n",
       "      <td>2.0</td>\n",
       "      <td>3</td>\n",
       "      <td>NaN</td>\n",
       "      <td>NaN</td>\n",
       "      <td>NaN</td>\n",
       "    </tr>\n",
       "    <tr>\n",
       "      <th>160</th>\n",
       "      <td>2011-01-03</td>\n",
       "      <td>Jo-Wilfried Tsonga</td>\n",
       "      <td>1</td>\n",
       "      <td>Doha</td>\n",
       "      <td>B</td>\n",
       "      <td>3</td>\n",
       "      <td>H</td>\n",
       "      <td>False</td>\n",
       "      <td>73.0</td>\n",
       "      <td>QF</td>\n",
       "      <td>...</td>\n",
       "      <td>ESP</td>\n",
       "      <td>33</td>\n",
       "      <td>-6</td>\n",
       "      <td>2002</td>\n",
       "      <td>7-6(4) 7-6(9)</td>\n",
       "      <td>3.0</td>\n",
       "      <td>7</td>\n",
       "      <td>NaN</td>\n",
       "      <td>NaN</td>\n",
       "      <td>NaN</td>\n",
       "    </tr>\n",
       "    <tr>\n",
       "      <th>161</th>\n",
       "      <td>2011-01-03</td>\n",
       "      <td>Jo-Wilfried Tsonga</td>\n",
       "      <td>1</td>\n",
       "      <td>Doha</td>\n",
       "      <td>B</td>\n",
       "      <td>3</td>\n",
       "      <td>H</td>\n",
       "      <td>False</td>\n",
       "      <td>73.0</td>\n",
       "      <td>R16</td>\n",
       "      <td>...</td>\n",
       "      <td>UKR</td>\n",
       "      <td>320</td>\n",
       "      <td>-4</td>\n",
       "      <td>1756</td>\n",
       "      <td>6-2 6-4</td>\n",
       "      <td>3.0</td>\n",
       "      <td>NaN</td>\n",
       "      <td>NaN</td>\n",
       "      <td>WC</td>\n",
       "      <td>NaN</td>\n",
       "    </tr>\n",
       "    <tr>\n",
       "      <th>162</th>\n",
       "      <td>2011-01-03</td>\n",
       "      <td>Jo-Wilfried Tsonga</td>\n",
       "      <td>1</td>\n",
       "      <td>Doha</td>\n",
       "      <td>B</td>\n",
       "      <td>3</td>\n",
       "      <td>H</td>\n",
       "      <td>False</td>\n",
       "      <td>73.0</td>\n",
       "      <td>R32</td>\n",
       "      <td>...</td>\n",
       "      <td>ESP</td>\n",
       "      <td>77</td>\n",
       "      <td>-4</td>\n",
       "      <td>1695</td>\n",
       "      <td>6-2 6-0</td>\n",
       "      <td>3.0</td>\n",
       "      <td>NaN</td>\n",
       "      <td>NaN</td>\n",
       "      <td>NaN</td>\n",
       "      <td>NaN</td>\n",
       "    </tr>\n",
       "  </tbody>\n",
       "</table>\n",
       "<p>163 rows × 28 columns</p>\n",
       "</div>"
      ],
      "text/plain": [
       "          date             Jugador  Balance V/D       tournament level  \\\n",
       "0   2012-11-05  Jo-Wilfried Tsonga            0      Tour Finals     F   \n",
       "1   2012-11-05  Jo-Wilfried Tsonga            0      Tour Finals     F   \n",
       "2   2012-11-05  Jo-Wilfried Tsonga            0      Tour Finals     F   \n",
       "3   2012-10-29  Jo-Wilfried Tsonga            0    Paris Masters     M   \n",
       "4   2012-10-29  Jo-Wilfried Tsonga            1    Paris Masters     M   \n",
       "..         ...                 ...          ...              ...   ...   \n",
       "158 2011-01-17  Jo-Wilfried Tsonga            1  Australian Open     G   \n",
       "159 2011-01-03  Jo-Wilfried Tsonga            0             Doha     B   \n",
       "160 2011-01-03  Jo-Wilfried Tsonga            1             Doha     B   \n",
       "161 2011-01-03  Jo-Wilfried Tsonga            1             Doha     B   \n",
       "162 2011-01-03  Jo-Wilfried Tsonga            1             Doha     B   \n",
       "\n",
       "     bestOf surface  indoor  speed round  ... loser_seed loser_country_name  \\\n",
       "0         3       H    True   77.0    RR  ...          7             France   \n",
       "1         3       H    True   77.0    RR  ...          7             France   \n",
       "2         3       H    True   77.0    RR  ...          7             France   \n",
       "3         3       H    True   69.0    QF  ...          6             France   \n",
       "4         3       H    True   69.0   R16  ...         11              Spain   \n",
       "..      ...     ...     ...    ...   ...  ...        ...                ...   \n",
       "158       5       H   False   55.0  R128  ...        GER                 57   \n",
       "159       3       H   False   73.0    SF  ...        FRA                 13   \n",
       "160       3       H   False   73.0    QF  ...        ESP                 33   \n",
       "161       3       H   False   73.0   R16  ...        UKR                320   \n",
       "162       3       H   False   73.0   R32  ...        ESP                 77   \n",
       "\n",
       "    loser_country_id loser_rank  loser_eloRatingDelta  loser_eloRating  \\\n",
       "0                FRA          8                    -6           2177.0   \n",
       "1                FRA          8                    -9           2186.0   \n",
       "2                FRA          8                    -4           2190.0   \n",
       "3                FRA          7                    -8           2198.0   \n",
       "4                ESP         13                    -8           2141.0   \n",
       "..               ...        ...                   ...              ...   \n",
       "158               -7       1905   4-6 2-6 6-2 6-3 6-4             13.0   \n",
       "159               -3       2121            6-3 7-6(2)              2.0   \n",
       "160               -6       2002         7-6(4) 7-6(9)              3.0   \n",
       "161               -4       1756               6-2 6-4              3.0   \n",
       "162               -4       1695               6-2 6-0              3.0   \n",
       "\n",
       "             score outcome loser_entry winner_entry  \n",
       "0       6-2 7-6(3)     NaN         NaN          NaN  \n",
       "1      7-5 3-6 6-1     NaN         NaN          NaN  \n",
       "2       7-6(4) 6-3     NaN         NaN          NaN  \n",
       "3          6-2 7-5     NaN         NaN          NaN  \n",
       "4    7-6(4) 7-6(3)     NaN         NaN          NaN  \n",
       "..             ...     ...         ...          ...  \n",
       "158            NaN     NaN         NaN          NaN  \n",
       "159              3     NaN         NaN          NaN  \n",
       "160              7     NaN         NaN          NaN  \n",
       "161            NaN     NaN          WC          NaN  \n",
       "162            NaN     NaN         NaN          NaN  \n",
       "\n",
       "[163 rows x 28 columns]"
      ]
     },
     "execution_count": 856,
     "metadata": {},
     "output_type": "execute_result"
    }
   ],
   "source": [
    "tdf_FRA"
   ]
  },
  {
   "cell_type": "code",
   "execution_count": 857,
   "metadata": {},
   "outputs": [],
   "source": [
    "tdf_ts=tdf_FRA[['date','Balance V/D']]"
   ]
  },
  {
   "cell_type": "code",
   "execution_count": 858,
   "metadata": {},
   "outputs": [
    {
     "data": {
      "text/html": [
       "<div>\n",
       "<style scoped>\n",
       "    .dataframe tbody tr th:only-of-type {\n",
       "        vertical-align: middle;\n",
       "    }\n",
       "\n",
       "    .dataframe tbody tr th {\n",
       "        vertical-align: top;\n",
       "    }\n",
       "\n",
       "    .dataframe thead th {\n",
       "        text-align: right;\n",
       "    }\n",
       "</style>\n",
       "<table border=\"1\" class=\"dataframe\">\n",
       "  <thead>\n",
       "    <tr style=\"text-align: right;\">\n",
       "      <th></th>\n",
       "      <th>date</th>\n",
       "      <th>Balance V/D</th>\n",
       "    </tr>\n",
       "  </thead>\n",
       "  <tbody>\n",
       "    <tr>\n",
       "      <th>0</th>\n",
       "      <td>2012-11-05</td>\n",
       "      <td>0</td>\n",
       "    </tr>\n",
       "    <tr>\n",
       "      <th>1</th>\n",
       "      <td>2012-11-05</td>\n",
       "      <td>0</td>\n",
       "    </tr>\n",
       "    <tr>\n",
       "      <th>2</th>\n",
       "      <td>2012-11-05</td>\n",
       "      <td>0</td>\n",
       "    </tr>\n",
       "    <tr>\n",
       "      <th>3</th>\n",
       "      <td>2012-10-29</td>\n",
       "      <td>0</td>\n",
       "    </tr>\n",
       "    <tr>\n",
       "      <th>4</th>\n",
       "      <td>2012-10-29</td>\n",
       "      <td>1</td>\n",
       "    </tr>\n",
       "    <tr>\n",
       "      <th>...</th>\n",
       "      <td>...</td>\n",
       "      <td>...</td>\n",
       "    </tr>\n",
       "    <tr>\n",
       "      <th>158</th>\n",
       "      <td>2011-01-17</td>\n",
       "      <td>1</td>\n",
       "    </tr>\n",
       "    <tr>\n",
       "      <th>159</th>\n",
       "      <td>2011-01-03</td>\n",
       "      <td>0</td>\n",
       "    </tr>\n",
       "    <tr>\n",
       "      <th>160</th>\n",
       "      <td>2011-01-03</td>\n",
       "      <td>1</td>\n",
       "    </tr>\n",
       "    <tr>\n",
       "      <th>161</th>\n",
       "      <td>2011-01-03</td>\n",
       "      <td>1</td>\n",
       "    </tr>\n",
       "    <tr>\n",
       "      <th>162</th>\n",
       "      <td>2011-01-03</td>\n",
       "      <td>1</td>\n",
       "    </tr>\n",
       "  </tbody>\n",
       "</table>\n",
       "<p>163 rows × 2 columns</p>\n",
       "</div>"
      ],
      "text/plain": [
       "          date  Balance V/D\n",
       "0   2012-11-05            0\n",
       "1   2012-11-05            0\n",
       "2   2012-11-05            0\n",
       "3   2012-10-29            0\n",
       "4   2012-10-29            1\n",
       "..         ...          ...\n",
       "158 2011-01-17            1\n",
       "159 2011-01-03            0\n",
       "160 2011-01-03            1\n",
       "161 2011-01-03            1\n",
       "162 2011-01-03            1\n",
       "\n",
       "[163 rows x 2 columns]"
      ]
     },
     "execution_count": 858,
     "metadata": {},
     "output_type": "execute_result"
    }
   ],
   "source": [
    "tdf_ts"
   ]
  },
  {
   "cell_type": "code",
   "execution_count": 859,
   "metadata": {},
   "outputs": [],
   "source": [
    "tdf_ts['date']=pd.to_datetime(tdf_ts.date)"
   ]
  },
  {
   "cell_type": "code",
   "execution_count": 860,
   "metadata": {},
   "outputs": [
    {
     "data": {
      "text/html": [
       "<div>\n",
       "<style scoped>\n",
       "    .dataframe tbody tr th:only-of-type {\n",
       "        vertical-align: middle;\n",
       "    }\n",
       "\n",
       "    .dataframe tbody tr th {\n",
       "        vertical-align: top;\n",
       "    }\n",
       "\n",
       "    .dataframe thead th {\n",
       "        text-align: right;\n",
       "    }\n",
       "</style>\n",
       "<table border=\"1\" class=\"dataframe\">\n",
       "  <thead>\n",
       "    <tr style=\"text-align: right;\">\n",
       "      <th></th>\n",
       "      <th>date</th>\n",
       "      <th>Balance V/D</th>\n",
       "    </tr>\n",
       "  </thead>\n",
       "  <tbody>\n",
       "    <tr>\n",
       "      <th>0</th>\n",
       "      <td>2012-11-05</td>\n",
       "      <td>0</td>\n",
       "    </tr>\n",
       "    <tr>\n",
       "      <th>1</th>\n",
       "      <td>2012-11-05</td>\n",
       "      <td>0</td>\n",
       "    </tr>\n",
       "    <tr>\n",
       "      <th>2</th>\n",
       "      <td>2012-11-05</td>\n",
       "      <td>0</td>\n",
       "    </tr>\n",
       "    <tr>\n",
       "      <th>3</th>\n",
       "      <td>2012-10-29</td>\n",
       "      <td>0</td>\n",
       "    </tr>\n",
       "    <tr>\n",
       "      <th>4</th>\n",
       "      <td>2012-10-29</td>\n",
       "      <td>1</td>\n",
       "    </tr>\n",
       "    <tr>\n",
       "      <th>...</th>\n",
       "      <td>...</td>\n",
       "      <td>...</td>\n",
       "    </tr>\n",
       "    <tr>\n",
       "      <th>158</th>\n",
       "      <td>2011-01-17</td>\n",
       "      <td>1</td>\n",
       "    </tr>\n",
       "    <tr>\n",
       "      <th>159</th>\n",
       "      <td>2011-01-03</td>\n",
       "      <td>0</td>\n",
       "    </tr>\n",
       "    <tr>\n",
       "      <th>160</th>\n",
       "      <td>2011-01-03</td>\n",
       "      <td>1</td>\n",
       "    </tr>\n",
       "    <tr>\n",
       "      <th>161</th>\n",
       "      <td>2011-01-03</td>\n",
       "      <td>1</td>\n",
       "    </tr>\n",
       "    <tr>\n",
       "      <th>162</th>\n",
       "      <td>2011-01-03</td>\n",
       "      <td>1</td>\n",
       "    </tr>\n",
       "  </tbody>\n",
       "</table>\n",
       "<p>163 rows × 2 columns</p>\n",
       "</div>"
      ],
      "text/plain": [
       "          date  Balance V/D\n",
       "0   2012-11-05            0\n",
       "1   2012-11-05            0\n",
       "2   2012-11-05            0\n",
       "3   2012-10-29            0\n",
       "4   2012-10-29            1\n",
       "..         ...          ...\n",
       "158 2011-01-17            1\n",
       "159 2011-01-03            0\n",
       "160 2011-01-03            1\n",
       "161 2011-01-03            1\n",
       "162 2011-01-03            1\n",
       "\n",
       "[163 rows x 2 columns]"
      ]
     },
     "execution_count": 860,
     "metadata": {},
     "output_type": "execute_result"
    }
   ],
   "source": [
    "tdf_ts"
   ]
  },
  {
   "cell_type": "code",
   "execution_count": 861,
   "metadata": {},
   "outputs": [],
   "source": [
    "tdf_ts.set_index('date',inplace=True)"
   ]
  },
  {
   "cell_type": "code",
   "execution_count": 862,
   "metadata": {},
   "outputs": [
    {
     "data": {
      "text/html": [
       "<div>\n",
       "<style scoped>\n",
       "    .dataframe tbody tr th:only-of-type {\n",
       "        vertical-align: middle;\n",
       "    }\n",
       "\n",
       "    .dataframe tbody tr th {\n",
       "        vertical-align: top;\n",
       "    }\n",
       "\n",
       "    .dataframe thead th {\n",
       "        text-align: right;\n",
       "    }\n",
       "</style>\n",
       "<table border=\"1\" class=\"dataframe\">\n",
       "  <thead>\n",
       "    <tr style=\"text-align: right;\">\n",
       "      <th></th>\n",
       "      <th>Balance V/D</th>\n",
       "    </tr>\n",
       "    <tr>\n",
       "      <th>date</th>\n",
       "      <th></th>\n",
       "    </tr>\n",
       "  </thead>\n",
       "  <tbody>\n",
       "    <tr>\n",
       "      <th>2012-11-05</th>\n",
       "      <td>0</td>\n",
       "    </tr>\n",
       "    <tr>\n",
       "      <th>2012-11-05</th>\n",
       "      <td>0</td>\n",
       "    </tr>\n",
       "    <tr>\n",
       "      <th>2012-11-05</th>\n",
       "      <td>0</td>\n",
       "    </tr>\n",
       "    <tr>\n",
       "      <th>2012-10-29</th>\n",
       "      <td>0</td>\n",
       "    </tr>\n",
       "    <tr>\n",
       "      <th>2012-10-29</th>\n",
       "      <td>1</td>\n",
       "    </tr>\n",
       "    <tr>\n",
       "      <th>...</th>\n",
       "      <td>...</td>\n",
       "    </tr>\n",
       "    <tr>\n",
       "      <th>2011-01-17</th>\n",
       "      <td>1</td>\n",
       "    </tr>\n",
       "    <tr>\n",
       "      <th>2011-01-03</th>\n",
       "      <td>0</td>\n",
       "    </tr>\n",
       "    <tr>\n",
       "      <th>2011-01-03</th>\n",
       "      <td>1</td>\n",
       "    </tr>\n",
       "    <tr>\n",
       "      <th>2011-01-03</th>\n",
       "      <td>1</td>\n",
       "    </tr>\n",
       "    <tr>\n",
       "      <th>2011-01-03</th>\n",
       "      <td>1</td>\n",
       "    </tr>\n",
       "  </tbody>\n",
       "</table>\n",
       "<p>163 rows × 1 columns</p>\n",
       "</div>"
      ],
      "text/plain": [
       "            Balance V/D\n",
       "date                   \n",
       "2012-11-05            0\n",
       "2012-11-05            0\n",
       "2012-11-05            0\n",
       "2012-10-29            0\n",
       "2012-10-29            1\n",
       "...                 ...\n",
       "2011-01-17            1\n",
       "2011-01-03            0\n",
       "2011-01-03            1\n",
       "2011-01-03            1\n",
       "2011-01-03            1\n",
       "\n",
       "[163 rows x 1 columns]"
      ]
     },
     "execution_count": 862,
     "metadata": {},
     "output_type": "execute_result"
    }
   ],
   "source": [
    "tdf_ts"
   ]
  },
  {
   "cell_type": "code",
   "execution_count": null,
   "metadata": {},
   "outputs": [],
   "source": [
    "# Agrupar Dias en meses y sumar los valores de Balance V/D"
   ]
  },
  {
   "cell_type": "code",
   "execution_count": 654,
   "metadata": {},
   "outputs": [
    {
     "data": {
      "text/plain": [
       "<AxesSubplot:xlabel='date'>"
      ]
     },
     "execution_count": 654,
     "metadata": {},
     "output_type": "execute_result"
    },
    {
     "data": {
      "image/png": "[encoded data removed]",
      "text/plain": [
       "<Figure size 864x576 with 1 Axes>"
      ]
     },
     "metadata": {
      "needs_background": "light"
     },
     "output_type": "display_data"
    }
   ],
   "source": [
    "tdf_ts['Balance V/D'].plot()"
   ]
  },
  {
   "cell_type": "code",
   "execution_count": 655,
   "metadata": {},
   "outputs": [
    {
     "data": {
      "text/plain": [
       "<AxesSubplot:xlabel='date'>"
      ]
     },
     "execution_count": 655,
     "metadata": {},
     "output_type": "execute_result"
    },
    {
     "data": {
      "image/png": "[encoded data removed]",
      "text/plain": [
       "<Figure size 864x576 with 1 Axes>"
      ]
     },
     "metadata": {
      "needs_background": "light"
     },
     "output_type": "display_data"
    }
   ],
   "source": [
    "tdf_ts.rolling(12).sum().plot()\n",
    "# Mobile average(tendencia)"
   ]
  },
  {
   "cell_type": "code",
   "execution_count": 633,
   "metadata": {},
   "outputs": [],
   "source": [
    "# Evaluamos si es una serie estacionaria"
   ]
  },
  {
   "cell_type": "code",
   "execution_count": 656,
   "metadata": {
    "scrolled": true
   },
   "outputs": [
    {
     "data": {
      "text/plain": [
       "(-14.535250993186427,\n",
       " 5.251956277285607e-27,\n",
       " 0,\n",
       " 162,\n",
       " {'1%': -3.471374345647024,\n",
       "  '5%': -2.8795521079291966,\n",
       "  '10%': -2.5763733302850174},\n",
       " 180.6514300375658)"
      ]
     },
     "execution_count": 656,
     "metadata": {},
     "output_type": "execute_result"
    }
   ],
   "source": [
    "adfuller(tdf_ts)\n",
    "# Señal estaconaria\n",
    "# Rechazamos HO, se trata de una serie temporal estacionaria\n",
    "#5.251956277285607e-27 < 0.05"
   ]
  },
  {
   "cell_type": "code",
   "execution_count": 646,
   "metadata": {
    "scrolled": true
   },
   "outputs": [
    {
     "ename": "ValueError",
     "evalue": "The given frequency argument is incompatible with the given index.",
     "output_type": "error",
     "traceback": [
      "\u001b[1;31m---------------------------------------------------------------------------\u001b[0m",
      "\u001b[1;31mValueError\u001b[0m                                Traceback (most recent call last)",
      "\u001b[1;32m<ipython-input-646-61ce5f2233a6>\u001b[0m in \u001b[0;36m<module>\u001b[1;34m\u001b[0m\n\u001b[0;32m      1\u001b[0m \u001b[0mparams\u001b[0m\u001b[1;33m=\u001b[0m\u001b[1;33m(\u001b[0m\u001b[1;36m2\u001b[0m\u001b[1;33m,\u001b[0m\u001b[1;36m1\u001b[0m\u001b[1;33m,\u001b[0m\u001b[1;36m2\u001b[0m\u001b[1;33m)\u001b[0m\u001b[1;33m\u001b[0m\u001b[1;33m\u001b[0m\u001b[0m\n\u001b[0;32m      2\u001b[0m \u001b[0msparams\u001b[0m\u001b[1;33m=\u001b[0m\u001b[1;33m(\u001b[0m\u001b[1;36m2\u001b[0m\u001b[1;33m,\u001b[0m\u001b[1;36m1\u001b[0m\u001b[1;33m,\u001b[0m\u001b[1;36m2\u001b[0m\u001b[1;33m,\u001b[0m\u001b[1;36m12\u001b[0m\u001b[1;33m)\u001b[0m\u001b[1;33m\u001b[0m\u001b[1;33m\u001b[0m\u001b[0m\n\u001b[1;32m----> 3\u001b[1;33m \u001b[0mmodel\u001b[0m\u001b[1;33m=\u001b[0m\u001b[0mSARIMAX\u001b[0m\u001b[1;33m(\u001b[0m\u001b[0mtdf_ts\u001b[0m\u001b[1;33m,\u001b[0m\u001b[0morder\u001b[0m\u001b[1;33m=\u001b[0m\u001b[0mparams\u001b[0m\u001b[1;33m,\u001b[0m\u001b[0mseasonal_order\u001b[0m\u001b[1;33m=\u001b[0m\u001b[0msparams\u001b[0m\u001b[1;33m,\u001b[0m\u001b[0menforce_stationarity\u001b[0m\u001b[1;33m=\u001b[0m\u001b[1;32mTrue\u001b[0m\u001b[1;33m,\u001b[0m\u001b[0mfreq\u001b[0m\u001b[1;33m=\u001b[0m\u001b[1;34m'MS'\u001b[0m\u001b[1;33m)\u001b[0m\u001b[1;33m\u001b[0m\u001b[1;33m\u001b[0m\u001b[0m\n\u001b[0m",
      "\u001b[1;32m~\\anaconda\\lib\\site-packages\\statsmodels\\tsa\\statespace\\sarimax.py\u001b[0m in \u001b[0;36m__init__\u001b[1;34m(self, endog, exog, order, seasonal_order, trend, measurement_error, time_varying_regression, mle_regression, simple_differencing, enforce_stationarity, enforce_invertibility, hamilton_representation, concentrate_scale, trend_offset, use_exact_diffuse, dates, freq, missing, validate_specification, **kwargs)\u001b[0m\n\u001b[0;32m    326\u001b[0m                  **kwargs):\n\u001b[0;32m    327\u001b[0m \u001b[1;33m\u001b[0m\u001b[0m\n\u001b[1;32m--> 328\u001b[1;33m         self._spec = SARIMAXSpecification(\n\u001b[0m\u001b[0;32m    329\u001b[0m             \u001b[0mendog\u001b[0m\u001b[1;33m,\u001b[0m \u001b[0mexog\u001b[0m\u001b[1;33m=\u001b[0m\u001b[0mexog\u001b[0m\u001b[1;33m,\u001b[0m \u001b[0morder\u001b[0m\u001b[1;33m=\u001b[0m\u001b[0morder\u001b[0m\u001b[1;33m,\u001b[0m \u001b[0mseasonal_order\u001b[0m\u001b[1;33m=\u001b[0m\u001b[0mseasonal_order\u001b[0m\u001b[1;33m,\u001b[0m\u001b[1;33m\u001b[0m\u001b[1;33m\u001b[0m\u001b[0m\n\u001b[0;32m    330\u001b[0m             \u001b[0mtrend\u001b[0m\u001b[1;33m=\u001b[0m\u001b[0mtrend\u001b[0m\u001b[1;33m,\u001b[0m \u001b[0menforce_stationarity\u001b[0m\u001b[1;33m=\u001b[0m\u001b[1;32mNone\u001b[0m\u001b[1;33m,\u001b[0m \u001b[0menforce_invertibility\u001b[0m\u001b[1;33m=\u001b[0m\u001b[1;32mNone\u001b[0m\u001b[1;33m,\u001b[0m\u001b[1;33m\u001b[0m\u001b[1;33m\u001b[0m\u001b[0m\n",
      "\u001b[1;32m~\\anaconda\\lib\\site-packages\\statsmodels\\tsa\\arima\\specification.py\u001b[0m in \u001b[0;36m__init__\u001b[1;34m(self, endog, exog, order, seasonal_order, ar_order, diff, ma_order, seasonal_ar_order, seasonal_diff, seasonal_ma_order, seasonal_periods, trend, enforce_stationarity, enforce_invertibility, concentrate_scale, trend_offset, dates, freq, missing, validate_specification)\u001b[0m\n\u001b[0;32m    444\u001b[0m         \u001b[1;31m# especially validating shapes, retrieving names, and potentially\u001b[0m\u001b[1;33m\u001b[0m\u001b[1;33m\u001b[0m\u001b[1;33m\u001b[0m\u001b[0m\n\u001b[0;32m    445\u001b[0m         \u001b[1;31m# providing us with a time series index\u001b[0m\u001b[1;33m\u001b[0m\u001b[1;33m\u001b[0m\u001b[1;33m\u001b[0m\u001b[0m\n\u001b[1;32m--> 446\u001b[1;33m         self._model = TimeSeriesModel(endog, exog=exog, dates=dates, freq=freq,\n\u001b[0m\u001b[0;32m    447\u001b[0m                                       missing=missing)\n\u001b[0;32m    448\u001b[0m         \u001b[0mself\u001b[0m\u001b[1;33m.\u001b[0m\u001b[0mendog\u001b[0m \u001b[1;33m=\u001b[0m \u001b[1;32mNone\u001b[0m \u001b[1;32mif\u001b[0m \u001b[0mfaux_endog\u001b[0m \u001b[1;32melse\u001b[0m \u001b[0mself\u001b[0m\u001b[1;33m.\u001b[0m\u001b[0m_model\u001b[0m\u001b[1;33m.\u001b[0m\u001b[0mendog\u001b[0m\u001b[1;33m\u001b[0m\u001b[1;33m\u001b[0m\u001b[0m\n",
      "\u001b[1;32m~\\anaconda\\lib\\site-packages\\statsmodels\\tsa\\base\\tsa_model.py\u001b[0m in \u001b[0;36m__init__\u001b[1;34m(self, endog, exog, dates, freq, missing, **kwargs)\u001b[0m\n\u001b[0;32m    413\u001b[0m \u001b[1;33m\u001b[0m\u001b[0m\n\u001b[0;32m    414\u001b[0m         \u001b[1;31m# Date handling in indexes\u001b[0m\u001b[1;33m\u001b[0m\u001b[1;33m\u001b[0m\u001b[1;33m\u001b[0m\u001b[0m\n\u001b[1;32m--> 415\u001b[1;33m         \u001b[0mself\u001b[0m\u001b[1;33m.\u001b[0m\u001b[0m_init_dates\u001b[0m\u001b[1;33m(\u001b[0m\u001b[0mdates\u001b[0m\u001b[1;33m,\u001b[0m \u001b[0mfreq\u001b[0m\u001b[1;33m)\u001b[0m\u001b[1;33m\u001b[0m\u001b[1;33m\u001b[0m\u001b[0m\n\u001b[0m\u001b[0;32m    416\u001b[0m \u001b[1;33m\u001b[0m\u001b[0m\n\u001b[0;32m    417\u001b[0m     \u001b[1;32mdef\u001b[0m \u001b[0m_init_dates\u001b[0m\u001b[1;33m(\u001b[0m\u001b[0mself\u001b[0m\u001b[1;33m,\u001b[0m \u001b[0mdates\u001b[0m\u001b[1;33m=\u001b[0m\u001b[1;32mNone\u001b[0m\u001b[1;33m,\u001b[0m \u001b[0mfreq\u001b[0m\u001b[1;33m=\u001b[0m\u001b[1;32mNone\u001b[0m\u001b[1;33m)\u001b[0m\u001b[1;33m:\u001b[0m\u001b[1;33m\u001b[0m\u001b[1;33m\u001b[0m\u001b[0m\n",
      "\u001b[1;32m~\\anaconda\\lib\\site-packages\\statsmodels\\tsa\\base\\tsa_model.py\u001b[0m in \u001b[0;36m_init_dates\u001b[1;34m(self, dates, freq)\u001b[0m\n\u001b[0;32m    555\u001b[0m                 elif (freq is not None and not inferred_freq and\n\u001b[0;32m    556\u001b[0m                         not (index.freq == freq)):\n\u001b[1;32m--> 557\u001b[1;33m                     raise ValueError('The given frequency argument is'\n\u001b[0m\u001b[0;32m    558\u001b[0m                                      ' incompatible with the given index.')\n\u001b[0;32m    559\u001b[0m             \u001b[1;31m# Finally, raise an exception if we could not coerce to date-based\u001b[0m\u001b[1;33m\u001b[0m\u001b[1;33m\u001b[0m\u001b[1;33m\u001b[0m\u001b[0m\n",
      "\u001b[1;31mValueError\u001b[0m: The given frequency argument is incompatible with the given index."
     ]
    }
   ],
   "source": [
    "params=(2,1,2)\n",
    "sparams=(2,1,2,12)\n",
    "model=SARIMAX(tdf_ts,order=params,seasonal_order=sparams,enforce_stationarity=True,freq='MS')"
   ]
  },
  {
   "cell_type": "code",
   "execution_count": 833,
   "metadata": {},
   "outputs": [
    {
     "name": "stdout",
     "output_type": "stream",
     "text": [
      "Help on class SARIMAX in module statsmodels.tsa.statespace.sarimax:\n",
      "\n",
      "class SARIMAX(statsmodels.tsa.statespace.mlemodel.MLEModel)\n",
      " |  SARIMAX(endog, exog=None, order=(1, 0, 0), seasonal_order=(0, 0, 0, 0), trend=None, measurement_error=False, time_varying_regression=False, mle_regression=True, simple_differencing=False, enforce_stationarity=True, enforce_invertibility=True, hamilton_representation=False, concentrate_scale=False, trend_offset=1, use_exact_diffuse=False, dates=None, freq=None, missing='none', validate_specification=True, **kwargs)\n",
      " |  \n",
      " |  Seasonal AutoRegressive Integrated Moving Average with eXogenous regressors\n",
      " |  model\n",
      " |  \n",
      " |  Parameters\n",
      " |  ----------\n",
      " |  endog : array_like\n",
      " |      The observed time-series process :math:`y`\n",
      " |  exog : array_like, optional\n",
      " |      Array of exogenous regressors, shaped nobs x k.\n",
      " |  order : iterable or iterable of iterables, optional\n",
      " |      The (p,d,q) order of the model for the number of AR parameters,\n",
      " |      differences, and MA parameters. `d` must be an integer\n",
      " |      indicating the integration order of the process, while\n",
      " |      `p` and `q` may either be an integers indicating the AR and MA\n",
      " |      orders (so that all lags up to those orders are included) or else\n",
      " |      iterables giving specific AR and / or MA lags to include. Default is\n",
      " |      an AR(1) model: (1,0,0).\n",
      " |  seasonal_order : iterable, optional\n",
      " |      The (P,D,Q,s) order of the seasonal component of the model for the\n",
      " |      AR parameters, differences, MA parameters, and periodicity.\n",
      " |      `D` must be an integer indicating the integration order of the process,\n",
      " |      while `P` and `Q` may either be an integers indicating the AR and MA\n",
      " |      orders (so that all lags up to those orders are included) or else\n",
      " |      iterables giving specific AR and / or MA lags to include. `s` is an\n",
      " |      integer giving the periodicity (number of periods in season), often it\n",
      " |      is 4 for quarterly data or 12 for monthly data. Default is no seasonal\n",
      " |      effect.\n",
      " |  trend : str{'n','c','t','ct'} or iterable, optional\n",
      " |      Parameter controlling the deterministic trend polynomial :math:`A(t)`.\n",
      " |      Can be specified as a string where 'c' indicates a constant (i.e. a\n",
      " |      degree zero component of the trend polynomial), 't' indicates a\n",
      " |      linear trend with time, and 'ct' is both. Can also be specified as an\n",
      " |      iterable defining the non-zero polynomial exponents to include, in\n",
      " |      increasing order. For example, `[1,1,0,1]` denotes\n",
      " |      :math:`a + bt + ct^3`. Default is to not include a trend component.\n",
      " |  measurement_error : bool, optional\n",
      " |      Whether or not to assume the endogenous observations `endog` were\n",
      " |      measured with error. Default is False.\n",
      " |  time_varying_regression : bool, optional\n",
      " |      Used when an explanatory variables, `exog`, are provided provided\n",
      " |      to select whether or not coefficients on the exogenous regressors are\n",
      " |      allowed to vary over time. Default is False.\n",
      " |  mle_regression : bool, optional\n",
      " |      Whether or not to use estimate the regression coefficients for the\n",
      " |      exogenous variables as part of maximum likelihood estimation or through\n",
      " |      the Kalman filter (i.e. recursive least squares). If\n",
      " |      `time_varying_regression` is True, this must be set to False. Default\n",
      " |      is True.\n",
      " |  simple_differencing : bool, optional\n",
      " |      Whether or not to use partially conditional maximum likelihood\n",
      " |      estimation. If True, differencing is performed prior to estimation,\n",
      " |      which discards the first :math:`s D + d` initial rows but results in a\n",
      " |      smaller state-space formulation. See the Notes section for important\n",
      " |      details about interpreting results when this option is used. If False,\n",
      " |      the full SARIMAX model is put in state-space form so that all\n",
      " |      datapoints can be used in estimation. Default is False.\n",
      " |  enforce_stationarity : bool, optional\n",
      " |      Whether or not to transform the AR parameters to enforce stationarity\n",
      " |      in the autoregressive component of the model. Default is True.\n",
      " |  enforce_invertibility : bool, optional\n",
      " |      Whether or not to transform the MA parameters to enforce invertibility\n",
      " |      in the moving average component of the model. Default is True.\n",
      " |  hamilton_representation : bool, optional\n",
      " |      Whether or not to use the Hamilton representation of an ARMA process\n",
      " |      (if True) or the Harvey representation (if False). Default is False.\n",
      " |  concentrate_scale : bool, optional\n",
      " |      Whether or not to concentrate the scale (variance of the error term)\n",
      " |      out of the likelihood. This reduces the number of parameters estimated\n",
      " |      by maximum likelihood by one, but standard errors will then not\n",
      " |      be available for the scale parameter.\n",
      " |  trend_offset : int, optional\n",
      " |      The offset at which to start time trend values. Default is 1, so that\n",
      " |      if `trend='t'` the trend is equal to 1, 2, ..., nobs. Typically is only\n",
      " |      set when the model created by extending a previous dataset.\n",
      " |  use_exact_diffuse : bool, optional\n",
      " |      Whether or not to use exact diffuse initialization for non-stationary\n",
      " |      states. Default is False (in which case approximate diffuse\n",
      " |      initialization is used).\n",
      " |  **kwargs\n",
      " |      Keyword arguments may be used to provide default values for state space\n",
      " |      matrices or for Kalman filtering options. See `Representation`, and\n",
      " |      `KalmanFilter` for more details.\n",
      " |  \n",
      " |  Attributes\n",
      " |  ----------\n",
      " |  measurement_error : bool\n",
      " |      Whether or not to assume the endogenous\n",
      " |      observations `endog` were measured with error.\n",
      " |  state_error : bool\n",
      " |      Whether or not the transition equation has an error component.\n",
      " |  mle_regression : bool\n",
      " |      Whether or not the regression coefficients for\n",
      " |      the exogenous variables were estimated via maximum\n",
      " |      likelihood estimation.\n",
      " |  state_regression : bool\n",
      " |      Whether or not the regression coefficients for\n",
      " |      the exogenous variables are included as elements\n",
      " |      of the state space and estimated via the Kalman\n",
      " |      filter.\n",
      " |  time_varying_regression : bool\n",
      " |      Whether or not coefficients on the exogenous\n",
      " |      regressors are allowed to vary over time.\n",
      " |  simple_differencing : bool\n",
      " |      Whether or not to use partially conditional maximum likelihood\n",
      " |      estimation.\n",
      " |  enforce_stationarity : bool\n",
      " |      Whether or not to transform the AR parameters\n",
      " |      to enforce stationarity in the autoregressive\n",
      " |      component of the model.\n",
      " |  enforce_invertibility : bool\n",
      " |      Whether or not to transform the MA parameters\n",
      " |      to enforce invertibility in the moving average\n",
      " |      component of the model.\n",
      " |  hamilton_representation : bool\n",
      " |      Whether or not to use the Hamilton representation of an ARMA process.\n",
      " |  trend : str{'n','c','t','ct'} or iterable\n",
      " |      Parameter controlling the deterministic\n",
      " |      trend polynomial :math:`A(t)`. See the class\n",
      " |      parameter documentation for more information.\n",
      " |  polynomial_ar : ndarray\n",
      " |      Array containing autoregressive lag polynomial lags, ordered from\n",
      " |      lowest degree to highest. The polynomial begins with lag 0.\n",
      " |      Initialized with ones, unless a coefficient is constrained to be\n",
      " |      zero (in which case it is zero).\n",
      " |  polynomial_ma : ndarray\n",
      " |      Array containing moving average lag polynomial lags, ordered from\n",
      " |      lowest degree to highest. Initialized with ones, unless a coefficient\n",
      " |      is constrained to be zero (in which case it is zero).\n",
      " |  polynomial_seasonal_ar : ndarray\n",
      " |      Array containing seasonal moving average lag\n",
      " |      polynomial lags, ordered from lowest degree\n",
      " |      to highest. Initialized with ones, unless a\n",
      " |      coefficient is constrained to be zero (in which\n",
      " |      case it is zero).\n",
      " |  polynomial_seasonal_ma : ndarray\n",
      " |      Array containing seasonal moving average lag\n",
      " |      polynomial lags, ordered from lowest degree\n",
      " |      to highest. Initialized with ones, unless a\n",
      " |      coefficient is constrained to be zero (in which\n",
      " |      case it is zero).\n",
      " |  polynomial_trend : ndarray\n",
      " |      Array containing trend polynomial coefficients,\n",
      " |      ordered from lowest degree to highest. Initialized\n",
      " |      with ones, unless a coefficient is constrained to be\n",
      " |      zero (in which case it is zero).\n",
      " |  k_ar : int\n",
      " |      Highest autoregressive order in the model, zero-indexed.\n",
      " |  k_ar_params : int\n",
      " |      Number of autoregressive parameters to be estimated.\n",
      " |  k_diff : int\n",
      " |      Order of integration.\n",
      " |  k_ma : int\n",
      " |      Highest moving average order in the model, zero-indexed.\n",
      " |  k_ma_params : int\n",
      " |      Number of moving average parameters to be estimated.\n",
      " |  seasonal_periods : int\n",
      " |      Number of periods in a season.\n",
      " |  k_seasonal_ar : int\n",
      " |      Highest seasonal autoregressive order in the model, zero-indexed.\n",
      " |  k_seasonal_ar_params : int\n",
      " |      Number of seasonal autoregressive parameters to be estimated.\n",
      " |  k_seasonal_diff : int\n",
      " |      Order of seasonal integration.\n",
      " |  k_seasonal_ma : int\n",
      " |      Highest seasonal moving average order in the model, zero-indexed.\n",
      " |  k_seasonal_ma_params : int\n",
      " |      Number of seasonal moving average parameters to be estimated.\n",
      " |  k_trend : int\n",
      " |      Order of the trend polynomial plus one (i.e. the constant polynomial\n",
      " |      would have `k_trend=1`).\n",
      " |  k_exog : int\n",
      " |      Number of exogenous regressors.\n",
      " |  \n",
      " |  Notes\n",
      " |  -----\n",
      " |  The SARIMA model is specified :math:`(p, d, q) \\times (P, D, Q)_s`.\n",
      " |  \n",
      " |  .. math::\n",
      " |  \n",
      " |      \\phi_p (L) \\tilde \\phi_P (L^s) \\Delta^d \\Delta_s^D y_t = A(t) +\n",
      " |          \\theta_q (L) \\tilde \\theta_Q (L^s) \\zeta_t\n",
      " |  \n",
      " |  In terms of a univariate structural model, this can be represented as\n",
      " |  \n",
      " |  .. math::\n",
      " |  \n",
      " |      y_t & = u_t + \\eta_t \\\\\n",
      " |      \\phi_p (L) \\tilde \\phi_P (L^s) \\Delta^d \\Delta_s^D u_t & = A(t) +\n",
      " |          \\theta_q (L) \\tilde \\theta_Q (L^s) \\zeta_t\n",
      " |  \n",
      " |  where :math:`\\eta_t` is only applicable in the case of measurement error\n",
      " |  (although it is also used in the case of a pure regression model, i.e. if\n",
      " |  p=q=0).\n",
      " |  \n",
      " |  In terms of this model, regression with SARIMA errors can be represented\n",
      " |  easily as\n",
      " |  \n",
      " |  .. math::\n",
      " |  \n",
      " |      y_t & = \\beta_t x_t + u_t \\\\\n",
      " |      \\phi_p (L) \\tilde \\phi_P (L^s) \\Delta^d \\Delta_s^D u_t & = A(t) +\n",
      " |          \\theta_q (L) \\tilde \\theta_Q (L^s) \\zeta_t\n",
      " |  \n",
      " |  this model is the one used when exogenous regressors are provided.\n",
      " |  \n",
      " |  Note that the reduced form lag polynomials will be written as:\n",
      " |  \n",
      " |  .. math::\n",
      " |  \n",
      " |      \\Phi (L) \\equiv \\phi_p (L) \\tilde \\phi_P (L^s) \\\\\n",
      " |      \\Theta (L) \\equiv \\theta_q (L) \\tilde \\theta_Q (L^s)\n",
      " |  \n",
      " |  If `mle_regression` is True, regression coefficients are treated as\n",
      " |  additional parameters to be estimated via maximum likelihood. Otherwise\n",
      " |  they are included as part of the state with a diffuse initialization.\n",
      " |  In this case, however, with approximate diffuse initialization, results\n",
      " |  can be sensitive to the initial variance.\n",
      " |  \n",
      " |  This class allows two different underlying representations of ARMA models\n",
      " |  as state space models: that of Hamilton and that of Harvey. Both are\n",
      " |  equivalent in the sense that they are analytical representations of the\n",
      " |  ARMA model, but the state vectors of each have different meanings. For\n",
      " |  this reason, maximum likelihood does not result in identical parameter\n",
      " |  estimates and even the same set of parameters will result in different\n",
      " |  loglikelihoods.\n",
      " |  \n",
      " |  The Harvey representation is convenient because it allows integrating\n",
      " |  differencing into the state vector to allow using all observations for\n",
      " |  estimation.\n",
      " |  \n",
      " |  In this implementation of differenced models, the Hamilton representation\n",
      " |  is not able to accommodate differencing in the state vector, so\n",
      " |  `simple_differencing` (which performs differencing prior to estimation so\n",
      " |  that the first d + sD observations are lost) must be used.\n",
      " |  \n",
      " |  Many other packages use the Hamilton representation, so that tests against\n",
      " |  Stata and R require using it along with simple differencing (as Stata\n",
      " |  does).\n",
      " |  \n",
      " |  If `filter_concentrated = True` is used, then the scale of the model is\n",
      " |  concentrated out of the likelihood. A benefit of this is that there the\n",
      " |  dimension of the parameter vector is reduced so that numerical maximization\n",
      " |  of the log-likelihood function may be faster and more stable. If this\n",
      " |  option in a model with measurement error, it is important to note that the\n",
      " |  estimated measurement error parameter will be relative to the scale, and\n",
      " |  is named \"snr.measurement_error\" instead of \"var.measurement_error\". To\n",
      " |  compute the variance of the measurement error in this case one would\n",
      " |  multiply `snr.measurement_error` parameter by the scale.\n",
      " |  \n",
      " |  If `simple_differencing = True` is used, then the `endog` and `exog` data\n",
      " |  are differenced prior to putting the model in state-space form. This has\n",
      " |  the same effect as if the user differenced the data prior to constructing\n",
      " |  the model, which has implications for using the results:\n",
      " |  \n",
      " |  - Forecasts and predictions will be about the *differenced* data, not about\n",
      " |    the original data. (while if `simple_differencing = False` is used, then\n",
      " |    forecasts and predictions will be about the original data).\n",
      " |  - If the original data has an Int64Index, a new RangeIndex will be created\n",
      " |    for the differenced data that starts from one, and forecasts and\n",
      " |    predictions will use this new index.\n",
      " |  \n",
      " |  Detailed information about state space models can be found in [1]_. Some\n",
      " |  specific references are:\n",
      " |  \n",
      " |  - Chapter 3.4 describes ARMA and ARIMA models in state space form (using\n",
      " |    the Harvey representation), and gives references for basic seasonal\n",
      " |    models and models with a multiplicative form (for example the airline\n",
      " |    model). It also shows a state space model for a full ARIMA process (this\n",
      " |    is what is done here if `simple_differencing=False`).\n",
      " |  - Chapter 3.6 describes estimating regression effects via the Kalman filter\n",
      " |    (this is performed if `mle_regression` is False), regression with\n",
      " |    time-varying coefficients, and regression with ARMA errors (recall from\n",
      " |    above that if regression effects are present, the model estimated by this\n",
      " |    class is regression with SARIMA errors).\n",
      " |  - Chapter 8.4 describes the application of an ARMA model to an example\n",
      " |    dataset. A replication of this section is available in an example\n",
      " |    IPython notebook in the documentation.\n",
      " |  \n",
      " |  References\n",
      " |  ----------\n",
      " |  .. [1] Durbin, James, and Siem Jan Koopman. 2012.\n",
      " |     Time Series Analysis by State Space Methods: Second Edition.\n",
      " |     Oxford University Press.\n",
      " |  \n",
      " |  Method resolution order:\n",
      " |      SARIMAX\n",
      " |      statsmodels.tsa.statespace.mlemodel.MLEModel\n",
      " |      statsmodels.tsa.base.tsa_model.TimeSeriesModel\n",
      " |      statsmodels.base.model.LikelihoodModel\n",
      " |      statsmodels.base.model.Model\n",
      " |      builtins.object\n",
      " |  \n",
      " |  Methods defined here:\n",
      " |  \n",
      " |  __init__(self, endog, exog=None, order=(1, 0, 0), seasonal_order=(0, 0, 0, 0), trend=None, measurement_error=False, time_varying_regression=False, mle_regression=True, simple_differencing=False, enforce_stationarity=True, enforce_invertibility=True, hamilton_representation=False, concentrate_scale=False, trend_offset=1, use_exact_diffuse=False, dates=None, freq=None, missing='none', validate_specification=True, **kwargs)\n",
      " |      Initialize self.  See help(type(self)) for accurate signature.\n",
      " |  \n",
      " |  clone(self, endog, exog=None, **kwargs)\n",
      " |      Clone state space model with new data and optionally new specification\n",
      " |      \n",
      " |      Parameters\n",
      " |      ----------\n",
      " |      endog : array_like\n",
      " |          The observed time-series process :math:`y`\n",
      " |      k_states : int\n",
      " |          The dimension of the unobserved state process.\n",
      " |      exog : array_like, optional\n",
      " |          Array of exogenous regressors, shaped nobs x k. Default is no\n",
      " |          exogenous regressors.\n",
      " |      kwargs\n",
      " |          Keyword arguments to pass to the new model class to change the\n",
      " |          model specification.\n",
      " |      \n",
      " |      Returns\n",
      " |      -------\n",
      " |      model : MLEModel subclass\n",
      " |      \n",
      " |      Notes\n",
      " |      -----\n",
      " |      This method must be implemented\n",
      " |  \n",
      " |  initialize(self)\n",
      " |      Initialize the SARIMAX model.\n",
      " |      \n",
      " |      Notes\n",
      " |      -----\n",
      " |      These initialization steps must occur following the parent class\n",
      " |      __init__ function calls.\n",
      " |  \n",
      " |  initialize_default(self, approximate_diffuse_variance=None)\n",
      " |      Initialize default\n",
      " |  \n",
      " |  prepare_data(self)\n",
      " |      Prepare data for use in the state space representation\n",
      " |  \n",
      " |  transform_params(self, unconstrained)\n",
      " |      Transform unconstrained parameters used by the optimizer to constrained\n",
      " |      parameters used in likelihood evaluation.\n",
      " |      \n",
      " |      Used primarily to enforce stationarity of the autoregressive lag\n",
      " |      polynomial, invertibility of the moving average lag polynomial, and\n",
      " |      positive variance parameters.\n",
      " |      \n",
      " |      Parameters\n",
      " |      ----------\n",
      " |      unconstrained : array_like\n",
      " |          Unconstrained parameters used by the optimizer.\n",
      " |      \n",
      " |      Returns\n",
      " |      -------\n",
      " |      constrained : array_like\n",
      " |          Constrained parameters used in likelihood evaluation.\n",
      " |      \n",
      " |      Notes\n",
      " |      -----\n",
      " |      If the lag polynomial has non-consecutive powers (so that the\n",
      " |      coefficient is zero on some element of the polynomial), then the\n",
      " |      constraint function is not onto the entire space of invertible\n",
      " |      polynomials, although it only excludes a very small portion very close\n",
      " |      to the invertibility boundary.\n",
      " |  \n",
      " |  untransform_params(self, constrained)\n",
      " |      Transform constrained parameters used in likelihood evaluation\n",
      " |      to unconstrained parameters used by the optimizer\n",
      " |      \n",
      " |      Used primarily to reverse enforcement of stationarity of the\n",
      " |      autoregressive lag polynomial and invertibility of the moving average\n",
      " |      lag polynomial.\n",
      " |      \n",
      " |      Parameters\n",
      " |      ----------\n",
      " |      constrained : array_like\n",
      " |          Constrained parameters used in likelihood evaluation.\n",
      " |      \n",
      " |      Returns\n",
      " |      -------\n",
      " |      constrained : array_like\n",
      " |          Unconstrained parameters used by the optimizer.\n",
      " |      \n",
      " |      Notes\n",
      " |      -----\n",
      " |      If the lag polynomial has non-consecutive powers (so that the\n",
      " |      coefficient is zero on some element of the polynomial), then the\n",
      " |      constraint function is not onto the entire space of invertible\n",
      " |      polynomials, although it only excludes a very small portion very close\n",
      " |      to the invertibility boundary.\n",
      " |  \n",
      " |  update(self, params, transformed=True, includes_fixed=False, complex_step=False)\n",
      " |      Update the parameters of the model\n",
      " |      \n",
      " |      Updates the representation matrices to fill in the new parameter\n",
      " |      values.\n",
      " |      \n",
      " |      Parameters\n",
      " |      ----------\n",
      " |      params : array_like\n",
      " |          Array of new parameters.\n",
      " |      transformed : bool, optional\n",
      " |          Whether or not `params` is already transformed. If set to False,\n",
      " |          `transform_params` is called. Default is True..\n",
      " |      \n",
      " |      Returns\n",
      " |      -------\n",
      " |      params : array_like\n",
      " |          Array of parameters.\n",
      " |  \n",
      " |  ----------------------------------------------------------------------\n",
      " |  Readonly properties defined here:\n",
      " |  \n",
      " |  endog_names\n",
      " |      Names of endogenous variables\n",
      " |  \n",
      " |  initial_design\n",
      " |      Initial design matrix\n",
      " |  \n",
      " |  initial_selection\n",
      " |      Initial selection matrix\n",
      " |  \n",
      " |  initial_state_intercept\n",
      " |      Initial state intercept vector\n",
      " |  \n",
      " |  initial_transition\n",
      " |      Initial transition matrix\n",
      " |  \n",
      " |  model_latex_names\n",
      " |      The latex names of all possible model parameters.\n",
      " |  \n",
      " |  model_names\n",
      " |      The plain text names of all possible model parameters.\n",
      " |  \n",
      " |  model_orders\n",
      " |      The orders of each of the polynomials in the model.\n",
      " |  \n",
      " |  param_names\n",
      " |      List of human readable parameter names (for parameters actually\n",
      " |      included in the model).\n",
      " |  \n",
      " |  param_terms\n",
      " |      List of parameters actually included in the model, in sorted order.\n",
      " |      \n",
      " |      TODO Make this an dict with slice or indices as the values.\n",
      " |  \n",
      " |  start_params\n",
      " |      Starting parameters for maximum likelihood estimation\n",
      " |  \n",
      " |  state_names\n",
      " |      (list of str) List of human readable names for unobserved states.\n",
      " |  \n",
      " |  ----------------------------------------------------------------------\n",
      " |  Data and other attributes defined here:\n",
      " |  \n",
      " |  params_complete = ['trend', 'exog', 'ar', 'ma', 'seasonal_ar', 'season...\n",
      " |  \n",
      " |  ----------------------------------------------------------------------\n",
      " |  Methods inherited from statsmodels.tsa.statespace.mlemodel.MLEModel:\n",
      " |  \n",
      " |  __getitem__(self, key)\n",
      " |  \n",
      " |  __setitem__(self, key, value)\n",
      " |  \n",
      " |  filter(self, params, transformed=True, includes_fixed=False, complex_step=False, cov_type=None, cov_kwds=None, return_ssm=False, results_class=None, results_wrapper_class=None, low_memory=False, **kwargs)\n",
      " |      Kalman filtering\n",
      " |      \n",
      " |      Parameters\n",
      " |      ----------\n",
      " |      params : array_like\n",
      " |          Array of parameters at which to evaluate the loglikelihood\n",
      " |          function.\n",
      " |      transformed : bool, optional\n",
      " |          Whether or not `params` is already transformed. Default is True.\n",
      " |      return_ssm : bool,optional\n",
      " |          Whether or not to return only the state space output or a full\n",
      " |          results object. Default is to return a full results object.\n",
      " |      cov_type : str, optional\n",
      " |          See `MLEResults.fit` for a description of covariance matrix types\n",
      " |          for results object.\n",
      " |      cov_kwds : dict or None, optional\n",
      " |          See `MLEResults.get_robustcov_results` for a description required\n",
      " |          keywords for alternative covariance estimators\n",
      " |      low_memory : bool, optional\n",
      " |          If set to True, techniques are applied to substantially reduce\n",
      " |          memory usage. If used, some features of the results object will\n",
      " |          not be available (including in-sample prediction), although\n",
      " |          out-of-sample forecasting is possible. Default is False.\n",
      " |      **kwargs\n",
      " |          Additional keyword arguments to pass to the Kalman filter. See\n",
      " |          `KalmanFilter.filter` for more details.\n",
      " |  \n",
      " |  fit(self, start_params=None, transformed=True, includes_fixed=False, cov_type=None, cov_kwds=None, method='lbfgs', maxiter=50, full_output=1, disp=5, callback=None, return_params=False, optim_score=None, optim_complex_step=None, optim_hessian=None, flags=None, low_memory=False, **kwargs)\n",
      " |      Fits the model by maximum likelihood via Kalman filter.\n",
      " |      \n",
      " |      Parameters\n",
      " |      ----------\n",
      " |      start_params : array_like, optional\n",
      " |          Initial guess of the solution for the loglikelihood maximization.\n",
      " |          If None, the default is given by Model.start_params.\n",
      " |      transformed : bool, optional\n",
      " |          Whether or not `start_params` is already transformed. Default is\n",
      " |          True.\n",
      " |      includes_fixed : bool, optional\n",
      " |          If parameters were previously fixed with the `fix_params` method,\n",
      " |          this argument describes whether or not `start_params` also includes\n",
      " |          the fixed parameters, in addition to the free parameters. Default\n",
      " |          is False.\n",
      " |      cov_type : str, optional\n",
      " |          The `cov_type` keyword governs the method for calculating the\n",
      " |          covariance matrix of parameter estimates. Can be one of:\n",
      " |      \n",
      " |          - 'opg' for the outer product of gradient estimator\n",
      " |          - 'oim' for the observed information matrix estimator, calculated\n",
      " |            using the method of Harvey (1989)\n",
      " |          - 'approx' for the observed information matrix estimator,\n",
      " |            calculated using a numerical approximation of the Hessian matrix.\n",
      " |          - 'robust' for an approximate (quasi-maximum likelihood) covariance\n",
      " |            matrix that may be valid even in the presence of some\n",
      " |            misspecifications. Intermediate calculations use the 'oim'\n",
      " |            method.\n",
      " |          - 'robust_approx' is the same as 'robust' except that the\n",
      " |            intermediate calculations use the 'approx' method.\n",
      " |          - 'none' for no covariance matrix calculation.\n",
      " |      \n",
      " |          Default is 'opg' unless memory conservation is used to avoid\n",
      " |          computing the loglikelihood values for each observation, in which\n",
      " |          case the default is 'approx'.\n",
      " |      cov_kwds : dict or None, optional\n",
      " |          A dictionary of arguments affecting covariance matrix computation.\n",
      " |      \n",
      " |          **opg, oim, approx, robust, robust_approx**\n",
      " |      \n",
      " |          - 'approx_complex_step' : bool, optional - If True, numerical\n",
      " |            approximations are computed using complex-step methods. If False,\n",
      " |            numerical approximations are computed using finite difference\n",
      " |            methods. Default is True.\n",
      " |          - 'approx_centered' : bool, optional - If True, numerical\n",
      " |            approximations computed using finite difference methods use a\n",
      " |            centered approximation. Default is False.\n",
      " |      method : str, optional\n",
      " |          The `method` determines which solver from `scipy.optimize`\n",
      " |          is used, and it can be chosen from among the following strings:\n",
      " |      \n",
      " |          - 'newton' for Newton-Raphson\n",
      " |          - 'nm' for Nelder-Mead\n",
      " |          - 'bfgs' for Broyden-Fletcher-Goldfarb-Shanno (BFGS)\n",
      " |          - 'lbfgs' for limited-memory BFGS with optional box constraints\n",
      " |          - 'powell' for modified Powell's method\n",
      " |          - 'cg' for conjugate gradient\n",
      " |          - 'ncg' for Newton-conjugate gradient\n",
      " |          - 'basinhopping' for global basin-hopping solver\n",
      " |      \n",
      " |          The explicit arguments in `fit` are passed to the solver,\n",
      " |          with the exception of the basin-hopping solver. Each\n",
      " |          solver has several optional arguments that are not the same across\n",
      " |          solvers. See the notes section below (or scipy.optimize) for the\n",
      " |          available arguments and for the list of explicit arguments that the\n",
      " |          basin-hopping solver supports.\n",
      " |      maxiter : int, optional\n",
      " |          The maximum number of iterations to perform.\n",
      " |      full_output : bool, optional\n",
      " |          Set to True to have all available output in the Results object's\n",
      " |          mle_retvals attribute. The output is dependent on the solver.\n",
      " |          See LikelihoodModelResults notes section for more information.\n",
      " |      disp : bool, optional\n",
      " |          Set to True to print convergence messages.\n",
      " |      callback : callable callback(xk), optional\n",
      " |          Called after each iteration, as callback(xk), where xk is the\n",
      " |          current parameter vector.\n",
      " |      return_params : bool, optional\n",
      " |          Whether or not to return only the array of maximizing parameters.\n",
      " |          Default is False.\n",
      " |      optim_score : {'harvey', 'approx'} or None, optional\n",
      " |          The method by which the score vector is calculated. 'harvey' uses\n",
      " |          the method from Harvey (1989), 'approx' uses either finite\n",
      " |          difference or complex step differentiation depending upon the\n",
      " |          value of `optim_complex_step`, and None uses the built-in gradient\n",
      " |          approximation of the optimizer. Default is None. This keyword is\n",
      " |          only relevant if the optimization method uses the score.\n",
      " |      optim_complex_step : bool, optional\n",
      " |          Whether or not to use complex step differentiation when\n",
      " |          approximating the score; if False, finite difference approximation\n",
      " |          is used. Default is True. This keyword is only relevant if\n",
      " |          `optim_score` is set to 'harvey' or 'approx'.\n",
      " |      optim_hessian : {'opg','oim','approx'}, optional\n",
      " |          The method by which the Hessian is numerically approximated. 'opg'\n",
      " |          uses outer product of gradients, 'oim' uses the information\n",
      " |          matrix formula from Harvey (1989), and 'approx' uses numerical\n",
      " |          approximation. This keyword is only relevant if the\n",
      " |          optimization method uses the Hessian matrix.\n",
      " |      low_memory : bool, optional\n",
      " |          If set to True, techniques are applied to substantially reduce\n",
      " |          memory usage. If used, some features of the results object will\n",
      " |          not be available (including smoothed results and in-sample\n",
      " |          prediction), although out-of-sample forecasting is possible.\n",
      " |          Default is False.\n",
      " |      **kwargs\n",
      " |          Additional keyword arguments to pass to the optimizer.\n",
      " |      \n",
      " |      Returns\n",
      " |      -------\n",
      " |      MLEResults\n",
      " |      \n",
      " |      See Also\n",
      " |      --------\n",
      " |      statsmodels.base.model.LikelihoodModel.fit\n",
      " |      statsmodels.tsa.statespace.mlemodel.MLEResults\n",
      " |  \n",
      " |  fit_constrained(self, constraints, start_params=None, **fit_kwds)\n",
      " |      Fit the model with some parameters subject to equality constraints.\n",
      " |      \n",
      " |      Parameters\n",
      " |      ----------\n",
      " |      constraints : dict\n",
      " |          Dictionary of constraints, of the form `param_name: fixed_value`.\n",
      " |          See the `param_names` property for valid parameter names.\n",
      " |      start_params : array_like, optional\n",
      " |          Initial guess of the solution for the loglikelihood maximization.\n",
      " |          If None, the default is given by Model.start_params.\n",
      " |      **fit_kwds : keyword arguments\n",
      " |          fit_kwds are used in the optimization of the remaining parameters.\n",
      " |      \n",
      " |      Returns\n",
      " |      -------\n",
      " |      results : Results instance\n",
      " |      \n",
      " |      Examples\n",
      " |      --------\n",
      " |      >>> mod = sm.tsa.SARIMAX(endog, order=(1, 0, 1))\n",
      " |      >>> res = mod.fit_constrained({'ar.L1': 0.5})\n",
      " |  \n",
      " |  fix_params(self, params)\n",
      " |      Fix parameters to specific values (context manager)\n",
      " |      \n",
      " |      Parameters\n",
      " |      ----------\n",
      " |      params : dict\n",
      " |          Dictionary describing the fixed parameter values, of the form\n",
      " |          `param_name: fixed_value`. See the `param_names` property for valid\n",
      " |          parameter names.\n",
      " |      \n",
      " |      Examples\n",
      " |      --------\n",
      " |      >>> mod = sm.tsa.SARIMAX(endog, order=(1, 0, 1))\n",
      " |      >>> with mod.fix_params({'ar.L1': 0.5}):\n",
      " |              res = mod.fit()\n",
      " |  \n",
      " |  handle_params(self, params, transformed=True, includes_fixed=False, return_jacobian=False)\n",
      " |  \n",
      " |  hessian(self, params, *args, **kwargs)\n",
      " |      Hessian matrix of the likelihood function, evaluated at the given\n",
      " |      parameters\n",
      " |      \n",
      " |      Parameters\n",
      " |      ----------\n",
      " |      params : array_like\n",
      " |          Array of parameters at which to evaluate the hessian.\n",
      " |      *args\n",
      " |          Additional positional arguments to the `loglike` method.\n",
      " |      **kwargs\n",
      " |          Additional keyword arguments to the `loglike` method.\n",
      " |      \n",
      " |      Returns\n",
      " |      -------\n",
      " |      hessian : ndarray\n",
      " |          Hessian matrix evaluated at `params`\n",
      " |      \n",
      " |      Notes\n",
      " |      -----\n",
      " |      This is a numerical approximation.\n",
      " |      \n",
      " |      Both args and kwargs are necessary because the optimizer from\n",
      " |      `fit` must call this function and only supports passing arguments via\n",
      " |      args (for example `scipy.optimize.fmin_l_bfgs`).\n",
      " |  \n",
      " |  impulse_responses(self, params, steps=1, impulse=0, orthogonalized=False, cumulative=False, anchor=None, exog=None, extend_model=None, extend_kwargs=None, transformed=True, includes_fixed=False, **kwargs)\n",
      " |      Impulse response function\n",
      " |      \n",
      " |      Parameters\n",
      " |      ----------\n",
      " |      params : array_like\n",
      " |          Array of model parameters.\n",
      " |      steps : int, optional\n",
      " |          The number of steps for which impulse responses are calculated.\n",
      " |          Default is 1. Note that for time-invariant models, the initial\n",
      " |          impulse is not counted as a step, so if `steps=1`, the output will\n",
      " |          have 2 entries.\n",
      " |      impulse : int or array_like\n",
      " |          If an integer, the state innovation to pulse; must be between 0\n",
      " |          and `k_posdef-1`. Alternatively, a custom impulse vector may be\n",
      " |          provided; must be shaped `k_posdef x 1`.\n",
      " |      orthogonalized : bool, optional\n",
      " |          Whether or not to perform impulse using orthogonalized innovations.\n",
      " |          Note that this will also affect custum `impulse` vectors. Default\n",
      " |          is False.\n",
      " |      cumulative : bool, optional\n",
      " |          Whether or not to return cumulative impulse responses. Default is\n",
      " |          False.\n",
      " |      anchor : int, str, or datetime, optional\n",
      " |          Time point within the sample for the state innovation impulse. Type\n",
      " |          depends on the index of the given `endog` in the model. Two special\n",
      " |          cases are the strings 'start' and 'end', which refer to setting the\n",
      " |          impulse at the first and last points of the sample, respectively.\n",
      " |          Integer values can run from 0 to `nobs - 1`, or can be negative to\n",
      " |          apply negative indexing. Finally, if a date/time index was provided\n",
      " |          to the model, then this argument can be a date string to parse or a\n",
      " |          datetime type. Default is 'start'.\n",
      " |      exog : array_like, optional\n",
      " |          New observations of exogenous regressors for our-of-sample periods,\n",
      " |          if applicable.\n",
      " |      transformed : bool, optional\n",
      " |          Whether or not `params` is already transformed. Default is\n",
      " |          True.\n",
      " |      includes_fixed : bool, optional\n",
      " |          If parameters were previously fixed with the `fix_params` method,\n",
      " |          this argument describes whether or not `params` also includes\n",
      " |          the fixed parameters, in addition to the free parameters. Default\n",
      " |          is False.\n",
      " |      **kwargs\n",
      " |          If the model has time-varying design or transition matrices and the\n",
      " |          combination of `anchor` and `steps` implies creating impulse\n",
      " |          responses for the out-of-sample period, then these matrices must\n",
      " |          have updated values provided for the out-of-sample steps. For\n",
      " |          example, if `design` is a time-varying component, `nobs` is 10,\n",
      " |          `anchor=1`, and `steps` is 15, a (`k_endog` x `k_states` x 7)\n",
      " |          matrix must be provided with the new design matrix values.\n",
      " |      \n",
      " |      Returns\n",
      " |      -------\n",
      " |      impulse_responses : ndarray\n",
      " |          Responses for each endogenous variable due to the impulse\n",
      " |          given by the `impulse` argument. For a time-invariant model, the\n",
      " |          impulse responses are given for `steps + 1` elements (this gives\n",
      " |          the \"initial impulse\" followed by `steps` responses for the\n",
      " |          important cases of VAR and SARIMAX models), while for time-varying\n",
      " |          models the impulse responses are only given for `steps` elements\n",
      " |          (to avoid having to unexpectedly provide updated time-varying\n",
      " |          matrices).\n",
      " |      \n",
      " |      Notes\n",
      " |      -----\n",
      " |      Intercepts in the measurement and state equation are ignored when\n",
      " |      calculating impulse responses.\n",
      " |      \n",
      " |      TODO: add an option to allow changing the ordering for the\n",
      " |            orthogonalized option. Will require permuting matrices when\n",
      " |            constructing the extended model.\n",
      " |  \n",
      " |  initialize_approximate_diffuse(self, variance=None)\n",
      " |      Initialize approximate diffuse\n",
      " |  \n",
      " |  initialize_known(self, initial_state, initial_state_cov)\n",
      " |      Initialize known\n",
      " |  \n",
      " |  initialize_statespace(self, **kwargs)\n",
      " |      Initialize the state space representation\n",
      " |      \n",
      " |      Parameters\n",
      " |      ----------\n",
      " |      **kwargs\n",
      " |          Additional keyword arguments to pass to the state space class\n",
      " |          constructor.\n",
      " |  \n",
      " |  initialize_stationary(self)\n",
      " |      Initialize stationary\n",
      " |  \n",
      " |  loglike(self, params, *args, **kwargs)\n",
      " |      Loglikelihood evaluation\n",
      " |      \n",
      " |      Parameters\n",
      " |      ----------\n",
      " |      params : array_like\n",
      " |          Array of parameters at which to evaluate the loglikelihood\n",
      " |          function.\n",
      " |      transformed : bool, optional\n",
      " |          Whether or not `params` is already transformed. Default is True.\n",
      " |      **kwargs\n",
      " |          Additional keyword arguments to pass to the Kalman filter. See\n",
      " |          `KalmanFilter.filter` for more details.\n",
      " |      \n",
      " |      See Also\n",
      " |      --------\n",
      " |      update : modifies the internal state of the state space model to\n",
      " |               reflect new params\n",
      " |      \n",
      " |      Notes\n",
      " |      -----\n",
      " |      [1]_ recommend maximizing the average likelihood to avoid scale issues;\n",
      " |      this is done automatically by the base Model fit method.\n",
      " |      \n",
      " |      References\n",
      " |      ----------\n",
      " |      .. [1] Koopman, Siem Jan, Neil Shephard, and Jurgen A. Doornik. 1999.\n",
      " |         Statistical Algorithms for Models in State Space Using SsfPack 2.2.\n",
      " |         Econometrics Journal 2 (1): 107-60. doi:10.1111/1368-423X.00023.\n",
      " |  \n",
      " |  loglikeobs(self, params, transformed=True, includes_fixed=False, complex_step=False, **kwargs)\n",
      " |      Loglikelihood evaluation\n",
      " |      \n",
      " |      Parameters\n",
      " |      ----------\n",
      " |      params : array_like\n",
      " |          Array of parameters at which to evaluate the loglikelihood\n",
      " |          function.\n",
      " |      transformed : bool, optional\n",
      " |          Whether or not `params` is already transformed. Default is True.\n",
      " |      **kwargs\n",
      " |          Additional keyword arguments to pass to the Kalman filter. See\n",
      " |          `KalmanFilter.filter` for more details.\n",
      " |      \n",
      " |      See Also\n",
      " |      --------\n",
      " |      update : modifies the internal state of the Model to reflect new params\n",
      " |      \n",
      " |      Notes\n",
      " |      -----\n",
      " |      [1]_ recommend maximizing the average likelihood to avoid scale issues;\n",
      " |      this is done automatically by the base Model fit method.\n",
      " |      \n",
      " |      References\n",
      " |      ----------\n",
      " |      .. [1] Koopman, Siem Jan, Neil Shephard, and Jurgen A. Doornik. 1999.\n",
      " |         Statistical Algorithms for Models in State Space Using SsfPack 2.2.\n",
      " |         Econometrics Journal 2 (1): 107-60. doi:10.1111/1368-423X.00023.\n",
      " |  \n",
      " |  observed_information_matrix(self, params, transformed=True, includes_fixed=False, approx_complex_step=None, approx_centered=False, **kwargs)\n",
      " |      Observed information matrix\n",
      " |      \n",
      " |      Parameters\n",
      " |      ----------\n",
      " |      params : array_like, optional\n",
      " |          Array of parameters at which to evaluate the loglikelihood\n",
      " |          function.\n",
      " |      **kwargs\n",
      " |          Additional keyword arguments to pass to the Kalman filter. See\n",
      " |          `KalmanFilter.filter` for more details.\n",
      " |      \n",
      " |      Notes\n",
      " |      -----\n",
      " |      This method is from Harvey (1989), which shows that the information\n",
      " |      matrix only depends on terms from the gradient. This implementation is\n",
      " |      partially analytic and partially numeric approximation, therefore,\n",
      " |      because it uses the analytic formula for the information matrix, with\n",
      " |      numerically computed elements of the gradient.\n",
      " |      \n",
      " |      References\n",
      " |      ----------\n",
      " |      Harvey, Andrew C. 1990.\n",
      " |      Forecasting, Structural Time Series Models and the Kalman Filter.\n",
      " |      Cambridge University Press.\n",
      " |  \n",
      " |  opg_information_matrix(self, params, transformed=True, includes_fixed=False, approx_complex_step=None, **kwargs)\n",
      " |      Outer product of gradients information matrix\n",
      " |      \n",
      " |      Parameters\n",
      " |      ----------\n",
      " |      params : array_like, optional\n",
      " |          Array of parameters at which to evaluate the loglikelihood\n",
      " |          function.\n",
      " |      **kwargs\n",
      " |          Additional arguments to the `loglikeobs` method.\n",
      " |      \n",
      " |      References\n",
      " |      ----------\n",
      " |      Berndt, Ernst R., Bronwyn Hall, Robert Hall, and Jerry Hausman. 1974.\n",
      " |      Estimation and Inference in Nonlinear Structural Models.\n",
      " |      NBER Chapters. National Bureau of Economic Research, Inc.\n",
      " |  \n",
      " |  score(self, params, *args, **kwargs)\n",
      " |      Compute the score function at params.\n",
      " |      \n",
      " |      Parameters\n",
      " |      ----------\n",
      " |      params : array_like\n",
      " |          Array of parameters at which to evaluate the score.\n",
      " |      *args\n",
      " |          Additional positional arguments to the `loglike` method.\n",
      " |      **kwargs\n",
      " |          Additional keyword arguments to the `loglike` method.\n",
      " |      \n",
      " |      Returns\n",
      " |      -------\n",
      " |      score : ndarray\n",
      " |          Score, evaluated at `params`.\n",
      " |      \n",
      " |      Notes\n",
      " |      -----\n",
      " |      This is a numerical approximation, calculated using first-order complex\n",
      " |      step differentiation on the `loglike` method.\n",
      " |      \n",
      " |      Both args and kwargs are necessary because the optimizer from\n",
      " |      `fit` must call this function and only supports passing arguments via\n",
      " |      args (for example `scipy.optimize.fmin_l_bfgs`).\n",
      " |  \n",
      " |  score_obs(self, params, method='approx', transformed=True, includes_fixed=False, approx_complex_step=None, approx_centered=False, **kwargs)\n",
      " |      Compute the score per observation, evaluated at params\n",
      " |      \n",
      " |      Parameters\n",
      " |      ----------\n",
      " |      params : array_like\n",
      " |          Array of parameters at which to evaluate the score.\n",
      " |      **kwargs\n",
      " |          Additional arguments to the `loglike` method.\n",
      " |      \n",
      " |      Returns\n",
      " |      -------\n",
      " |      score : ndarray\n",
      " |          Score per observation, evaluated at `params`.\n",
      " |      \n",
      " |      Notes\n",
      " |      -----\n",
      " |      This is a numerical approximation, calculated using first-order complex\n",
      " |      step differentiation on the `loglikeobs` method.\n",
      " |  \n",
      " |  set_conserve_memory(self, conserve_memory=None, **kwargs)\n",
      " |      Set the memory conservation method\n",
      " |      \n",
      " |      By default, the Kalman filter computes a number of intermediate\n",
      " |      matrices at each iteration. The memory conservation options control\n",
      " |      which of those matrices are stored.\n",
      " |      \n",
      " |      Parameters\n",
      " |      ----------\n",
      " |      conserve_memory : int, optional\n",
      " |          Bitmask value to set the memory conservation method to. See notes\n",
      " |          for details.\n",
      " |      **kwargs\n",
      " |          Keyword arguments may be used to influence the memory conservation\n",
      " |          method by setting individual boolean flags.\n",
      " |      \n",
      " |      Notes\n",
      " |      -----\n",
      " |      This method is rarely used. See the corresponding function in the\n",
      " |      `KalmanFilter` class for details.\n",
      " |  \n",
      " |  set_filter_method(self, filter_method=None, **kwargs)\n",
      " |      Set the filtering method\n",
      " |      \n",
      " |      The filtering method controls aspects of which Kalman filtering\n",
      " |      approach will be used.\n",
      " |      \n",
      " |      Parameters\n",
      " |      ----------\n",
      " |      filter_method : int, optional\n",
      " |          Bitmask value to set the filter method to. See notes for details.\n",
      " |      **kwargs\n",
      " |          Keyword arguments may be used to influence the filter method by\n",
      " |          setting individual boolean flags. See notes for details.\n",
      " |      \n",
      " |      Notes\n",
      " |      -----\n",
      " |      This method is rarely used. See the corresponding function in the\n",
      " |      `KalmanFilter` class for details.\n",
      " |  \n",
      " |  set_inversion_method(self, inversion_method=None, **kwargs)\n",
      " |      Set the inversion method\n",
      " |      \n",
      " |      The Kalman filter may contain one matrix inversion: that of the\n",
      " |      forecast error covariance matrix. The inversion method controls how and\n",
      " |      if that inverse is performed.\n",
      " |      \n",
      " |      Parameters\n",
      " |      ----------\n",
      " |      inversion_method : int, optional\n",
      " |          Bitmask value to set the inversion method to. See notes for\n",
      " |          details.\n",
      " |      **kwargs\n",
      " |          Keyword arguments may be used to influence the inversion method by\n",
      " |          setting individual boolean flags. See notes for details.\n",
      " |      \n",
      " |      Notes\n",
      " |      -----\n",
      " |      This method is rarely used. See the corresponding function in the\n",
      " |      `KalmanFilter` class for details.\n",
      " |  \n",
      " |  set_smoother_output(self, smoother_output=None, **kwargs)\n",
      " |      Set the smoother output\n",
      " |      \n",
      " |      The smoother can produce several types of results. The smoother output\n",
      " |      variable controls which are calculated and returned.\n",
      " |      \n",
      " |      Parameters\n",
      " |      ----------\n",
      " |      smoother_output : int, optional\n",
      " |          Bitmask value to set the smoother output to. See notes for details.\n",
      " |      **kwargs\n",
      " |          Keyword arguments may be used to influence the smoother output by\n",
      " |          setting individual boolean flags.\n",
      " |      \n",
      " |      Notes\n",
      " |      -----\n",
      " |      This method is rarely used. See the corresponding function in the\n",
      " |      `KalmanSmoother` class for details.\n",
      " |  \n",
      " |  set_stability_method(self, stability_method=None, **kwargs)\n",
      " |      Set the numerical stability method\n",
      " |      \n",
      " |      The Kalman filter is a recursive algorithm that may in some cases\n",
      " |      suffer issues with numerical stability. The stability method controls\n",
      " |      what, if any, measures are taken to promote stability.\n",
      " |      \n",
      " |      Parameters\n",
      " |      ----------\n",
      " |      stability_method : int, optional\n",
      " |          Bitmask value to set the stability method to. See notes for\n",
      " |          details.\n",
      " |      **kwargs\n",
      " |          Keyword arguments may be used to influence the stability method by\n",
      " |          setting individual boolean flags. See notes for details.\n",
      " |      \n",
      " |      Notes\n",
      " |      -----\n",
      " |      This method is rarely used. See the corresponding function in the\n",
      " |      `KalmanFilter` class for details.\n",
      " |  \n",
      " |  simulate(self, params, nsimulations, measurement_shocks=None, state_shocks=None, initial_state=None, anchor=None, repetitions=None, exog=None, extend_model=None, extend_kwargs=None, transformed=True, includes_fixed=False, **kwargs)\n",
      " |      Simulate a new time series following the state space model\n",
      " |      \n",
      " |      Parameters\n",
      " |      ----------\n",
      " |      params : array_like\n",
      " |          Array of parameters to use in constructing the state space\n",
      " |          representation to use when simulating.\n",
      " |      nsimulations : int\n",
      " |          The number of observations to simulate. If the model is\n",
      " |          time-invariant this can be any number. If the model is\n",
      " |          time-varying, then this number must be less than or equal to the\n",
      " |          number of observations.\n",
      " |      measurement_shocks : array_like, optional\n",
      " |          If specified, these are the shocks to the measurement equation,\n",
      " |          :math:`\\varepsilon_t`. If unspecified, these are automatically\n",
      " |          generated using a pseudo-random number generator. If specified,\n",
      " |          must be shaped `nsimulations` x `k_endog`, where `k_endog` is the\n",
      " |          same as in the state space model.\n",
      " |      state_shocks : array_like, optional\n",
      " |          If specified, these are the shocks to the state equation,\n",
      " |          :math:`\\eta_t`. If unspecified, these are automatically\n",
      " |          generated using a pseudo-random number generator. If specified,\n",
      " |          must be shaped `nsimulations` x `k_posdef` where `k_posdef` is the\n",
      " |          same as in the state space model.\n",
      " |      initial_state : array_like, optional\n",
      " |          If specified, this is the initial state vector to use in\n",
      " |          simulation, which should be shaped (`k_states` x 1), where\n",
      " |          `k_states` is the same as in the state space model. If unspecified,\n",
      " |          but the model has been initialized, then that initialization is\n",
      " |          used. This must be specified if `anchor` is anything other than\n",
      " |          \"start\" or 0 (or else you can use the `simulate` method on a\n",
      " |          results object rather than on the model object).\n",
      " |      anchor : int, str, or datetime, optional\n",
      " |          First period for simulation. The simulation will be conditional on\n",
      " |          all existing datapoints prior to the `anchor`.  Type depends on the\n",
      " |          index of the given `endog` in the model. Two special cases are the\n",
      " |          strings 'start' and 'end'. `start` refers to beginning the\n",
      " |          simulation at the first period of the sample, and `end` refers to\n",
      " |          beginning the simulation at the first period after the sample.\n",
      " |          Integer values can run from 0 to `nobs`, or can be negative to\n",
      " |          apply negative indexing. Finally, if a date/time index was provided\n",
      " |          to the model, then this argument can be a date string to parse or a\n",
      " |          datetime type. Default is 'start'.\n",
      " |      repetitions : int, optional\n",
      " |          Number of simulated paths to generate. Default is 1 simulated path.\n",
      " |      exog : array_like, optional\n",
      " |          New observations of exogenous regressors, if applicable.\n",
      " |      transformed : bool, optional\n",
      " |          Whether or not `params` is already transformed. Default is\n",
      " |          True.\n",
      " |      includes_fixed : bool, optional\n",
      " |          If parameters were previously fixed with the `fix_params` method,\n",
      " |          this argument describes whether or not `params` also includes\n",
      " |          the fixed parameters, in addition to the free parameters. Default\n",
      " |          is False.\n",
      " |      \n",
      " |      Returns\n",
      " |      -------\n",
      " |      simulated_obs : ndarray\n",
      " |          An array of simulated observations. If `repetitions=None`, then it\n",
      " |          will be shaped (nsimulations x k_endog) or (nsimulations,) if\n",
      " |          `k_endog=1`. Otherwise it will be shaped\n",
      " |          (nsimulations x k_endog x repetitions). If the model was given\n",
      " |          Pandas input then the output will be a Pandas object. If\n",
      " |          `k_endog > 1` and `repetitions` is not None, then the output will\n",
      " |          be a Pandas DataFrame that has a MultiIndex for the columns, with\n",
      " |          the first level containing the names of the `endog` variables and\n",
      " |          the second level containing the repetition number.\n",
      " |  \n",
      " |  simulation_smoother(self, simulation_output=None, **kwargs)\n",
      " |      Retrieve a simulation smoother for the state space model.\n",
      " |      \n",
      " |      Parameters\n",
      " |      ----------\n",
      " |      simulation_output : int, optional\n",
      " |          Determines which simulation smoother output is calculated.\n",
      " |          Default is all (including state and disturbances).\n",
      " |      **kwargs\n",
      " |          Additional keyword arguments, used to set the simulation output.\n",
      " |          See `set_simulation_output` for more details.\n",
      " |      \n",
      " |      Returns\n",
      " |      -------\n",
      " |      SimulationSmoothResults\n",
      " |  \n",
      " |  smooth(self, params, transformed=True, includes_fixed=False, complex_step=False, cov_type=None, cov_kwds=None, return_ssm=False, results_class=None, results_wrapper_class=None, **kwargs)\n",
      " |      Kalman smoothing\n",
      " |      \n",
      " |      Parameters\n",
      " |      ----------\n",
      " |      params : array_like\n",
      " |          Array of parameters at which to evaluate the loglikelihood\n",
      " |          function.\n",
      " |      transformed : bool, optional\n",
      " |          Whether or not `params` is already transformed. Default is True.\n",
      " |      return_ssm : bool,optional\n",
      " |          Whether or not to return only the state space output or a full\n",
      " |          results object. Default is to return a full results object.\n",
      " |      cov_type : str, optional\n",
      " |          See `MLEResults.fit` for a description of covariance matrix types\n",
      " |          for results object.\n",
      " |      cov_kwds : dict or None, optional\n",
      " |          See `MLEResults.get_robustcov_results` for a description required\n",
      " |          keywords for alternative covariance estimators\n",
      " |      **kwargs\n",
      " |          Additional keyword arguments to pass to the Kalman filter. See\n",
      " |          `KalmanFilter.filter` for more details.\n",
      " |  \n",
      " |  transform_jacobian(self, unconstrained, approx_centered=False)\n",
      " |      Jacobian matrix for the parameter transformation function\n",
      " |      \n",
      " |      Parameters\n",
      " |      ----------\n",
      " |      unconstrained : array_like\n",
      " |          Array of unconstrained parameters used by the optimizer.\n",
      " |      \n",
      " |      Returns\n",
      " |      -------\n",
      " |      jacobian : ndarray\n",
      " |          Jacobian matrix of the transformation, evaluated at `unconstrained`\n",
      " |      \n",
      " |      See Also\n",
      " |      --------\n",
      " |      transform_params\n",
      " |      \n",
      " |      Notes\n",
      " |      -----\n",
      " |      This is a numerical approximation using finite differences. Note that\n",
      " |      in general complex step methods cannot be used because it is not\n",
      " |      guaranteed that the `transform_params` method is a real function (e.g.\n",
      " |      if Cholesky decomposition is used).\n",
      " |  \n",
      " |  ----------------------------------------------------------------------\n",
      " |  Class methods inherited from statsmodels.tsa.statespace.mlemodel.MLEModel:\n",
      " |  \n",
      " |  from_formula(formula, data, subset=None) from builtins.type\n",
      " |      Not implemented for state space models\n",
      " |  \n",
      " |  ----------------------------------------------------------------------\n",
      " |  Data descriptors inherited from statsmodels.tsa.statespace.mlemodel.MLEModel:\n",
      " |  \n",
      " |  initial_variance\n",
      " |  \n",
      " |  initialization\n",
      " |  \n",
      " |  loglikelihood_burn\n",
      " |  \n",
      " |  tolerance\n",
      " |  \n",
      " |  ----------------------------------------------------------------------\n",
      " |  Data descriptors inherited from statsmodels.tsa.base.tsa_model.TimeSeriesModel:\n",
      " |  \n",
      " |  exog_names\n",
      " |      The names of the exogenous variables.\n",
      " |  \n",
      " |  ----------------------------------------------------------------------\n",
      " |  Methods inherited from statsmodels.base.model.LikelihoodModel:\n",
      " |  \n",
      " |  information(self, params)\n",
      " |      Fisher information matrix of model.\n",
      " |      \n",
      " |      Returns -1 * Hessian of the log-likelihood evaluated at params.\n",
      " |      \n",
      " |      Parameters\n",
      " |      ----------\n",
      " |      params : ndarray\n",
      " |          The model parameters.\n",
      " |  \n",
      " |  ----------------------------------------------------------------------\n",
      " |  Methods inherited from statsmodels.base.model.Model:\n",
      " |  \n",
      " |  predict(self, params, exog=None, *args, **kwargs)\n",
      " |      After a model has been fit predict returns the fitted values.\n",
      " |      \n",
      " |      This is a placeholder intended to be overwritten by individual models.\n",
      " |  \n",
      " |  ----------------------------------------------------------------------\n",
      " |  Data descriptors inherited from statsmodels.base.model.Model:\n",
      " |  \n",
      " |  __dict__\n",
      " |      dictionary for instance variables (if defined)\n",
      " |  \n",
      " |  __weakref__\n",
      " |      list of weak references to the object (if defined)\n",
      "\n"
     ]
    }
   ],
   "source": [
    "help(SARIMAX)"
   ]
  },
  {
   "cell_type": "code",
   "execution_count": null,
   "metadata": {},
   "outputs": [],
   "source": [
    "results=model.fit"
   ]
  },
  {
   "cell_type": "code",
   "execution_count": null,
   "metadata": {},
   "outputs": [],
   "source": [
    "results.summary()"
   ]
  },
  {
   "cell_type": "code",
   "execution_count": 863,
   "metadata": {},
   "outputs": [
    {
     "ename": "NameError",
     "evalue": "name 'results' is not defined",
     "output_type": "error",
     "traceback": [
      "\u001b[1;31m---------------------------------------------------------------------------\u001b[0m",
      "\u001b[1;31mNameError\u001b[0m                                 Traceback (most recent call last)",
      "\u001b[1;32m<ipython-input-863-732d0cdebbe3>\u001b[0m in \u001b[0;36m<module>\u001b[1;34m\u001b[0m\n\u001b[1;32m----> 1\u001b[1;33m \u001b[0mresults\u001b[0m\u001b[1;33m.\u001b[0m\u001b[0mget_prediction\u001b[0m\u001b[1;33m(\u001b[0m\u001b[0mstart\u001b[0m\u001b[1;33m=\u001b[0m\u001b[1;34m'2011-01-01'\u001b[0m\u001b[1;33m)\u001b[0m\u001b[1;33m.\u001b[0m\u001b[0mpredicted_sum\u001b[0m\u001b[1;33m\u001b[0m\u001b[1;33m\u001b[0m\u001b[0m\n\u001b[0m",
      "\u001b[1;31mNameError\u001b[0m: name 'results' is not defined"
     ]
    }
   ],
   "source": [
    "tdf_ts.plot()\n",
    "results.get_prediction(start='2011-01-01',end='2014-12-01').predicted_sum.plot()"
   ]
  },
  {
   "cell_type": "code",
   "execution_count": null,
   "metadata": {},
   "outputs": [],
   "source": [
    "# ARIMA"
   ]
  },
  {
   "cell_type": "code",
   "execution_count": 581,
   "metadata": {},
   "outputs": [
    {
     "name": "stdout",
     "output_type": "stream",
     "text": [
      "Performing stepwise search to minimize aic\n",
      " ARIMA(1,1,1)(0,1,0)[12]             : AIC=inf, Time=0.26 sec\n",
      " ARIMA(0,1,0)(0,1,0)[12]             : AIC=418.400, Time=0.03 sec\n",
      " ARIMA(1,1,0)(1,1,0)[12]             : AIC=333.582, Time=0.10 sec\n",
      " ARIMA(0,1,1)(0,1,1)[12]             : AIC=inf, Time=0.49 sec\n",
      " ARIMA(1,1,0)(0,1,0)[12]             : AIC=370.842, Time=0.03 sec\n",
      " ARIMA(1,1,0)(2,1,0)[12]             : AIC=321.039, Time=0.26 sec\n",
      " ARIMA(1,1,0)(2,1,1)[12]             : AIC=309.602, Time=0.98 sec\n",
      " ARIMA(1,1,0)(1,1,1)[12]             : AIC=307.606, Time=0.37 sec\n",
      " ARIMA(1,1,0)(0,1,1)[12]             : AIC=305.606, Time=0.21 sec\n",
      " ARIMA(1,1,0)(0,1,2)[12]             : AIC=307.606, Time=0.51 sec\n",
      " ARIMA(1,1,0)(1,1,2)[12]             : AIC=309.603, Time=0.49 sec\n",
      " ARIMA(0,1,0)(0,1,1)[12]             : AIC=352.693, Time=0.11 sec\n",
      " ARIMA(2,1,0)(0,1,1)[12]             : AIC=280.582, Time=0.30 sec\n",
      " ARIMA(2,1,0)(0,1,0)[12]             : AIC=345.823, Time=0.04 sec\n",
      " ARIMA(2,1,0)(1,1,1)[12]             : AIC=inf, Time=0.34 sec\n",
      " ARIMA(2,1,0)(0,1,2)[12]             : AIC=inf, Time=0.91 sec\n",
      " ARIMA(2,1,0)(1,1,0)[12]             : AIC=304.154, Time=0.11 sec\n",
      " ARIMA(2,1,0)(1,1,2)[12]             : AIC=284.582, Time=0.56 sec\n",
      " ARIMA(2,1,1)(0,1,1)[12]             : AIC=inf, Time=0.51 sec\n",
      " ARIMA(1,1,1)(0,1,1)[12]             : AIC=inf, Time=0.40 sec\n",
      " ARIMA(2,1,0)(0,1,1)[12] intercept   : AIC=282.529, Time=0.35 sec\n",
      "\n",
      "Best model:  ARIMA(2,1,0)(0,1,1)[12]          \n",
      "Total fit time: 7.402 seconds\n"
     ]
    }
   ],
   "source": [
    "model=auto_arima(tdf_ts,start_p=1,d=1,start_q=1,\n",
    "          max_p=2,max_d=2,max_q=2, start_P=0,\n",
    "          D=1, start_Q=0, max_P=2,max_D=2,\n",
    "          max_Q=2, m=12, seasonal=True,\n",
    "          error_action='warn',trace=True,\n",
    "          supress_warnings=True,stepwise=True,\n",
    "          random_state=20,n_fits=50)"
   ]
  },
  {
   "cell_type": "code",
   "execution_count": 600,
   "metadata": {},
   "outputs": [],
   "source": [
    "prediction=model.predict(n_periods=24)"
   ]
  },
  {
   "cell_type": "code",
   "execution_count": 601,
   "metadata": {},
   "outputs": [
    {
     "data": {
      "text/plain": [
       "array([0.75808345, 1.08221952, 1.11246952, 0.96320033, 0.90206484,\n",
       "       0.94698729, 0.92771103, 0.91828907, 0.84126361, 1.06488859,\n",
       "       0.94713018, 1.14957756, 0.80449227, 1.12367764, 1.19928059,\n",
       "       1.01824424, 0.96244354, 1.01622396, 0.9881981 , 0.98171298,\n",
       "       0.90603468, 1.12747055, 1.01079792, 1.21332103])"
      ]
     },
     "execution_count": 601,
     "metadata": {},
     "output_type": "execute_result"
    }
   ],
   "source": [
    "prediction"
   ]
  },
  {
   "cell_type": "code",
   "execution_count": 689,
   "metadata": {},
   "outputs": [],
   "source": [
    "columns=['Balance V/D']\n",
    "rows=[1,2,3,4,5,6,8,9,10,11,12,13,14,15,16,17,18,19,20,21,22,23,24,25]\n",
    "df=pd.DataFrame(data=prediction,index=rows,columns=columns)"
   ]
  },
  {
   "cell_type": "code",
   "execution_count": 690,
   "metadata": {},
   "outputs": [
    {
     "data": {
      "text/html": [
       "<div>\n",
       "<style scoped>\n",
       "    .dataframe tbody tr th:only-of-type {\n",
       "        vertical-align: middle;\n",
       "    }\n",
       "\n",
       "    .dataframe tbody tr th {\n",
       "        vertical-align: top;\n",
       "    }\n",
       "\n",
       "    .dataframe thead th {\n",
       "        text-align: right;\n",
       "    }\n",
       "</style>\n",
       "<table border=\"1\" class=\"dataframe\">\n",
       "  <thead>\n",
       "    <tr style=\"text-align: right;\">\n",
       "      <th></th>\n",
       "      <th>Balance V/D</th>\n",
       "    </tr>\n",
       "  </thead>\n",
       "  <tbody>\n",
       "    <tr>\n",
       "      <th>1</th>\n",
       "      <td>0.758083</td>\n",
       "    </tr>\n",
       "    <tr>\n",
       "      <th>2</th>\n",
       "      <td>1.082220</td>\n",
       "    </tr>\n",
       "    <tr>\n",
       "      <th>3</th>\n",
       "      <td>1.112470</td>\n",
       "    </tr>\n",
       "    <tr>\n",
       "      <th>4</th>\n",
       "      <td>0.963200</td>\n",
       "    </tr>\n",
       "    <tr>\n",
       "      <th>5</th>\n",
       "      <td>0.902065</td>\n",
       "    </tr>\n",
       "    <tr>\n",
       "      <th>6</th>\n",
       "      <td>0.946987</td>\n",
       "    </tr>\n",
       "    <tr>\n",
       "      <th>8</th>\n",
       "      <td>0.927711</td>\n",
       "    </tr>\n",
       "    <tr>\n",
       "      <th>9</th>\n",
       "      <td>0.918289</td>\n",
       "    </tr>\n",
       "    <tr>\n",
       "      <th>10</th>\n",
       "      <td>0.841264</td>\n",
       "    </tr>\n",
       "    <tr>\n",
       "      <th>11</th>\n",
       "      <td>1.064889</td>\n",
       "    </tr>\n",
       "    <tr>\n",
       "      <th>12</th>\n",
       "      <td>0.947130</td>\n",
       "    </tr>\n",
       "    <tr>\n",
       "      <th>13</th>\n",
       "      <td>1.149578</td>\n",
       "    </tr>\n",
       "    <tr>\n",
       "      <th>14</th>\n",
       "      <td>0.804492</td>\n",
       "    </tr>\n",
       "    <tr>\n",
       "      <th>15</th>\n",
       "      <td>1.123678</td>\n",
       "    </tr>\n",
       "    <tr>\n",
       "      <th>16</th>\n",
       "      <td>1.199281</td>\n",
       "    </tr>\n",
       "    <tr>\n",
       "      <th>17</th>\n",
       "      <td>1.018244</td>\n",
       "    </tr>\n",
       "    <tr>\n",
       "      <th>18</th>\n",
       "      <td>0.962444</td>\n",
       "    </tr>\n",
       "    <tr>\n",
       "      <th>19</th>\n",
       "      <td>1.016224</td>\n",
       "    </tr>\n",
       "    <tr>\n",
       "      <th>20</th>\n",
       "      <td>0.988198</td>\n",
       "    </tr>\n",
       "    <tr>\n",
       "      <th>21</th>\n",
       "      <td>0.981713</td>\n",
       "    </tr>\n",
       "    <tr>\n",
       "      <th>22</th>\n",
       "      <td>0.906035</td>\n",
       "    </tr>\n",
       "    <tr>\n",
       "      <th>23</th>\n",
       "      <td>1.127471</td>\n",
       "    </tr>\n",
       "    <tr>\n",
       "      <th>24</th>\n",
       "      <td>1.010798</td>\n",
       "    </tr>\n",
       "    <tr>\n",
       "      <th>25</th>\n",
       "      <td>1.213321</td>\n",
       "    </tr>\n",
       "  </tbody>\n",
       "</table>\n",
       "</div>"
      ],
      "text/plain": [
       "    Balance V/D\n",
       "1      0.758083\n",
       "2      1.082220\n",
       "3      1.112470\n",
       "4      0.963200\n",
       "5      0.902065\n",
       "6      0.946987\n",
       "8      0.927711\n",
       "9      0.918289\n",
       "10     0.841264\n",
       "11     1.064889\n",
       "12     0.947130\n",
       "13     1.149578\n",
       "14     0.804492\n",
       "15     1.123678\n",
       "16     1.199281\n",
       "17     1.018244\n",
       "18     0.962444\n",
       "19     1.016224\n",
       "20     0.988198\n",
       "21     0.981713\n",
       "22     0.906035\n",
       "23     1.127471\n",
       "24     1.010798\n",
       "25     1.213321"
      ]
     },
     "execution_count": 690,
     "metadata": {},
     "output_type": "execute_result"
    }
   ],
   "source": [
    "df"
   ]
  },
  {
   "cell_type": "code",
   "execution_count": 668,
   "metadata": {},
   "outputs": [
    {
     "data": {
      "text/plain": [
       "<AxesSubplot:>"
      ]
     },
     "execution_count": 668,
     "metadata": {},
     "output_type": "execute_result"
    },
    {
     "data": {
      "image/png": "[encoded data removed]",
      "text/plain": [
       "<Figure size 864x576 with 1 Axes>"
      ]
     },
     "metadata": {
      "needs_background": "light"
     },
     "output_type": "display_data"
    }
   ],
   "source": [
    "df.plot()"
   ]
  },
  {
   "cell_type": "code",
   "execution_count": 832,
   "metadata": {},
   "outputs": [
    {
     "data": {
      "text/html": [
       "<div>\n",
       "<style scoped>\n",
       "    .dataframe tbody tr th:only-of-type {\n",
       "        vertical-align: middle;\n",
       "    }\n",
       "\n",
       "    .dataframe tbody tr th {\n",
       "        vertical-align: top;\n",
       "    }\n",
       "\n",
       "    .dataframe thead th {\n",
       "        text-align: right;\n",
       "    }\n",
       "</style>\n",
       "<table border=\"1\" class=\"dataframe\">\n",
       "  <thead>\n",
       "    <tr style=\"text-align: right;\">\n",
       "      <th></th>\n",
       "      <th>Balance V/D</th>\n",
       "    </tr>\n",
       "  </thead>\n",
       "  <tbody>\n",
       "    <tr>\n",
       "      <th>2012-11-05 00:00:00</th>\n",
       "      <td>0.000000</td>\n",
       "    </tr>\n",
       "    <tr>\n",
       "      <th>2012-11-05 00:00:00</th>\n",
       "      <td>0.000000</td>\n",
       "    </tr>\n",
       "    <tr>\n",
       "      <th>2012-11-05 00:00:00</th>\n",
       "      <td>0.000000</td>\n",
       "    </tr>\n",
       "    <tr>\n",
       "      <th>2012-10-29 00:00:00</th>\n",
       "      <td>0.000000</td>\n",
       "    </tr>\n",
       "    <tr>\n",
       "      <th>2012-10-29 00:00:00</th>\n",
       "      <td>1.000000</td>\n",
       "    </tr>\n",
       "    <tr>\n",
       "      <th>...</th>\n",
       "      <td>...</td>\n",
       "    </tr>\n",
       "    <tr>\n",
       "      <th>21</th>\n",
       "      <td>0.981713</td>\n",
       "    </tr>\n",
       "    <tr>\n",
       "      <th>22</th>\n",
       "      <td>0.906035</td>\n",
       "    </tr>\n",
       "    <tr>\n",
       "      <th>23</th>\n",
       "      <td>1.127471</td>\n",
       "    </tr>\n",
       "    <tr>\n",
       "      <th>24</th>\n",
       "      <td>1.010798</td>\n",
       "    </tr>\n",
       "    <tr>\n",
       "      <th>25</th>\n",
       "      <td>1.213321</td>\n",
       "    </tr>\n",
       "  </tbody>\n",
       "</table>\n",
       "<p>187 rows × 1 columns</p>\n",
       "</div>"
      ],
      "text/plain": [
       "                     Balance V/D\n",
       "2012-11-05 00:00:00     0.000000\n",
       "2012-11-05 00:00:00     0.000000\n",
       "2012-11-05 00:00:00     0.000000\n",
       "2012-10-29 00:00:00     0.000000\n",
       "2012-10-29 00:00:00     1.000000\n",
       "...                          ...\n",
       "21                      0.981713\n",
       "22                      0.906035\n",
       "23                      1.127471\n",
       "24                      1.010798\n",
       "25                      1.213321\n",
       "\n",
       "[187 rows x 1 columns]"
      ]
     },
     "execution_count": 832,
     "metadata": {},
     "output_type": "execute_result"
    }
   ],
   "source": [
    "result_df=tdf_ts.append(df)\n",
    "result_df"
   ]
  },
  {
   "cell_type": "code",
   "execution_count": 764,
   "metadata": {},
   "outputs": [
    {
     "data": {
      "text/html": [
       "<div>\n",
       "<style scoped>\n",
       "    .dataframe tbody tr th:only-of-type {\n",
       "        vertical-align: middle;\n",
       "    }\n",
       "\n",
       "    .dataframe tbody tr th {\n",
       "        vertical-align: top;\n",
       "    }\n",
       "\n",
       "    .dataframe thead th {\n",
       "        text-align: right;\n",
       "    }\n",
       "</style>\n",
       "<table border=\"1\" class=\"dataframe\">\n",
       "  <thead>\n",
       "    <tr style=\"text-align: right;\">\n",
       "      <th></th>\n",
       "      <th>Ranking</th>\n",
       "      <th>Jugador</th>\n",
       "      <th>Nacionalidad</th>\n",
       "      <th>Edad</th>\n",
       "      <th>Altura cm</th>\n",
       "      <th>Año</th>\n",
       "      <th>Efectividad Al Saque ©</th>\n",
       "      <th>% 1er Servicio</th>\n",
       "      <th>% Puntos Ganados 1er Saque</th>\n",
       "      <th>% Puntos Ganados 2do Saque</th>\n",
       "      <th>...</th>\n",
       "      <th>% Break Points Convertidos</th>\n",
       "      <th>Efectividad Bajo Presión</th>\n",
       "      <th>% Break Points Convertidos.1</th>\n",
       "      <th>% Break Points Salvados</th>\n",
       "      <th>% Tie Breaks Ganados</th>\n",
       "      <th>% Victorias Sets Definitivos</th>\n",
       "      <th>Tiempo de partido (min)</th>\n",
       "      <th>% de Victorias</th>\n",
       "      <th>Lesiones</th>\n",
       "      <th>Perfil jugador</th>\n",
       "    </tr>\n",
       "  </thead>\n",
       "  <tbody>\n",
       "    <tr>\n",
       "      <th>0</th>\n",
       "      <td>14</td>\n",
       "      <td>John Isner</td>\n",
       "      <td>United States</td>\n",
       "      <td>27</td>\n",
       "      <td>208</td>\n",
       "      <td>2012</td>\n",
       "      <td>309.3</td>\n",
       "      <td>68.7</td>\n",
       "      <td>77.8</td>\n",
       "      <td>56.6</td>\n",
       "      <td>...</td>\n",
       "      <td>30.9</td>\n",
       "      <td>232.4</td>\n",
       "      <td>30.9</td>\n",
       "      <td>73.6</td>\n",
       "      <td>67.9</td>\n",
       "      <td>60.0</td>\n",
       "      <td>120</td>\n",
       "      <td>68.18</td>\n",
       "      <td>0</td>\n",
       "      <td>Sacador</td>\n",
       "    </tr>\n",
       "    <tr>\n",
       "      <th>1</th>\n",
       "      <td>13</td>\n",
       "      <td>Milos Raonic</td>\n",
       "      <td>Canada</td>\n",
       "      <td>22</td>\n",
       "      <td>196</td>\n",
       "      <td>2012</td>\n",
       "      <td>305.0</td>\n",
       "      <td>61.7</td>\n",
       "      <td>82.3</td>\n",
       "      <td>55.5</td>\n",
       "      <td>...</td>\n",
       "      <td>38.8</td>\n",
       "      <td>214.9</td>\n",
       "      <td>38.8</td>\n",
       "      <td>73.9</td>\n",
       "      <td>55.1</td>\n",
       "      <td>47.1</td>\n",
       "      <td>110</td>\n",
       "      <td>69.23</td>\n",
       "      <td>1</td>\n",
       "      <td>Sacador</td>\n",
       "    </tr>\n",
       "    <tr>\n",
       "      <th>2</th>\n",
       "      <td>2</td>\n",
       "      <td>Roger Federer</td>\n",
       "      <td>Switzerland</td>\n",
       "      <td>31</td>\n",
       "      <td>185</td>\n",
       "      <td>2012</td>\n",
       "      <td>298.3</td>\n",
       "      <td>62.9</td>\n",
       "      <td>77.7</td>\n",
       "      <td>59.9</td>\n",
       "      <td>...</td>\n",
       "      <td>41.9</td>\n",
       "      <td>252.9</td>\n",
       "      <td>41.9</td>\n",
       "      <td>68.6</td>\n",
       "      <td>60.0</td>\n",
       "      <td>82.4</td>\n",
       "      <td>105</td>\n",
       "      <td>85.54</td>\n",
       "      <td>0</td>\n",
       "      <td>Sacador</td>\n",
       "    </tr>\n",
       "    <tr>\n",
       "      <th>3</th>\n",
       "      <td>100</td>\n",
       "      <td>Ivo Karlovic</td>\n",
       "      <td>Croatia</td>\n",
       "      <td>33</td>\n",
       "      <td>211</td>\n",
       "      <td>2012</td>\n",
       "      <td>296.9</td>\n",
       "      <td>64.9</td>\n",
       "      <td>79.1</td>\n",
       "      <td>51.6</td>\n",
       "      <td>...</td>\n",
       "      <td>28.0</td>\n",
       "      <td>173.6</td>\n",
       "      <td>28.0</td>\n",
       "      <td>64.3</td>\n",
       "      <td>56.3</td>\n",
       "      <td>25.0</td>\n",
       "      <td>117</td>\n",
       "      <td>48.48</td>\n",
       "      <td>1</td>\n",
       "      <td>Sacador</td>\n",
       "    </tr>\n",
       "    <tr>\n",
       "      <th>4</th>\n",
       "      <td>4</td>\n",
       "      <td>Rafael Nadal</td>\n",
       "      <td>Spain</td>\n",
       "      <td>26</td>\n",
       "      <td>185</td>\n",
       "      <td>2012</td>\n",
       "      <td>289.0</td>\n",
       "      <td>67.4</td>\n",
       "      <td>74.6</td>\n",
       "      <td>57.1</td>\n",
       "      <td>...</td>\n",
       "      <td>49.2</td>\n",
       "      <td>242.4</td>\n",
       "      <td>49.2</td>\n",
       "      <td>70.5</td>\n",
       "      <td>72.7</td>\n",
       "      <td>50.0</td>\n",
       "      <td>124</td>\n",
       "      <td>87.50</td>\n",
       "      <td>0</td>\n",
       "      <td>Restador</td>\n",
       "    </tr>\n",
       "    <tr>\n",
       "      <th>...</th>\n",
       "      <td>...</td>\n",
       "      <td>...</td>\n",
       "      <td>...</td>\n",
       "      <td>...</td>\n",
       "      <td>...</td>\n",
       "      <td>...</td>\n",
       "      <td>...</td>\n",
       "      <td>...</td>\n",
       "      <td>...</td>\n",
       "      <td>...</td>\n",
       "      <td>...</td>\n",
       "      <td>...</td>\n",
       "      <td>...</td>\n",
       "      <td>...</td>\n",
       "      <td>...</td>\n",
       "      <td>...</td>\n",
       "      <td>...</td>\n",
       "      <td>...</td>\n",
       "      <td>...</td>\n",
       "      <td>...</td>\n",
       "      <td>...</td>\n",
       "    </tr>\n",
       "    <tr>\n",
       "      <th>80</th>\n",
       "      <td>42</td>\n",
       "      <td>Pablo Andujar</td>\n",
       "      <td>Spain</td>\n",
       "      <td>27</td>\n",
       "      <td>180</td>\n",
       "      <td>2012</td>\n",
       "      <td>235.3</td>\n",
       "      <td>59.3</td>\n",
       "      <td>64.5</td>\n",
       "      <td>47.5</td>\n",
       "      <td>...</td>\n",
       "      <td>40.3</td>\n",
       "      <td>193.0</td>\n",
       "      <td>40.3</td>\n",
       "      <td>52.7</td>\n",
       "      <td>61.1</td>\n",
       "      <td>38.9</td>\n",
       "      <td>118</td>\n",
       "      <td>39.58</td>\n",
       "      <td>1</td>\n",
       "      <td>Restador</td>\n",
       "    </tr>\n",
       "    <tr>\n",
       "      <th>81</th>\n",
       "      <td>95</td>\n",
       "      <td>Flavio Cipolla</td>\n",
       "      <td>Italy</td>\n",
       "      <td>29</td>\n",
       "      <td>173</td>\n",
       "      <td>2012</td>\n",
       "      <td>235.0</td>\n",
       "      <td>70.2</td>\n",
       "      <td>60.4</td>\n",
       "      <td>44.2</td>\n",
       "      <td>...</td>\n",
       "      <td>44.8</td>\n",
       "      <td>211.5</td>\n",
       "      <td>44.8</td>\n",
       "      <td>55.6</td>\n",
       "      <td>66.7</td>\n",
       "      <td>44.4</td>\n",
       "      <td>104</td>\n",
       "      <td>42.50</td>\n",
       "      <td>1</td>\n",
       "      <td>Restador</td>\n",
       "    </tr>\n",
       "    <tr>\n",
       "      <th>82</th>\n",
       "      <td>80</td>\n",
       "      <td>Roberto Bautista Agut</td>\n",
       "      <td>Spain</td>\n",
       "      <td>24</td>\n",
       "      <td>183</td>\n",
       "      <td>2012</td>\n",
       "      <td>233.5</td>\n",
       "      <td>60.7</td>\n",
       "      <td>64.4</td>\n",
       "      <td>44.4</td>\n",
       "      <td>...</td>\n",
       "      <td>35.0</td>\n",
       "      <td>142.9</td>\n",
       "      <td>35.0</td>\n",
       "      <td>57.9</td>\n",
       "      <td>0.0</td>\n",
       "      <td>50.0</td>\n",
       "      <td>106</td>\n",
       "      <td>23.10</td>\n",
       "      <td>1</td>\n",
       "      <td>Restador</td>\n",
       "    </tr>\n",
       "    <tr>\n",
       "      <th>83</th>\n",
       "      <td>192</td>\n",
       "      <td>Adrian Mannarino</td>\n",
       "      <td>France</td>\n",
       "      <td>25</td>\n",
       "      <td>181</td>\n",
       "      <td>2012</td>\n",
       "      <td>227.4</td>\n",
       "      <td>60.0</td>\n",
       "      <td>65.7</td>\n",
       "      <td>40.2</td>\n",
       "      <td>...</td>\n",
       "      <td>32.4</td>\n",
       "      <td>78.2</td>\n",
       "      <td>32.4</td>\n",
       "      <td>45.8</td>\n",
       "      <td>0.0</td>\n",
       "      <td>0.0</td>\n",
       "      <td>86</td>\n",
       "      <td>12.50</td>\n",
       "      <td>1</td>\n",
       "      <td>Equilibrado</td>\n",
       "    </tr>\n",
       "    <tr>\n",
       "      <th>84</th>\n",
       "      <td>420</td>\n",
       "      <td>Filip Krajinovic</td>\n",
       "      <td>Serbia</td>\n",
       "      <td>21</td>\n",
       "      <td>185</td>\n",
       "      <td>2012</td>\n",
       "      <td>186.5</td>\n",
       "      <td>58.6</td>\n",
       "      <td>51.6</td>\n",
       "      <td>37.3</td>\n",
       "      <td>...</td>\n",
       "      <td>66.7</td>\n",
       "      <td>94.0</td>\n",
       "      <td>66.7</td>\n",
       "      <td>27.3</td>\n",
       "      <td>0.0</td>\n",
       "      <td>0.0</td>\n",
       "      <td>77</td>\n",
       "      <td>33.30</td>\n",
       "      <td>0</td>\n",
       "      <td>Restador</td>\n",
       "    </tr>\n",
       "  </tbody>\n",
       "</table>\n",
       "<p>85 rows × 27 columns</p>\n",
       "</div>"
      ],
      "text/plain": [
       "    Ranking                Jugador   Nacionalidad  Edad  Altura cm   Año  \\\n",
       "0        14             John Isner  United States    27        208  2012   \n",
       "1        13           Milos Raonic         Canada    22        196  2012   \n",
       "2         2          Roger Federer    Switzerland    31        185  2012   \n",
       "3       100           Ivo Karlovic        Croatia    33        211  2012   \n",
       "4         4           Rafael Nadal          Spain    26        185  2012   \n",
       "..      ...                    ...            ...   ...        ...   ...   \n",
       "80       42          Pablo Andujar          Spain    27        180  2012   \n",
       "81       95         Flavio Cipolla          Italy    29        173  2012   \n",
       "82       80  Roberto Bautista Agut          Spain    24        183  2012   \n",
       "83      192       Adrian Mannarino         France    25        181  2012   \n",
       "84      420       Filip Krajinovic         Serbia    21        185  2012   \n",
       "\n",
       "    Efectividad Al Saque ©  % 1er Servicio  % Puntos Ganados 1er Saque  \\\n",
       "0                    309.3            68.7                        77.8   \n",
       "1                    305.0            61.7                        82.3   \n",
       "2                    298.3            62.9                        77.7   \n",
       "3                    296.9            64.9                        79.1   \n",
       "4                    289.0            67.4                        74.6   \n",
       "..                     ...             ...                         ...   \n",
       "80                   235.3            59.3                        64.5   \n",
       "81                   235.0            70.2                        60.4   \n",
       "82                   233.5            60.7                        64.4   \n",
       "83                   227.4            60.0                        65.7   \n",
       "84                   186.5            58.6                        51.6   \n",
       "\n",
       "    % Puntos Ganados 2do Saque  ...  % Break Points Convertidos  \\\n",
       "0                         56.6  ...                        30.9   \n",
       "1                         55.5  ...                        38.8   \n",
       "2                         59.9  ...                        41.9   \n",
       "3                         51.6  ...                        28.0   \n",
       "4                         57.1  ...                        49.2   \n",
       "..                         ...  ...                         ...   \n",
       "80                        47.5  ...                        40.3   \n",
       "81                        44.2  ...                        44.8   \n",
       "82                        44.4  ...                        35.0   \n",
       "83                        40.2  ...                        32.4   \n",
       "84                        37.3  ...                        66.7   \n",
       "\n",
       "    Efectividad Bajo Presión  % Break Points Convertidos.1  \\\n",
       "0                      232.4                          30.9   \n",
       "1                      214.9                          38.8   \n",
       "2                      252.9                          41.9   \n",
       "3                      173.6                          28.0   \n",
       "4                      242.4                          49.2   \n",
       "..                       ...                           ...   \n",
       "80                     193.0                          40.3   \n",
       "81                     211.5                          44.8   \n",
       "82                     142.9                          35.0   \n",
       "83                      78.2                          32.4   \n",
       "84                      94.0                          66.7   \n",
       "\n",
       "    % Break Points Salvados  % Tie Breaks Ganados  \\\n",
       "0                      73.6                  67.9   \n",
       "1                      73.9                  55.1   \n",
       "2                      68.6                  60.0   \n",
       "3                      64.3                  56.3   \n",
       "4                      70.5                  72.7   \n",
       "..                      ...                   ...   \n",
       "80                     52.7                  61.1   \n",
       "81                     55.6                  66.7   \n",
       "82                     57.9                   0.0   \n",
       "83                     45.8                   0.0   \n",
       "84                     27.3                   0.0   \n",
       "\n",
       "    % Victorias Sets Definitivos  Tiempo de partido (min)  % de Victorias   \\\n",
       "0                           60.0                      120            68.18   \n",
       "1                           47.1                      110            69.23   \n",
       "2                           82.4                      105            85.54   \n",
       "3                           25.0                      117            48.48   \n",
       "4                           50.0                      124            87.50   \n",
       "..                           ...                      ...              ...   \n",
       "80                          38.9                      118            39.58   \n",
       "81                          44.4                      104            42.50   \n",
       "82                          50.0                      106            23.10   \n",
       "83                           0.0                       86            12.50   \n",
       "84                           0.0                       77            33.30   \n",
       "\n",
       "    Lesiones  Perfil jugador  \n",
       "0          0         Sacador  \n",
       "1          1         Sacador  \n",
       "2          0         Sacador  \n",
       "3          1         Sacador  \n",
       "4          0        Restador  \n",
       "..       ...             ...  \n",
       "80         1        Restador  \n",
       "81         1        Restador  \n",
       "82         1        Restador  \n",
       "83         1     Equilibrado  \n",
       "84         0        Restador  \n",
       "\n",
       "[85 rows x 27 columns]"
      ]
     },
     "execution_count": 764,
     "metadata": {},
     "output_type": "execute_result"
    }
   ],
   "source": [
    "tdf_2012"
   ]
  },
  {
   "cell_type": "code",
   "execution_count": null,
   "metadata": {},
   "outputs": [],
   "source": []
  }
 ],
 "metadata": {
  "kernelspec": {
   "display_name": "Python 3",
   "language": "python",
   "name": "python3"
  },
  "language_info": {
   "codemirror_mode": {
    "name": "ipython",
    "version": 3
   },
   "file_extension": ".py",
   "mimetype": "text/x-python",
   "name": "python",
   "nbconvert_exporter": "python",
   "pygments_lexer": "ipython3",
   "version": "3.8.5"
  },
  "toc": {
   "base_numbering": 1,
   "nav_menu": {},
   "number_sections": true,
   "sideBar": true,
   "skip_h1_title": false,
   "title_cell": "Table of Contents",
   "title_sidebar": "Contents",
   "toc_cell": false,
   "toc_position": {},
   "toc_section_display": true,
   "toc_window_display": false
  },
  "varInspector": {
   "cols": {
    "lenName": 16,
    "lenType": 16,
    "lenVar": 40
   },
   "kernels_config": {
    "python": {
     "delete_cmd_postfix": "",
     "delete_cmd_prefix": "del ",
     "library": "var_list.py",
     "varRefreshCmd": "print(var_dic_list())"
    },
    "r": {
     "delete_cmd_postfix": ") ",
     "delete_cmd_prefix": "rm(",
     "library": "var_list.r",
     "varRefreshCmd": "cat(var_dic_list()) "
    }
   },
   "types_to_exclude": [
    "module",
    "function",
    "builtin_function_or_method",
    "instance",
    "_Feature"
   ],
   "window_display": false
  }
 },
 "nbformat": 4,
 "nbformat_minor": 4
}
