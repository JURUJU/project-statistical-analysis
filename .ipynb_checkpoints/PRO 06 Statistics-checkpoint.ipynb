{
 "cells": [
  {
   "cell_type": "code",
   "execution_count": 230,
   "metadata": {},
   "outputs": [],
   "source": [
    "# Importación de librerias"
   ]
  },
  {
   "cell_type": "code",
   "execution_count": 46,
   "metadata": {},
   "outputs": [],
   "source": [
    "import pandas as pd\n",
    "import seaborn as sns\n",
    "import matplotlib.pyplot as plt\n",
    "import numpy as np\n",
    "import cufflinks as cf\n",
    "from scipy import stats\n",
    "from datetime import datetime\n",
    "from pmdarima import auto_arima\n",
    "from ipywidgets import interact\n",
    "import plotly.express as px\n",
    "\n",
    "\n",
    "from statsmodels.tsa.seasonal import seasonal_decompose\n",
    "from statsmodels.tsa.stattools import adfuller\n",
    "from statsmodels.graphics.tsaplots import plot_acf, plot_pacf\n",
    "from statsmodels.tsa.arima_model import ARIMA\n",
    "from statsmodels.tsa.statespace.sarimax import SARIMAX\n",
    "\n",
    "from sklearn.linear_model import LogisticRegression\n",
    "from sklearn.model_selection import train_test_split\n",
    "from sklearn import preprocessing\n",
    "\n",
    "\n",
    "from sklearn.metrics import confusion_matrix,classification_report\n",
    "from sklearn.metrics import accuracy_score,precision_score,recall_score,f1_score,log_loss\n",
    "from sklearn.metrics import auc,roc_curve,roc_auc_score,precision_recall_curve"
   ]
  },
  {
   "cell_type": "code",
   "execution_count": 3,
   "metadata": {},
   "outputs": [],
   "source": [
    "# Importación del dataset"
   ]
  },
  {
   "cell_type": "code",
   "execution_count": 4,
   "metadata": {},
   "outputs": [],
   "source": [
    "tdf=pd.read_excel('ATP_Tennis_Stats.xlsx')"
   ]
  },
  {
   "cell_type": "code",
   "execution_count": 805,
   "metadata": {
    "scrolled": true
   },
   "outputs": [
    {
     "data": {
      "text/html": [
       "<div>\n",
       "<style scoped>\n",
       "    .dataframe tbody tr th:only-of-type {\n",
       "        vertical-align: middle;\n",
       "    }\n",
       "\n",
       "    .dataframe tbody tr th {\n",
       "        vertical-align: top;\n",
       "    }\n",
       "\n",
       "    .dataframe thead th {\n",
       "        text-align: right;\n",
       "    }\n",
       "</style>\n",
       "<table border=\"1\" class=\"dataframe\">\n",
       "  <thead>\n",
       "    <tr style=\"text-align: right;\">\n",
       "      <th></th>\n",
       "      <th>Ranking</th>\n",
       "      <th>Jugador</th>\n",
       "      <th>Nacionalidad</th>\n",
       "      <th>Edad</th>\n",
       "      <th>Altura cm</th>\n",
       "      <th>Año</th>\n",
       "      <th>Efectividad Al Saque ©</th>\n",
       "      <th>% 1er Servicio</th>\n",
       "      <th>% Puntos Ganados 1er Saque</th>\n",
       "      <th>% Puntos Ganados 2do Saque</th>\n",
       "      <th>...</th>\n",
       "      <th>% Games Al Resto</th>\n",
       "      <th>% Break Points Convertidos</th>\n",
       "      <th>Efectividad Bajo Presión</th>\n",
       "      <th>% Break Points Convertidos.1</th>\n",
       "      <th>% Break Points Salvados</th>\n",
       "      <th>% Tie Breaks Ganados</th>\n",
       "      <th>% Victorias Sets Definitivos</th>\n",
       "      <th>Tiempo de partido (min)</th>\n",
       "      <th>% de Victorias</th>\n",
       "      <th>Lesiones</th>\n",
       "    </tr>\n",
       "  </thead>\n",
       "  <tbody>\n",
       "    <tr>\n",
       "      <th>0</th>\n",
       "      <td>14</td>\n",
       "      <td>John Isner</td>\n",
       "      <td>United States</td>\n",
       "      <td>27</td>\n",
       "      <td>208</td>\n",
       "      <td>2012</td>\n",
       "      <td>309.3</td>\n",
       "      <td>68.7</td>\n",
       "      <td>77.8</td>\n",
       "      <td>56.6</td>\n",
       "      <td>...</td>\n",
       "      <td>10.8</td>\n",
       "      <td>30.9</td>\n",
       "      <td>232.4</td>\n",
       "      <td>30.9</td>\n",
       "      <td>73.6</td>\n",
       "      <td>67.9</td>\n",
       "      <td>60.0</td>\n",
       "      <td>120</td>\n",
       "      <td>68.18</td>\n",
       "      <td>0</td>\n",
       "    </tr>\n",
       "    <tr>\n",
       "      <th>1</th>\n",
       "      <td>13</td>\n",
       "      <td>Milos Raonic</td>\n",
       "      <td>Canada</td>\n",
       "      <td>22</td>\n",
       "      <td>196</td>\n",
       "      <td>2012</td>\n",
       "      <td>305.0</td>\n",
       "      <td>61.7</td>\n",
       "      <td>82.3</td>\n",
       "      <td>55.5</td>\n",
       "      <td>...</td>\n",
       "      <td>15.1</td>\n",
       "      <td>38.8</td>\n",
       "      <td>214.9</td>\n",
       "      <td>38.8</td>\n",
       "      <td>73.9</td>\n",
       "      <td>55.1</td>\n",
       "      <td>47.1</td>\n",
       "      <td>110</td>\n",
       "      <td>69.23</td>\n",
       "      <td>1</td>\n",
       "    </tr>\n",
       "    <tr>\n",
       "      <th>2</th>\n",
       "      <td>2</td>\n",
       "      <td>Roger Federer</td>\n",
       "      <td>Switzerland</td>\n",
       "      <td>31</td>\n",
       "      <td>185</td>\n",
       "      <td>2012</td>\n",
       "      <td>298.3</td>\n",
       "      <td>62.9</td>\n",
       "      <td>77.7</td>\n",
       "      <td>59.9</td>\n",
       "      <td>...</td>\n",
       "      <td>25.9</td>\n",
       "      <td>41.9</td>\n",
       "      <td>252.9</td>\n",
       "      <td>41.9</td>\n",
       "      <td>68.6</td>\n",
       "      <td>60.0</td>\n",
       "      <td>82.4</td>\n",
       "      <td>105</td>\n",
       "      <td>85.54</td>\n",
       "      <td>0</td>\n",
       "    </tr>\n",
       "    <tr>\n",
       "      <th>3</th>\n",
       "      <td>100</td>\n",
       "      <td>Ivo Karlovic</td>\n",
       "      <td>Croatia</td>\n",
       "      <td>33</td>\n",
       "      <td>211</td>\n",
       "      <td>2012</td>\n",
       "      <td>296.9</td>\n",
       "      <td>64.9</td>\n",
       "      <td>79.1</td>\n",
       "      <td>51.6</td>\n",
       "      <td>...</td>\n",
       "      <td>10.9</td>\n",
       "      <td>28.0</td>\n",
       "      <td>173.6</td>\n",
       "      <td>28.0</td>\n",
       "      <td>64.3</td>\n",
       "      <td>56.3</td>\n",
       "      <td>25.0</td>\n",
       "      <td>117</td>\n",
       "      <td>48.48</td>\n",
       "      <td>1</td>\n",
       "    </tr>\n",
       "    <tr>\n",
       "      <th>4</th>\n",
       "      <td>4</td>\n",
       "      <td>Rafael Nadal</td>\n",
       "      <td>Spain</td>\n",
       "      <td>26</td>\n",
       "      <td>185</td>\n",
       "      <td>2012</td>\n",
       "      <td>289.0</td>\n",
       "      <td>67.4</td>\n",
       "      <td>74.6</td>\n",
       "      <td>57.1</td>\n",
       "      <td>...</td>\n",
       "      <td>37.7</td>\n",
       "      <td>49.2</td>\n",
       "      <td>242.4</td>\n",
       "      <td>49.2</td>\n",
       "      <td>70.5</td>\n",
       "      <td>72.7</td>\n",
       "      <td>50.0</td>\n",
       "      <td>124</td>\n",
       "      <td>87.50</td>\n",
       "      <td>0</td>\n",
       "    </tr>\n",
       "    <tr>\n",
       "      <th>...</th>\n",
       "      <td>...</td>\n",
       "      <td>...</td>\n",
       "      <td>...</td>\n",
       "      <td>...</td>\n",
       "      <td>...</td>\n",
       "      <td>...</td>\n",
       "      <td>...</td>\n",
       "      <td>...</td>\n",
       "      <td>...</td>\n",
       "      <td>...</td>\n",
       "      <td>...</td>\n",
       "      <td>...</td>\n",
       "      <td>...</td>\n",
       "      <td>...</td>\n",
       "      <td>...</td>\n",
       "      <td>...</td>\n",
       "      <td>...</td>\n",
       "      <td>...</td>\n",
       "      <td>...</td>\n",
       "      <td>...</td>\n",
       "      <td>...</td>\n",
       "    </tr>\n",
       "    <tr>\n",
       "      <th>258</th>\n",
       "      <td>178</td>\n",
       "      <td>Nikoloz Basilashvili</td>\n",
       "      <td>Russian Federation</td>\n",
       "      <td>22</td>\n",
       "      <td>185</td>\n",
       "      <td>2014</td>\n",
       "      <td>245.6</td>\n",
       "      <td>59.2</td>\n",
       "      <td>68.9</td>\n",
       "      <td>45.2</td>\n",
       "      <td>...</td>\n",
       "      <td>12.5</td>\n",
       "      <td>25.0</td>\n",
       "      <td>175.0</td>\n",
       "      <td>25.0</td>\n",
       "      <td>50.0</td>\n",
       "      <td>100.0</td>\n",
       "      <td>0.0</td>\n",
       "      <td>131</td>\n",
       "      <td>0.00</td>\n",
       "      <td>0</td>\n",
       "    </tr>\n",
       "    <tr>\n",
       "      <th>259</th>\n",
       "      <td>136</td>\n",
       "      <td>Alexander Zverev</td>\n",
       "      <td>Germany</td>\n",
       "      <td>17</td>\n",
       "      <td>198</td>\n",
       "      <td>2014</td>\n",
       "      <td>232.2</td>\n",
       "      <td>54.7</td>\n",
       "      <td>61.8</td>\n",
       "      <td>50.0</td>\n",
       "      <td>...</td>\n",
       "      <td>24.0</td>\n",
       "      <td>32.9</td>\n",
       "      <td>162.2</td>\n",
       "      <td>32.9</td>\n",
       "      <td>46.0</td>\n",
       "      <td>33.3</td>\n",
       "      <td>50.0</td>\n",
       "      <td>88</td>\n",
       "      <td>40.00</td>\n",
       "      <td>1</td>\n",
       "    </tr>\n",
       "    <tr>\n",
       "      <th>260</th>\n",
       "      <td>61</td>\n",
       "      <td>Diego Schwartzman</td>\n",
       "      <td>Argentina</td>\n",
       "      <td>22</td>\n",
       "      <td>170</td>\n",
       "      <td>2014</td>\n",
       "      <td>227.4</td>\n",
       "      <td>60.1</td>\n",
       "      <td>56.8</td>\n",
       "      <td>50.0</td>\n",
       "      <td>...</td>\n",
       "      <td>36.0</td>\n",
       "      <td>49.1</td>\n",
       "      <td>92.9</td>\n",
       "      <td>49.1</td>\n",
       "      <td>43.8</td>\n",
       "      <td>0.0</td>\n",
       "      <td>0.0</td>\n",
       "      <td>100</td>\n",
       "      <td>33.30</td>\n",
       "      <td>1</td>\n",
       "    </tr>\n",
       "    <tr>\n",
       "      <th>261</th>\n",
       "      <td>372</td>\n",
       "      <td>Karen Khachanov</td>\n",
       "      <td>Russian Federation</td>\n",
       "      <td>19</td>\n",
       "      <td>198</td>\n",
       "      <td>2014</td>\n",
       "      <td>215.8</td>\n",
       "      <td>58.7</td>\n",
       "      <td>60.2</td>\n",
       "      <td>42.1</td>\n",
       "      <td>...</td>\n",
       "      <td>7.7</td>\n",
       "      <td>40.0</td>\n",
       "      <td>195.6</td>\n",
       "      <td>40.0</td>\n",
       "      <td>55.6</td>\n",
       "      <td>100.0</td>\n",
       "      <td>0.0</td>\n",
       "      <td>116</td>\n",
       "      <td>0.00</td>\n",
       "      <td>1</td>\n",
       "    </tr>\n",
       "    <tr>\n",
       "      <th>262</th>\n",
       "      <td>252</td>\n",
       "      <td>Cristian Garin</td>\n",
       "      <td>Chile</td>\n",
       "      <td>18</td>\n",
       "      <td>185</td>\n",
       "      <td>2014</td>\n",
       "      <td>198.1</td>\n",
       "      <td>64.2</td>\n",
       "      <td>56.8</td>\n",
       "      <td>32.1</td>\n",
       "      <td>...</td>\n",
       "      <td>21.7</td>\n",
       "      <td>33.3</td>\n",
       "      <td>81.1</td>\n",
       "      <td>33.3</td>\n",
       "      <td>47.8</td>\n",
       "      <td>0.0</td>\n",
       "      <td>0.0</td>\n",
       "      <td>94</td>\n",
       "      <td>40.00</td>\n",
       "      <td>0</td>\n",
       "    </tr>\n",
       "  </tbody>\n",
       "</table>\n",
       "<p>263 rows × 26 columns</p>\n",
       "</div>"
      ],
      "text/plain": [
       "     Ranking               Jugador        Nacionalidad  Edad  Altura cm   Año  \\\n",
       "0         14            John Isner       United States    27        208  2012   \n",
       "1         13          Milos Raonic              Canada    22        196  2012   \n",
       "2          2         Roger Federer         Switzerland    31        185  2012   \n",
       "3        100          Ivo Karlovic             Croatia    33        211  2012   \n",
       "4          4          Rafael Nadal               Spain    26        185  2012   \n",
       "..       ...                   ...                 ...   ...        ...   ...   \n",
       "258      178  Nikoloz Basilashvili  Russian Federation    22        185  2014   \n",
       "259      136      Alexander Zverev             Germany    17        198  2014   \n",
       "260       61     Diego Schwartzman           Argentina    22        170  2014   \n",
       "261      372       Karen Khachanov  Russian Federation    19        198  2014   \n",
       "262      252        Cristian Garin               Chile    18        185  2014   \n",
       "\n",
       "     Efectividad Al Saque ©  % 1er Servicio  % Puntos Ganados 1er Saque  \\\n",
       "0                     309.3            68.7                        77.8   \n",
       "1                     305.0            61.7                        82.3   \n",
       "2                     298.3            62.9                        77.7   \n",
       "3                     296.9            64.9                        79.1   \n",
       "4                     289.0            67.4                        74.6   \n",
       "..                      ...             ...                         ...   \n",
       "258                   245.6            59.2                        68.9   \n",
       "259                   232.2            54.7                        61.8   \n",
       "260                   227.4            60.1                        56.8   \n",
       "261                   215.8            58.7                        60.2   \n",
       "262                   198.1            64.2                        56.8   \n",
       "\n",
       "     % Puntos Ganados 2do Saque  ...  % Games Al Resto  \\\n",
       "0                          56.6  ...              10.8   \n",
       "1                          55.5  ...              15.1   \n",
       "2                          59.9  ...              25.9   \n",
       "3                          51.6  ...              10.9   \n",
       "4                          57.1  ...              37.7   \n",
       "..                          ...  ...               ...   \n",
       "258                        45.2  ...              12.5   \n",
       "259                        50.0  ...              24.0   \n",
       "260                        50.0  ...              36.0   \n",
       "261                        42.1  ...               7.7   \n",
       "262                        32.1  ...              21.7   \n",
       "\n",
       "     % Break Points Convertidos  Efectividad Bajo Presión  \\\n",
       "0                          30.9                     232.4   \n",
       "1                          38.8                     214.9   \n",
       "2                          41.9                     252.9   \n",
       "3                          28.0                     173.6   \n",
       "4                          49.2                     242.4   \n",
       "..                          ...                       ...   \n",
       "258                        25.0                     175.0   \n",
       "259                        32.9                     162.2   \n",
       "260                        49.1                      92.9   \n",
       "261                        40.0                     195.6   \n",
       "262                        33.3                      81.1   \n",
       "\n",
       "     % Break Points Convertidos.1  % Break Points Salvados  \\\n",
       "0                            30.9                     73.6   \n",
       "1                            38.8                     73.9   \n",
       "2                            41.9                     68.6   \n",
       "3                            28.0                     64.3   \n",
       "4                            49.2                     70.5   \n",
       "..                            ...                      ...   \n",
       "258                          25.0                     50.0   \n",
       "259                          32.9                     46.0   \n",
       "260                          49.1                     43.8   \n",
       "261                          40.0                     55.6   \n",
       "262                          33.3                     47.8   \n",
       "\n",
       "     % Tie Breaks Ganados  % Victorias Sets Definitivos  \\\n",
       "0                    67.9                          60.0   \n",
       "1                    55.1                          47.1   \n",
       "2                    60.0                          82.4   \n",
       "3                    56.3                          25.0   \n",
       "4                    72.7                          50.0   \n",
       "..                    ...                           ...   \n",
       "258                 100.0                           0.0   \n",
       "259                  33.3                          50.0   \n",
       "260                   0.0                           0.0   \n",
       "261                 100.0                           0.0   \n",
       "262                   0.0                           0.0   \n",
       "\n",
       "     Tiempo de partido (min)  % de Victorias   Lesiones  \n",
       "0                        120            68.18         0  \n",
       "1                        110            69.23         1  \n",
       "2                        105            85.54         0  \n",
       "3                        117            48.48         1  \n",
       "4                        124            87.50         0  \n",
       "..                       ...              ...       ...  \n",
       "258                      131             0.00         0  \n",
       "259                       88            40.00         1  \n",
       "260                      100            33.30         1  \n",
       "261                      116             0.00         1  \n",
       "262                       94            40.00         0  \n",
       "\n",
       "[263 rows x 26 columns]"
      ]
     },
     "execution_count": 805,
     "metadata": {},
     "output_type": "execute_result"
    }
   ],
   "source": [
    "tdf"
   ]
  },
  {
   "cell_type": "code",
   "execution_count": 751,
   "metadata": {},
   "outputs": [],
   "source": [
    "# Análisis del dataset"
   ]
  },
  {
   "cell_type": "code",
   "execution_count": 5,
   "metadata": {
    "scrolled": true
   },
   "outputs": [
    {
     "data": {
      "text/plain": [
       "Index(['Ranking', 'Jugador', 'Nacionalidad', 'Edad', 'Altura cm', 'Año',\n",
       "       'Efectividad Al Saque ©', '% 1er Servicio',\n",
       "       '% Puntos Ganados 1er Saque', '% Puntos Ganados 2do Saque',\n",
       "       '% Games Ganados Saque', 'Prom. Aces Por Partido',\n",
       "       'Prom. Dobles Por Partido', 'Efectividad Al Resto ',\n",
       "       '% Restos 1er Saque', '% Restos 2° Saque', '% Games Al Resto',\n",
       "       '% Break Points Convertidos', 'Efectividad Bajo Presión',\n",
       "       '% Break Points Convertidos.1', '% Break Points Salvados',\n",
       "       '% Tie Breaks Ganados', '% Victorias Sets Definitivos',\n",
       "       'Tiempo de partido (min)', '% de Victorias ', 'Lesiones'],\n",
       "      dtype='object')"
      ]
     },
     "execution_count": 5,
     "metadata": {},
     "output_type": "execute_result"
    }
   ],
   "source": [
    "tdf.columns"
   ]
  },
  {
   "cell_type": "code",
   "execution_count": 7,
   "metadata": {},
   "outputs": [],
   "source": [
    "tdf['Tarifa Jugador'] = [200000 if x<8 else 100000 if 8<=x<30 else 50000 for x in tdf['Ranking']]"
   ]
  },
  {
   "cell_type": "code",
   "execution_count": 8,
   "metadata": {},
   "outputs": [],
   "source": [
    "tdf['Perfil jugador'] = ['Restador' if x<3.500 else 'Equilibrado' if 3.500<=x<5.000 else 'Sacador' for x in tdf['Prom. Aces Por Partido']]"
   ]
  },
  {
   "cell_type": "code",
   "execution_count": 10,
   "metadata": {},
   "outputs": [],
   "source": [
    "tdf_2012=tdf[tdf['Año']==2012]"
   ]
  },
  {
   "cell_type": "code",
   "execution_count": 11,
   "metadata": {},
   "outputs": [],
   "source": [
    "tdf_2012=tdf_2012[['Ranking', 'Jugador', 'Nacionalidad', 'Edad', 'Altura cm', 'Año',\n",
    "       'Efectividad Al Saque ©', '% 1er Servicio',\n",
    "       '% Puntos Ganados 1er Saque', '% Puntos Ganados 2do Saque',\n",
    "       '% Games Ganados Saque', 'Prom. Aces Por Partido',\n",
    "       'Prom. Dobles Por Partido', 'Efectividad Al Resto ',\n",
    "       '% Restos 1er Saque', '% Restos 2° Saque', '% Games Al Resto',\n",
    "       '% Break Points Convertidos', 'Efectividad Bajo Presión',\n",
    "       '% Break Points Convertidos.1', '% Break Points Salvados',\n",
    "       '% Tie Breaks Ganados', '% Victorias Sets Definitivos',\n",
    "       'Tiempo de partido (min)', 'Lesiones',\n",
    "       'Tarifa Jugador', 'Perfil jugador','% de Victorias ']]"
   ]
  },
  {
   "cell_type": "code",
   "execution_count": 424,
   "metadata": {},
   "outputs": [],
   "source": [
    "# Características de los jugadores"
   ]
  },
  {
   "cell_type": "code",
   "execution_count": 12,
   "metadata": {},
   "outputs": [
    {
     "data": {
      "text/html": [
       "<div>\n",
       "<style scoped>\n",
       "    .dataframe tbody tr th:only-of-type {\n",
       "        vertical-align: middle;\n",
       "    }\n",
       "\n",
       "    .dataframe tbody tr th {\n",
       "        vertical-align: top;\n",
       "    }\n",
       "\n",
       "    .dataframe thead th {\n",
       "        text-align: right;\n",
       "    }\n",
       "</style>\n",
       "<table border=\"1\" class=\"dataframe\">\n",
       "  <thead>\n",
       "    <tr style=\"text-align: right;\">\n",
       "      <th></th>\n",
       "      <th>Ranking</th>\n",
       "      <th>Jugador</th>\n",
       "      <th>Nacionalidad</th>\n",
       "      <th>Edad</th>\n",
       "      <th>Altura cm</th>\n",
       "      <th>Año</th>\n",
       "      <th>Efectividad Al Saque ©</th>\n",
       "      <th>% 1er Servicio</th>\n",
       "      <th>% Puntos Ganados 1er Saque</th>\n",
       "      <th>% Puntos Ganados 2do Saque</th>\n",
       "      <th>...</th>\n",
       "      <th>Efectividad Bajo Presión</th>\n",
       "      <th>% Break Points Convertidos.1</th>\n",
       "      <th>% Break Points Salvados</th>\n",
       "      <th>% Tie Breaks Ganados</th>\n",
       "      <th>% Victorias Sets Definitivos</th>\n",
       "      <th>Tiempo de partido (min)</th>\n",
       "      <th>Lesiones</th>\n",
       "      <th>Tarifa Jugador</th>\n",
       "      <th>Perfil jugador</th>\n",
       "      <th>% de Victorias</th>\n",
       "    </tr>\n",
       "  </thead>\n",
       "  <tbody>\n",
       "    <tr>\n",
       "      <th>0</th>\n",
       "      <td>14</td>\n",
       "      <td>John Isner</td>\n",
       "      <td>United States</td>\n",
       "      <td>27</td>\n",
       "      <td>208</td>\n",
       "      <td>2012</td>\n",
       "      <td>309.3</td>\n",
       "      <td>68.7</td>\n",
       "      <td>77.8</td>\n",
       "      <td>56.6</td>\n",
       "      <td>...</td>\n",
       "      <td>232.4</td>\n",
       "      <td>30.9</td>\n",
       "      <td>73.6</td>\n",
       "      <td>67.9</td>\n",
       "      <td>60.0</td>\n",
       "      <td>120</td>\n",
       "      <td>0</td>\n",
       "      <td>100000</td>\n",
       "      <td>Sacador</td>\n",
       "      <td>68.18</td>\n",
       "    </tr>\n",
       "    <tr>\n",
       "      <th>1</th>\n",
       "      <td>13</td>\n",
       "      <td>Milos Raonic</td>\n",
       "      <td>Canada</td>\n",
       "      <td>22</td>\n",
       "      <td>196</td>\n",
       "      <td>2012</td>\n",
       "      <td>305.0</td>\n",
       "      <td>61.7</td>\n",
       "      <td>82.3</td>\n",
       "      <td>55.5</td>\n",
       "      <td>...</td>\n",
       "      <td>214.9</td>\n",
       "      <td>38.8</td>\n",
       "      <td>73.9</td>\n",
       "      <td>55.1</td>\n",
       "      <td>47.1</td>\n",
       "      <td>110</td>\n",
       "      <td>1</td>\n",
       "      <td>100000</td>\n",
       "      <td>Sacador</td>\n",
       "      <td>69.23</td>\n",
       "    </tr>\n",
       "    <tr>\n",
       "      <th>2</th>\n",
       "      <td>2</td>\n",
       "      <td>Roger Federer</td>\n",
       "      <td>Switzerland</td>\n",
       "      <td>31</td>\n",
       "      <td>185</td>\n",
       "      <td>2012</td>\n",
       "      <td>298.3</td>\n",
       "      <td>62.9</td>\n",
       "      <td>77.7</td>\n",
       "      <td>59.9</td>\n",
       "      <td>...</td>\n",
       "      <td>252.9</td>\n",
       "      <td>41.9</td>\n",
       "      <td>68.6</td>\n",
       "      <td>60.0</td>\n",
       "      <td>82.4</td>\n",
       "      <td>105</td>\n",
       "      <td>0</td>\n",
       "      <td>200000</td>\n",
       "      <td>Sacador</td>\n",
       "      <td>85.54</td>\n",
       "    </tr>\n",
       "    <tr>\n",
       "      <th>3</th>\n",
       "      <td>100</td>\n",
       "      <td>Ivo Karlovic</td>\n",
       "      <td>Croatia</td>\n",
       "      <td>33</td>\n",
       "      <td>211</td>\n",
       "      <td>2012</td>\n",
       "      <td>296.9</td>\n",
       "      <td>64.9</td>\n",
       "      <td>79.1</td>\n",
       "      <td>51.6</td>\n",
       "      <td>...</td>\n",
       "      <td>173.6</td>\n",
       "      <td>28.0</td>\n",
       "      <td>64.3</td>\n",
       "      <td>56.3</td>\n",
       "      <td>25.0</td>\n",
       "      <td>117</td>\n",
       "      <td>1</td>\n",
       "      <td>50000</td>\n",
       "      <td>Sacador</td>\n",
       "      <td>48.48</td>\n",
       "    </tr>\n",
       "    <tr>\n",
       "      <th>4</th>\n",
       "      <td>4</td>\n",
       "      <td>Rafael Nadal</td>\n",
       "      <td>Spain</td>\n",
       "      <td>26</td>\n",
       "      <td>185</td>\n",
       "      <td>2012</td>\n",
       "      <td>289.0</td>\n",
       "      <td>67.4</td>\n",
       "      <td>74.6</td>\n",
       "      <td>57.1</td>\n",
       "      <td>...</td>\n",
       "      <td>242.4</td>\n",
       "      <td>49.2</td>\n",
       "      <td>70.5</td>\n",
       "      <td>72.7</td>\n",
       "      <td>50.0</td>\n",
       "      <td>124</td>\n",
       "      <td>0</td>\n",
       "      <td>200000</td>\n",
       "      <td>Restador</td>\n",
       "      <td>87.50</td>\n",
       "    </tr>\n",
       "    <tr>\n",
       "      <th>...</th>\n",
       "      <td>...</td>\n",
       "      <td>...</td>\n",
       "      <td>...</td>\n",
       "      <td>...</td>\n",
       "      <td>...</td>\n",
       "      <td>...</td>\n",
       "      <td>...</td>\n",
       "      <td>...</td>\n",
       "      <td>...</td>\n",
       "      <td>...</td>\n",
       "      <td>...</td>\n",
       "      <td>...</td>\n",
       "      <td>...</td>\n",
       "      <td>...</td>\n",
       "      <td>...</td>\n",
       "      <td>...</td>\n",
       "      <td>...</td>\n",
       "      <td>...</td>\n",
       "      <td>...</td>\n",
       "      <td>...</td>\n",
       "      <td>...</td>\n",
       "    </tr>\n",
       "    <tr>\n",
       "      <th>80</th>\n",
       "      <td>42</td>\n",
       "      <td>Pablo Andujar</td>\n",
       "      <td>Spain</td>\n",
       "      <td>27</td>\n",
       "      <td>180</td>\n",
       "      <td>2012</td>\n",
       "      <td>235.3</td>\n",
       "      <td>59.3</td>\n",
       "      <td>64.5</td>\n",
       "      <td>47.5</td>\n",
       "      <td>...</td>\n",
       "      <td>193.0</td>\n",
       "      <td>40.3</td>\n",
       "      <td>52.7</td>\n",
       "      <td>61.1</td>\n",
       "      <td>38.9</td>\n",
       "      <td>118</td>\n",
       "      <td>1</td>\n",
       "      <td>50000</td>\n",
       "      <td>Restador</td>\n",
       "      <td>39.58</td>\n",
       "    </tr>\n",
       "    <tr>\n",
       "      <th>81</th>\n",
       "      <td>95</td>\n",
       "      <td>Flavio Cipolla</td>\n",
       "      <td>Italy</td>\n",
       "      <td>29</td>\n",
       "      <td>173</td>\n",
       "      <td>2012</td>\n",
       "      <td>235.0</td>\n",
       "      <td>70.2</td>\n",
       "      <td>60.4</td>\n",
       "      <td>44.2</td>\n",
       "      <td>...</td>\n",
       "      <td>211.5</td>\n",
       "      <td>44.8</td>\n",
       "      <td>55.6</td>\n",
       "      <td>66.7</td>\n",
       "      <td>44.4</td>\n",
       "      <td>104</td>\n",
       "      <td>1</td>\n",
       "      <td>50000</td>\n",
       "      <td>Restador</td>\n",
       "      <td>42.50</td>\n",
       "    </tr>\n",
       "    <tr>\n",
       "      <th>82</th>\n",
       "      <td>80</td>\n",
       "      <td>Roberto Bautista Agut</td>\n",
       "      <td>Spain</td>\n",
       "      <td>24</td>\n",
       "      <td>183</td>\n",
       "      <td>2012</td>\n",
       "      <td>233.5</td>\n",
       "      <td>60.7</td>\n",
       "      <td>64.4</td>\n",
       "      <td>44.4</td>\n",
       "      <td>...</td>\n",
       "      <td>142.9</td>\n",
       "      <td>35.0</td>\n",
       "      <td>57.9</td>\n",
       "      <td>0.0</td>\n",
       "      <td>50.0</td>\n",
       "      <td>106</td>\n",
       "      <td>1</td>\n",
       "      <td>50000</td>\n",
       "      <td>Restador</td>\n",
       "      <td>23.10</td>\n",
       "    </tr>\n",
       "    <tr>\n",
       "      <th>83</th>\n",
       "      <td>192</td>\n",
       "      <td>Adrian Mannarino</td>\n",
       "      <td>France</td>\n",
       "      <td>25</td>\n",
       "      <td>181</td>\n",
       "      <td>2012</td>\n",
       "      <td>227.4</td>\n",
       "      <td>60.0</td>\n",
       "      <td>65.7</td>\n",
       "      <td>40.2</td>\n",
       "      <td>...</td>\n",
       "      <td>78.2</td>\n",
       "      <td>32.4</td>\n",
       "      <td>45.8</td>\n",
       "      <td>0.0</td>\n",
       "      <td>0.0</td>\n",
       "      <td>86</td>\n",
       "      <td>1</td>\n",
       "      <td>50000</td>\n",
       "      <td>Equilibrado</td>\n",
       "      <td>12.50</td>\n",
       "    </tr>\n",
       "    <tr>\n",
       "      <th>84</th>\n",
       "      <td>420</td>\n",
       "      <td>Filip Krajinovic</td>\n",
       "      <td>Serbia</td>\n",
       "      <td>21</td>\n",
       "      <td>185</td>\n",
       "      <td>2012</td>\n",
       "      <td>186.5</td>\n",
       "      <td>58.6</td>\n",
       "      <td>51.6</td>\n",
       "      <td>37.3</td>\n",
       "      <td>...</td>\n",
       "      <td>94.0</td>\n",
       "      <td>66.7</td>\n",
       "      <td>27.3</td>\n",
       "      <td>0.0</td>\n",
       "      <td>0.0</td>\n",
       "      <td>77</td>\n",
       "      <td>0</td>\n",
       "      <td>50000</td>\n",
       "      <td>Restador</td>\n",
       "      <td>33.30</td>\n",
       "    </tr>\n",
       "  </tbody>\n",
       "</table>\n",
       "<p>85 rows × 28 columns</p>\n",
       "</div>"
      ],
      "text/plain": [
       "    Ranking                Jugador   Nacionalidad  Edad  Altura cm   Año  \\\n",
       "0        14             John Isner  United States    27        208  2012   \n",
       "1        13           Milos Raonic         Canada    22        196  2012   \n",
       "2         2          Roger Federer    Switzerland    31        185  2012   \n",
       "3       100           Ivo Karlovic        Croatia    33        211  2012   \n",
       "4         4           Rafael Nadal          Spain    26        185  2012   \n",
       "..      ...                    ...            ...   ...        ...   ...   \n",
       "80       42          Pablo Andujar          Spain    27        180  2012   \n",
       "81       95         Flavio Cipolla          Italy    29        173  2012   \n",
       "82       80  Roberto Bautista Agut          Spain    24        183  2012   \n",
       "83      192       Adrian Mannarino         France    25        181  2012   \n",
       "84      420       Filip Krajinovic         Serbia    21        185  2012   \n",
       "\n",
       "    Efectividad Al Saque ©  % 1er Servicio  % Puntos Ganados 1er Saque  \\\n",
       "0                    309.3            68.7                        77.8   \n",
       "1                    305.0            61.7                        82.3   \n",
       "2                    298.3            62.9                        77.7   \n",
       "3                    296.9            64.9                        79.1   \n",
       "4                    289.0            67.4                        74.6   \n",
       "..                     ...             ...                         ...   \n",
       "80                   235.3            59.3                        64.5   \n",
       "81                   235.0            70.2                        60.4   \n",
       "82                   233.5            60.7                        64.4   \n",
       "83                   227.4            60.0                        65.7   \n",
       "84                   186.5            58.6                        51.6   \n",
       "\n",
       "    % Puntos Ganados 2do Saque  ...  Efectividad Bajo Presión  \\\n",
       "0                         56.6  ...                     232.4   \n",
       "1                         55.5  ...                     214.9   \n",
       "2                         59.9  ...                     252.9   \n",
       "3                         51.6  ...                     173.6   \n",
       "4                         57.1  ...                     242.4   \n",
       "..                         ...  ...                       ...   \n",
       "80                        47.5  ...                     193.0   \n",
       "81                        44.2  ...                     211.5   \n",
       "82                        44.4  ...                     142.9   \n",
       "83                        40.2  ...                      78.2   \n",
       "84                        37.3  ...                      94.0   \n",
       "\n",
       "    % Break Points Convertidos.1  % Break Points Salvados  \\\n",
       "0                           30.9                     73.6   \n",
       "1                           38.8                     73.9   \n",
       "2                           41.9                     68.6   \n",
       "3                           28.0                     64.3   \n",
       "4                           49.2                     70.5   \n",
       "..                           ...                      ...   \n",
       "80                          40.3                     52.7   \n",
       "81                          44.8                     55.6   \n",
       "82                          35.0                     57.9   \n",
       "83                          32.4                     45.8   \n",
       "84                          66.7                     27.3   \n",
       "\n",
       "    % Tie Breaks Ganados  % Victorias Sets Definitivos  \\\n",
       "0                   67.9                          60.0   \n",
       "1                   55.1                          47.1   \n",
       "2                   60.0                          82.4   \n",
       "3                   56.3                          25.0   \n",
       "4                   72.7                          50.0   \n",
       "..                   ...                           ...   \n",
       "80                  61.1                          38.9   \n",
       "81                  66.7                          44.4   \n",
       "82                   0.0                          50.0   \n",
       "83                   0.0                           0.0   \n",
       "84                   0.0                           0.0   \n",
       "\n",
       "    Tiempo de partido (min)  Lesiones  Tarifa Jugador  Perfil jugador  \\\n",
       "0                       120         0          100000         Sacador   \n",
       "1                       110         1          100000         Sacador   \n",
       "2                       105         0          200000         Sacador   \n",
       "3                       117         1           50000         Sacador   \n",
       "4                       124         0          200000        Restador   \n",
       "..                      ...       ...             ...             ...   \n",
       "80                      118         1           50000        Restador   \n",
       "81                      104         1           50000        Restador   \n",
       "82                      106         1           50000        Restador   \n",
       "83                       86         1           50000     Equilibrado   \n",
       "84                       77         0           50000        Restador   \n",
       "\n",
       "    % de Victorias   \n",
       "0             68.18  \n",
       "1             69.23  \n",
       "2             85.54  \n",
       "3             48.48  \n",
       "4             87.50  \n",
       "..              ...  \n",
       "80            39.58  \n",
       "81            42.50  \n",
       "82            23.10  \n",
       "83            12.50  \n",
       "84            33.30  \n",
       "\n",
       "[85 rows x 28 columns]"
      ]
     },
     "execution_count": 12,
     "metadata": {},
     "output_type": "execute_result"
    }
   ],
   "source": [
    "tdf_2012"
   ]
  },
  {
   "cell_type": "code",
   "execution_count": 514,
   "metadata": {
    "scrolled": true
   },
   "outputs": [
    {
     "data": {
      "text/plain": [
       "85"
      ]
     },
     "execution_count": 514,
     "metadata": {},
     "output_type": "execute_result"
    }
   ],
   "source": [
    "sum(nacionalidad_jugadores)"
   ]
  },
  {
   "cell_type": "code",
   "execution_count": 515,
   "metadata": {},
   "outputs": [],
   "source": [
    "# Identificación de mercados potenciales"
   ]
  },
  {
   "cell_type": "code",
   "execution_count": 51,
   "metadata": {},
   "outputs": [],
   "source": [
    "nacionalidad_jugadores=tdf_2012[(tdf_2012['Año']==2012)].groupby('Nacionalidad')['Jugador'].count().sort_values(ascending=False)"
   ]
  },
  {
   "cell_type": "code",
   "execution_count": 49,
   "metadata": {},
   "outputs": [
    {
     "data": {
      "application/vnd.plotly.v1+json": {
       "config": {
        "plotlyServerURL": "https://plot.ly"
       },
       "data": [
        {
         "alignmentgroup": "True",
         "hovertemplate": "variable=Nacionalidad<br>index=%{x}<br>value=%{y}<extra></extra>",
         "legendgroup": "Nacionalidad",
         "marker": {
          "color": "#636efa"
         },
         "name": "Nacionalidad",
         "offsetgroup": "Nacionalidad",
         "orientation": "v",
         "showlegend": true,
         "textposition": "auto",
         "type": "bar",
         "x": [
          "France",
          "Spain",
          "United States",
          "Serbia",
          "Argentina",
          "Australia",
          "Belgium",
          "Italy",
          "Germany",
          "Czech Republic",
          "Russian Federation",
          "Croatia",
          "Austria",
          "Switzerland",
          "Japan",
          "United Kingdom",
          "Slovakia",
          "Colombia",
          "Ukraine",
          "Cyprus",
          "Hungary",
          "Finland",
          "Luxembourg",
          "Brazil",
          "Bulgaria",
          "Poland",
          "Netherlands",
          "Taiwan",
          "Uzbekistan",
          "Canada",
          "South Africa"
         ],
         "xaxis": "x",
         "y": [
          11,
          10,
          5,
          5,
          4,
          4,
          4,
          4,
          3,
          3,
          3,
          3,
          2,
          2,
          2,
          2,
          2,
          2,
          2,
          1,
          1,
          1,
          1,
          1,
          1,
          1,
          1,
          1,
          1,
          1,
          1
         ],
         "yaxis": "y"
        }
       ],
       "layout": {
        "barmode": "relative",
        "legend": {
         "title": {
          "text": "variable"
         },
         "tracegroupgap": 0
        },
        "margin": {
         "t": 60
        },
        "template": {
         "data": {
          "bar": [
           {
            "error_x": {
             "color": "#2a3f5f"
            },
            "error_y": {
             "color": "#2a3f5f"
            },
            "marker": {
             "line": {
              "color": "#E5ECF6",
              "width": 0.5
             }
            },
            "type": "bar"
           }
          ],
          "barpolar": [
           {
            "marker": {
             "line": {
              "color": "#E5ECF6",
              "width": 0.5
             }
            },
            "type": "barpolar"
           }
          ],
          "carpet": [
           {
            "aaxis": {
             "endlinecolor": "#2a3f5f",
             "gridcolor": "white",
             "linecolor": "white",
             "minorgridcolor": "white",
             "startlinecolor": "#2a3f5f"
            },
            "baxis": {
             "endlinecolor": "#2a3f5f",
             "gridcolor": "white",
             "linecolor": "white",
             "minorgridcolor": "white",
             "startlinecolor": "#2a3f5f"
            },
            "type": "carpet"
           }
          ],
          "choropleth": [
           {
            "colorbar": {
             "outlinewidth": 0,
             "ticks": ""
            },
            "type": "choropleth"
           }
          ],
          "contour": [
           {
            "colorbar": {
             "outlinewidth": 0,
             "ticks": ""
            },
            "colorscale": [
             [
              0,
              "#0d0887"
             ],
             [
              0.1111111111111111,
              "#46039f"
             ],
             [
              0.2222222222222222,
              "#7201a8"
             ],
             [
              0.3333333333333333,
              "#9c179e"
             ],
             [
              0.4444444444444444,
              "#bd3786"
             ],
             [
              0.5555555555555556,
              "#d8576b"
             ],
             [
              0.6666666666666666,
              "#ed7953"
             ],
             [
              0.7777777777777778,
              "#fb9f3a"
             ],
             [
              0.8888888888888888,
              "#fdca26"
             ],
             [
              1,
              "#f0f921"
             ]
            ],
            "type": "contour"
           }
          ],
          "contourcarpet": [
           {
            "colorbar": {
             "outlinewidth": 0,
             "ticks": ""
            },
            "type": "contourcarpet"
           }
          ],
          "heatmap": [
           {
            "colorbar": {
             "outlinewidth": 0,
             "ticks": ""
            },
            "colorscale": [
             [
              0,
              "#0d0887"
             ],
             [
              0.1111111111111111,
              "#46039f"
             ],
             [
              0.2222222222222222,
              "#7201a8"
             ],
             [
              0.3333333333333333,
              "#9c179e"
             ],
             [
              0.4444444444444444,
              "#bd3786"
             ],
             [
              0.5555555555555556,
              "#d8576b"
             ],
             [
              0.6666666666666666,
              "#ed7953"
             ],
             [
              0.7777777777777778,
              "#fb9f3a"
             ],
             [
              0.8888888888888888,
              "#fdca26"
             ],
             [
              1,
              "#f0f921"
             ]
            ],
            "type": "heatmap"
           }
          ],
          "heatmapgl": [
           {
            "colorbar": {
             "outlinewidth": 0,
             "ticks": ""
            },
            "colorscale": [
             [
              0,
              "#0d0887"
             ],
             [
              0.1111111111111111,
              "#46039f"
             ],
             [
              0.2222222222222222,
              "#7201a8"
             ],
             [
              0.3333333333333333,
              "#9c179e"
             ],
             [
              0.4444444444444444,
              "#bd3786"
             ],
             [
              0.5555555555555556,
              "#d8576b"
             ],
             [
              0.6666666666666666,
              "#ed7953"
             ],
             [
              0.7777777777777778,
              "#fb9f3a"
             ],
             [
              0.8888888888888888,
              "#fdca26"
             ],
             [
              1,
              "#f0f921"
             ]
            ],
            "type": "heatmapgl"
           }
          ],
          "histogram": [
           {
            "marker": {
             "colorbar": {
              "outlinewidth": 0,
              "ticks": ""
             }
            },
            "type": "histogram"
           }
          ],
          "histogram2d": [
           {
            "colorbar": {
             "outlinewidth": 0,
             "ticks": ""
            },
            "colorscale": [
             [
              0,
              "#0d0887"
             ],
             [
              0.1111111111111111,
              "#46039f"
             ],
             [
              0.2222222222222222,
              "#7201a8"
             ],
             [
              0.3333333333333333,
              "#9c179e"
             ],
             [
              0.4444444444444444,
              "#bd3786"
             ],
             [
              0.5555555555555556,
              "#d8576b"
             ],
             [
              0.6666666666666666,
              "#ed7953"
             ],
             [
              0.7777777777777778,
              "#fb9f3a"
             ],
             [
              0.8888888888888888,
              "#fdca26"
             ],
             [
              1,
              "#f0f921"
             ]
            ],
            "type": "histogram2d"
           }
          ],
          "histogram2dcontour": [
           {
            "colorbar": {
             "outlinewidth": 0,
             "ticks": ""
            },
            "colorscale": [
             [
              0,
              "#0d0887"
             ],
             [
              0.1111111111111111,
              "#46039f"
             ],
             [
              0.2222222222222222,
              "#7201a8"
             ],
             [
              0.3333333333333333,
              "#9c179e"
             ],
             [
              0.4444444444444444,
              "#bd3786"
             ],
             [
              0.5555555555555556,
              "#d8576b"
             ],
             [
              0.6666666666666666,
              "#ed7953"
             ],
             [
              0.7777777777777778,
              "#fb9f3a"
             ],
             [
              0.8888888888888888,
              "#fdca26"
             ],
             [
              1,
              "#f0f921"
             ]
            ],
            "type": "histogram2dcontour"
           }
          ],
          "mesh3d": [
           {
            "colorbar": {
             "outlinewidth": 0,
             "ticks": ""
            },
            "type": "mesh3d"
           }
          ],
          "parcoords": [
           {
            "line": {
             "colorbar": {
              "outlinewidth": 0,
              "ticks": ""
             }
            },
            "type": "parcoords"
           }
          ],
          "pie": [
           {
            "automargin": true,
            "type": "pie"
           }
          ],
          "scatter": [
           {
            "marker": {
             "colorbar": {
              "outlinewidth": 0,
              "ticks": ""
             }
            },
            "type": "scatter"
           }
          ],
          "scatter3d": [
           {
            "line": {
             "colorbar": {
              "outlinewidth": 0,
              "ticks": ""
             }
            },
            "marker": {
             "colorbar": {
              "outlinewidth": 0,
              "ticks": ""
             }
            },
            "type": "scatter3d"
           }
          ],
          "scattercarpet": [
           {
            "marker": {
             "colorbar": {
              "outlinewidth": 0,
              "ticks": ""
             }
            },
            "type": "scattercarpet"
           }
          ],
          "scattergeo": [
           {
            "marker": {
             "colorbar": {
              "outlinewidth": 0,
              "ticks": ""
             }
            },
            "type": "scattergeo"
           }
          ],
          "scattergl": [
           {
            "marker": {
             "colorbar": {
              "outlinewidth": 0,
              "ticks": ""
             }
            },
            "type": "scattergl"
           }
          ],
          "scattermapbox": [
           {
            "marker": {
             "colorbar": {
              "outlinewidth": 0,
              "ticks": ""
             }
            },
            "type": "scattermapbox"
           }
          ],
          "scatterpolar": [
           {
            "marker": {
             "colorbar": {
              "outlinewidth": 0,
              "ticks": ""
             }
            },
            "type": "scatterpolar"
           }
          ],
          "scatterpolargl": [
           {
            "marker": {
             "colorbar": {
              "outlinewidth": 0,
              "ticks": ""
             }
            },
            "type": "scatterpolargl"
           }
          ],
          "scatterternary": [
           {
            "marker": {
             "colorbar": {
              "outlinewidth": 0,
              "ticks": ""
             }
            },
            "type": "scatterternary"
           }
          ],
          "surface": [
           {
            "colorbar": {
             "outlinewidth": 0,
             "ticks": ""
            },
            "colorscale": [
             [
              0,
              "#0d0887"
             ],
             [
              0.1111111111111111,
              "#46039f"
             ],
             [
              0.2222222222222222,
              "#7201a8"
             ],
             [
              0.3333333333333333,
              "#9c179e"
             ],
             [
              0.4444444444444444,
              "#bd3786"
             ],
             [
              0.5555555555555556,
              "#d8576b"
             ],
             [
              0.6666666666666666,
              "#ed7953"
             ],
             [
              0.7777777777777778,
              "#fb9f3a"
             ],
             [
              0.8888888888888888,
              "#fdca26"
             ],
             [
              1,
              "#f0f921"
             ]
            ],
            "type": "surface"
           }
          ],
          "table": [
           {
            "cells": {
             "fill": {
              "color": "#EBF0F8"
             },
             "line": {
              "color": "white"
             }
            },
            "header": {
             "fill": {
              "color": "#C8D4E3"
             },
             "line": {
              "color": "white"
             }
            },
            "type": "table"
           }
          ]
         },
         "layout": {
          "annotationdefaults": {
           "arrowcolor": "#2a3f5f",
           "arrowhead": 0,
           "arrowwidth": 1
          },
          "autotypenumbers": "strict",
          "coloraxis": {
           "colorbar": {
            "outlinewidth": 0,
            "ticks": ""
           }
          },
          "colorscale": {
           "diverging": [
            [
             0,
             "#8e0152"
            ],
            [
             0.1,
             "#c51b7d"
            ],
            [
             0.2,
             "#de77ae"
            ],
            [
             0.3,
             "#f1b6da"
            ],
            [
             0.4,
             "#fde0ef"
            ],
            [
             0.5,
             "#f7f7f7"
            ],
            [
             0.6,
             "#e6f5d0"
            ],
            [
             0.7,
             "#b8e186"
            ],
            [
             0.8,
             "#7fbc41"
            ],
            [
             0.9,
             "#4d9221"
            ],
            [
             1,
             "#276419"
            ]
           ],
           "sequential": [
            [
             0,
             "#0d0887"
            ],
            [
             0.1111111111111111,
             "#46039f"
            ],
            [
             0.2222222222222222,
             "#7201a8"
            ],
            [
             0.3333333333333333,
             "#9c179e"
            ],
            [
             0.4444444444444444,
             "#bd3786"
            ],
            [
             0.5555555555555556,
             "#d8576b"
            ],
            [
             0.6666666666666666,
             "#ed7953"
            ],
            [
             0.7777777777777778,
             "#fb9f3a"
            ],
            [
             0.8888888888888888,
             "#fdca26"
            ],
            [
             1,
             "#f0f921"
            ]
           ],
           "sequentialminus": [
            [
             0,
             "#0d0887"
            ],
            [
             0.1111111111111111,
             "#46039f"
            ],
            [
             0.2222222222222222,
             "#7201a8"
            ],
            [
             0.3333333333333333,
             "#9c179e"
            ],
            [
             0.4444444444444444,
             "#bd3786"
            ],
            [
             0.5555555555555556,
             "#d8576b"
            ],
            [
             0.6666666666666666,
             "#ed7953"
            ],
            [
             0.7777777777777778,
             "#fb9f3a"
            ],
            [
             0.8888888888888888,
             "#fdca26"
            ],
            [
             1,
             "#f0f921"
            ]
           ]
          },
          "colorway": [
           "#636efa",
           "#EF553B",
           "#00cc96",
           "#ab63fa",
           "#FFA15A",
           "#19d3f3",
           "#FF6692",
           "#B6E880",
           "#FF97FF",
           "#FECB52"
          ],
          "font": {
           "color": "#2a3f5f"
          },
          "geo": {
           "bgcolor": "white",
           "lakecolor": "white",
           "landcolor": "#E5ECF6",
           "showlakes": true,
           "showland": true,
           "subunitcolor": "white"
          },
          "hoverlabel": {
           "align": "left"
          },
          "hovermode": "closest",
          "mapbox": {
           "style": "light"
          },
          "paper_bgcolor": "white",
          "plot_bgcolor": "#E5ECF6",
          "polar": {
           "angularaxis": {
            "gridcolor": "white",
            "linecolor": "white",
            "ticks": ""
           },
           "bgcolor": "#E5ECF6",
           "radialaxis": {
            "gridcolor": "white",
            "linecolor": "white",
            "ticks": ""
           }
          },
          "scene": {
           "xaxis": {
            "backgroundcolor": "#E5ECF6",
            "gridcolor": "white",
            "gridwidth": 2,
            "linecolor": "white",
            "showbackground": true,
            "ticks": "",
            "zerolinecolor": "white"
           },
           "yaxis": {
            "backgroundcolor": "#E5ECF6",
            "gridcolor": "white",
            "gridwidth": 2,
            "linecolor": "white",
            "showbackground": true,
            "ticks": "",
            "zerolinecolor": "white"
           },
           "zaxis": {
            "backgroundcolor": "#E5ECF6",
            "gridcolor": "white",
            "gridwidth": 2,
            "linecolor": "white",
            "showbackground": true,
            "ticks": "",
            "zerolinecolor": "white"
           }
          },
          "shapedefaults": {
           "line": {
            "color": "#2a3f5f"
           }
          },
          "ternary": {
           "aaxis": {
            "gridcolor": "white",
            "linecolor": "white",
            "ticks": ""
           },
           "baxis": {
            "gridcolor": "white",
            "linecolor": "white",
            "ticks": ""
           },
           "bgcolor": "#E5ECF6",
           "caxis": {
            "gridcolor": "white",
            "linecolor": "white",
            "ticks": ""
           }
          },
          "title": {
           "x": 0.05
          },
          "xaxis": {
           "automargin": true,
           "gridcolor": "white",
           "linecolor": "white",
           "ticks": "",
           "title": {
            "standoff": 15
           },
           "zerolinecolor": "white",
           "zerolinewidth": 2
          },
          "yaxis": {
           "automargin": true,
           "gridcolor": "white",
           "linecolor": "white",
           "ticks": "",
           "title": {
            "standoff": 15
           },
           "zerolinecolor": "white",
           "zerolinewidth": 2
          }
         }
        },
        "xaxis": {
         "anchor": "y",
         "domain": [
          0,
          1
         ],
         "title": {
          "text": "index"
         }
        },
        "yaxis": {
         "anchor": "x",
         "domain": [
          0,
          1
         ],
         "title": {
          "text": "value"
         }
        }
       }
      },
      "text/html": [
       "<div>                            <div id=\"3e114bfe-eff0-4c6a-a675-d5d2e26e79d7\" class=\"plotly-graph-div\" style=\"height:525px; width:100%;\"></div>            <script type=\"text/javascript\">                require([\"plotly\"], function(Plotly) {                    window.PLOTLYENV=window.PLOTLYENV || {};                                    if (document.getElementById(\"3e114bfe-eff0-4c6a-a675-d5d2e26e79d7\")) {                    Plotly.newPlot(                        \"3e114bfe-eff0-4c6a-a675-d5d2e26e79d7\",                        [{\"alignmentgroup\": \"True\", \"hovertemplate\": \"variable=Nacionalidad<br>index=%{x}<br>value=%{y}<extra></extra>\", \"legendgroup\": \"Nacionalidad\", \"marker\": {\"color\": \"#636efa\"}, \"name\": \"Nacionalidad\", \"offsetgroup\": \"Nacionalidad\", \"orientation\": \"v\", \"showlegend\": true, \"textposition\": \"auto\", \"type\": \"bar\", \"x\": [\"France\", \"Spain\", \"United States\", \"Serbia\", \"Argentina\", \"Australia\", \"Belgium\", \"Italy\", \"Germany\", \"Czech Republic\", \"Russian Federation\", \"Croatia\", \"Austria\", \"Switzerland\", \"Japan\", \"United Kingdom\", \"Slovakia\", \"Colombia\", \"Ukraine\", \"Cyprus\", \"Hungary\", \"Finland\", \"Luxembourg\", \"Brazil\", \"Bulgaria\", \"Poland\", \"Netherlands\", \"Taiwan\", \"Uzbekistan\", \"Canada\", \"South Africa\"], \"xaxis\": \"x\", \"y\": [11, 10, 5, 5, 4, 4, 4, 4, 3, 3, 3, 3, 2, 2, 2, 2, 2, 2, 2, 1, 1, 1, 1, 1, 1, 1, 1, 1, 1, 1, 1], \"yaxis\": \"y\"}],                        {\"barmode\": \"relative\", \"legend\": {\"title\": {\"text\": \"variable\"}, \"tracegroupgap\": 0}, \"margin\": {\"t\": 60}, \"template\": {\"data\": {\"bar\": [{\"error_x\": {\"color\": \"#2a3f5f\"}, \"error_y\": {\"color\": \"#2a3f5f\"}, \"marker\": {\"line\": {\"color\": \"#E5ECF6\", \"width\": 0.5}}, \"type\": \"bar\"}], \"barpolar\": [{\"marker\": {\"line\": {\"color\": \"#E5ECF6\", \"width\": 0.5}}, \"type\": \"barpolar\"}], \"carpet\": [{\"aaxis\": {\"endlinecolor\": \"#2a3f5f\", \"gridcolor\": \"white\", \"linecolor\": \"white\", \"minorgridcolor\": \"white\", \"startlinecolor\": \"#2a3f5f\"}, \"baxis\": {\"endlinecolor\": \"#2a3f5f\", \"gridcolor\": \"white\", \"linecolor\": \"white\", \"minorgridcolor\": \"white\", \"startlinecolor\": \"#2a3f5f\"}, \"type\": \"carpet\"}], \"choropleth\": [{\"colorbar\": {\"outlinewidth\": 0, \"ticks\": \"\"}, \"type\": \"choropleth\"}], \"contour\": [{\"colorbar\": {\"outlinewidth\": 0, \"ticks\": \"\"}, \"colorscale\": [[0.0, \"#0d0887\"], [0.1111111111111111, \"#46039f\"], [0.2222222222222222, \"#7201a8\"], [0.3333333333333333, \"#9c179e\"], [0.4444444444444444, \"#bd3786\"], [0.5555555555555556, \"#d8576b\"], [0.6666666666666666, \"#ed7953\"], [0.7777777777777778, \"#fb9f3a\"], [0.8888888888888888, \"#fdca26\"], [1.0, \"#f0f921\"]], \"type\": \"contour\"}], \"contourcarpet\": [{\"colorbar\": {\"outlinewidth\": 0, \"ticks\": \"\"}, \"type\": \"contourcarpet\"}], \"heatmap\": [{\"colorbar\": {\"outlinewidth\": 0, \"ticks\": \"\"}, \"colorscale\": [[0.0, \"#0d0887\"], [0.1111111111111111, \"#46039f\"], [0.2222222222222222, \"#7201a8\"], [0.3333333333333333, \"#9c179e\"], [0.4444444444444444, \"#bd3786\"], [0.5555555555555556, \"#d8576b\"], [0.6666666666666666, \"#ed7953\"], [0.7777777777777778, \"#fb9f3a\"], [0.8888888888888888, \"#fdca26\"], [1.0, \"#f0f921\"]], \"type\": \"heatmap\"}], \"heatmapgl\": [{\"colorbar\": {\"outlinewidth\": 0, \"ticks\": \"\"}, \"colorscale\": [[0.0, \"#0d0887\"], [0.1111111111111111, \"#46039f\"], [0.2222222222222222, \"#7201a8\"], [0.3333333333333333, \"#9c179e\"], [0.4444444444444444, \"#bd3786\"], [0.5555555555555556, \"#d8576b\"], [0.6666666666666666, \"#ed7953\"], [0.7777777777777778, \"#fb9f3a\"], [0.8888888888888888, \"#fdca26\"], [1.0, \"#f0f921\"]], \"type\": \"heatmapgl\"}], \"histogram\": [{\"marker\": {\"colorbar\": {\"outlinewidth\": 0, \"ticks\": \"\"}}, \"type\": \"histogram\"}], \"histogram2d\": [{\"colorbar\": {\"outlinewidth\": 0, \"ticks\": \"\"}, \"colorscale\": [[0.0, \"#0d0887\"], [0.1111111111111111, \"#46039f\"], [0.2222222222222222, \"#7201a8\"], [0.3333333333333333, \"#9c179e\"], [0.4444444444444444, \"#bd3786\"], [0.5555555555555556, \"#d8576b\"], [0.6666666666666666, \"#ed7953\"], [0.7777777777777778, \"#fb9f3a\"], [0.8888888888888888, \"#fdca26\"], [1.0, \"#f0f921\"]], \"type\": \"histogram2d\"}], \"histogram2dcontour\": [{\"colorbar\": {\"outlinewidth\": 0, \"ticks\": \"\"}, \"colorscale\": [[0.0, \"#0d0887\"], [0.1111111111111111, \"#46039f\"], [0.2222222222222222, \"#7201a8\"], [0.3333333333333333, \"#9c179e\"], [0.4444444444444444, \"#bd3786\"], [0.5555555555555556, \"#d8576b\"], [0.6666666666666666, \"#ed7953\"], [0.7777777777777778, \"#fb9f3a\"], [0.8888888888888888, \"#fdca26\"], [1.0, \"#f0f921\"]], \"type\": \"histogram2dcontour\"}], \"mesh3d\": [{\"colorbar\": {\"outlinewidth\": 0, \"ticks\": \"\"}, \"type\": \"mesh3d\"}], \"parcoords\": [{\"line\": {\"colorbar\": {\"outlinewidth\": 0, \"ticks\": \"\"}}, \"type\": \"parcoords\"}], \"pie\": [{\"automargin\": true, \"type\": \"pie\"}], \"scatter\": [{\"marker\": {\"colorbar\": {\"outlinewidth\": 0, \"ticks\": \"\"}}, \"type\": \"scatter\"}], \"scatter3d\": [{\"line\": {\"colorbar\": {\"outlinewidth\": 0, \"ticks\": \"\"}}, \"marker\": {\"colorbar\": {\"outlinewidth\": 0, \"ticks\": \"\"}}, \"type\": \"scatter3d\"}], \"scattercarpet\": [{\"marker\": {\"colorbar\": {\"outlinewidth\": 0, \"ticks\": \"\"}}, \"type\": \"scattercarpet\"}], \"scattergeo\": [{\"marker\": {\"colorbar\": {\"outlinewidth\": 0, \"ticks\": \"\"}}, \"type\": \"scattergeo\"}], \"scattergl\": [{\"marker\": {\"colorbar\": {\"outlinewidth\": 0, \"ticks\": \"\"}}, \"type\": \"scattergl\"}], \"scattermapbox\": [{\"marker\": {\"colorbar\": {\"outlinewidth\": 0, \"ticks\": \"\"}}, \"type\": \"scattermapbox\"}], \"scatterpolar\": [{\"marker\": {\"colorbar\": {\"outlinewidth\": 0, \"ticks\": \"\"}}, \"type\": \"scatterpolar\"}], \"scatterpolargl\": [{\"marker\": {\"colorbar\": {\"outlinewidth\": 0, \"ticks\": \"\"}}, \"type\": \"scatterpolargl\"}], \"scatterternary\": [{\"marker\": {\"colorbar\": {\"outlinewidth\": 0, \"ticks\": \"\"}}, \"type\": \"scatterternary\"}], \"surface\": [{\"colorbar\": {\"outlinewidth\": 0, \"ticks\": \"\"}, \"colorscale\": [[0.0, \"#0d0887\"], [0.1111111111111111, \"#46039f\"], [0.2222222222222222, \"#7201a8\"], [0.3333333333333333, \"#9c179e\"], [0.4444444444444444, \"#bd3786\"], [0.5555555555555556, \"#d8576b\"], [0.6666666666666666, \"#ed7953\"], [0.7777777777777778, \"#fb9f3a\"], [0.8888888888888888, \"#fdca26\"], [1.0, \"#f0f921\"]], \"type\": \"surface\"}], \"table\": [{\"cells\": {\"fill\": {\"color\": \"#EBF0F8\"}, \"line\": {\"color\": \"white\"}}, \"header\": {\"fill\": {\"color\": \"#C8D4E3\"}, \"line\": {\"color\": \"white\"}}, \"type\": \"table\"}]}, \"layout\": {\"annotationdefaults\": {\"arrowcolor\": \"#2a3f5f\", \"arrowhead\": 0, \"arrowwidth\": 1}, \"autotypenumbers\": \"strict\", \"coloraxis\": {\"colorbar\": {\"outlinewidth\": 0, \"ticks\": \"\"}}, \"colorscale\": {\"diverging\": [[0, \"#8e0152\"], [0.1, \"#c51b7d\"], [0.2, \"#de77ae\"], [0.3, \"#f1b6da\"], [0.4, \"#fde0ef\"], [0.5, \"#f7f7f7\"], [0.6, \"#e6f5d0\"], [0.7, \"#b8e186\"], [0.8, \"#7fbc41\"], [0.9, \"#4d9221\"], [1, \"#276419\"]], \"sequential\": [[0.0, \"#0d0887\"], [0.1111111111111111, \"#46039f\"], [0.2222222222222222, \"#7201a8\"], [0.3333333333333333, \"#9c179e\"], [0.4444444444444444, \"#bd3786\"], [0.5555555555555556, \"#d8576b\"], [0.6666666666666666, \"#ed7953\"], [0.7777777777777778, \"#fb9f3a\"], [0.8888888888888888, \"#fdca26\"], [1.0, \"#f0f921\"]], \"sequentialminus\": [[0.0, \"#0d0887\"], [0.1111111111111111, \"#46039f\"], [0.2222222222222222, \"#7201a8\"], [0.3333333333333333, \"#9c179e\"], [0.4444444444444444, \"#bd3786\"], [0.5555555555555556, \"#d8576b\"], [0.6666666666666666, \"#ed7953\"], [0.7777777777777778, \"#fb9f3a\"], [0.8888888888888888, \"#fdca26\"], [1.0, \"#f0f921\"]]}, \"colorway\": [\"#636efa\", \"#EF553B\", \"#00cc96\", \"#ab63fa\", \"#FFA15A\", \"#19d3f3\", \"#FF6692\", \"#B6E880\", \"#FF97FF\", \"#FECB52\"], \"font\": {\"color\": \"#2a3f5f\"}, \"geo\": {\"bgcolor\": \"white\", \"lakecolor\": \"white\", \"landcolor\": \"#E5ECF6\", \"showlakes\": true, \"showland\": true, \"subunitcolor\": \"white\"}, \"hoverlabel\": {\"align\": \"left\"}, \"hovermode\": \"closest\", \"mapbox\": {\"style\": \"light\"}, \"paper_bgcolor\": \"white\", \"plot_bgcolor\": \"#E5ECF6\", \"polar\": {\"angularaxis\": {\"gridcolor\": \"white\", \"linecolor\": \"white\", \"ticks\": \"\"}, \"bgcolor\": \"#E5ECF6\", \"radialaxis\": {\"gridcolor\": \"white\", \"linecolor\": \"white\", \"ticks\": \"\"}}, \"scene\": {\"xaxis\": {\"backgroundcolor\": \"#E5ECF6\", \"gridcolor\": \"white\", \"gridwidth\": 2, \"linecolor\": \"white\", \"showbackground\": true, \"ticks\": \"\", \"zerolinecolor\": \"white\"}, \"yaxis\": {\"backgroundcolor\": \"#E5ECF6\", \"gridcolor\": \"white\", \"gridwidth\": 2, \"linecolor\": \"white\", \"showbackground\": true, \"ticks\": \"\", \"zerolinecolor\": \"white\"}, \"zaxis\": {\"backgroundcolor\": \"#E5ECF6\", \"gridcolor\": \"white\", \"gridwidth\": 2, \"linecolor\": \"white\", \"showbackground\": true, \"ticks\": \"\", \"zerolinecolor\": \"white\"}}, \"shapedefaults\": {\"line\": {\"color\": \"#2a3f5f\"}}, \"ternary\": {\"aaxis\": {\"gridcolor\": \"white\", \"linecolor\": \"white\", \"ticks\": \"\"}, \"baxis\": {\"gridcolor\": \"white\", \"linecolor\": \"white\", \"ticks\": \"\"}, \"bgcolor\": \"#E5ECF6\", \"caxis\": {\"gridcolor\": \"white\", \"linecolor\": \"white\", \"ticks\": \"\"}}, \"title\": {\"x\": 0.05}, \"xaxis\": {\"automargin\": true, \"gridcolor\": \"white\", \"linecolor\": \"white\", \"ticks\": \"\", \"title\": {\"standoff\": 15}, \"zerolinecolor\": \"white\", \"zerolinewidth\": 2}, \"yaxis\": {\"automargin\": true, \"gridcolor\": \"white\", \"linecolor\": \"white\", \"ticks\": \"\", \"title\": {\"standoff\": 15}, \"zerolinecolor\": \"white\", \"zerolinewidth\": 2}}}, \"xaxis\": {\"anchor\": \"y\", \"domain\": [0.0, 1.0], \"title\": {\"text\": \"index\"}}, \"yaxis\": {\"anchor\": \"x\", \"domain\": [0.0, 1.0], \"title\": {\"text\": \"value\"}}},                        {\"responsive\": true}                    ).then(function(){\n",
       "                            \n",
       "var gd = document.getElementById('3e114bfe-eff0-4c6a-a675-d5d2e26e79d7');\n",
       "var x = new MutationObserver(function (mutations, observer) {{\n",
       "        var display = window.getComputedStyle(gd).display;\n",
       "        if (!display || display === 'none') {{\n",
       "            console.log([gd, 'removed!']);\n",
       "            Plotly.purge(gd);\n",
       "            observer.disconnect();\n",
       "        }}\n",
       "}});\n",
       "\n",
       "// Listen for the removal of the full notebook cells\n",
       "var notebookContainer = gd.closest('#notebook-container');\n",
       "if (notebookContainer) {{\n",
       "    x.observe(notebookContainer, {childList: true});\n",
       "}}\n",
       "\n",
       "// Listen for the clearing of the current output cell\n",
       "var outputEl = gd.closest('.output');\n",
       "if (outputEl) {{\n",
       "    x.observe(outputEl, {childList: true});\n",
       "}}\n",
       "\n",
       "                        })                };                });            </script>        </div>"
      ]
     },
     "metadata": {},
     "output_type": "display_data"
    }
   ],
   "source": [
    "px.bar(tdf_2012.Nacionalidad.value_counts())"
   ]
  },
  {
   "cell_type": "raw",
   "metadata": {},
   "source": [
    "Insights:\n",
    "Francia y España son los países que tienen mayor representación en el top del ranking mundial, por lo que podemos asumir que este es un deporte muy seguido en estos países por lo que existe un gran mercado"
   ]
  },
  {
   "cell_type": "code",
   "execution_count": 44,
   "metadata": {},
   "outputs": [
    {
     "data": {
      "application/vnd.jupyter.widget-view+json": {
       "model_id": "082cdba999d440949fbdef85bbd613ee",
       "version_major": 2,
       "version_minor": 0
      },
      "text/plain": [
       "interactive(children=(Dropdown(description='x', options=('Ranking', 'Jugador', 'Nacionalidad', 'Edad', 'Altura…"
      ]
     },
     "metadata": {},
     "output_type": "display_data"
    }
   ],
   "source": [
    "@interact(x=tdf_2012.columns,y=tdf_2012.columns,color=tdf_2012.select_dtypes('object'))\n",
    "def explore(x,y,color):\n",
    "    sns.relplot(data=tdf_2012,x=x,y=y,hue=color)\n"
   ]
  },
  {
   "cell_type": "code",
   "execution_count": 517,
   "metadata": {},
   "outputs": [
    {
     "name": "stderr",
     "output_type": "stream",
     "text": [
      "<ipython-input-517-0a3efec55af4>:1: FutureWarning:\n",
      "\n",
      "Indexing with multiple keys (implicitly converted to a tuple of keys) will be deprecated, use a list instead.\n",
      "\n"
     ]
    },
    {
     "data": {
      "text/html": [
       "<div>\n",
       "<style scoped>\n",
       "    .dataframe tbody tr th:only-of-type {\n",
       "        vertical-align: middle;\n",
       "    }\n",
       "\n",
       "    .dataframe tbody tr th {\n",
       "        vertical-align: top;\n",
       "    }\n",
       "\n",
       "    .dataframe thead th {\n",
       "        text-align: right;\n",
       "    }\n",
       "</style>\n",
       "<table border=\"1\" class=\"dataframe\">\n",
       "  <thead>\n",
       "    <tr style=\"text-align: right;\">\n",
       "      <th></th>\n",
       "      <th>Altura cm</th>\n",
       "      <th>Efectividad Al Saque ©</th>\n",
       "      <th>% 1er Servicio</th>\n",
       "      <th>% Puntos Ganados 1er Saque</th>\n",
       "      <th>% Puntos Ganados 2do Saque</th>\n",
       "      <th>% Games Ganados Saque</th>\n",
       "      <th>Prom. Aces Por Partido</th>\n",
       "      <th>Prom. Dobles Por Partido</th>\n",
       "      <th>Efectividad Al Resto</th>\n",
       "      <th>% Restos 1er Saque</th>\n",
       "      <th>...</th>\n",
       "      <th>% Games Al Resto</th>\n",
       "      <th>% Break Points Convertidos</th>\n",
       "      <th>Efectividad Bajo Presión</th>\n",
       "      <th>% Break Points Convertidos.1</th>\n",
       "      <th>% Break Points Salvados</th>\n",
       "      <th>% Tie Breaks Ganados</th>\n",
       "      <th>% Victorias Sets Definitivos</th>\n",
       "      <th>Tiempo de partido (min)</th>\n",
       "      <th>Tarifa Jugador</th>\n",
       "      <th>% de Victorias</th>\n",
       "    </tr>\n",
       "    <tr>\n",
       "      <th>Año</th>\n",
       "      <th></th>\n",
       "      <th></th>\n",
       "      <th></th>\n",
       "      <th></th>\n",
       "      <th></th>\n",
       "      <th></th>\n",
       "      <th></th>\n",
       "      <th></th>\n",
       "      <th></th>\n",
       "      <th></th>\n",
       "      <th></th>\n",
       "      <th></th>\n",
       "      <th></th>\n",
       "      <th></th>\n",
       "      <th></th>\n",
       "      <th></th>\n",
       "      <th></th>\n",
       "      <th></th>\n",
       "      <th></th>\n",
       "      <th></th>\n",
       "      <th></th>\n",
       "    </tr>\n",
       "  </thead>\n",
       "  <tbody>\n",
       "    <tr>\n",
       "      <th>2012</th>\n",
       "      <td>186.376471</td>\n",
       "      <td>264.791765</td>\n",
       "      <td>61.114118</td>\n",
       "      <td>71.044706</td>\n",
       "      <td>51.115294</td>\n",
       "      <td>78.390588</td>\n",
       "      <td>5.810588</td>\n",
       "      <td>2.683529</td>\n",
       "      <td>140.375294</td>\n",
       "      <td>29.291765</td>\n",
       "      <td>...</td>\n",
       "      <td>22.129412</td>\n",
       "      <td>39.791765</td>\n",
       "      <td>197.409412</td>\n",
       "      <td>39.791765</td>\n",
       "      <td>60.72</td>\n",
       "      <td>47.341176</td>\n",
       "      <td>49.556471</td>\n",
       "      <td>108.8</td>\n",
       "      <td>77058.823529</td>\n",
       "      <td>52.455059</td>\n",
       "    </tr>\n",
       "  </tbody>\n",
       "</table>\n",
       "<p>1 rows × 21 columns</p>\n",
       "</div>"
      ],
      "text/plain": [
       "       Altura cm  Efectividad Al Saque ©  % 1er Servicio  \\\n",
       "Año                                                        \n",
       "2012  186.376471              264.791765       61.114118   \n",
       "\n",
       "      % Puntos Ganados 1er Saque  % Puntos Ganados 2do Saque  \\\n",
       "Año                                                            \n",
       "2012                   71.044706                   51.115294   \n",
       "\n",
       "      % Games Ganados Saque  Prom. Aces Por Partido  Prom. Dobles Por Partido  \\\n",
       "Año                                                                             \n",
       "2012              78.390588                5.810588                  2.683529   \n",
       "\n",
       "      Efectividad Al Resto   % Restos 1er Saque  ...  % Games Al Resto  \\\n",
       "Año                                              ...                     \n",
       "2012             140.375294           29.291765  ...         22.129412   \n",
       "\n",
       "      % Break Points Convertidos  Efectividad Bajo Presión  \\\n",
       "Año                                                          \n",
       "2012                   39.791765                197.409412   \n",
       "\n",
       "      % Break Points Convertidos.1  % Break Points Salvados  \\\n",
       "Año                                                           \n",
       "2012                     39.791765                    60.72   \n",
       "\n",
       "      % Tie Breaks Ganados  % Victorias Sets Definitivos  \\\n",
       "Año                                                        \n",
       "2012             47.341176                     49.556471   \n",
       "\n",
       "      Tiempo de partido (min)  Tarifa Jugador  % de Victorias   \n",
       "Año                                                             \n",
       "2012                    108.8    77058.823529        52.455059  \n",
       "\n",
       "[1 rows x 21 columns]"
      ]
     },
     "execution_count": 517,
     "metadata": {},
     "output_type": "execute_result"
    }
   ],
   "source": [
    "resumen_stats=tdf_2012[(tdf_2012['Año']==2012)].groupby('Año')[ 'Altura cm',\n",
    "       'Efectividad Al Saque ©', '% 1er Servicio',\n",
    "       '% Puntos Ganados 1er Saque', '% Puntos Ganados 2do Saque',\n",
    "       '% Games Ganados Saque', 'Prom. Aces Por Partido',\n",
    "       'Prom. Dobles Por Partido', 'Efectividad Al Resto ',\n",
    "       '% Restos 1er Saque', '% Restos 2° Saque', '% Games Al Resto',\n",
    "       '% Break Points Convertidos', 'Efectividad Bajo Presión',\n",
    "       '% Break Points Convertidos.1', '% Break Points Salvados',\n",
    "       '% Tie Breaks Ganados', '% Victorias Sets Definitivos',\n",
    "       'Tiempo de partido (min)',\n",
    "       'Tarifa Jugador','% de Victorias '].mean()\n",
    "resumen_stats"
   ]
  },
  {
   "cell_type": "code",
   "execution_count": 518,
   "metadata": {},
   "outputs": [],
   "source": [
    "# Estilo de Juego: Sacador es el más efectivo"
   ]
  },
  {
   "cell_type": "code",
   "execution_count": 519,
   "metadata": {},
   "outputs": [
    {
     "data": {
      "text/html": [
       "        <script type=\"text/javascript\">\n",
       "        window.PlotlyConfig = {MathJaxConfig: 'local'};\n",
       "        if (window.MathJax) {MathJax.Hub.Config({SVG: {font: \"STIX-Web\"}});}\n",
       "        if (typeof require !== 'undefined') {\n",
       "        require.undef(\"plotly\");\n",
       "        requirejs.config({\n",
       "            paths: {\n",
       "                'plotly': ['https://cdn.plot.ly/plotly-latest.min']\n",
       "            }\n",
       "        });\n",
       "        require(['plotly'], function(Plotly) {\n",
       "            window._Plotly = Plotly;\n",
       "        });\n",
       "        }\n",
       "        </script>\n",
       "        "
      ]
     },
     "metadata": {},
     "output_type": "display_data"
    }
   ],
   "source": [
    "cf.set_config_file(offline=True)"
   ]
  },
  {
   "cell_type": "code",
   "execution_count": 197,
   "metadata": {},
   "outputs": [
    {
     "data": {
      "text/plain": [
       "<Figure size 1440x1008 with 0 Axes>"
      ]
     },
     "execution_count": 197,
     "metadata": {},
     "output_type": "execute_result"
    },
    {
     "data": {
      "text/plain": [
       "<Figure size 1440x1008 with 0 Axes>"
      ]
     },
     "metadata": {},
     "output_type": "display_data"
    }
   ],
   "source": [
    "plt.figure(figsize=(20,14))"
   ]
  },
  {
   "cell_type": "code",
   "execution_count": 556,
   "metadata": {},
   "outputs": [],
   "source": [
    "plt.rcParams['figure.figsize']=(12,8)"
   ]
  },
  {
   "cell_type": "code",
   "execution_count": 50,
   "metadata": {
    "scrolled": true
   },
   "outputs": [
    {
     "data": {
      "application/vnd.plotly.v1+json": {
       "config": {
        "linkText": "Export to plot.ly",
        "plotlyServerURL": "https://plot.ly",
        "showLink": true
       },
       "data": [
        {
         "boxpoints": "outliers",
         "line": {
          "width": 1.3
         },
         "marker": {
          "color": "rgba(255, 153, 51, 1.0)"
         },
         "name": "Equilibrado",
         "orientation": "v",
         "type": "box",
         "y": [
          null,
          null,
          null,
          null,
          null,
          null,
          null,
          null,
          null,
          null,
          null,
          null,
          null,
          null,
          null,
          null,
          null,
          null,
          null,
          null,
          null,
          null,
          null,
          null,
          null,
          59.26,
          null,
          null,
          null,
          null,
          null,
          61.11,
          null,
          null,
          null,
          null,
          null,
          null,
          null,
          null,
          56.41,
          null,
          null,
          46.94,
          null,
          null,
          null,
          58.46,
          47.06,
          null,
          40,
          null,
          47.4,
          null,
          null,
          null,
          63.24,
          null,
          null,
          47.22,
          null,
          null,
          46,
          null,
          50,
          null,
          null,
          null,
          null,
          55.88,
          54.84,
          null,
          null,
          null,
          44.4,
          null,
          null,
          0,
          null,
          null,
          null,
          null,
          null,
          12.5,
          null
         ]
        },
        {
         "boxpoints": "outliers",
         "line": {
          "width": 1.3
         },
         "marker": {
          "color": "rgba(55, 128, 191, 1.0)"
         },
         "name": "Restador",
         "orientation": "v",
         "type": "box",
         "y": [
          null,
          null,
          null,
          null,
          87.5,
          null,
          null,
          null,
          null,
          null,
          null,
          null,
          66.7,
          null,
          null,
          null,
          null,
          83.52,
          null,
          null,
          null,
          null,
          null,
          null,
          null,
          null,
          null,
          null,
          null,
          null,
          null,
          null,
          50,
          null,
          null,
          null,
          null,
          null,
          null,
          null,
          null,
          null,
          null,
          null,
          67.24,
          67.27,
          null,
          null,
          null,
          null,
          null,
          null,
          null,
          55.26,
          null,
          null,
          null,
          49.06,
          null,
          null,
          null,
          51.06,
          null,
          30.3,
          null,
          null,
          31.1,
          44.64,
          null,
          null,
          null,
          45.5,
          35.9,
          34.38,
          null,
          null,
          47.83,
          null,
          40,
          38.24,
          39.58,
          42.5,
          23.1,
          null,
          33.3
         ]
        },
        {
         "boxpoints": "outliers",
         "line": {
          "width": 1.3
         },
         "marker": {
          "color": "rgba(50, 171, 96, 1.0)"
         },
         "name": "Sacador",
         "orientation": "v",
         "type": "box",
         "y": [
          68.18,
          69.23,
          85.54,
          48.48,
          null,
          79.27,
          51.16,
          86.21,
          53.57,
          58.97,
          40.1,
          68.8,
          null,
          72.62,
          70.73,
          59.68,
          63.64,
          null,
          49.06,
          65.63,
          65.63,
          77.78,
          66.67,
          48.39,
          55.81,
          null,
          65.96,
          48.94,
          63.64,
          51.35,
          42.4,
          null,
          null,
          46.67,
          47.06,
          57.63,
          54,
          36.36,
          54.55,
          33.1,
          null,
          67.24,
          58.33,
          null,
          null,
          null,
          49.06,
          null,
          null,
          55.1,
          null,
          38.24,
          null,
          null,
          65.52,
          44.44,
          null,
          null,
          48.21,
          null,
          40.43,
          null,
          null,
          null,
          null,
          38.1,
          null,
          null,
          42.5,
          null,
          null,
          null,
          null,
          null,
          null,
          50,
          null,
          null,
          null,
          null,
          null,
          null,
          null,
          null,
          null
         ]
        }
       ],
       "layout": {
        "legend": {
         "bgcolor": "#F5F6F9",
         "font": {
          "color": "#4D5663"
         }
        },
        "paper_bgcolor": "#F5F6F9",
        "plot_bgcolor": "#F5F6F9",
        "template": {
         "data": {
          "bar": [
           {
            "error_x": {
             "color": "#2a3f5f"
            },
            "error_y": {
             "color": "#2a3f5f"
            },
            "marker": {
             "line": {
              "color": "#E5ECF6",
              "width": 0.5
             }
            },
            "type": "bar"
           }
          ],
          "barpolar": [
           {
            "marker": {
             "line": {
              "color": "#E5ECF6",
              "width": 0.5
             }
            },
            "type": "barpolar"
           }
          ],
          "carpet": [
           {
            "aaxis": {
             "endlinecolor": "#2a3f5f",
             "gridcolor": "white",
             "linecolor": "white",
             "minorgridcolor": "white",
             "startlinecolor": "#2a3f5f"
            },
            "baxis": {
             "endlinecolor": "#2a3f5f",
             "gridcolor": "white",
             "linecolor": "white",
             "minorgridcolor": "white",
             "startlinecolor": "#2a3f5f"
            },
            "type": "carpet"
           }
          ],
          "choropleth": [
           {
            "colorbar": {
             "outlinewidth": 0,
             "ticks": ""
            },
            "type": "choropleth"
           }
          ],
          "contour": [
           {
            "colorbar": {
             "outlinewidth": 0,
             "ticks": ""
            },
            "colorscale": [
             [
              0,
              "#0d0887"
             ],
             [
              0.1111111111111111,
              "#46039f"
             ],
             [
              0.2222222222222222,
              "#7201a8"
             ],
             [
              0.3333333333333333,
              "#9c179e"
             ],
             [
              0.4444444444444444,
              "#bd3786"
             ],
             [
              0.5555555555555556,
              "#d8576b"
             ],
             [
              0.6666666666666666,
              "#ed7953"
             ],
             [
              0.7777777777777778,
              "#fb9f3a"
             ],
             [
              0.8888888888888888,
              "#fdca26"
             ],
             [
              1,
              "#f0f921"
             ]
            ],
            "type": "contour"
           }
          ],
          "contourcarpet": [
           {
            "colorbar": {
             "outlinewidth": 0,
             "ticks": ""
            },
            "type": "contourcarpet"
           }
          ],
          "heatmap": [
           {
            "colorbar": {
             "outlinewidth": 0,
             "ticks": ""
            },
            "colorscale": [
             [
              0,
              "#0d0887"
             ],
             [
              0.1111111111111111,
              "#46039f"
             ],
             [
              0.2222222222222222,
              "#7201a8"
             ],
             [
              0.3333333333333333,
              "#9c179e"
             ],
             [
              0.4444444444444444,
              "#bd3786"
             ],
             [
              0.5555555555555556,
              "#d8576b"
             ],
             [
              0.6666666666666666,
              "#ed7953"
             ],
             [
              0.7777777777777778,
              "#fb9f3a"
             ],
             [
              0.8888888888888888,
              "#fdca26"
             ],
             [
              1,
              "#f0f921"
             ]
            ],
            "type": "heatmap"
           }
          ],
          "heatmapgl": [
           {
            "colorbar": {
             "outlinewidth": 0,
             "ticks": ""
            },
            "colorscale": [
             [
              0,
              "#0d0887"
             ],
             [
              0.1111111111111111,
              "#46039f"
             ],
             [
              0.2222222222222222,
              "#7201a8"
             ],
             [
              0.3333333333333333,
              "#9c179e"
             ],
             [
              0.4444444444444444,
              "#bd3786"
             ],
             [
              0.5555555555555556,
              "#d8576b"
             ],
             [
              0.6666666666666666,
              "#ed7953"
             ],
             [
              0.7777777777777778,
              "#fb9f3a"
             ],
             [
              0.8888888888888888,
              "#fdca26"
             ],
             [
              1,
              "#f0f921"
             ]
            ],
            "type": "heatmapgl"
           }
          ],
          "histogram": [
           {
            "marker": {
             "colorbar": {
              "outlinewidth": 0,
              "ticks": ""
             }
            },
            "type": "histogram"
           }
          ],
          "histogram2d": [
           {
            "colorbar": {
             "outlinewidth": 0,
             "ticks": ""
            },
            "colorscale": [
             [
              0,
              "#0d0887"
             ],
             [
              0.1111111111111111,
              "#46039f"
             ],
             [
              0.2222222222222222,
              "#7201a8"
             ],
             [
              0.3333333333333333,
              "#9c179e"
             ],
             [
              0.4444444444444444,
              "#bd3786"
             ],
             [
              0.5555555555555556,
              "#d8576b"
             ],
             [
              0.6666666666666666,
              "#ed7953"
             ],
             [
              0.7777777777777778,
              "#fb9f3a"
             ],
             [
              0.8888888888888888,
              "#fdca26"
             ],
             [
              1,
              "#f0f921"
             ]
            ],
            "type": "histogram2d"
           }
          ],
          "histogram2dcontour": [
           {
            "colorbar": {
             "outlinewidth": 0,
             "ticks": ""
            },
            "colorscale": [
             [
              0,
              "#0d0887"
             ],
             [
              0.1111111111111111,
              "#46039f"
             ],
             [
              0.2222222222222222,
              "#7201a8"
             ],
             [
              0.3333333333333333,
              "#9c179e"
             ],
             [
              0.4444444444444444,
              "#bd3786"
             ],
             [
              0.5555555555555556,
              "#d8576b"
             ],
             [
              0.6666666666666666,
              "#ed7953"
             ],
             [
              0.7777777777777778,
              "#fb9f3a"
             ],
             [
              0.8888888888888888,
              "#fdca26"
             ],
             [
              1,
              "#f0f921"
             ]
            ],
            "type": "histogram2dcontour"
           }
          ],
          "mesh3d": [
           {
            "colorbar": {
             "outlinewidth": 0,
             "ticks": ""
            },
            "type": "mesh3d"
           }
          ],
          "parcoords": [
           {
            "line": {
             "colorbar": {
              "outlinewidth": 0,
              "ticks": ""
             }
            },
            "type": "parcoords"
           }
          ],
          "pie": [
           {
            "automargin": true,
            "type": "pie"
           }
          ],
          "scatter": [
           {
            "marker": {
             "colorbar": {
              "outlinewidth": 0,
              "ticks": ""
             }
            },
            "type": "scatter"
           }
          ],
          "scatter3d": [
           {
            "line": {
             "colorbar": {
              "outlinewidth": 0,
              "ticks": ""
             }
            },
            "marker": {
             "colorbar": {
              "outlinewidth": 0,
              "ticks": ""
             }
            },
            "type": "scatter3d"
           }
          ],
          "scattercarpet": [
           {
            "marker": {
             "colorbar": {
              "outlinewidth": 0,
              "ticks": ""
             }
            },
            "type": "scattercarpet"
           }
          ],
          "scattergeo": [
           {
            "marker": {
             "colorbar": {
              "outlinewidth": 0,
              "ticks": ""
             }
            },
            "type": "scattergeo"
           }
          ],
          "scattergl": [
           {
            "marker": {
             "colorbar": {
              "outlinewidth": 0,
              "ticks": ""
             }
            },
            "type": "scattergl"
           }
          ],
          "scattermapbox": [
           {
            "marker": {
             "colorbar": {
              "outlinewidth": 0,
              "ticks": ""
             }
            },
            "type": "scattermapbox"
           }
          ],
          "scatterpolar": [
           {
            "marker": {
             "colorbar": {
              "outlinewidth": 0,
              "ticks": ""
             }
            },
            "type": "scatterpolar"
           }
          ],
          "scatterpolargl": [
           {
            "marker": {
             "colorbar": {
              "outlinewidth": 0,
              "ticks": ""
             }
            },
            "type": "scatterpolargl"
           }
          ],
          "scatterternary": [
           {
            "marker": {
             "colorbar": {
              "outlinewidth": 0,
              "ticks": ""
             }
            },
            "type": "scatterternary"
           }
          ],
          "surface": [
           {
            "colorbar": {
             "outlinewidth": 0,
             "ticks": ""
            },
            "colorscale": [
             [
              0,
              "#0d0887"
             ],
             [
              0.1111111111111111,
              "#46039f"
             ],
             [
              0.2222222222222222,
              "#7201a8"
             ],
             [
              0.3333333333333333,
              "#9c179e"
             ],
             [
              0.4444444444444444,
              "#bd3786"
             ],
             [
              0.5555555555555556,
              "#d8576b"
             ],
             [
              0.6666666666666666,
              "#ed7953"
             ],
             [
              0.7777777777777778,
              "#fb9f3a"
             ],
             [
              0.8888888888888888,
              "#fdca26"
             ],
             [
              1,
              "#f0f921"
             ]
            ],
            "type": "surface"
           }
          ],
          "table": [
           {
            "cells": {
             "fill": {
              "color": "#EBF0F8"
             },
             "line": {
              "color": "white"
             }
            },
            "header": {
             "fill": {
              "color": "#C8D4E3"
             },
             "line": {
              "color": "white"
             }
            },
            "type": "table"
           }
          ]
         },
         "layout": {
          "annotationdefaults": {
           "arrowcolor": "#2a3f5f",
           "arrowhead": 0,
           "arrowwidth": 1
          },
          "autotypenumbers": "strict",
          "coloraxis": {
           "colorbar": {
            "outlinewidth": 0,
            "ticks": ""
           }
          },
          "colorscale": {
           "diverging": [
            [
             0,
             "#8e0152"
            ],
            [
             0.1,
             "#c51b7d"
            ],
            [
             0.2,
             "#de77ae"
            ],
            [
             0.3,
             "#f1b6da"
            ],
            [
             0.4,
             "#fde0ef"
            ],
            [
             0.5,
             "#f7f7f7"
            ],
            [
             0.6,
             "#e6f5d0"
            ],
            [
             0.7,
             "#b8e186"
            ],
            [
             0.8,
             "#7fbc41"
            ],
            [
             0.9,
             "#4d9221"
            ],
            [
             1,
             "#276419"
            ]
           ],
           "sequential": [
            [
             0,
             "#0d0887"
            ],
            [
             0.1111111111111111,
             "#46039f"
            ],
            [
             0.2222222222222222,
             "#7201a8"
            ],
            [
             0.3333333333333333,
             "#9c179e"
            ],
            [
             0.4444444444444444,
             "#bd3786"
            ],
            [
             0.5555555555555556,
             "#d8576b"
            ],
            [
             0.6666666666666666,
             "#ed7953"
            ],
            [
             0.7777777777777778,
             "#fb9f3a"
            ],
            [
             0.8888888888888888,
             "#fdca26"
            ],
            [
             1,
             "#f0f921"
            ]
           ],
           "sequentialminus": [
            [
             0,
             "#0d0887"
            ],
            [
             0.1111111111111111,
             "#46039f"
            ],
            [
             0.2222222222222222,
             "#7201a8"
            ],
            [
             0.3333333333333333,
             "#9c179e"
            ],
            [
             0.4444444444444444,
             "#bd3786"
            ],
            [
             0.5555555555555556,
             "#d8576b"
            ],
            [
             0.6666666666666666,
             "#ed7953"
            ],
            [
             0.7777777777777778,
             "#fb9f3a"
            ],
            [
             0.8888888888888888,
             "#fdca26"
            ],
            [
             1,
             "#f0f921"
            ]
           ]
          },
          "colorway": [
           "#636efa",
           "#EF553B",
           "#00cc96",
           "#ab63fa",
           "#FFA15A",
           "#19d3f3",
           "#FF6692",
           "#B6E880",
           "#FF97FF",
           "#FECB52"
          ],
          "font": {
           "color": "#2a3f5f"
          },
          "geo": {
           "bgcolor": "white",
           "lakecolor": "white",
           "landcolor": "#E5ECF6",
           "showlakes": true,
           "showland": true,
           "subunitcolor": "white"
          },
          "hoverlabel": {
           "align": "left"
          },
          "hovermode": "closest",
          "mapbox": {
           "style": "light"
          },
          "paper_bgcolor": "white",
          "plot_bgcolor": "#E5ECF6",
          "polar": {
           "angularaxis": {
            "gridcolor": "white",
            "linecolor": "white",
            "ticks": ""
           },
           "bgcolor": "#E5ECF6",
           "radialaxis": {
            "gridcolor": "white",
            "linecolor": "white",
            "ticks": ""
           }
          },
          "scene": {
           "xaxis": {
            "backgroundcolor": "#E5ECF6",
            "gridcolor": "white",
            "gridwidth": 2,
            "linecolor": "white",
            "showbackground": true,
            "ticks": "",
            "zerolinecolor": "white"
           },
           "yaxis": {
            "backgroundcolor": "#E5ECF6",
            "gridcolor": "white",
            "gridwidth": 2,
            "linecolor": "white",
            "showbackground": true,
            "ticks": "",
            "zerolinecolor": "white"
           },
           "zaxis": {
            "backgroundcolor": "#E5ECF6",
            "gridcolor": "white",
            "gridwidth": 2,
            "linecolor": "white",
            "showbackground": true,
            "ticks": "",
            "zerolinecolor": "white"
           }
          },
          "shapedefaults": {
           "line": {
            "color": "#2a3f5f"
           }
          },
          "ternary": {
           "aaxis": {
            "gridcolor": "white",
            "linecolor": "white",
            "ticks": ""
           },
           "baxis": {
            "gridcolor": "white",
            "linecolor": "white",
            "ticks": ""
           },
           "bgcolor": "#E5ECF6",
           "caxis": {
            "gridcolor": "white",
            "linecolor": "white",
            "ticks": ""
           }
          },
          "title": {
           "x": 0.05
          },
          "xaxis": {
           "automargin": true,
           "gridcolor": "white",
           "linecolor": "white",
           "ticks": "",
           "title": {
            "standoff": 15
           },
           "zerolinecolor": "white",
           "zerolinewidth": 2
          },
          "yaxis": {
           "automargin": true,
           "gridcolor": "white",
           "linecolor": "white",
           "ticks": "",
           "title": {
            "standoff": 15
           },
           "zerolinecolor": "white",
           "zerolinewidth": 2
          }
         }
        },
        "title": {
         "font": {
          "color": "#4D5663"
         }
        },
        "xaxis": {
         "gridcolor": "#E1E5ED",
         "showgrid": true,
         "tickfont": {
          "color": "#4D5663"
         },
         "title": {
          "font": {
           "color": "#4D5663"
          },
          "text": ""
         },
         "zerolinecolor": "#E1E5ED"
        },
        "yaxis": {
         "gridcolor": "#E1E5ED",
         "showgrid": true,
         "tickfont": {
          "color": "#4D5663"
         },
         "title": {
          "font": {
           "color": "#4D5663"
          },
          "text": ""
         },
         "zerolinecolor": "#E1E5ED"
        }
       }
      },
      "text/html": [
       "<div>                            <div id=\"e8419e06-4408-44b2-bcf1-2ee433a60c3b\" class=\"plotly-graph-div\" style=\"height:525px; width:100%;\"></div>            <script type=\"text/javascript\">                require([\"plotly\"], function(Plotly) {                    window.PLOTLYENV=window.PLOTLYENV || {};\n",
       "                    window.PLOTLYENV.BASE_URL='https://plot.ly';                                    if (document.getElementById(\"e8419e06-4408-44b2-bcf1-2ee433a60c3b\")) {                    Plotly.newPlot(                        \"e8419e06-4408-44b2-bcf1-2ee433a60c3b\",                        [{\"boxpoints\": \"outliers\", \"line\": {\"width\": 1.3}, \"marker\": {\"color\": \"rgba(255, 153, 51, 1.0)\"}, \"name\": \"Equilibrado\", \"orientation\": \"v\", \"type\": \"box\", \"y\": [null, null, null, null, null, null, null, null, null, null, null, null, null, null, null, null, null, null, null, null, null, null, null, null, null, 59.26, null, null, null, null, null, 61.11, null, null, null, null, null, null, null, null, 56.41, null, null, 46.94, null, null, null, 58.46, 47.06, null, 40.0, null, 47.4, null, null, null, 63.24, null, null, 47.22, null, null, 46.0, null, 50.0, null, null, null, null, 55.88, 54.84, null, null, null, 44.4, null, null, 0.0, null, null, null, null, null, 12.5, null]}, {\"boxpoints\": \"outliers\", \"line\": {\"width\": 1.3}, \"marker\": {\"color\": \"rgba(55, 128, 191, 1.0)\"}, \"name\": \"Restador\", \"orientation\": \"v\", \"type\": \"box\", \"y\": [null, null, null, null, 87.5, null, null, null, null, null, null, null, 66.7, null, null, null, null, 83.52, null, null, null, null, null, null, null, null, null, null, null, null, null, null, 50.0, null, null, null, null, null, null, null, null, null, null, null, 67.24, 67.27, null, null, null, null, null, null, null, 55.26, null, null, null, 49.06, null, null, null, 51.06, null, 30.3, null, null, 31.1, 44.64, null, null, null, 45.5, 35.9, 34.38, null, null, 47.83, null, 40.0, 38.24, 39.58, 42.5, 23.1, null, 33.3]}, {\"boxpoints\": \"outliers\", \"line\": {\"width\": 1.3}, \"marker\": {\"color\": \"rgba(50, 171, 96, 1.0)\"}, \"name\": \"Sacador\", \"orientation\": \"v\", \"type\": \"box\", \"y\": [68.18, 69.23, 85.54, 48.48, null, 79.27, 51.16, 86.21, 53.57, 58.97, 40.1, 68.8, null, 72.62, 70.73, 59.68, 63.64, null, 49.06, 65.63, 65.63, 77.78, 66.67, 48.39, 55.81, null, 65.96, 48.94, 63.64, 51.35, 42.4, null, null, 46.67, 47.06, 57.63, 54.0, 36.36, 54.55, 33.1, null, 67.24, 58.33, null, null, null, 49.06, null, null, 55.1, null, 38.24, null, null, 65.52, 44.44, null, null, 48.21, null, 40.43, null, null, null, null, 38.1, null, null, 42.5, null, null, null, null, null, null, 50.0, null, null, null, null, null, null, null, null, null]}],                        {\"legend\": {\"bgcolor\": \"#F5F6F9\", \"font\": {\"color\": \"#4D5663\"}}, \"paper_bgcolor\": \"#F5F6F9\", \"plot_bgcolor\": \"#F5F6F9\", \"template\": {\"data\": {\"bar\": [{\"error_x\": {\"color\": \"#2a3f5f\"}, \"error_y\": {\"color\": \"#2a3f5f\"}, \"marker\": {\"line\": {\"color\": \"#E5ECF6\", \"width\": 0.5}}, \"type\": \"bar\"}], \"barpolar\": [{\"marker\": {\"line\": {\"color\": \"#E5ECF6\", \"width\": 0.5}}, \"type\": \"barpolar\"}], \"carpet\": [{\"aaxis\": {\"endlinecolor\": \"#2a3f5f\", \"gridcolor\": \"white\", \"linecolor\": \"white\", \"minorgridcolor\": \"white\", \"startlinecolor\": \"#2a3f5f\"}, \"baxis\": {\"endlinecolor\": \"#2a3f5f\", \"gridcolor\": \"white\", \"linecolor\": \"white\", \"minorgridcolor\": \"white\", \"startlinecolor\": \"#2a3f5f\"}, \"type\": \"carpet\"}], \"choropleth\": [{\"colorbar\": {\"outlinewidth\": 0, \"ticks\": \"\"}, \"type\": \"choropleth\"}], \"contour\": [{\"colorbar\": {\"outlinewidth\": 0, \"ticks\": \"\"}, \"colorscale\": [[0.0, \"#0d0887\"], [0.1111111111111111, \"#46039f\"], [0.2222222222222222, \"#7201a8\"], [0.3333333333333333, \"#9c179e\"], [0.4444444444444444, \"#bd3786\"], [0.5555555555555556, \"#d8576b\"], [0.6666666666666666, \"#ed7953\"], [0.7777777777777778, \"#fb9f3a\"], [0.8888888888888888, \"#fdca26\"], [1.0, \"#f0f921\"]], \"type\": \"contour\"}], \"contourcarpet\": [{\"colorbar\": {\"outlinewidth\": 0, \"ticks\": \"\"}, \"type\": \"contourcarpet\"}], \"heatmap\": [{\"colorbar\": {\"outlinewidth\": 0, \"ticks\": \"\"}, \"colorscale\": [[0.0, \"#0d0887\"], [0.1111111111111111, \"#46039f\"], [0.2222222222222222, \"#7201a8\"], [0.3333333333333333, \"#9c179e\"], [0.4444444444444444, \"#bd3786\"], [0.5555555555555556, \"#d8576b\"], [0.6666666666666666, \"#ed7953\"], [0.7777777777777778, \"#fb9f3a\"], [0.8888888888888888, \"#fdca26\"], [1.0, \"#f0f921\"]], \"type\": \"heatmap\"}], \"heatmapgl\": [{\"colorbar\": {\"outlinewidth\": 0, \"ticks\": \"\"}, \"colorscale\": [[0.0, \"#0d0887\"], [0.1111111111111111, \"#46039f\"], [0.2222222222222222, \"#7201a8\"], [0.3333333333333333, \"#9c179e\"], [0.4444444444444444, \"#bd3786\"], [0.5555555555555556, \"#d8576b\"], [0.6666666666666666, \"#ed7953\"], [0.7777777777777778, \"#fb9f3a\"], [0.8888888888888888, \"#fdca26\"], [1.0, \"#f0f921\"]], \"type\": \"heatmapgl\"}], \"histogram\": [{\"marker\": {\"colorbar\": {\"outlinewidth\": 0, \"ticks\": \"\"}}, \"type\": \"histogram\"}], \"histogram2d\": [{\"colorbar\": {\"outlinewidth\": 0, \"ticks\": \"\"}, \"colorscale\": [[0.0, \"#0d0887\"], [0.1111111111111111, \"#46039f\"], [0.2222222222222222, \"#7201a8\"], [0.3333333333333333, \"#9c179e\"], [0.4444444444444444, \"#bd3786\"], [0.5555555555555556, \"#d8576b\"], [0.6666666666666666, \"#ed7953\"], [0.7777777777777778, \"#fb9f3a\"], [0.8888888888888888, \"#fdca26\"], [1.0, \"#f0f921\"]], \"type\": \"histogram2d\"}], \"histogram2dcontour\": [{\"colorbar\": {\"outlinewidth\": 0, \"ticks\": \"\"}, \"colorscale\": [[0.0, \"#0d0887\"], [0.1111111111111111, \"#46039f\"], [0.2222222222222222, \"#7201a8\"], [0.3333333333333333, \"#9c179e\"], [0.4444444444444444, \"#bd3786\"], [0.5555555555555556, \"#d8576b\"], [0.6666666666666666, \"#ed7953\"], [0.7777777777777778, \"#fb9f3a\"], [0.8888888888888888, \"#fdca26\"], [1.0, \"#f0f921\"]], \"type\": \"histogram2dcontour\"}], \"mesh3d\": [{\"colorbar\": {\"outlinewidth\": 0, \"ticks\": \"\"}, \"type\": \"mesh3d\"}], \"parcoords\": [{\"line\": {\"colorbar\": {\"outlinewidth\": 0, \"ticks\": \"\"}}, \"type\": \"parcoords\"}], \"pie\": [{\"automargin\": true, \"type\": \"pie\"}], \"scatter\": [{\"marker\": {\"colorbar\": {\"outlinewidth\": 0, \"ticks\": \"\"}}, \"type\": \"scatter\"}], \"scatter3d\": [{\"line\": {\"colorbar\": {\"outlinewidth\": 0, \"ticks\": \"\"}}, \"marker\": {\"colorbar\": {\"outlinewidth\": 0, \"ticks\": \"\"}}, \"type\": \"scatter3d\"}], \"scattercarpet\": [{\"marker\": {\"colorbar\": {\"outlinewidth\": 0, \"ticks\": \"\"}}, \"type\": \"scattercarpet\"}], \"scattergeo\": [{\"marker\": {\"colorbar\": {\"outlinewidth\": 0, \"ticks\": \"\"}}, \"type\": \"scattergeo\"}], \"scattergl\": [{\"marker\": {\"colorbar\": {\"outlinewidth\": 0, \"ticks\": \"\"}}, \"type\": \"scattergl\"}], \"scattermapbox\": [{\"marker\": {\"colorbar\": {\"outlinewidth\": 0, \"ticks\": \"\"}}, \"type\": \"scattermapbox\"}], \"scatterpolar\": [{\"marker\": {\"colorbar\": {\"outlinewidth\": 0, \"ticks\": \"\"}}, \"type\": \"scatterpolar\"}], \"scatterpolargl\": [{\"marker\": {\"colorbar\": {\"outlinewidth\": 0, \"ticks\": \"\"}}, \"type\": \"scatterpolargl\"}], \"scatterternary\": [{\"marker\": {\"colorbar\": {\"outlinewidth\": 0, \"ticks\": \"\"}}, \"type\": \"scatterternary\"}], \"surface\": [{\"colorbar\": {\"outlinewidth\": 0, \"ticks\": \"\"}, \"colorscale\": [[0.0, \"#0d0887\"], [0.1111111111111111, \"#46039f\"], [0.2222222222222222, \"#7201a8\"], [0.3333333333333333, \"#9c179e\"], [0.4444444444444444, \"#bd3786\"], [0.5555555555555556, \"#d8576b\"], [0.6666666666666666, \"#ed7953\"], [0.7777777777777778, \"#fb9f3a\"], [0.8888888888888888, \"#fdca26\"], [1.0, \"#f0f921\"]], \"type\": \"surface\"}], \"table\": [{\"cells\": {\"fill\": {\"color\": \"#EBF0F8\"}, \"line\": {\"color\": \"white\"}}, \"header\": {\"fill\": {\"color\": \"#C8D4E3\"}, \"line\": {\"color\": \"white\"}}, \"type\": \"table\"}]}, \"layout\": {\"annotationdefaults\": {\"arrowcolor\": \"#2a3f5f\", \"arrowhead\": 0, \"arrowwidth\": 1}, \"autotypenumbers\": \"strict\", \"coloraxis\": {\"colorbar\": {\"outlinewidth\": 0, \"ticks\": \"\"}}, \"colorscale\": {\"diverging\": [[0, \"#8e0152\"], [0.1, \"#c51b7d\"], [0.2, \"#de77ae\"], [0.3, \"#f1b6da\"], [0.4, \"#fde0ef\"], [0.5, \"#f7f7f7\"], [0.6, \"#e6f5d0\"], [0.7, \"#b8e186\"], [0.8, \"#7fbc41\"], [0.9, \"#4d9221\"], [1, \"#276419\"]], \"sequential\": [[0.0, \"#0d0887\"], [0.1111111111111111, \"#46039f\"], [0.2222222222222222, \"#7201a8\"], [0.3333333333333333, \"#9c179e\"], [0.4444444444444444, \"#bd3786\"], [0.5555555555555556, \"#d8576b\"], [0.6666666666666666, \"#ed7953\"], [0.7777777777777778, \"#fb9f3a\"], [0.8888888888888888, \"#fdca26\"], [1.0, \"#f0f921\"]], \"sequentialminus\": [[0.0, \"#0d0887\"], [0.1111111111111111, \"#46039f\"], [0.2222222222222222, \"#7201a8\"], [0.3333333333333333, \"#9c179e\"], [0.4444444444444444, \"#bd3786\"], [0.5555555555555556, \"#d8576b\"], [0.6666666666666666, \"#ed7953\"], [0.7777777777777778, \"#fb9f3a\"], [0.8888888888888888, \"#fdca26\"], [1.0, \"#f0f921\"]]}, \"colorway\": [\"#636efa\", \"#EF553B\", \"#00cc96\", \"#ab63fa\", \"#FFA15A\", \"#19d3f3\", \"#FF6692\", \"#B6E880\", \"#FF97FF\", \"#FECB52\"], \"font\": {\"color\": \"#2a3f5f\"}, \"geo\": {\"bgcolor\": \"white\", \"lakecolor\": \"white\", \"landcolor\": \"#E5ECF6\", \"showlakes\": true, \"showland\": true, \"subunitcolor\": \"white\"}, \"hoverlabel\": {\"align\": \"left\"}, \"hovermode\": \"closest\", \"mapbox\": {\"style\": \"light\"}, \"paper_bgcolor\": \"white\", \"plot_bgcolor\": \"#E5ECF6\", \"polar\": {\"angularaxis\": {\"gridcolor\": \"white\", \"linecolor\": \"white\", \"ticks\": \"\"}, \"bgcolor\": \"#E5ECF6\", \"radialaxis\": {\"gridcolor\": \"white\", \"linecolor\": \"white\", \"ticks\": \"\"}}, \"scene\": {\"xaxis\": {\"backgroundcolor\": \"#E5ECF6\", \"gridcolor\": \"white\", \"gridwidth\": 2, \"linecolor\": \"white\", \"showbackground\": true, \"ticks\": \"\", \"zerolinecolor\": \"white\"}, \"yaxis\": {\"backgroundcolor\": \"#E5ECF6\", \"gridcolor\": \"white\", \"gridwidth\": 2, \"linecolor\": \"white\", \"showbackground\": true, \"ticks\": \"\", \"zerolinecolor\": \"white\"}, \"zaxis\": {\"backgroundcolor\": \"#E5ECF6\", \"gridcolor\": \"white\", \"gridwidth\": 2, \"linecolor\": \"white\", \"showbackground\": true, \"ticks\": \"\", \"zerolinecolor\": \"white\"}}, \"shapedefaults\": {\"line\": {\"color\": \"#2a3f5f\"}}, \"ternary\": {\"aaxis\": {\"gridcolor\": \"white\", \"linecolor\": \"white\", \"ticks\": \"\"}, \"baxis\": {\"gridcolor\": \"white\", \"linecolor\": \"white\", \"ticks\": \"\"}, \"bgcolor\": \"#E5ECF6\", \"caxis\": {\"gridcolor\": \"white\", \"linecolor\": \"white\", \"ticks\": \"\"}}, \"title\": {\"x\": 0.05}, \"xaxis\": {\"automargin\": true, \"gridcolor\": \"white\", \"linecolor\": \"white\", \"ticks\": \"\", \"title\": {\"standoff\": 15}, \"zerolinecolor\": \"white\", \"zerolinewidth\": 2}, \"yaxis\": {\"automargin\": true, \"gridcolor\": \"white\", \"linecolor\": \"white\", \"ticks\": \"\", \"title\": {\"standoff\": 15}, \"zerolinecolor\": \"white\", \"zerolinewidth\": 2}}}, \"title\": {\"font\": {\"color\": \"#4D5663\"}}, \"xaxis\": {\"gridcolor\": \"#E1E5ED\", \"showgrid\": true, \"tickfont\": {\"color\": \"#4D5663\"}, \"title\": {\"font\": {\"color\": \"#4D5663\"}, \"text\": \"\"}, \"zerolinecolor\": \"#E1E5ED\"}, \"yaxis\": {\"gridcolor\": \"#E1E5ED\", \"showgrid\": true, \"tickfont\": {\"color\": \"#4D5663\"}, \"title\": {\"font\": {\"color\": \"#4D5663\"}, \"text\": \"\"}, \"zerolinecolor\": \"#E1E5ED\"}},                        {\"showLink\": true, \"linkText\": \"Export to plot.ly\", \"plotlyServerURL\": \"https://plot.ly\", \"responsive\": true}                    ).then(function(){\n",
       "                            \n",
       "var gd = document.getElementById('e8419e06-4408-44b2-bcf1-2ee433a60c3b');\n",
       "var x = new MutationObserver(function (mutations, observer) {{\n",
       "        var display = window.getComputedStyle(gd).display;\n",
       "        if (!display || display === 'none') {{\n",
       "            console.log([gd, 'removed!']);\n",
       "            Plotly.purge(gd);\n",
       "            observer.disconnect();\n",
       "        }}\n",
       "}});\n",
       "\n",
       "// Listen for the removal of the full notebook cells\n",
       "var notebookContainer = gd.closest('#notebook-container');\n",
       "if (notebookContainer) {{\n",
       "    x.observe(notebookContainer, {childList: true});\n",
       "}}\n",
       "\n",
       "// Listen for the clearing of the current output cell\n",
       "var outputEl = gd.closest('.output');\n",
       "if (outputEl) {{\n",
       "    x.observe(outputEl, {childList: true});\n",
       "}}\n",
       "\n",
       "                        })                };                });            </script>        </div>"
      ]
     },
     "metadata": {},
     "output_type": "display_data"
    }
   ],
   "source": [
    "tdf_2012[['Perfil jugador','% de Victorias ']].pivot(columns='Perfil jugador',values='% de Victorias ').iplot(kind='box',boxpoints='outliers')"
   ]
  },
  {
   "cell_type": "raw",
   "metadata": {},
   "source": [
    "Insights del gráfico Box Blot:\n",
    "\n",
    "1.El perfil de jugador más eficaz es el de Sacador, con una media de victorias superior al 56%, % de victorias notablemente superior al de los otros dos estilos de juego (Equilibrado=48% y Restador=45%)\n",
    "\n",
    "2. Podemos identificar valores outliers, correspondientes a jugadores con un muy bajo porcentaje de victorias, por lo que podemos filtrar nuestra busqueda.\n",
    "\n",
    "CONCLUSION: INTUIMOS QUE PUEDE EXISTIR CIERTA CORRELACIÓN ENTRE AQUELLOS JUGADORES QUE DISPONEN DE UN BUEN SERVICIO Y EL % DE VICTORIAS"
   ]
  },
  {
   "cell_type": "code",
   "execution_count": 521,
   "metadata": {},
   "outputs": [],
   "source": [
    "# Correlación entre altura y estilo de juego"
   ]
  },
  {
   "cell_type": "code",
   "execution_count": 522,
   "metadata": {
    "scrolled": true
   },
   "outputs": [
    {
     "name": "stderr",
     "output_type": "stream",
     "text": [
      "C:\\Users\\joanu\\anaconda\\lib\\site-packages\\cufflinks\\plotlytools.py:807: FutureWarning:\n",
      "\n",
      "The pandas.np module is deprecated and will be removed from pandas in a future version. Import numpy directly instead\n",
      "\n",
      "C:\\Users\\joanu\\anaconda\\lib\\site-packages\\cufflinks\\plotlytools.py:810: FutureWarning:\n",
      "\n",
      "The pandas.np module is deprecated and will be removed from pandas in a future version. Import numpy directly instead\n",
      "\n"
     ]
    },
    {
     "data": {
      "application/vnd.plotly.v1+json": {
       "config": {
        "linkText": "Export to plot.ly",
        "plotlyServerURL": "https://plot.ly",
        "showLink": true
       },
       "data": [
        {
         "marker": {
          "color": "rgba(255, 153, 51, 1.0)",
          "line": {
           "width": 1.3
          },
          "opacity": 0.8,
          "size": 12,
          "symbol": "circle"
         },
         "mode": "markers",
         "name": "Sacador",
         "textfont": {
          "color": "#4D5663"
         },
         "type": "scatter",
         "x": [
          208,
          196,
          185,
          211,
          198,
          192,
          188,
          203,
          187,
          188,
          188,
          196,
          183,
          198,
          178,
          188,
          183,
          188,
          191,
          180,
          188,
          190,
          188,
          188,
          183,
          193,
          188,
          185,
          191,
          180,
          185,
          193,
          188,
          185,
          198,
          178,
          195,
          188,
          185,
          193,
          184,
          190,
          190,
          183,
          188,
          196
         ],
         "y": [
          16.8,
          16.2,
          8.3,
          16.9,
          7.5,
          13.3,
          5.9,
          11.4,
          9.2,
          9,
          8.6,
          8.4,
          8.7,
          11.6,
          7.6,
          10.2,
          5.5,
          9.7,
          7.2,
          7.8,
          7.1,
          7.2,
          6.2,
          6.5,
          7.6,
          7.2,
          5,
          7,
          8,
          7.8,
          6.8,
          6.5,
          7.4,
          5,
          6.3,
          6.5,
          5,
          5.8,
          6.2,
          7.1,
          5,
          8.2,
          5.6,
          8,
          5.4,
          7.4
         ]
        },
        {
         "marker": {
          "color": "rgba(55, 128, 191, 1.0)",
          "line": {
           "width": 1.3
          },
          "opacity": 0.8,
          "size": 12,
          "symbol": "circle"
         },
         "mode": "markers",
         "name": "Restador",
         "textfont": {
          "color": "#4D5663"
         },
         "type": "scatter",
         "x": [
          185,
          183,
          175,
          188,
          178,
          178,
          180,
          185,
          177,
          168,
          178,
          183,
          188,
          181,
          183,
          178,
          175,
          180,
          180,
          173,
          183,
          185
         ],
         "y": [
          3.3,
          2,
          3.3,
          2.7,
          1.7,
          2.6,
          3.4,
          2.8,
          2,
          1.8,
          2.2,
          3,
          3.2,
          2.8,
          0.4,
          2.4,
          2,
          2.8,
          1.6,
          0.8,
          2.5,
          0.3
         ]
        },
        {
         "marker": {
          "color": "rgba(50, 171, 96, 1.0)",
          "line": {
           "width": 1.3
          },
          "opacity": 0.8,
          "size": 12,
          "symbol": "circle"
         },
         "mode": "markers",
         "name": "Equilibrado",
         "textfont": {
          "color": "#4D5663"
         },
         "type": "scatter",
         "x": [
          187,
          183,
          178,
          191,
          190,
          186,
          180,
          185,
          180,
          193,
          191,
          190,
          190,
          180,
          188,
          183,
          181
         ],
         "y": [
          4.6,
          4.4,
          4.2,
          4,
          4.5,
          4.7,
          4.7,
          4.9,
          4.2,
          4.4,
          4.3,
          4.1,
          3.8,
          4.7,
          3.6,
          4,
          3.6
         ]
        }
       ],
       "layout": {
        "legend": {
         "bgcolor": "#F5F6F9",
         "font": {
          "color": "#4D5663"
         }
        },
        "paper_bgcolor": "#F5F6F9",
        "plot_bgcolor": "#F5F6F9",
        "template": {
         "data": {
          "bar": [
           {
            "error_x": {
             "color": "#2a3f5f"
            },
            "error_y": {
             "color": "#2a3f5f"
            },
            "marker": {
             "line": {
              "color": "#E5ECF6",
              "width": 0.5
             }
            },
            "type": "bar"
           }
          ],
          "barpolar": [
           {
            "marker": {
             "line": {
              "color": "#E5ECF6",
              "width": 0.5
             }
            },
            "type": "barpolar"
           }
          ],
          "carpet": [
           {
            "aaxis": {
             "endlinecolor": "#2a3f5f",
             "gridcolor": "white",
             "linecolor": "white",
             "minorgridcolor": "white",
             "startlinecolor": "#2a3f5f"
            },
            "baxis": {
             "endlinecolor": "#2a3f5f",
             "gridcolor": "white",
             "linecolor": "white",
             "minorgridcolor": "white",
             "startlinecolor": "#2a3f5f"
            },
            "type": "carpet"
           }
          ],
          "choropleth": [
           {
            "colorbar": {
             "outlinewidth": 0,
             "ticks": ""
            },
            "type": "choropleth"
           }
          ],
          "contour": [
           {
            "colorbar": {
             "outlinewidth": 0,
             "ticks": ""
            },
            "colorscale": [
             [
              0,
              "#0d0887"
             ],
             [
              0.1111111111111111,
              "#46039f"
             ],
             [
              0.2222222222222222,
              "#7201a8"
             ],
             [
              0.3333333333333333,
              "#9c179e"
             ],
             [
              0.4444444444444444,
              "#bd3786"
             ],
             [
              0.5555555555555556,
              "#d8576b"
             ],
             [
              0.6666666666666666,
              "#ed7953"
             ],
             [
              0.7777777777777778,
              "#fb9f3a"
             ],
             [
              0.8888888888888888,
              "#fdca26"
             ],
             [
              1,
              "#f0f921"
             ]
            ],
            "type": "contour"
           }
          ],
          "contourcarpet": [
           {
            "colorbar": {
             "outlinewidth": 0,
             "ticks": ""
            },
            "type": "contourcarpet"
           }
          ],
          "heatmap": [
           {
            "colorbar": {
             "outlinewidth": 0,
             "ticks": ""
            },
            "colorscale": [
             [
              0,
              "#0d0887"
             ],
             [
              0.1111111111111111,
              "#46039f"
             ],
             [
              0.2222222222222222,
              "#7201a8"
             ],
             [
              0.3333333333333333,
              "#9c179e"
             ],
             [
              0.4444444444444444,
              "#bd3786"
             ],
             [
              0.5555555555555556,
              "#d8576b"
             ],
             [
              0.6666666666666666,
              "#ed7953"
             ],
             [
              0.7777777777777778,
              "#fb9f3a"
             ],
             [
              0.8888888888888888,
              "#fdca26"
             ],
             [
              1,
              "#f0f921"
             ]
            ],
            "type": "heatmap"
           }
          ],
          "heatmapgl": [
           {
            "colorbar": {
             "outlinewidth": 0,
             "ticks": ""
            },
            "colorscale": [
             [
              0,
              "#0d0887"
             ],
             [
              0.1111111111111111,
              "#46039f"
             ],
             [
              0.2222222222222222,
              "#7201a8"
             ],
             [
              0.3333333333333333,
              "#9c179e"
             ],
             [
              0.4444444444444444,
              "#bd3786"
             ],
             [
              0.5555555555555556,
              "#d8576b"
             ],
             [
              0.6666666666666666,
              "#ed7953"
             ],
             [
              0.7777777777777778,
              "#fb9f3a"
             ],
             [
              0.8888888888888888,
              "#fdca26"
             ],
             [
              1,
              "#f0f921"
             ]
            ],
            "type": "heatmapgl"
           }
          ],
          "histogram": [
           {
            "marker": {
             "colorbar": {
              "outlinewidth": 0,
              "ticks": ""
             }
            },
            "type": "histogram"
           }
          ],
          "histogram2d": [
           {
            "colorbar": {
             "outlinewidth": 0,
             "ticks": ""
            },
            "colorscale": [
             [
              0,
              "#0d0887"
             ],
             [
              0.1111111111111111,
              "#46039f"
             ],
             [
              0.2222222222222222,
              "#7201a8"
             ],
             [
              0.3333333333333333,
              "#9c179e"
             ],
             [
              0.4444444444444444,
              "#bd3786"
             ],
             [
              0.5555555555555556,
              "#d8576b"
             ],
             [
              0.6666666666666666,
              "#ed7953"
             ],
             [
              0.7777777777777778,
              "#fb9f3a"
             ],
             [
              0.8888888888888888,
              "#fdca26"
             ],
             [
              1,
              "#f0f921"
             ]
            ],
            "type": "histogram2d"
           }
          ],
          "histogram2dcontour": [
           {
            "colorbar": {
             "outlinewidth": 0,
             "ticks": ""
            },
            "colorscale": [
             [
              0,
              "#0d0887"
             ],
             [
              0.1111111111111111,
              "#46039f"
             ],
             [
              0.2222222222222222,
              "#7201a8"
             ],
             [
              0.3333333333333333,
              "#9c179e"
             ],
             [
              0.4444444444444444,
              "#bd3786"
             ],
             [
              0.5555555555555556,
              "#d8576b"
             ],
             [
              0.6666666666666666,
              "#ed7953"
             ],
             [
              0.7777777777777778,
              "#fb9f3a"
             ],
             [
              0.8888888888888888,
              "#fdca26"
             ],
             [
              1,
              "#f0f921"
             ]
            ],
            "type": "histogram2dcontour"
           }
          ],
          "mesh3d": [
           {
            "colorbar": {
             "outlinewidth": 0,
             "ticks": ""
            },
            "type": "mesh3d"
           }
          ],
          "parcoords": [
           {
            "line": {
             "colorbar": {
              "outlinewidth": 0,
              "ticks": ""
             }
            },
            "type": "parcoords"
           }
          ],
          "pie": [
           {
            "automargin": true,
            "type": "pie"
           }
          ],
          "scatter": [
           {
            "marker": {
             "colorbar": {
              "outlinewidth": 0,
              "ticks": ""
             }
            },
            "type": "scatter"
           }
          ],
          "scatter3d": [
           {
            "line": {
             "colorbar": {
              "outlinewidth": 0,
              "ticks": ""
             }
            },
            "marker": {
             "colorbar": {
              "outlinewidth": 0,
              "ticks": ""
             }
            },
            "type": "scatter3d"
           }
          ],
          "scattercarpet": [
           {
            "marker": {
             "colorbar": {
              "outlinewidth": 0,
              "ticks": ""
             }
            },
            "type": "scattercarpet"
           }
          ],
          "scattergeo": [
           {
            "marker": {
             "colorbar": {
              "outlinewidth": 0,
              "ticks": ""
             }
            },
            "type": "scattergeo"
           }
          ],
          "scattergl": [
           {
            "marker": {
             "colorbar": {
              "outlinewidth": 0,
              "ticks": ""
             }
            },
            "type": "scattergl"
           }
          ],
          "scattermapbox": [
           {
            "marker": {
             "colorbar": {
              "outlinewidth": 0,
              "ticks": ""
             }
            },
            "type": "scattermapbox"
           }
          ],
          "scatterpolar": [
           {
            "marker": {
             "colorbar": {
              "outlinewidth": 0,
              "ticks": ""
             }
            },
            "type": "scatterpolar"
           }
          ],
          "scatterpolargl": [
           {
            "marker": {
             "colorbar": {
              "outlinewidth": 0,
              "ticks": ""
             }
            },
            "type": "scatterpolargl"
           }
          ],
          "scatterternary": [
           {
            "marker": {
             "colorbar": {
              "outlinewidth": 0,
              "ticks": ""
             }
            },
            "type": "scatterternary"
           }
          ],
          "surface": [
           {
            "colorbar": {
             "outlinewidth": 0,
             "ticks": ""
            },
            "colorscale": [
             [
              0,
              "#0d0887"
             ],
             [
              0.1111111111111111,
              "#46039f"
             ],
             [
              0.2222222222222222,
              "#7201a8"
             ],
             [
              0.3333333333333333,
              "#9c179e"
             ],
             [
              0.4444444444444444,
              "#bd3786"
             ],
             [
              0.5555555555555556,
              "#d8576b"
             ],
             [
              0.6666666666666666,
              "#ed7953"
             ],
             [
              0.7777777777777778,
              "#fb9f3a"
             ],
             [
              0.8888888888888888,
              "#fdca26"
             ],
             [
              1,
              "#f0f921"
             ]
            ],
            "type": "surface"
           }
          ],
          "table": [
           {
            "cells": {
             "fill": {
              "color": "#EBF0F8"
             },
             "line": {
              "color": "white"
             }
            },
            "header": {
             "fill": {
              "color": "#C8D4E3"
             },
             "line": {
              "color": "white"
             }
            },
            "type": "table"
           }
          ]
         },
         "layout": {
          "annotationdefaults": {
           "arrowcolor": "#2a3f5f",
           "arrowhead": 0,
           "arrowwidth": 1
          },
          "autotypenumbers": "strict",
          "coloraxis": {
           "colorbar": {
            "outlinewidth": 0,
            "ticks": ""
           }
          },
          "colorscale": {
           "diverging": [
            [
             0,
             "#8e0152"
            ],
            [
             0.1,
             "#c51b7d"
            ],
            [
             0.2,
             "#de77ae"
            ],
            [
             0.3,
             "#f1b6da"
            ],
            [
             0.4,
             "#fde0ef"
            ],
            [
             0.5,
             "#f7f7f7"
            ],
            [
             0.6,
             "#e6f5d0"
            ],
            [
             0.7,
             "#b8e186"
            ],
            [
             0.8,
             "#7fbc41"
            ],
            [
             0.9,
             "#4d9221"
            ],
            [
             1,
             "#276419"
            ]
           ],
           "sequential": [
            [
             0,
             "#0d0887"
            ],
            [
             0.1111111111111111,
             "#46039f"
            ],
            [
             0.2222222222222222,
             "#7201a8"
            ],
            [
             0.3333333333333333,
             "#9c179e"
            ],
            [
             0.4444444444444444,
             "#bd3786"
            ],
            [
             0.5555555555555556,
             "#d8576b"
            ],
            [
             0.6666666666666666,
             "#ed7953"
            ],
            [
             0.7777777777777778,
             "#fb9f3a"
            ],
            [
             0.8888888888888888,
             "#fdca26"
            ],
            [
             1,
             "#f0f921"
            ]
           ],
           "sequentialminus": [
            [
             0,
             "#0d0887"
            ],
            [
             0.1111111111111111,
             "#46039f"
            ],
            [
             0.2222222222222222,
             "#7201a8"
            ],
            [
             0.3333333333333333,
             "#9c179e"
            ],
            [
             0.4444444444444444,
             "#bd3786"
            ],
            [
             0.5555555555555556,
             "#d8576b"
            ],
            [
             0.6666666666666666,
             "#ed7953"
            ],
            [
             0.7777777777777778,
             "#fb9f3a"
            ],
            [
             0.8888888888888888,
             "#fdca26"
            ],
            [
             1,
             "#f0f921"
            ]
           ]
          },
          "colorway": [
           "#636efa",
           "#EF553B",
           "#00cc96",
           "#ab63fa",
           "#FFA15A",
           "#19d3f3",
           "#FF6692",
           "#B6E880",
           "#FF97FF",
           "#FECB52"
          ],
          "font": {
           "color": "#2a3f5f"
          },
          "geo": {
           "bgcolor": "white",
           "lakecolor": "white",
           "landcolor": "#E5ECF6",
           "showlakes": true,
           "showland": true,
           "subunitcolor": "white"
          },
          "hoverlabel": {
           "align": "left"
          },
          "hovermode": "closest",
          "mapbox": {
           "style": "light"
          },
          "paper_bgcolor": "white",
          "plot_bgcolor": "#E5ECF6",
          "polar": {
           "angularaxis": {
            "gridcolor": "white",
            "linecolor": "white",
            "ticks": ""
           },
           "bgcolor": "#E5ECF6",
           "radialaxis": {
            "gridcolor": "white",
            "linecolor": "white",
            "ticks": ""
           }
          },
          "scene": {
           "xaxis": {
            "backgroundcolor": "#E5ECF6",
            "gridcolor": "white",
            "gridwidth": 2,
            "linecolor": "white",
            "showbackground": true,
            "ticks": "",
            "zerolinecolor": "white"
           },
           "yaxis": {
            "backgroundcolor": "#E5ECF6",
            "gridcolor": "white",
            "gridwidth": 2,
            "linecolor": "white",
            "showbackground": true,
            "ticks": "",
            "zerolinecolor": "white"
           },
           "zaxis": {
            "backgroundcolor": "#E5ECF6",
            "gridcolor": "white",
            "gridwidth": 2,
            "linecolor": "white",
            "showbackground": true,
            "ticks": "",
            "zerolinecolor": "white"
           }
          },
          "shapedefaults": {
           "line": {
            "color": "#2a3f5f"
           }
          },
          "ternary": {
           "aaxis": {
            "gridcolor": "white",
            "linecolor": "white",
            "ticks": ""
           },
           "baxis": {
            "gridcolor": "white",
            "linecolor": "white",
            "ticks": ""
           },
           "bgcolor": "#E5ECF6",
           "caxis": {
            "gridcolor": "white",
            "linecolor": "white",
            "ticks": ""
           }
          },
          "title": {
           "x": 0.05
          },
          "xaxis": {
           "automargin": true,
           "gridcolor": "white",
           "linecolor": "white",
           "ticks": "",
           "title": {
            "standoff": 15
           },
           "zerolinecolor": "white",
           "zerolinewidth": 2
          },
          "yaxis": {
           "automargin": true,
           "gridcolor": "white",
           "linecolor": "white",
           "ticks": "",
           "title": {
            "standoff": 15
           },
           "zerolinecolor": "white",
           "zerolinewidth": 2
          }
         }
        },
        "title": {
         "font": {
          "color": "#4D5663"
         }
        },
        "xaxis": {
         "gridcolor": "#E1E5ED",
         "showgrid": true,
         "tickfont": {
          "color": "#4D5663"
         },
         "title": {
          "font": {
           "color": "#4D5663"
          },
          "text": ""
         },
         "zerolinecolor": "#E1E5ED"
        },
        "yaxis": {
         "gridcolor": "#E1E5ED",
         "showgrid": true,
         "tickfont": {
          "color": "#4D5663"
         },
         "title": {
          "font": {
           "color": "#4D5663"
          },
          "text": ""
         },
         "zerolinecolor": "#E1E5ED"
        }
       }
      },
      "text/html": [
       "<div>                            <div id=\"01ce4e6c-ea5c-4147-bfa4-b6f43eb2d3cc\" class=\"plotly-graph-div\" style=\"height:525px; width:100%;\"></div>            <script type=\"text/javascript\">                require([\"plotly\"], function(Plotly) {                    window.PLOTLYENV=window.PLOTLYENV || {};\n",
       "                    window.PLOTLYENV.BASE_URL='https://plot.ly';                                    if (document.getElementById(\"01ce4e6c-ea5c-4147-bfa4-b6f43eb2d3cc\")) {                    Plotly.newPlot(                        \"01ce4e6c-ea5c-4147-bfa4-b6f43eb2d3cc\",                        [{\"marker\": {\"color\": \"rgba(255, 153, 51, 1.0)\", \"line\": {\"width\": 1.3}, \"opacity\": 0.8, \"size\": 12, \"symbol\": \"circle\"}, \"mode\": \"markers\", \"name\": \"Sacador\", \"textfont\": {\"color\": \"#4D5663\"}, \"type\": \"scatter\", \"x\": [208, 196, 185, 211, 198, 192, 188, 203, 187, 188, 188, 196, 183, 198, 178, 188, 183, 188, 191, 180, 188, 190, 188, 188, 183, 193, 188, 185, 191, 180, 185, 193, 188, 185, 198, 178, 195, 188, 185, 193, 184, 190, 190, 183, 188, 196], \"y\": [16.8, 16.2, 8.3, 16.9, 7.5, 13.3, 5.9, 11.4, 9.2, 9.0, 8.6, 8.4, 8.7, 11.6, 7.6, 10.2, 5.5, 9.7, 7.2, 7.8, 7.1, 7.2, 6.2, 6.5, 7.6, 7.2, 5.0, 7.0, 8.0, 7.8, 6.8, 6.5, 7.4, 5.0, 6.3, 6.5, 5.0, 5.8, 6.2, 7.1, 5.0, 8.2, 5.6, 8.0, 5.4, 7.4]}, {\"marker\": {\"color\": \"rgba(55, 128, 191, 1.0)\", \"line\": {\"width\": 1.3}, \"opacity\": 0.8, \"size\": 12, \"symbol\": \"circle\"}, \"mode\": \"markers\", \"name\": \"Restador\", \"textfont\": {\"color\": \"#4D5663\"}, \"type\": \"scatter\", \"x\": [185, 183, 175, 188, 178, 178, 180, 185, 177, 168, 178, 183, 188, 181, 183, 178, 175, 180, 180, 173, 183, 185], \"y\": [3.3, 2.0, 3.3, 2.7, 1.7, 2.6, 3.4, 2.8, 2.0, 1.8, 2.2, 3.0, 3.2, 2.8, 0.4, 2.4, 2.0, 2.8, 1.6, 0.8, 2.5, 0.3]}, {\"marker\": {\"color\": \"rgba(50, 171, 96, 1.0)\", \"line\": {\"width\": 1.3}, \"opacity\": 0.8, \"size\": 12, \"symbol\": \"circle\"}, \"mode\": \"markers\", \"name\": \"Equilibrado\", \"textfont\": {\"color\": \"#4D5663\"}, \"type\": \"scatter\", \"x\": [187, 183, 178, 191, 190, 186, 180, 185, 180, 193, 191, 190, 190, 180, 188, 183, 181], \"y\": [4.6, 4.4, 4.2, 4.0, 4.5, 4.7, 4.7, 4.9, 4.2, 4.4, 4.3, 4.1, 3.8, 4.7, 3.6, 4.0, 3.6]}],                        {\"legend\": {\"bgcolor\": \"#F5F6F9\", \"font\": {\"color\": \"#4D5663\"}}, \"paper_bgcolor\": \"#F5F6F9\", \"plot_bgcolor\": \"#F5F6F9\", \"template\": {\"data\": {\"bar\": [{\"error_x\": {\"color\": \"#2a3f5f\"}, \"error_y\": {\"color\": \"#2a3f5f\"}, \"marker\": {\"line\": {\"color\": \"#E5ECF6\", \"width\": 0.5}}, \"type\": \"bar\"}], \"barpolar\": [{\"marker\": {\"line\": {\"color\": \"#E5ECF6\", \"width\": 0.5}}, \"type\": \"barpolar\"}], \"carpet\": [{\"aaxis\": {\"endlinecolor\": \"#2a3f5f\", \"gridcolor\": \"white\", \"linecolor\": \"white\", \"minorgridcolor\": \"white\", \"startlinecolor\": \"#2a3f5f\"}, \"baxis\": {\"endlinecolor\": \"#2a3f5f\", \"gridcolor\": \"white\", \"linecolor\": \"white\", \"minorgridcolor\": \"white\", \"startlinecolor\": \"#2a3f5f\"}, \"type\": \"carpet\"}], \"choropleth\": [{\"colorbar\": {\"outlinewidth\": 0, \"ticks\": \"\"}, \"type\": \"choropleth\"}], \"contour\": [{\"colorbar\": {\"outlinewidth\": 0, \"ticks\": \"\"}, \"colorscale\": [[0.0, \"#0d0887\"], [0.1111111111111111, \"#46039f\"], [0.2222222222222222, \"#7201a8\"], [0.3333333333333333, \"#9c179e\"], [0.4444444444444444, \"#bd3786\"], [0.5555555555555556, \"#d8576b\"], [0.6666666666666666, \"#ed7953\"], [0.7777777777777778, \"#fb9f3a\"], [0.8888888888888888, \"#fdca26\"], [1.0, \"#f0f921\"]], \"type\": \"contour\"}], \"contourcarpet\": [{\"colorbar\": {\"outlinewidth\": 0, \"ticks\": \"\"}, \"type\": \"contourcarpet\"}], \"heatmap\": [{\"colorbar\": {\"outlinewidth\": 0, \"ticks\": \"\"}, \"colorscale\": [[0.0, \"#0d0887\"], [0.1111111111111111, \"#46039f\"], [0.2222222222222222, \"#7201a8\"], [0.3333333333333333, \"#9c179e\"], [0.4444444444444444, \"#bd3786\"], [0.5555555555555556, \"#d8576b\"], [0.6666666666666666, \"#ed7953\"], [0.7777777777777778, \"#fb9f3a\"], [0.8888888888888888, \"#fdca26\"], [1.0, \"#f0f921\"]], \"type\": \"heatmap\"}], \"heatmapgl\": [{\"colorbar\": {\"outlinewidth\": 0, \"ticks\": \"\"}, \"colorscale\": [[0.0, \"#0d0887\"], [0.1111111111111111, \"#46039f\"], [0.2222222222222222, \"#7201a8\"], [0.3333333333333333, \"#9c179e\"], [0.4444444444444444, \"#bd3786\"], [0.5555555555555556, \"#d8576b\"], [0.6666666666666666, \"#ed7953\"], [0.7777777777777778, \"#fb9f3a\"], [0.8888888888888888, \"#fdca26\"], [1.0, \"#f0f921\"]], \"type\": \"heatmapgl\"}], \"histogram\": [{\"marker\": {\"colorbar\": {\"outlinewidth\": 0, \"ticks\": \"\"}}, \"type\": \"histogram\"}], \"histogram2d\": [{\"colorbar\": {\"outlinewidth\": 0, \"ticks\": \"\"}, \"colorscale\": [[0.0, \"#0d0887\"], [0.1111111111111111, \"#46039f\"], [0.2222222222222222, \"#7201a8\"], [0.3333333333333333, \"#9c179e\"], [0.4444444444444444, \"#bd3786\"], [0.5555555555555556, \"#d8576b\"], [0.6666666666666666, \"#ed7953\"], [0.7777777777777778, \"#fb9f3a\"], [0.8888888888888888, \"#fdca26\"], [1.0, \"#f0f921\"]], \"type\": \"histogram2d\"}], \"histogram2dcontour\": [{\"colorbar\": {\"outlinewidth\": 0, \"ticks\": \"\"}, \"colorscale\": [[0.0, \"#0d0887\"], [0.1111111111111111, \"#46039f\"], [0.2222222222222222, \"#7201a8\"], [0.3333333333333333, \"#9c179e\"], [0.4444444444444444, \"#bd3786\"], [0.5555555555555556, \"#d8576b\"], [0.6666666666666666, \"#ed7953\"], [0.7777777777777778, \"#fb9f3a\"], [0.8888888888888888, \"#fdca26\"], [1.0, \"#f0f921\"]], \"type\": \"histogram2dcontour\"}], \"mesh3d\": [{\"colorbar\": {\"outlinewidth\": 0, \"ticks\": \"\"}, \"type\": \"mesh3d\"}], \"parcoords\": [{\"line\": {\"colorbar\": {\"outlinewidth\": 0, \"ticks\": \"\"}}, \"type\": \"parcoords\"}], \"pie\": [{\"automargin\": true, \"type\": \"pie\"}], \"scatter\": [{\"marker\": {\"colorbar\": {\"outlinewidth\": 0, \"ticks\": \"\"}}, \"type\": \"scatter\"}], \"scatter3d\": [{\"line\": {\"colorbar\": {\"outlinewidth\": 0, \"ticks\": \"\"}}, \"marker\": {\"colorbar\": {\"outlinewidth\": 0, \"ticks\": \"\"}}, \"type\": \"scatter3d\"}], \"scattercarpet\": [{\"marker\": {\"colorbar\": {\"outlinewidth\": 0, \"ticks\": \"\"}}, \"type\": \"scattercarpet\"}], \"scattergeo\": [{\"marker\": {\"colorbar\": {\"outlinewidth\": 0, \"ticks\": \"\"}}, \"type\": \"scattergeo\"}], \"scattergl\": [{\"marker\": {\"colorbar\": {\"outlinewidth\": 0, \"ticks\": \"\"}}, \"type\": \"scattergl\"}], \"scattermapbox\": [{\"marker\": {\"colorbar\": {\"outlinewidth\": 0, \"ticks\": \"\"}}, \"type\": \"scattermapbox\"}], \"scatterpolar\": [{\"marker\": {\"colorbar\": {\"outlinewidth\": 0, \"ticks\": \"\"}}, \"type\": \"scatterpolar\"}], \"scatterpolargl\": [{\"marker\": {\"colorbar\": {\"outlinewidth\": 0, \"ticks\": \"\"}}, \"type\": \"scatterpolargl\"}], \"scatterternary\": [{\"marker\": {\"colorbar\": {\"outlinewidth\": 0, \"ticks\": \"\"}}, \"type\": \"scatterternary\"}], \"surface\": [{\"colorbar\": {\"outlinewidth\": 0, \"ticks\": \"\"}, \"colorscale\": [[0.0, \"#0d0887\"], [0.1111111111111111, \"#46039f\"], [0.2222222222222222, \"#7201a8\"], [0.3333333333333333, \"#9c179e\"], [0.4444444444444444, \"#bd3786\"], [0.5555555555555556, \"#d8576b\"], [0.6666666666666666, \"#ed7953\"], [0.7777777777777778, \"#fb9f3a\"], [0.8888888888888888, \"#fdca26\"], [1.0, \"#f0f921\"]], \"type\": \"surface\"}], \"table\": [{\"cells\": {\"fill\": {\"color\": \"#EBF0F8\"}, \"line\": {\"color\": \"white\"}}, \"header\": {\"fill\": {\"color\": \"#C8D4E3\"}, \"line\": {\"color\": \"white\"}}, \"type\": \"table\"}]}, \"layout\": {\"annotationdefaults\": {\"arrowcolor\": \"#2a3f5f\", \"arrowhead\": 0, \"arrowwidth\": 1}, \"autotypenumbers\": \"strict\", \"coloraxis\": {\"colorbar\": {\"outlinewidth\": 0, \"ticks\": \"\"}}, \"colorscale\": {\"diverging\": [[0, \"#8e0152\"], [0.1, \"#c51b7d\"], [0.2, \"#de77ae\"], [0.3, \"#f1b6da\"], [0.4, \"#fde0ef\"], [0.5, \"#f7f7f7\"], [0.6, \"#e6f5d0\"], [0.7, \"#b8e186\"], [0.8, \"#7fbc41\"], [0.9, \"#4d9221\"], [1, \"#276419\"]], \"sequential\": [[0.0, \"#0d0887\"], [0.1111111111111111, \"#46039f\"], [0.2222222222222222, \"#7201a8\"], [0.3333333333333333, \"#9c179e\"], [0.4444444444444444, \"#bd3786\"], [0.5555555555555556, \"#d8576b\"], [0.6666666666666666, \"#ed7953\"], [0.7777777777777778, \"#fb9f3a\"], [0.8888888888888888, \"#fdca26\"], [1.0, \"#f0f921\"]], \"sequentialminus\": [[0.0, \"#0d0887\"], [0.1111111111111111, \"#46039f\"], [0.2222222222222222, \"#7201a8\"], [0.3333333333333333, \"#9c179e\"], [0.4444444444444444, \"#bd3786\"], [0.5555555555555556, \"#d8576b\"], [0.6666666666666666, \"#ed7953\"], [0.7777777777777778, \"#fb9f3a\"], [0.8888888888888888, \"#fdca26\"], [1.0, \"#f0f921\"]]}, \"colorway\": [\"#636efa\", \"#EF553B\", \"#00cc96\", \"#ab63fa\", \"#FFA15A\", \"#19d3f3\", \"#FF6692\", \"#B6E880\", \"#FF97FF\", \"#FECB52\"], \"font\": {\"color\": \"#2a3f5f\"}, \"geo\": {\"bgcolor\": \"white\", \"lakecolor\": \"white\", \"landcolor\": \"#E5ECF6\", \"showlakes\": true, \"showland\": true, \"subunitcolor\": \"white\"}, \"hoverlabel\": {\"align\": \"left\"}, \"hovermode\": \"closest\", \"mapbox\": {\"style\": \"light\"}, \"paper_bgcolor\": \"white\", \"plot_bgcolor\": \"#E5ECF6\", \"polar\": {\"angularaxis\": {\"gridcolor\": \"white\", \"linecolor\": \"white\", \"ticks\": \"\"}, \"bgcolor\": \"#E5ECF6\", \"radialaxis\": {\"gridcolor\": \"white\", \"linecolor\": \"white\", \"ticks\": \"\"}}, \"scene\": {\"xaxis\": {\"backgroundcolor\": \"#E5ECF6\", \"gridcolor\": \"white\", \"gridwidth\": 2, \"linecolor\": \"white\", \"showbackground\": true, \"ticks\": \"\", \"zerolinecolor\": \"white\"}, \"yaxis\": {\"backgroundcolor\": \"#E5ECF6\", \"gridcolor\": \"white\", \"gridwidth\": 2, \"linecolor\": \"white\", \"showbackground\": true, \"ticks\": \"\", \"zerolinecolor\": \"white\"}, \"zaxis\": {\"backgroundcolor\": \"#E5ECF6\", \"gridcolor\": \"white\", \"gridwidth\": 2, \"linecolor\": \"white\", \"showbackground\": true, \"ticks\": \"\", \"zerolinecolor\": \"white\"}}, \"shapedefaults\": {\"line\": {\"color\": \"#2a3f5f\"}}, \"ternary\": {\"aaxis\": {\"gridcolor\": \"white\", \"linecolor\": \"white\", \"ticks\": \"\"}, \"baxis\": {\"gridcolor\": \"white\", \"linecolor\": \"white\", \"ticks\": \"\"}, \"bgcolor\": \"#E5ECF6\", \"caxis\": {\"gridcolor\": \"white\", \"linecolor\": \"white\", \"ticks\": \"\"}}, \"title\": {\"x\": 0.05}, \"xaxis\": {\"automargin\": true, \"gridcolor\": \"white\", \"linecolor\": \"white\", \"ticks\": \"\", \"title\": {\"standoff\": 15}, \"zerolinecolor\": \"white\", \"zerolinewidth\": 2}, \"yaxis\": {\"automargin\": true, \"gridcolor\": \"white\", \"linecolor\": \"white\", \"ticks\": \"\", \"title\": {\"standoff\": 15}, \"zerolinecolor\": \"white\", \"zerolinewidth\": 2}}}, \"title\": {\"font\": {\"color\": \"#4D5663\"}}, \"xaxis\": {\"gridcolor\": \"#E1E5ED\", \"showgrid\": true, \"tickfont\": {\"color\": \"#4D5663\"}, \"title\": {\"font\": {\"color\": \"#4D5663\"}, \"text\": \"\"}, \"zerolinecolor\": \"#E1E5ED\"}, \"yaxis\": {\"gridcolor\": \"#E1E5ED\", \"showgrid\": true, \"tickfont\": {\"color\": \"#4D5663\"}, \"title\": {\"font\": {\"color\": \"#4D5663\"}, \"text\": \"\"}, \"zerolinecolor\": \"#E1E5ED\"}},                        {\"showLink\": true, \"linkText\": \"Export to plot.ly\", \"plotlyServerURL\": \"https://plot.ly\", \"responsive\": true}                    ).then(function(){\n",
       "                            \n",
       "var gd = document.getElementById('01ce4e6c-ea5c-4147-bfa4-b6f43eb2d3cc');\n",
       "var x = new MutationObserver(function (mutations, observer) {{\n",
       "        var display = window.getComputedStyle(gd).display;\n",
       "        if (!display || display === 'none') {{\n",
       "            console.log([gd, 'removed!']);\n",
       "            Plotly.purge(gd);\n",
       "            observer.disconnect();\n",
       "        }}\n",
       "}});\n",
       "\n",
       "// Listen for the removal of the full notebook cells\n",
       "var notebookContainer = gd.closest('#notebook-container');\n",
       "if (notebookContainer) {{\n",
       "    x.observe(notebookContainer, {childList: true});\n",
       "}}\n",
       "\n",
       "// Listen for the clearing of the current output cell\n",
       "var outputEl = gd.closest('.output');\n",
       "if (outputEl) {{\n",
       "    x.observe(outputEl, {childList: true});\n",
       "}}\n",
       "\n",
       "                        })                };                });            </script>        </div>"
      ]
     },
     "metadata": {},
     "output_type": "display_data"
    }
   ],
   "source": [
    "tdf_2012.iplot(kind='scatter',x='Altura cm',y='Prom. Aces Por Partido', mode='markers',categories='Perfil jugador')"
   ]
  },
  {
   "cell_type": "code",
   "execution_count": 32,
   "metadata": {},
   "outputs": [
    {
     "data": {
      "text/plain": [
       "[% de Victorias \n",
       " 53.57    203.0\n",
       " 54.00    185.0\n",
       " 54.55    188.0\n",
       " 54.84    180.0\n",
       " 55.10    188.0\n",
       " 55.26    180.0\n",
       " 55.81    190.0\n",
       " 55.88    190.0\n",
       " 56.41    178.0\n",
       " 57.63    180.0\n",
       " 58.33    178.0\n",
       " 58.46    190.0\n",
       " 58.97    187.0\n",
       " 59.26    187.0\n",
       " 59.68    198.0\n",
       " 61.11    183.0\n",
       " 63.24    180.0\n",
       " 63.64    180.5\n",
       " 65.52    193.0\n",
       " 65.63    185.5\n",
       " 65.96    188.0\n",
       " 66.67    180.0\n",
       " 66.70    183.0\n",
       " 67.24    188.0\n",
       " 67.27    178.0\n",
       " 68.18    208.0\n",
       " 68.80    188.0\n",
       " 69.23    196.0\n",
       " 70.73    183.0\n",
       " 72.62    196.0\n",
       " 77.78    191.0\n",
       " 79.27    198.0\n",
       " 83.52    175.0\n",
       " 85.54    185.0\n",
       " 86.21    188.0\n",
       " 87.50    185.0\n",
       " Name: Altura cm, dtype: float64]"
      ]
     },
     "execution_count": 32,
     "metadata": {},
     "output_type": "execute_result"
    }
   ],
   "source": [
    "altura_optima=[tdf_2012[(tdf_2012['% de Victorias ']>52)].groupby('% de Victorias ')['Altura cm'].mean()]\n",
    "altura_optima"
   ]
  },
  {
   "cell_type": "code",
   "execution_count": 524,
   "metadata": {},
   "outputs": [
    {
     "name": "stdout",
     "output_type": "stream",
     "text": [
      "0    188.0\n",
      "dtype: float64\n"
     ]
    }
   ],
   "source": [
    "for i in altura_optima:\n",
    "    print(i.mode())"
   ]
  },
  {
   "cell_type": "code",
   "execution_count": 525,
   "metadata": {},
   "outputs": [],
   "source": [
    "# Edad a la que se tiene mayor rendimiento"
   ]
  },
  {
   "cell_type": "code",
   "execution_count": 526,
   "metadata": {},
   "outputs": [
    {
     "data": {
      "text/plain": [
       "(187.53847488372801, 191.6789164206198)"
      ]
     },
     "execution_count": 526,
     "metadata": {},
     "output_type": "execute_result"
    }
   ],
   "source": [
    "# Your code here:\n",
    "ic_altura = tdf_2012[tdf_2012['Perfil jugador']=='Sacador']['Altura cm']\n",
    "\n",
    "alpha = 0.95\n",
    "\n",
    "m= ic_altura.mean()\n",
    "\n",
    "k_1 = len(ic_altura)-1\n",
    "\n",
    "stand_err = stats.sem(ic_altura)\n",
    "\n",
    "stats.t.interval(alpha, k_1, loc = m, scale = stand_err )"
   ]
  },
  {
   "cell_type": "code",
   "execution_count": 527,
   "metadata": {
    "scrolled": true
   },
   "outputs": [
    {
     "name": "stderr",
     "output_type": "stream",
     "text": [
      "C:\\Users\\joanu\\anaconda\\lib\\site-packages\\seaborn\\distributions.py:2551: FutureWarning:\n",
      "\n",
      "`distplot` is a deprecated function and will be removed in a future version. Please adapt your code to use either `displot` (a figure-level function with similar flexibility) or `histplot` (an axes-level function for histograms).\n",
      "\n"
     ]
    },
    {
     "data": {
      "text/plain": [
       "<AxesSubplot:xlabel='Edad', ylabel='Density'>"
      ]
     },
     "execution_count": 527,
     "metadata": {},
     "output_type": "execute_result"
    },
    {
     "data": {
      "image/png": "[encoded data removed]",
      "text/plain": [
       "<Figure size 432x288 with 1 Axes>"
      ]
     },
     "metadata": {
      "needs_background": "light"
     },
     "output_type": "display_data"
    }
   ],
   "source": [
    "edad_optima= tdf_2012[tdf_2012['% de Victorias ']>0]['Edad']\n",
    "sns.distplot(sample,)        "
   ]
  },
  {
   "cell_type": "raw",
   "metadata": {},
   "source": [
    "Insights:\n",
    "Edad entre 25 y 30"
   ]
  },
  {
   "cell_type": "code",
   "execution_count": 528,
   "metadata": {
    "scrolled": true
   },
   "outputs": [
    {
     "data": {
      "text/plain": [
       "[% de Victorias \n",
       " 65.52    26.0\n",
       " 65.63    28.5\n",
       " 65.96    34.0\n",
       " 66.67    28.0\n",
       " 66.70    22.0\n",
       " 67.24    26.5\n",
       " 67.27    23.0\n",
       " 68.18    27.0\n",
       " 68.80    27.0\n",
       " 69.23    22.0\n",
       " 70.73    28.0\n",
       " 72.62    27.0\n",
       " 77.78    25.0\n",
       " 79.27    24.0\n",
       " 83.52    30.0\n",
       " 85.54    31.0\n",
       " 86.21    25.0\n",
       " 87.50    26.0\n",
       " Name: Edad, dtype: float64]"
      ]
     },
     "execution_count": 528,
     "metadata": {},
     "output_type": "execute_result"
    }
   ],
   "source": [
    "edad_optima= [tdf2[(tdf2['% de Victorias '] >65)].groupby('% de Victorias ')['Edad'].mean()]\n",
    "edad_optima"
   ]
  },
  {
   "cell_type": "code",
   "execution_count": 529,
   "metadata": {},
   "outputs": [
    {
     "name": "stdout",
     "output_type": "stream",
     "text": [
      "26.7\n"
     ]
    }
   ],
   "source": [
    "for i in edad_optima:\n",
    "    print(round(i.mean(),1))"
   ]
  },
  {
   "cell_type": "code",
   "execution_count": 544,
   "metadata": {},
   "outputs": [
    {
     "data": {
      "text/plain": [
       "(25.771904595619603, 27.715274891559886)"
      ]
     },
     "execution_count": 544,
     "metadata": {},
     "output_type": "execute_result"
    }
   ],
   "source": [
    "# Your code here:\n",
    "ic_edad = tdf_2012[tdf_2012['% de Victorias ']>52]['Edad']\n",
    "\n",
    "alpha = 0.95\n",
    "\n",
    "m= ic_edad.mean()\n",
    "\n",
    "k_1 = len(ic_edad)-1\n",
    "\n",
    "stand_err = stats.sem(ic_edad)\n",
    "\n",
    "stats.t.interval(alpha, k_1, loc = m, scale = stand_err )"
   ]
  },
  {
   "cell_type": "code",
   "execution_count": 531,
   "metadata": {},
   "outputs": [],
   "source": [
    "# Comparación de la media de % de Victorias entre los jugadores que han tenido lesiones y los que no"
   ]
  },
  {
   "cell_type": "code",
   "execution_count": 532,
   "metadata": {},
   "outputs": [
    {
     "data": {
      "text/plain": [
       "Ttest_indResult(statistic=1.11989523806458, pvalue=0.2659962184263893)"
      ]
     },
     "execution_count": 532,
     "metadata": {},
     "output_type": "execute_result"
    }
   ],
   "source": [
    "Lesionado=tdf_2012[tdf_2012['Lesiones']==1]\n",
    "No_Lesionado=tdf_2012[tdf_2012['Lesiones']==0]\n",
    "\n",
    "stats.ttest_ind(Lesionado['% de Victorias '],No_Lesionado['% de Victorias '],equal_var=False)"
   ]
  },
  {
   "cell_type": "raw",
   "metadata": {},
   "source": [
    "Insights:\n",
    "La media de % de Victorias entre jugadores que han sufrido una lesion y los que no, no es estadísticamente significativa.\n",
    "Por lo que esta estadística no será crucial en nuestro análisis, pero evidentemente si el jugador esta sano, mejor.\n",
    "pvalue(0.65)>alfa(0.05)"
   ]
  },
  {
   "cell_type": "code",
   "execution_count": 545,
   "metadata": {},
   "outputs": [
    {
     "data": {
      "text/html": [
       "<div>\n",
       "<style scoped>\n",
       "    .dataframe tbody tr th:only-of-type {\n",
       "        vertical-align: middle;\n",
       "    }\n",
       "\n",
       "    .dataframe tbody tr th {\n",
       "        vertical-align: top;\n",
       "    }\n",
       "\n",
       "    .dataframe thead th {\n",
       "        text-align: right;\n",
       "    }\n",
       "</style>\n",
       "<table border=\"1\" class=\"dataframe\">\n",
       "  <thead>\n",
       "    <tr style=\"text-align: right;\">\n",
       "      <th></th>\n",
       "      <th>Ranking</th>\n",
       "      <th>Jugador</th>\n",
       "      <th>Nacionalidad</th>\n",
       "      <th>Edad</th>\n",
       "      <th>Altura cm</th>\n",
       "      <th>Año</th>\n",
       "      <th>Efectividad Al Saque ©</th>\n",
       "      <th>% 1er Servicio</th>\n",
       "      <th>% Puntos Ganados 1er Saque</th>\n",
       "      <th>% Puntos Ganados 2do Saque</th>\n",
       "      <th>...</th>\n",
       "      <th>Efectividad Bajo Presión</th>\n",
       "      <th>% Break Points Convertidos.1</th>\n",
       "      <th>% Break Points Salvados</th>\n",
       "      <th>% Tie Breaks Ganados</th>\n",
       "      <th>% Victorias Sets Definitivos</th>\n",
       "      <th>Tiempo de partido (min)</th>\n",
       "      <th>% de Victorias</th>\n",
       "      <th>Lesiones</th>\n",
       "      <th>Tarifa Jugador</th>\n",
       "      <th>Perfil jugador</th>\n",
       "    </tr>\n",
       "  </thead>\n",
       "  <tbody>\n",
       "    <tr>\n",
       "      <th>11</th>\n",
       "      <td>11</td>\n",
       "      <td>Jo-Wilfried Tsonga</td>\n",
       "      <td>France</td>\n",
       "      <td>27</td>\n",
       "      <td>188</td>\n",
       "      <td>2012</td>\n",
       "      <td>283.6</td>\n",
       "      <td>61.9</td>\n",
       "      <td>75.8</td>\n",
       "      <td>53.1</td>\n",
       "      <td>...</td>\n",
       "      <td>217.8</td>\n",
       "      <td>41.7</td>\n",
       "      <td>69.2</td>\n",
       "      <td>59.5</td>\n",
       "      <td>47.4</td>\n",
       "      <td>111</td>\n",
       "      <td>68.80</td>\n",
       "      <td>0</td>\n",
       "      <td>100000</td>\n",
       "      <td>Sacador</td>\n",
       "    </tr>\n",
       "    <tr>\n",
       "      <th>23</th>\n",
       "      <td>43</td>\n",
       "      <td>Denis Istomin</td>\n",
       "      <td>Uzbekistan</td>\n",
       "      <td>26</td>\n",
       "      <td>188</td>\n",
       "      <td>2012</td>\n",
       "      <td>274.9</td>\n",
       "      <td>64.5</td>\n",
       "      <td>71.4</td>\n",
       "      <td>52.8</td>\n",
       "      <td>...</td>\n",
       "      <td>200.1</td>\n",
       "      <td>38.6</td>\n",
       "      <td>62.2</td>\n",
       "      <td>51.7</td>\n",
       "      <td>47.6</td>\n",
       "      <td>109</td>\n",
       "      <td>48.39</td>\n",
       "      <td>1</td>\n",
       "      <td>50000</td>\n",
       "      <td>Sacador</td>\n",
       "    </tr>\n",
       "    <tr>\n",
       "      <th>58</th>\n",
       "      <td>38</td>\n",
       "      <td>Viktor Troicki</td>\n",
       "      <td>Serbia</td>\n",
       "      <td>26</td>\n",
       "      <td>190</td>\n",
       "      <td>2012</td>\n",
       "      <td>256.7</td>\n",
       "      <td>60.9</td>\n",
       "      <td>71.0</td>\n",
       "      <td>45.0</td>\n",
       "      <td>...</td>\n",
       "      <td>210.6</td>\n",
       "      <td>41.4</td>\n",
       "      <td>56.3</td>\n",
       "      <td>55.0</td>\n",
       "      <td>57.9</td>\n",
       "      <td>112</td>\n",
       "      <td>48.21</td>\n",
       "      <td>1</td>\n",
       "      <td>50000</td>\n",
       "      <td>Sacador</td>\n",
       "    </tr>\n",
       "    <tr>\n",
       "      <th>68</th>\n",
       "      <td>105</td>\n",
       "      <td>Matthew Ebden</td>\n",
       "      <td>Australia</td>\n",
       "      <td>26</td>\n",
       "      <td>188</td>\n",
       "      <td>2012</td>\n",
       "      <td>251.8</td>\n",
       "      <td>62.3</td>\n",
       "      <td>69.3</td>\n",
       "      <td>45.7</td>\n",
       "      <td>...</td>\n",
       "      <td>224.0</td>\n",
       "      <td>33.9</td>\n",
       "      <td>59.1</td>\n",
       "      <td>66.7</td>\n",
       "      <td>64.3</td>\n",
       "      <td>102</td>\n",
       "      <td>42.50</td>\n",
       "      <td>0</td>\n",
       "      <td>50000</td>\n",
       "      <td>Sacador</td>\n",
       "    </tr>\n",
       "  </tbody>\n",
       "</table>\n",
       "<p>4 rows × 28 columns</p>\n",
       "</div>"
      ],
      "text/plain": [
       "    Ranking             Jugador Nacionalidad  Edad  Altura cm   Año  \\\n",
       "11       11  Jo-Wilfried Tsonga       France    27        188  2012   \n",
       "23       43       Denis Istomin   Uzbekistan    26        188  2012   \n",
       "58       38      Viktor Troicki       Serbia    26        190  2012   \n",
       "68      105       Matthew Ebden    Australia    26        188  2012   \n",
       "\n",
       "    Efectividad Al Saque ©  % 1er Servicio  % Puntos Ganados 1er Saque  \\\n",
       "11                   283.6            61.9                        75.8   \n",
       "23                   274.9            64.5                        71.4   \n",
       "58                   256.7            60.9                        71.0   \n",
       "68                   251.8            62.3                        69.3   \n",
       "\n",
       "    % Puntos Ganados 2do Saque  ...  Efectividad Bajo Presión  \\\n",
       "11                        53.1  ...                     217.8   \n",
       "23                        52.8  ...                     200.1   \n",
       "58                        45.0  ...                     210.6   \n",
       "68                        45.7  ...                     224.0   \n",
       "\n",
       "    % Break Points Convertidos.1  % Break Points Salvados  \\\n",
       "11                          41.7                     69.2   \n",
       "23                          38.6                     62.2   \n",
       "58                          41.4                     56.3   \n",
       "68                          33.9                     59.1   \n",
       "\n",
       "    % Tie Breaks Ganados  % Victorias Sets Definitivos  \\\n",
       "11                  59.5                          47.4   \n",
       "23                  51.7                          47.6   \n",
       "58                  55.0                          57.9   \n",
       "68                  66.7                          64.3   \n",
       "\n",
       "    Tiempo de partido (min)  % de Victorias   Lesiones  Tarifa Jugador  \\\n",
       "11                      111            68.80         0          100000   \n",
       "23                      109            48.39         1           50000   \n",
       "58                      112            48.21         1           50000   \n",
       "68                      102            42.50         0           50000   \n",
       "\n",
       "    Perfil jugador  \n",
       "11         Sacador  \n",
       "23         Sacador  \n",
       "58         Sacador  \n",
       "68         Sacador  \n",
       "\n",
       "[4 rows x 28 columns]"
      ]
     },
     "execution_count": 545,
     "metadata": {},
     "output_type": "execute_result"
    }
   ],
   "source": [
    "tdf_2012[(tdf_2012['Perfil jugador']=='Sacador')&(tdf_2012['Altura cm']>187)&(tdf_2012['Altura cm']<192)&(tdf_2012['Tarifa Jugador']<200000)&(tdf_2012['Edad']>25)&(tdf_2012['Edad']<28)]"
   ]
  },
  {
   "cell_type": "raw",
   "metadata": {},
   "source": [
    "Análisis de Correlación"
   ]
  },
  {
   "cell_type": "code",
   "execution_count": 485,
   "metadata": {},
   "outputs": [
    {
     "data": {
      "text/plain": [
       "% de Victorias                  1.000000\n",
       "Tarifa Jugador                  0.728212\n",
       "Efectividad Bajo Presión        0.709498\n",
       "% Games Ganados Saque           0.667291\n",
       "Efectividad Al Saque ©          0.666999\n",
       "% Puntos Ganados 2do Saque      0.638295\n",
       "% Victorias Sets Definitivos    0.610100\n",
       "% Puntos Ganados 1er Saque      0.565976\n",
       "% Games Al Resto                0.535884\n",
       "% Restos 1er Saque              0.528571\n",
       "% Tie Breaks Ganados            0.517393\n",
       "% Break Points Salvados         0.496138\n",
       "Efectividad Al Resto            0.475851\n",
       "Tiempo de partido (min)         0.411772\n",
       "Prom. Aces Por Partido          0.320933\n",
       "% Restos 2° Saque               0.317594\n",
       "% Break Points Convertidos      0.273576\n",
       "% Break Points Convertidos.1    0.273576\n",
       "Altura cm                       0.191849\n",
       "Lesiones                        0.121903\n",
       "Edad                            0.059897\n",
       "% 1er Servicio                  0.044283\n",
       "Prom. Dobles Por Partido       -0.138982\n",
       "Ranking                        -0.554832\n",
       "Año                                  NaN\n",
       "Name: % de Victorias , dtype: float64"
      ]
     },
     "execution_count": 485,
     "metadata": {},
     "output_type": "execute_result"
    }
   ],
   "source": [
    "corr=tdf_2012.corr()[\"% de Victorias \"].sort_values(ascending=False)\n",
    "corr"
   ]
  },
  {
   "cell_type": "code",
   "execution_count": 493,
   "metadata": {},
   "outputs": [
    {
     "data": {
      "text/plain": [
       "{'Tarifa Jugador': 0.728211989970382,\n",
       " 'Efectividad Bajo Presión': 0.709498179712935,\n",
       " '% Games Ganados Saque': 0.667291281019658,\n",
       " 'Efectividad Al Saque ©': 0.6669986049751795,\n",
       " '% Puntos Ganados 2do Saque': 0.6382952903417058,\n",
       " '% Victorias Sets Definitivos': 0.6100999640057122}"
      ]
     },
     "execution_count": 493,
     "metadata": {},
     "output_type": "execute_result"
    }
   ],
   "source": [
    "important_corrs = (corr[abs(corr) > 0.6][corr != 1.0]).to_dict()\n",
    "\n",
    "important_corrs"
   ]
  },
  {
   "cell_type": "code",
   "execution_count": 34,
   "metadata": {},
   "outputs": [],
   "source": [
    "min_Efectividad_BP=tdf_2012['Efectividad Bajo Presión'].mean()\n",
    "min_por_juegos_ganados_saque=tdf_2012['% Games Ganados Saque'].mean()\n",
    "min_efectividad_saque=tdf_2012['Efectividad Al Saque ©'].mean()\n",
    "min_pts_ganados_2ndosaque=tdf_2012['% Puntos Ganados 2do Saque'].mean()\n",
    "min_vic_sets_def=tdf_2012['% Victorias Sets Definitivos'].mean()"
   ]
  },
  {
   "cell_type": "code",
   "execution_count": 58,
   "metadata": {},
   "outputs": [],
   "source": [
    "Efectividad_BP_JWT=tdf_2012[tdf_2012['Jugador']=='Jo-Wilfried Tsonga'].groupby('Jugador')['Efectividad Bajo Presión'].mean()\n",
    "Juegos_ganados_saque_JWT=tdf_2012[tdf_2012['Jugador']=='Jo-Wilfried Tsonga'].groupby('Jugador')['% Games Ganados Saque'].mean()"
   ]
  },
  {
   "cell_type": "code",
   "execution_count": 65,
   "metadata": {},
   "outputs": [
    {
     "ename": "ValueError",
     "evalue": "The truth value of a Series is ambiguous. Use a.empty, a.bool(), a.item(), a.any() or a.all().",
     "output_type": "error",
     "traceback": [
      "\u001b[1;31m---------------------------------------------------------------------------\u001b[0m",
      "\u001b[1;31mValueError\u001b[0m                                Traceback (most recent call last)",
      "\u001b[1;32m<ipython-input-65-4018f9684110>\u001b[0m in \u001b[0;36m<module>\u001b[1;34m\u001b[0m\n\u001b[1;32m----> 1\u001b[1;33m \u001b[1;32mif\u001b[0m \u001b[1;33m(\u001b[0m\u001b[0mmin_Efectividad_BP\u001b[0m\u001b[1;33m==\u001b[0m\u001b[0mEfectividad_BP_JWT\u001b[0m\u001b[1;33m)\u001b[0m\u001b[1;33m:\u001b[0m\u001b[1;33m\u001b[0m\u001b[1;33m\u001b[0m\u001b[0m\n\u001b[0m\u001b[0;32m      2\u001b[0m     \u001b[0mprint\u001b[0m\u001b[1;33m(\u001b[0m\u001b[1;34m'True'\u001b[0m\u001b[1;33m)\u001b[0m\u001b[1;33m\u001b[0m\u001b[1;33m\u001b[0m\u001b[0m\n\u001b[0;32m      3\u001b[0m \u001b[1;33m\u001b[0m\u001b[0m\n\u001b[0;32m      4\u001b[0m \u001b[1;33m\u001b[0m\u001b[0m\n",
      "\u001b[1;32m~\\anaconda\\lib\\site-packages\\pandas\\core\\generic.py\u001b[0m in \u001b[0;36m__nonzero__\u001b[1;34m(self)\u001b[0m\n\u001b[0;32m   1327\u001b[0m \u001b[1;33m\u001b[0m\u001b[0m\n\u001b[0;32m   1328\u001b[0m     \u001b[1;32mdef\u001b[0m \u001b[0m__nonzero__\u001b[0m\u001b[1;33m(\u001b[0m\u001b[0mself\u001b[0m\u001b[1;33m)\u001b[0m\u001b[1;33m:\u001b[0m\u001b[1;33m\u001b[0m\u001b[1;33m\u001b[0m\u001b[0m\n\u001b[1;32m-> 1329\u001b[1;33m         raise ValueError(\n\u001b[0m\u001b[0;32m   1330\u001b[0m             \u001b[1;34mf\"The truth value of a {type(self).__name__} is ambiguous. \"\u001b[0m\u001b[1;33m\u001b[0m\u001b[1;33m\u001b[0m\u001b[0m\n\u001b[0;32m   1331\u001b[0m             \u001b[1;34m\"Use a.empty, a.bool(), a.item(), a.any() or a.all().\"\u001b[0m\u001b[1;33m\u001b[0m\u001b[1;33m\u001b[0m\u001b[0m\n",
      "\u001b[1;31mValueError\u001b[0m: The truth value of a Series is ambiguous. Use a.empty, a.bool(), a.item(), a.any() or a.all()."
     ]
    }
   ],
   "source": [
    "print(min_Efectividad_BP<Efectividad_BP_JWT)\n",
    "print(min_por_juegos_ganados_saque<Juegos_ganados_saque_JWT)"
   ]
  },
  {
   "cell_type": "code",
   "execution_count": 147,
   "metadata": {},
   "outputs": [],
   "source": [
    "tdf_FRA=pd.read_excel('Tenis_stats_FRA.xlsx')"
   ]
  },
  {
   "cell_type": "code",
   "execution_count": 148,
   "metadata": {},
   "outputs": [
    {
     "data": {
      "text/html": [
       "<div>\n",
       "<style scoped>\n",
       "    .dataframe tbody tr th:only-of-type {\n",
       "        vertical-align: middle;\n",
       "    }\n",
       "\n",
       "    .dataframe tbody tr th {\n",
       "        vertical-align: top;\n",
       "    }\n",
       "\n",
       "    .dataframe thead th {\n",
       "        text-align: right;\n",
       "    }\n",
       "</style>\n",
       "<table border=\"1\" class=\"dataframe\">\n",
       "  <thead>\n",
       "    <tr style=\"text-align: right;\">\n",
       "      <th></th>\n",
       "      <th>date</th>\n",
       "      <th>Jugador</th>\n",
       "      <th>Balance V/D</th>\n",
       "      <th>tournament</th>\n",
       "      <th>level</th>\n",
       "      <th>bestOf</th>\n",
       "      <th>surface</th>\n",
       "      <th>indoor</th>\n",
       "      <th>speed</th>\n",
       "      <th>round</th>\n",
       "      <th>...</th>\n",
       "      <th>loser_seed</th>\n",
       "      <th>loser_country_name</th>\n",
       "      <th>loser_country_id</th>\n",
       "      <th>loser_rank</th>\n",
       "      <th>loser_eloRatingDelta</th>\n",
       "      <th>loser_eloRating</th>\n",
       "      <th>score</th>\n",
       "      <th>outcome</th>\n",
       "      <th>loser_entry</th>\n",
       "      <th>winner_entry</th>\n",
       "    </tr>\n",
       "  </thead>\n",
       "  <tbody>\n",
       "    <tr>\n",
       "      <th>0</th>\n",
       "      <td>2012-11-05</td>\n",
       "      <td>Jo-Wilfried Tsonga</td>\n",
       "      <td>0</td>\n",
       "      <td>Tour Finals</td>\n",
       "      <td>F</td>\n",
       "      <td>3</td>\n",
       "      <td>H</td>\n",
       "      <td>True</td>\n",
       "      <td>77.0</td>\n",
       "      <td>RR</td>\n",
       "      <td>...</td>\n",
       "      <td>7</td>\n",
       "      <td>France</td>\n",
       "      <td>FRA</td>\n",
       "      <td>8</td>\n",
       "      <td>-6</td>\n",
       "      <td>2177.0</td>\n",
       "      <td>6-2 7-6(3)</td>\n",
       "      <td>NaN</td>\n",
       "      <td>NaN</td>\n",
       "      <td>NaN</td>\n",
       "    </tr>\n",
       "    <tr>\n",
       "      <th>1</th>\n",
       "      <td>2012-11-05</td>\n",
       "      <td>Jo-Wilfried Tsonga</td>\n",
       "      <td>0</td>\n",
       "      <td>Tour Finals</td>\n",
       "      <td>F</td>\n",
       "      <td>3</td>\n",
       "      <td>H</td>\n",
       "      <td>True</td>\n",
       "      <td>77.0</td>\n",
       "      <td>RR</td>\n",
       "      <td>...</td>\n",
       "      <td>7</td>\n",
       "      <td>France</td>\n",
       "      <td>FRA</td>\n",
       "      <td>8</td>\n",
       "      <td>-9</td>\n",
       "      <td>2186.0</td>\n",
       "      <td>7-5 3-6 6-1</td>\n",
       "      <td>NaN</td>\n",
       "      <td>NaN</td>\n",
       "      <td>NaN</td>\n",
       "    </tr>\n",
       "    <tr>\n",
       "      <th>2</th>\n",
       "      <td>2012-11-05</td>\n",
       "      <td>Jo-Wilfried Tsonga</td>\n",
       "      <td>0</td>\n",
       "      <td>Tour Finals</td>\n",
       "      <td>F</td>\n",
       "      <td>3</td>\n",
       "      <td>H</td>\n",
       "      <td>True</td>\n",
       "      <td>77.0</td>\n",
       "      <td>RR</td>\n",
       "      <td>...</td>\n",
       "      <td>7</td>\n",
       "      <td>France</td>\n",
       "      <td>FRA</td>\n",
       "      <td>8</td>\n",
       "      <td>-4</td>\n",
       "      <td>2190.0</td>\n",
       "      <td>7-6(4) 6-3</td>\n",
       "      <td>NaN</td>\n",
       "      <td>NaN</td>\n",
       "      <td>NaN</td>\n",
       "    </tr>\n",
       "    <tr>\n",
       "      <th>3</th>\n",
       "      <td>2012-10-29</td>\n",
       "      <td>Jo-Wilfried Tsonga</td>\n",
       "      <td>0</td>\n",
       "      <td>Paris Masters</td>\n",
       "      <td>M</td>\n",
       "      <td>3</td>\n",
       "      <td>H</td>\n",
       "      <td>True</td>\n",
       "      <td>69.0</td>\n",
       "      <td>QF</td>\n",
       "      <td>...</td>\n",
       "      <td>6</td>\n",
       "      <td>France</td>\n",
       "      <td>FRA</td>\n",
       "      <td>7</td>\n",
       "      <td>-8</td>\n",
       "      <td>2198.0</td>\n",
       "      <td>6-2 7-5</td>\n",
       "      <td>NaN</td>\n",
       "      <td>NaN</td>\n",
       "      <td>NaN</td>\n",
       "    </tr>\n",
       "    <tr>\n",
       "      <th>4</th>\n",
       "      <td>2012-10-29</td>\n",
       "      <td>Jo-Wilfried Tsonga</td>\n",
       "      <td>1</td>\n",
       "      <td>Paris Masters</td>\n",
       "      <td>M</td>\n",
       "      <td>3</td>\n",
       "      <td>H</td>\n",
       "      <td>True</td>\n",
       "      <td>69.0</td>\n",
       "      <td>R16</td>\n",
       "      <td>...</td>\n",
       "      <td>11</td>\n",
       "      <td>Spain</td>\n",
       "      <td>ESP</td>\n",
       "      <td>13</td>\n",
       "      <td>-8</td>\n",
       "      <td>2141.0</td>\n",
       "      <td>7-6(4) 7-6(3)</td>\n",
       "      <td>NaN</td>\n",
       "      <td>NaN</td>\n",
       "      <td>NaN</td>\n",
       "    </tr>\n",
       "    <tr>\n",
       "      <th>...</th>\n",
       "      <td>...</td>\n",
       "      <td>...</td>\n",
       "      <td>...</td>\n",
       "      <td>...</td>\n",
       "      <td>...</td>\n",
       "      <td>...</td>\n",
       "      <td>...</td>\n",
       "      <td>...</td>\n",
       "      <td>...</td>\n",
       "      <td>...</td>\n",
       "      <td>...</td>\n",
       "      <td>...</td>\n",
       "      <td>...</td>\n",
       "      <td>...</td>\n",
       "      <td>...</td>\n",
       "      <td>...</td>\n",
       "      <td>...</td>\n",
       "      <td>...</td>\n",
       "      <td>...</td>\n",
       "      <td>...</td>\n",
       "      <td>...</td>\n",
       "    </tr>\n",
       "    <tr>\n",
       "      <th>158</th>\n",
       "      <td>2011-01-17</td>\n",
       "      <td>Jo-Wilfried Tsonga</td>\n",
       "      <td>1</td>\n",
       "      <td>Australian Open</td>\n",
       "      <td>G</td>\n",
       "      <td>5</td>\n",
       "      <td>H</td>\n",
       "      <td>False</td>\n",
       "      <td>55.0</td>\n",
       "      <td>R128</td>\n",
       "      <td>...</td>\n",
       "      <td>GER</td>\n",
       "      <td>57</td>\n",
       "      <td>-7</td>\n",
       "      <td>1905</td>\n",
       "      <td>4-6 2-6 6-2 6-3 6-4</td>\n",
       "      <td>13.0</td>\n",
       "      <td>NaN</td>\n",
       "      <td>NaN</td>\n",
       "      <td>NaN</td>\n",
       "      <td>NaN</td>\n",
       "    </tr>\n",
       "    <tr>\n",
       "      <th>159</th>\n",
       "      <td>2011-01-03</td>\n",
       "      <td>Jo-Wilfried Tsonga</td>\n",
       "      <td>0</td>\n",
       "      <td>Doha</td>\n",
       "      <td>B</td>\n",
       "      <td>3</td>\n",
       "      <td>H</td>\n",
       "      <td>False</td>\n",
       "      <td>73.0</td>\n",
       "      <td>SF</td>\n",
       "      <td>...</td>\n",
       "      <td>FRA</td>\n",
       "      <td>13</td>\n",
       "      <td>-3</td>\n",
       "      <td>2121</td>\n",
       "      <td>6-3 7-6(2)</td>\n",
       "      <td>2.0</td>\n",
       "      <td>3</td>\n",
       "      <td>NaN</td>\n",
       "      <td>NaN</td>\n",
       "      <td>NaN</td>\n",
       "    </tr>\n",
       "    <tr>\n",
       "      <th>160</th>\n",
       "      <td>2011-01-03</td>\n",
       "      <td>Jo-Wilfried Tsonga</td>\n",
       "      <td>1</td>\n",
       "      <td>Doha</td>\n",
       "      <td>B</td>\n",
       "      <td>3</td>\n",
       "      <td>H</td>\n",
       "      <td>False</td>\n",
       "      <td>73.0</td>\n",
       "      <td>QF</td>\n",
       "      <td>...</td>\n",
       "      <td>ESP</td>\n",
       "      <td>33</td>\n",
       "      <td>-6</td>\n",
       "      <td>2002</td>\n",
       "      <td>7-6(4) 7-6(9)</td>\n",
       "      <td>3.0</td>\n",
       "      <td>7</td>\n",
       "      <td>NaN</td>\n",
       "      <td>NaN</td>\n",
       "      <td>NaN</td>\n",
       "    </tr>\n",
       "    <tr>\n",
       "      <th>161</th>\n",
       "      <td>2011-01-03</td>\n",
       "      <td>Jo-Wilfried Tsonga</td>\n",
       "      <td>1</td>\n",
       "      <td>Doha</td>\n",
       "      <td>B</td>\n",
       "      <td>3</td>\n",
       "      <td>H</td>\n",
       "      <td>False</td>\n",
       "      <td>73.0</td>\n",
       "      <td>R16</td>\n",
       "      <td>...</td>\n",
       "      <td>UKR</td>\n",
       "      <td>320</td>\n",
       "      <td>-4</td>\n",
       "      <td>1756</td>\n",
       "      <td>6-2 6-4</td>\n",
       "      <td>3.0</td>\n",
       "      <td>NaN</td>\n",
       "      <td>NaN</td>\n",
       "      <td>WC</td>\n",
       "      <td>NaN</td>\n",
       "    </tr>\n",
       "    <tr>\n",
       "      <th>162</th>\n",
       "      <td>2011-01-03</td>\n",
       "      <td>Jo-Wilfried Tsonga</td>\n",
       "      <td>1</td>\n",
       "      <td>Doha</td>\n",
       "      <td>B</td>\n",
       "      <td>3</td>\n",
       "      <td>H</td>\n",
       "      <td>False</td>\n",
       "      <td>73.0</td>\n",
       "      <td>R32</td>\n",
       "      <td>...</td>\n",
       "      <td>ESP</td>\n",
       "      <td>77</td>\n",
       "      <td>-4</td>\n",
       "      <td>1695</td>\n",
       "      <td>6-2 6-0</td>\n",
       "      <td>3.0</td>\n",
       "      <td>NaN</td>\n",
       "      <td>NaN</td>\n",
       "      <td>NaN</td>\n",
       "      <td>NaN</td>\n",
       "    </tr>\n",
       "  </tbody>\n",
       "</table>\n",
       "<p>163 rows × 28 columns</p>\n",
       "</div>"
      ],
      "text/plain": [
       "          date             Jugador  Balance V/D       tournament level  \\\n",
       "0   2012-11-05  Jo-Wilfried Tsonga            0      Tour Finals     F   \n",
       "1   2012-11-05  Jo-Wilfried Tsonga            0      Tour Finals     F   \n",
       "2   2012-11-05  Jo-Wilfried Tsonga            0      Tour Finals     F   \n",
       "3   2012-10-29  Jo-Wilfried Tsonga            0    Paris Masters     M   \n",
       "4   2012-10-29  Jo-Wilfried Tsonga            1    Paris Masters     M   \n",
       "..         ...                 ...          ...              ...   ...   \n",
       "158 2011-01-17  Jo-Wilfried Tsonga            1  Australian Open     G   \n",
       "159 2011-01-03  Jo-Wilfried Tsonga            0             Doha     B   \n",
       "160 2011-01-03  Jo-Wilfried Tsonga            1             Doha     B   \n",
       "161 2011-01-03  Jo-Wilfried Tsonga            1             Doha     B   \n",
       "162 2011-01-03  Jo-Wilfried Tsonga            1             Doha     B   \n",
       "\n",
       "     bestOf surface  indoor  speed round  ... loser_seed loser_country_name  \\\n",
       "0         3       H    True   77.0    RR  ...          7             France   \n",
       "1         3       H    True   77.0    RR  ...          7             France   \n",
       "2         3       H    True   77.0    RR  ...          7             France   \n",
       "3         3       H    True   69.0    QF  ...          6             France   \n",
       "4         3       H    True   69.0   R16  ...         11              Spain   \n",
       "..      ...     ...     ...    ...   ...  ...        ...                ...   \n",
       "158       5       H   False   55.0  R128  ...        GER                 57   \n",
       "159       3       H   False   73.0    SF  ...        FRA                 13   \n",
       "160       3       H   False   73.0    QF  ...        ESP                 33   \n",
       "161       3       H   False   73.0   R16  ...        UKR                320   \n",
       "162       3       H   False   73.0   R32  ...        ESP                 77   \n",
       "\n",
       "    loser_country_id loser_rank  loser_eloRatingDelta  loser_eloRating  \\\n",
       "0                FRA          8                    -6           2177.0   \n",
       "1                FRA          8                    -9           2186.0   \n",
       "2                FRA          8                    -4           2190.0   \n",
       "3                FRA          7                    -8           2198.0   \n",
       "4                ESP         13                    -8           2141.0   \n",
       "..               ...        ...                   ...              ...   \n",
       "158               -7       1905   4-6 2-6 6-2 6-3 6-4             13.0   \n",
       "159               -3       2121            6-3 7-6(2)              2.0   \n",
       "160               -6       2002         7-6(4) 7-6(9)              3.0   \n",
       "161               -4       1756               6-2 6-4              3.0   \n",
       "162               -4       1695               6-2 6-0              3.0   \n",
       "\n",
       "             score outcome loser_entry winner_entry  \n",
       "0       6-2 7-6(3)     NaN         NaN          NaN  \n",
       "1      7-5 3-6 6-1     NaN         NaN          NaN  \n",
       "2       7-6(4) 6-3     NaN         NaN          NaN  \n",
       "3          6-2 7-5     NaN         NaN          NaN  \n",
       "4    7-6(4) 7-6(3)     NaN         NaN          NaN  \n",
       "..             ...     ...         ...          ...  \n",
       "158            NaN     NaN         NaN          NaN  \n",
       "159              3     NaN         NaN          NaN  \n",
       "160              7     NaN         NaN          NaN  \n",
       "161            NaN     NaN          WC          NaN  \n",
       "162            NaN     NaN         NaN          NaN  \n",
       "\n",
       "[163 rows x 28 columns]"
      ]
     },
     "execution_count": 148,
     "metadata": {},
     "output_type": "execute_result"
    }
   ],
   "source": [
    "tdf_FRA"
   ]
  },
  {
   "cell_type": "code",
   "execution_count": 149,
   "metadata": {},
   "outputs": [],
   "source": [
    "tdf_ts=tdf_FRA[['date','Balance V/D']]"
   ]
  },
  {
   "cell_type": "code",
   "execution_count": 150,
   "metadata": {},
   "outputs": [
    {
     "data": {
      "text/html": [
       "<div>\n",
       "<style scoped>\n",
       "    .dataframe tbody tr th:only-of-type {\n",
       "        vertical-align: middle;\n",
       "    }\n",
       "\n",
       "    .dataframe tbody tr th {\n",
       "        vertical-align: top;\n",
       "    }\n",
       "\n",
       "    .dataframe thead th {\n",
       "        text-align: right;\n",
       "    }\n",
       "</style>\n",
       "<table border=\"1\" class=\"dataframe\">\n",
       "  <thead>\n",
       "    <tr style=\"text-align: right;\">\n",
       "      <th></th>\n",
       "      <th>date</th>\n",
       "      <th>Balance V/D</th>\n",
       "    </tr>\n",
       "  </thead>\n",
       "  <tbody>\n",
       "    <tr>\n",
       "      <th>0</th>\n",
       "      <td>2012-11-05</td>\n",
       "      <td>0</td>\n",
       "    </tr>\n",
       "    <tr>\n",
       "      <th>1</th>\n",
       "      <td>2012-11-05</td>\n",
       "      <td>0</td>\n",
       "    </tr>\n",
       "    <tr>\n",
       "      <th>2</th>\n",
       "      <td>2012-11-05</td>\n",
       "      <td>0</td>\n",
       "    </tr>\n",
       "    <tr>\n",
       "      <th>3</th>\n",
       "      <td>2012-10-29</td>\n",
       "      <td>0</td>\n",
       "    </tr>\n",
       "    <tr>\n",
       "      <th>4</th>\n",
       "      <td>2012-10-29</td>\n",
       "      <td>1</td>\n",
       "    </tr>\n",
       "    <tr>\n",
       "      <th>...</th>\n",
       "      <td>...</td>\n",
       "      <td>...</td>\n",
       "    </tr>\n",
       "    <tr>\n",
       "      <th>158</th>\n",
       "      <td>2011-01-17</td>\n",
       "      <td>1</td>\n",
       "    </tr>\n",
       "    <tr>\n",
       "      <th>159</th>\n",
       "      <td>2011-01-03</td>\n",
       "      <td>0</td>\n",
       "    </tr>\n",
       "    <tr>\n",
       "      <th>160</th>\n",
       "      <td>2011-01-03</td>\n",
       "      <td>1</td>\n",
       "    </tr>\n",
       "    <tr>\n",
       "      <th>161</th>\n",
       "      <td>2011-01-03</td>\n",
       "      <td>1</td>\n",
       "    </tr>\n",
       "    <tr>\n",
       "      <th>162</th>\n",
       "      <td>2011-01-03</td>\n",
       "      <td>1</td>\n",
       "    </tr>\n",
       "  </tbody>\n",
       "</table>\n",
       "<p>163 rows × 2 columns</p>\n",
       "</div>"
      ],
      "text/plain": [
       "          date  Balance V/D\n",
       "0   2012-11-05            0\n",
       "1   2012-11-05            0\n",
       "2   2012-11-05            0\n",
       "3   2012-10-29            0\n",
       "4   2012-10-29            1\n",
       "..         ...          ...\n",
       "158 2011-01-17            1\n",
       "159 2011-01-03            0\n",
       "160 2011-01-03            1\n",
       "161 2011-01-03            1\n",
       "162 2011-01-03            1\n",
       "\n",
       "[163 rows x 2 columns]"
      ]
     },
     "execution_count": 150,
     "metadata": {},
     "output_type": "execute_result"
    }
   ],
   "source": [
    "tdf_ts"
   ]
  },
  {
   "cell_type": "code",
   "execution_count": 151,
   "metadata": {},
   "outputs": [],
   "source": [
    "tdf_ts['date']=pd.to_datetime(tdf_ts.date)"
   ]
  },
  {
   "cell_type": "code",
   "execution_count": 152,
   "metadata": {},
   "outputs": [],
   "source": [
    "tdf_ts.set_index('date',inplace=True)"
   ]
  },
  {
   "cell_type": "code",
   "execution_count": 153,
   "metadata": {},
   "outputs": [],
   "source": [
    "tdf_ts=tdf_ts.groupby(pd.Grouper(freq='M')).sum()"
   ]
  },
  {
   "cell_type": "code",
   "execution_count": 154,
   "metadata": {},
   "outputs": [
    {
     "data": {
      "text/html": [
       "<div>\n",
       "<style scoped>\n",
       "    .dataframe tbody tr th:only-of-type {\n",
       "        vertical-align: middle;\n",
       "    }\n",
       "\n",
       "    .dataframe tbody tr th {\n",
       "        vertical-align: top;\n",
       "    }\n",
       "\n",
       "    .dataframe thead th {\n",
       "        text-align: right;\n",
       "    }\n",
       "</style>\n",
       "<table border=\"1\" class=\"dataframe\">\n",
       "  <thead>\n",
       "    <tr style=\"text-align: right;\">\n",
       "      <th></th>\n",
       "      <th>Balance V/D</th>\n",
       "    </tr>\n",
       "    <tr>\n",
       "      <th>date</th>\n",
       "      <th></th>\n",
       "    </tr>\n",
       "  </thead>\n",
       "  <tbody>\n",
       "    <tr>\n",
       "      <th>2011-01-31</th>\n",
       "      <td>5</td>\n",
       "    </tr>\n",
       "    <tr>\n",
       "      <th>2011-02-28</th>\n",
       "      <td>6</td>\n",
       "    </tr>\n",
       "    <tr>\n",
       "      <th>2011-03-31</th>\n",
       "      <td>1</td>\n",
       "    </tr>\n",
       "    <tr>\n",
       "      <th>2011-04-30</th>\n",
       "      <td>1</td>\n",
       "    </tr>\n",
       "    <tr>\n",
       "      <th>2011-05-31</th>\n",
       "      <td>5</td>\n",
       "    </tr>\n",
       "    <tr>\n",
       "      <th>2011-06-30</th>\n",
       "      <td>10</td>\n",
       "    </tr>\n",
       "    <tr>\n",
       "      <th>2011-07-31</th>\n",
       "      <td>1</td>\n",
       "    </tr>\n",
       "    <tr>\n",
       "      <th>2011-08-31</th>\n",
       "      <td>9</td>\n",
       "    </tr>\n",
       "    <tr>\n",
       "      <th>2011-09-30</th>\n",
       "      <td>4</td>\n",
       "    </tr>\n",
       "    <tr>\n",
       "      <th>2011-10-31</th>\n",
       "      <td>8</td>\n",
       "    </tr>\n",
       "    <tr>\n",
       "      <th>2011-11-30</th>\n",
       "      <td>7</td>\n",
       "    </tr>\n",
       "    <tr>\n",
       "      <th>2011-12-31</th>\n",
       "      <td>0</td>\n",
       "    </tr>\n",
       "    <tr>\n",
       "      <th>2012-01-31</th>\n",
       "      <td>8</td>\n",
       "    </tr>\n",
       "    <tr>\n",
       "      <th>2012-02-29</th>\n",
       "      <td>6</td>\n",
       "    </tr>\n",
       "    <tr>\n",
       "      <th>2012-03-31</th>\n",
       "      <td>5</td>\n",
       "    </tr>\n",
       "    <tr>\n",
       "      <th>2012-04-30</th>\n",
       "      <td>3</td>\n",
       "    </tr>\n",
       "    <tr>\n",
       "      <th>2012-05-31</th>\n",
       "      <td>7</td>\n",
       "    </tr>\n",
       "    <tr>\n",
       "      <th>2012-06-30</th>\n",
       "      <td>6</td>\n",
       "    </tr>\n",
       "    <tr>\n",
       "      <th>2012-07-31</th>\n",
       "      <td>3</td>\n",
       "    </tr>\n",
       "    <tr>\n",
       "      <th>2012-08-31</th>\n",
       "      <td>4</td>\n",
       "    </tr>\n",
       "    <tr>\n",
       "      <th>2012-09-30</th>\n",
       "      <td>4</td>\n",
       "    </tr>\n",
       "    <tr>\n",
       "      <th>2012-10-31</th>\n",
       "      <td>11</td>\n",
       "    </tr>\n",
       "    <tr>\n",
       "      <th>2012-11-30</th>\n",
       "      <td>0</td>\n",
       "    </tr>\n",
       "  </tbody>\n",
       "</table>\n",
       "</div>"
      ],
      "text/plain": [
       "            Balance V/D\n",
       "date                   \n",
       "2011-01-31            5\n",
       "2011-02-28            6\n",
       "2011-03-31            1\n",
       "2011-04-30            1\n",
       "2011-05-31            5\n",
       "2011-06-30           10\n",
       "2011-07-31            1\n",
       "2011-08-31            9\n",
       "2011-09-30            4\n",
       "2011-10-31            8\n",
       "2011-11-30            7\n",
       "2011-12-31            0\n",
       "2012-01-31            8\n",
       "2012-02-29            6\n",
       "2012-03-31            5\n",
       "2012-04-30            3\n",
       "2012-05-31            7\n",
       "2012-06-30            6\n",
       "2012-07-31            3\n",
       "2012-08-31            4\n",
       "2012-09-30            4\n",
       "2012-10-31           11\n",
       "2012-11-30            0"
      ]
     },
     "execution_count": 154,
     "metadata": {},
     "output_type": "execute_result"
    }
   ],
   "source": [
    "tdf_ts"
   ]
  },
  {
   "cell_type": "code",
   "execution_count": 64,
   "metadata": {},
   "outputs": [],
   "source": [
    "# Agrupar Dias en meses y sumar los valores de Balance V/D"
   ]
  },
  {
   "cell_type": "code",
   "execution_count": 155,
   "metadata": {},
   "outputs": [],
   "source": [
    "tdf_ts = tdf_ts[(tdf_ts.T != 0).any()]"
   ]
  },
  {
   "cell_type": "code",
   "execution_count": null,
   "metadata": {},
   "outputs": [],
   "source": [
    "# ARIMA"
   ]
  },
  {
   "cell_type": "code",
   "execution_count": 80,
   "metadata": {},
   "outputs": [
    {
     "name": "stdout",
     "output_type": "stream",
     "text": [
      "Performing stepwise search to minimize aic\n",
      " ARIMA(1,1,1)(0,1,0)[12]             : AIC=inf, Time=0.29 sec\n",
      " ARIMA(0,1,0)(0,1,0)[12]             : AIC=56.503, Time=0.07 sec\n",
      " ARIMA(1,1,0)(1,1,0)[12]             : AIC=inf, Time=0.33 sec\n",
      " ARIMA(0,1,1)(0,1,1)[12]             : AIC=inf, Time=0.21 sec\n",
      " ARIMA(0,1,0)(1,1,0)[12]             : AIC=58.503, Time=0.09 sec\n",
      " ARIMA(0,1,0)(0,1,1)[12]             : AIC=58.503, Time=0.11 sec\n",
      " ARIMA(0,1,0)(1,1,1)[12]             : AIC=60.503, Time=0.59 sec\n",
      " ARIMA(1,1,0)(0,1,0)[12]             : AIC=54.591, Time=0.03 sec\n",
      " ARIMA(1,1,0)(0,1,1)[12]             : AIC=inf, Time=0.25 sec\n",
      " ARIMA(1,1,0)(1,1,1)[12]             : AIC=58.521, Time=0.54 sec\n",
      " ARIMA(2,1,0)(0,1,0)[12]             : AIC=56.394, Time=0.25 sec\n",
      " ARIMA(0,1,1)(0,1,0)[12]             : AIC=inf, Time=0.12 sec\n",
      " ARIMA(2,1,1)(0,1,0)[12]             : AIC=inf, Time=0.38 sec\n",
      " ARIMA(1,1,0)(0,1,0)[12] intercept   : AIC=56.541, Time=0.07 sec\n",
      "\n",
      "Best model:  ARIMA(1,1,0)(0,1,0)[12]          \n",
      "Total fit time: 3.362 seconds\n"
     ]
    }
   ],
   "source": [
    "model=auto_arima(tdf_ts,start_p=1,d=1,start_q=1,\n",
    "          max_p=2,max_d=2,max_q=2, start_P=0,\n",
    "          D=1, start_Q=0, max_P=2,max_D=2,\n",
    "          max_Q=2, m=12, seasonal=True,\n",
    "          error_action='warn',trace=True,\n",
    "          supress_warnings=True,stepwise=True,\n",
    "          random_state=20,n_fits=50)"
   ]
  },
  {
   "cell_type": "code",
   "execution_count": 97,
   "metadata": {},
   "outputs": [],
   "source": [
    "prediction=model.predict(n_periods=22)"
   ]
  },
  {
   "cell_type": "code",
   "execution_count": 184,
   "metadata": {},
   "outputs": [
    {
     "data": {
      "text/plain": [
       "array([ 6.8, 11.4,  8.5,  9.2,  6.4,  5.6,  8.8,  8.4,  4.9,  6.2,  6. ,\n",
       "       13.2,  8.8, 13.6, 10.6, 11.3,  8.5,  7.7, 10.9, 10.5,  7.1,  8.3])"
      ]
     },
     "execution_count": 184,
     "metadata": {},
     "output_type": "execute_result"
    }
   ],
   "source": [
    "prediction.round((1))"
   ]
  },
  {
   "cell_type": "code",
   "execution_count": 185,
   "metadata": {},
   "outputs": [],
   "source": [
    "columns=['Balance V/D']\n",
    "rows=['2013-01-31',\n",
    "'2013-02-28',\n",
    "'2013-03-31',\n",
    "'2013-04-30',\n",
    "'2013-05-31',\n",
    "'2013-06-30',\n",
    "'2013-07-31',\n",
    "'2013-08-31',\n",
    "'2013-09-30',\n",
    "'2013-10-31',\n",
    "'2013-11-30',\n",
    "'2014-01-31',\n",
    "'2014-02-28',\n",
    "'2014-03-31',\n",
    "'2014-04-30',\n",
    "'2014-05-31',\n",
    "'2014-06-30',\n",
    "'2014-07-31',\n",
    "'2014-08-31',\n",
    "'2014-09-30',\n",
    "'2014-10-31',\n",
    "'2014-11-30']\n",
    "df=pd.DataFrame(data=prediction,index=rows,columns=columns)"
   ]
  },
  {
   "cell_type": "code",
   "execution_count": 190,
   "metadata": {},
   "outputs": [],
   "source": [
    "df.index.name = 'date'"
   ]
  },
  {
   "cell_type": "code",
   "execution_count": 173,
   "metadata": {
    "scrolled": true
   },
   "outputs": [],
   "source": [
    "result_df=tdf_ts.append(df)"
   ]
  },
  {
   "cell_type": "code",
   "execution_count": 174,
   "metadata": {},
   "outputs": [],
   "source": [
    "result_df.index = result_df.index.values.astype('M8[D]')"
   ]
  },
  {
   "cell_type": "code",
   "execution_count": 176,
   "metadata": {},
   "outputs": [],
   "source": [
    "result_df.index.name = 'date'"
   ]
  },
  {
   "cell_type": "code",
   "execution_count": 193,
   "metadata": {},
   "outputs": [],
   "source": [
    "result_df.rename(columns={'Balance V/D':'Victorias Mensuales'},inplace=True)"
   ]
  },
  {
   "cell_type": "code",
   "execution_count": 194,
   "metadata": {},
   "outputs": [],
   "source": [
    "result_df['Victorias Mensuales']=result_df['Victorias Mensuales'].round()"
   ]
  },
  {
   "cell_type": "code",
   "execution_count": 195,
   "metadata": {},
   "outputs": [
    {
     "data": {
      "text/html": [
       "<div>\n",
       "<style scoped>\n",
       "    .dataframe tbody tr th:only-of-type {\n",
       "        vertical-align: middle;\n",
       "    }\n",
       "\n",
       "    .dataframe tbody tr th {\n",
       "        vertical-align: top;\n",
       "    }\n",
       "\n",
       "    .dataframe thead th {\n",
       "        text-align: right;\n",
       "    }\n",
       "</style>\n",
       "<table border=\"1\" class=\"dataframe\">\n",
       "  <thead>\n",
       "    <tr style=\"text-align: right;\">\n",
       "      <th></th>\n",
       "      <th>Victorias Mensuales</th>\n",
       "    </tr>\n",
       "    <tr>\n",
       "      <th>date</th>\n",
       "      <th></th>\n",
       "    </tr>\n",
       "  </thead>\n",
       "  <tbody>\n",
       "    <tr>\n",
       "      <th>2011-01-31</th>\n",
       "      <td>5.0</td>\n",
       "    </tr>\n",
       "    <tr>\n",
       "      <th>2011-02-28</th>\n",
       "      <td>6.0</td>\n",
       "    </tr>\n",
       "    <tr>\n",
       "      <th>2011-03-31</th>\n",
       "      <td>1.0</td>\n",
       "    </tr>\n",
       "    <tr>\n",
       "      <th>2011-04-30</th>\n",
       "      <td>1.0</td>\n",
       "    </tr>\n",
       "    <tr>\n",
       "      <th>2011-05-31</th>\n",
       "      <td>5.0</td>\n",
       "    </tr>\n",
       "    <tr>\n",
       "      <th>2011-06-30</th>\n",
       "      <td>10.0</td>\n",
       "    </tr>\n",
       "    <tr>\n",
       "      <th>2011-07-31</th>\n",
       "      <td>1.0</td>\n",
       "    </tr>\n",
       "    <tr>\n",
       "      <th>2011-08-31</th>\n",
       "      <td>9.0</td>\n",
       "    </tr>\n",
       "    <tr>\n",
       "      <th>2011-09-30</th>\n",
       "      <td>4.0</td>\n",
       "    </tr>\n",
       "    <tr>\n",
       "      <th>2011-10-31</th>\n",
       "      <td>8.0</td>\n",
       "    </tr>\n",
       "    <tr>\n",
       "      <th>2011-11-30</th>\n",
       "      <td>7.0</td>\n",
       "    </tr>\n",
       "    <tr>\n",
       "      <th>2012-01-31</th>\n",
       "      <td>8.0</td>\n",
       "    </tr>\n",
       "    <tr>\n",
       "      <th>2012-02-29</th>\n",
       "      <td>6.0</td>\n",
       "    </tr>\n",
       "    <tr>\n",
       "      <th>2012-03-31</th>\n",
       "      <td>5.0</td>\n",
       "    </tr>\n",
       "    <tr>\n",
       "      <th>2012-04-30</th>\n",
       "      <td>3.0</td>\n",
       "    </tr>\n",
       "    <tr>\n",
       "      <th>2012-05-31</th>\n",
       "      <td>7.0</td>\n",
       "    </tr>\n",
       "    <tr>\n",
       "      <th>2012-06-30</th>\n",
       "      <td>6.0</td>\n",
       "    </tr>\n",
       "    <tr>\n",
       "      <th>2012-07-31</th>\n",
       "      <td>3.0</td>\n",
       "    </tr>\n",
       "    <tr>\n",
       "      <th>2012-08-31</th>\n",
       "      <td>4.0</td>\n",
       "    </tr>\n",
       "    <tr>\n",
       "      <th>2012-09-30</th>\n",
       "      <td>4.0</td>\n",
       "    </tr>\n",
       "    <tr>\n",
       "      <th>2012-10-31</th>\n",
       "      <td>11.0</td>\n",
       "    </tr>\n",
       "    <tr>\n",
       "      <th>2013-01-31</th>\n",
       "      <td>7.0</td>\n",
       "    </tr>\n",
       "    <tr>\n",
       "      <th>2013-02-28</th>\n",
       "      <td>11.0</td>\n",
       "    </tr>\n",
       "    <tr>\n",
       "      <th>2013-03-31</th>\n",
       "      <td>9.0</td>\n",
       "    </tr>\n",
       "    <tr>\n",
       "      <th>2013-04-30</th>\n",
       "      <td>9.0</td>\n",
       "    </tr>\n",
       "    <tr>\n",
       "      <th>2013-05-31</th>\n",
       "      <td>6.0</td>\n",
       "    </tr>\n",
       "    <tr>\n",
       "      <th>2013-06-30</th>\n",
       "      <td>6.0</td>\n",
       "    </tr>\n",
       "    <tr>\n",
       "      <th>2013-07-31</th>\n",
       "      <td>9.0</td>\n",
       "    </tr>\n",
       "    <tr>\n",
       "      <th>2013-08-31</th>\n",
       "      <td>8.0</td>\n",
       "    </tr>\n",
       "    <tr>\n",
       "      <th>2013-09-30</th>\n",
       "      <td>5.0</td>\n",
       "    </tr>\n",
       "    <tr>\n",
       "      <th>2013-10-31</th>\n",
       "      <td>6.0</td>\n",
       "    </tr>\n",
       "    <tr>\n",
       "      <th>2013-11-30</th>\n",
       "      <td>6.0</td>\n",
       "    </tr>\n",
       "    <tr>\n",
       "      <th>2014-01-31</th>\n",
       "      <td>13.0</td>\n",
       "    </tr>\n",
       "    <tr>\n",
       "      <th>2014-02-28</th>\n",
       "      <td>9.0</td>\n",
       "    </tr>\n",
       "    <tr>\n",
       "      <th>2014-03-31</th>\n",
       "      <td>14.0</td>\n",
       "    </tr>\n",
       "    <tr>\n",
       "      <th>2014-04-30</th>\n",
       "      <td>11.0</td>\n",
       "    </tr>\n",
       "    <tr>\n",
       "      <th>2014-05-31</th>\n",
       "      <td>11.0</td>\n",
       "    </tr>\n",
       "    <tr>\n",
       "      <th>2014-06-30</th>\n",
       "      <td>8.0</td>\n",
       "    </tr>\n",
       "    <tr>\n",
       "      <th>2014-07-31</th>\n",
       "      <td>8.0</td>\n",
       "    </tr>\n",
       "    <tr>\n",
       "      <th>2014-08-31</th>\n",
       "      <td>11.0</td>\n",
       "    </tr>\n",
       "    <tr>\n",
       "      <th>2014-09-30</th>\n",
       "      <td>10.0</td>\n",
       "    </tr>\n",
       "    <tr>\n",
       "      <th>2014-10-31</th>\n",
       "      <td>7.0</td>\n",
       "    </tr>\n",
       "    <tr>\n",
       "      <th>2014-11-30</th>\n",
       "      <td>8.0</td>\n",
       "    </tr>\n",
       "  </tbody>\n",
       "</table>\n",
       "</div>"
      ],
      "text/plain": [
       "            Victorias Mensuales\n",
       "date                           \n",
       "2011-01-31                  5.0\n",
       "2011-02-28                  6.0\n",
       "2011-03-31                  1.0\n",
       "2011-04-30                  1.0\n",
       "2011-05-31                  5.0\n",
       "2011-06-30                 10.0\n",
       "2011-07-31                  1.0\n",
       "2011-08-31                  9.0\n",
       "2011-09-30                  4.0\n",
       "2011-10-31                  8.0\n",
       "2011-11-30                  7.0\n",
       "2012-01-31                  8.0\n",
       "2012-02-29                  6.0\n",
       "2012-03-31                  5.0\n",
       "2012-04-30                  3.0\n",
       "2012-05-31                  7.0\n",
       "2012-06-30                  6.0\n",
       "2012-07-31                  3.0\n",
       "2012-08-31                  4.0\n",
       "2012-09-30                  4.0\n",
       "2012-10-31                 11.0\n",
       "2013-01-31                  7.0\n",
       "2013-02-28                 11.0\n",
       "2013-03-31                  9.0\n",
       "2013-04-30                  9.0\n",
       "2013-05-31                  6.0\n",
       "2013-06-30                  6.0\n",
       "2013-07-31                  9.0\n",
       "2013-08-31                  8.0\n",
       "2013-09-30                  5.0\n",
       "2013-10-31                  6.0\n",
       "2013-11-30                  6.0\n",
       "2014-01-31                 13.0\n",
       "2014-02-28                  9.0\n",
       "2014-03-31                 14.0\n",
       "2014-04-30                 11.0\n",
       "2014-05-31                 11.0\n",
       "2014-06-30                  8.0\n",
       "2014-07-31                  8.0\n",
       "2014-08-31                 11.0\n",
       "2014-09-30                 10.0\n",
       "2014-10-31                  7.0\n",
       "2014-11-30                  8.0"
      ]
     },
     "execution_count": 195,
     "metadata": {},
     "output_type": "execute_result"
    }
   ],
   "source": [
    "result_df"
   ]
  },
  {
   "cell_type": "code",
   "execution_count": 198,
   "metadata": {},
   "outputs": [
    {
     "data": {
      "text/plain": [
       "<AxesSubplot:xlabel='date'>"
      ]
     },
     "execution_count": 198,
     "metadata": {},
     "output_type": "execute_result"
    },
    {
     "data": {
      "image/png": "[encoded data removed]",
      "text/plain": [
       "<Figure size 432x288 with 1 Axes>"
      ]
     },
     "metadata": {
      "needs_background": "light"
     },
     "output_type": "display_data"
    }
   ],
   "source": [
    "result_df.plot()"
   ]
  },
  {
   "cell_type": "code",
   "execution_count": null,
   "metadata": {},
   "outputs": [],
   "source": []
  }
 ],
 "metadata": {
  "kernelspec": {
   "display_name": "Python 3",
   "language": "python",
   "name": "python3"
  },
  "language_info": {
   "codemirror_mode": {
    "name": "ipython",
    "version": 3
   },
   "file_extension": ".py",
   "mimetype": "text/x-python",
   "name": "python",
   "nbconvert_exporter": "python",
   "pygments_lexer": "ipython3",
   "version": "3.8.5"
  },
  "toc": {
   "base_numbering": 1,
   "nav_menu": {},
   "number_sections": true,
   "sideBar": true,
   "skip_h1_title": false,
   "title_cell": "Table of Contents",
   "title_sidebar": "Contents",
   "toc_cell": false,
   "toc_position": {},
   "toc_section_display": true,
   "toc_window_display": false
  },
  "varInspector": {
   "cols": {
    "lenName": 16,
    "lenType": 16,
    "lenVar": 40
   },
   "kernels_config": {
    "python": {
     "delete_cmd_postfix": "",
     "delete_cmd_prefix": "del ",
     "library": "var_list.py",
     "varRefreshCmd": "print(var_dic_list())"
    },
    "r": {
     "delete_cmd_postfix": ") ",
     "delete_cmd_prefix": "rm(",
     "library": "var_list.r",
     "varRefreshCmd": "cat(var_dic_list()) "
    }
   },
   "types_to_exclude": [
    "module",
    "function",
    "builtin_function_or_method",
    "instance",
    "_Feature"
   ],
   "window_display": false
  }
 },
 "nbformat": 4,
 "nbformat_minor": 4
}
