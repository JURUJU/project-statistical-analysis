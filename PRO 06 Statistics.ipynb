{
 "cells": [
  {
   "cell_type": "markdown",
   "metadata": {
    "slideshow": {
     "slide_type": "slide"
    }
   },
   "source": [
    "# Selección de imagen para nuestra marca de equipamiento de tenis"
   ]
  },
  {
   "cell_type": "raw",
   "metadata": {},
   "source": [
    "Ironball es una marca española que produce y vende equipamiento de tenis (indumentária, raquetas,zapatos).\n",
    "Actualmente estamos buscando una figura dentro del circuito masculino de tenis (ATP), para que sea la imagen de nuestra marca y ayude impulsarnos y tener un mejor poscionamiento en el mercado. \n",
    "\n",
    "Para ello hemos realizado un estudio estadistico que analiza la tendencia de juego de los jugadores e identifica cuales son aquellas variables que tienen una mayor influencia a la hora de ganar o perder un partido.\n",
    "\n",
    "Somos una empresa que esta entrando en la industria por lo que disponemos de un budget limitado, de 100.000 € para poder contratar a nuestro crack.\n",
    "\n",
    "Hemos extraido un data set procedente de la pagina ofical de la Asociación de Tenistas Profesioinales.\n"
   ]
  },
  {
   "cell_type": "markdown",
   "metadata": {
    "heading_collapsed": true
   },
   "source": [
    "#### Código librerias"
   ]
  },
  {
   "cell_type": "code",
   "execution_count": 32,
   "metadata": {
    "hidden": true
   },
   "outputs": [],
   "source": [
    "# Classics\n",
    "import pandas as pd\n",
    "import numpy as np\n",
    "from scipy import stats\n",
    "from datetime import datetime\n",
    "\n",
    "# Data Visualization\n",
    "from ipywidgets import interact\n",
    "import plotly.express as px\n",
    "import cufflinks as cf\n",
    "import seaborn as sns\n",
    "import matplotlib.pyplot as plt\n",
    "\n",
    "# Linear Regression\n",
    "from sklearn.linear_model import LinearRegression\n",
    "from sklearn.model_selection import train_test_split\n",
    "from sklearn import preprocessing\n",
    "\n",
    "# Time Series Analysis\n",
    "from pmdarima import auto_arima\n",
    "from statsmodels.tsa.arima_model import ARIMA\n",
    "from statsmodels.tsa.statespace.sarimax import SARIMAX\n",
    "from statsmodels.tsa.seasonal import seasonal_decompose\n",
    "from statsmodels.tsa.stattools import adfuller\n",
    "from statsmodels.graphics.tsaplots import plot_acf, plot_pacf"
   ]
  },
  {
   "cell_type": "markdown",
   "metadata": {},
   "source": [
    "## Importación del dataset"
   ]
  },
  {
   "cell_type": "markdown",
   "metadata": {
    "heading_collapsed": true,
    "slideshow": {
     "slide_type": "fragment"
    }
   },
   "source": [
    "#### Código"
   ]
  },
  {
   "cell_type": "code",
   "execution_count": 60,
   "metadata": {
    "hidden": true
   },
   "outputs": [],
   "source": [
    "tdf=pd.read_excel('ATP_Tennis_Stats.xlsx')"
   ]
  },
  {
   "cell_type": "code",
   "execution_count": 61,
   "metadata": {
    "hidden": true
   },
   "outputs": [],
   "source": [
    "# Limpieza y finalización del data set"
   ]
  },
  {
   "cell_type": "code",
   "execution_count": 62,
   "metadata": {
    "hidden": true
   },
   "outputs": [],
   "source": [
    "tdf_2012=tdf[tdf['Año']==2012]"
   ]
  },
  {
   "cell_type": "code",
   "execution_count": 63,
   "metadata": {
    "hidden": true
   },
   "outputs": [],
   "source": [
    "# Características de los jugadores"
   ]
  },
  {
   "cell_type": "code",
   "execution_count": 64,
   "metadata": {
    "hidden": true
   },
   "outputs": [],
   "source": [
    "tdf_2012['Tarifa Jugador'] = [200000 if x<=8 else 100000 if 9<=x<30 else 50000 for x in tdf_2012['Ranking']]"
   ]
  },
  {
   "cell_type": "code",
   "execution_count": 65,
   "metadata": {
    "hidden": true
   },
   "outputs": [],
   "source": [
    "tdf_2012['Perfil jugador'] = ['Restador' if x<3.500 else 'Equilibrado' if 3.500<=x<6.000 else 'Sacador' for x in tdf_2012['Prom. Aces Por Partido']]"
   ]
  },
  {
   "cell_type": "code",
   "execution_count": 66,
   "metadata": {
    "hidden": true
   },
   "outputs": [],
   "source": [
    "tdf_2012.sort_values(['Ranking'],inplace=True)"
   ]
  },
  {
   "cell_type": "code",
   "execution_count": 67,
   "metadata": {
    "hidden": true
   },
   "outputs": [],
   "source": [
    "tdf_2012.set_index('Ranking',inplace=True)"
   ]
  },
  {
   "cell_type": "markdown",
   "metadata": {
    "slideshow": {
     "slide_type": "subslide"
    }
   },
   "source": [
    "### Dataset"
   ]
  },
  {
   "cell_type": "code",
   "execution_count": 104,
   "metadata": {},
   "outputs": [
    {
     "data": {
      "text/html": [
       "<div>\n",
       "<style scoped>\n",
       "    .dataframe tbody tr th:only-of-type {\n",
       "        vertical-align: middle;\n",
       "    }\n",
       "\n",
       "    .dataframe tbody tr th {\n",
       "        vertical-align: top;\n",
       "    }\n",
       "\n",
       "    .dataframe thead th {\n",
       "        text-align: right;\n",
       "    }\n",
       "</style>\n",
       "<table border=\"1\" class=\"dataframe\">\n",
       "  <thead>\n",
       "    <tr style=\"text-align: right;\">\n",
       "      <th></th>\n",
       "      <th>Jugador</th>\n",
       "      <th>Nacionalidad</th>\n",
       "      <th>Edad</th>\n",
       "      <th>Altura cm</th>\n",
       "      <th>Año</th>\n",
       "      <th>Efectividad Al Saque ©</th>\n",
       "      <th>% 1er Servicio</th>\n",
       "      <th>% Puntos Ganados 1er Saque</th>\n",
       "      <th>% Puntos Ganados 2do Saque</th>\n",
       "      <th>% Games Ganados Saque</th>\n",
       "      <th>...</th>\n",
       "      <th>Efectividad Bajo Presión</th>\n",
       "      <th>% Break Points Convertidos.1</th>\n",
       "      <th>% Break Points Salvados</th>\n",
       "      <th>% Tie Breaks Ganados</th>\n",
       "      <th>% Victorias Sets Definitivos</th>\n",
       "      <th>Tiempo de partido (min)</th>\n",
       "      <th>% de Victorias</th>\n",
       "      <th>Lesiones</th>\n",
       "      <th>Tarifa Jugador</th>\n",
       "      <th>Perfil jugador</th>\n",
       "    </tr>\n",
       "    <tr>\n",
       "      <th>Ranking</th>\n",
       "      <th></th>\n",
       "      <th></th>\n",
       "      <th></th>\n",
       "      <th></th>\n",
       "      <th></th>\n",
       "      <th></th>\n",
       "      <th></th>\n",
       "      <th></th>\n",
       "      <th></th>\n",
       "      <th></th>\n",
       "      <th></th>\n",
       "      <th></th>\n",
       "      <th></th>\n",
       "      <th></th>\n",
       "      <th></th>\n",
       "      <th></th>\n",
       "      <th></th>\n",
       "      <th></th>\n",
       "      <th></th>\n",
       "      <th></th>\n",
       "      <th></th>\n",
       "    </tr>\n",
       "  </thead>\n",
       "  <tbody>\n",
       "    <tr>\n",
       "      <th>1</th>\n",
       "      <td>Novak Djokovic</td>\n",
       "      <td>Serbia</td>\n",
       "      <td>25</td>\n",
       "      <td>188</td>\n",
       "      <td>2012</td>\n",
       "      <td>286.7</td>\n",
       "      <td>64.2</td>\n",
       "      <td>74.9</td>\n",
       "      <td>56.4</td>\n",
       "      <td>87.0</td>\n",
       "      <td>...</td>\n",
       "      <td>255.5</td>\n",
       "      <td>46.5</td>\n",
       "      <td>66.2</td>\n",
       "      <td>58.6</td>\n",
       "      <td>84.2</td>\n",
       "      <td>117</td>\n",
       "      <td>86.21</td>\n",
       "      <td>1</td>\n",
       "      <td>200000</td>\n",
       "      <td>Equilibrado</td>\n",
       "    </tr>\n",
       "    <tr>\n",
       "      <th>2</th>\n",
       "      <td>Roger Federer</td>\n",
       "      <td>Switzerland</td>\n",
       "      <td>31</td>\n",
       "      <td>185</td>\n",
       "      <td>2012</td>\n",
       "      <td>298.3</td>\n",
       "      <td>62.9</td>\n",
       "      <td>77.7</td>\n",
       "      <td>59.9</td>\n",
       "      <td>91.0</td>\n",
       "      <td>...</td>\n",
       "      <td>252.9</td>\n",
       "      <td>41.9</td>\n",
       "      <td>68.6</td>\n",
       "      <td>60.0</td>\n",
       "      <td>82.4</td>\n",
       "      <td>105</td>\n",
       "      <td>85.54</td>\n",
       "      <td>1</td>\n",
       "      <td>200000</td>\n",
       "      <td>Sacador</td>\n",
       "    </tr>\n",
       "    <tr>\n",
       "      <th>3</th>\n",
       "      <td>Andy Murray</td>\n",
       "      <td>United Kingdom</td>\n",
       "      <td>25</td>\n",
       "      <td>191</td>\n",
       "      <td>2012</td>\n",
       "      <td>277.1</td>\n",
       "      <td>59.9</td>\n",
       "      <td>74.0</td>\n",
       "      <td>54.4</td>\n",
       "      <td>83.9</td>\n",
       "      <td>...</td>\n",
       "      <td>230.2</td>\n",
       "      <td>41.2</td>\n",
       "      <td>66.7</td>\n",
       "      <td>66.7</td>\n",
       "      <td>55.6</td>\n",
       "      <td>128</td>\n",
       "      <td>77.78</td>\n",
       "      <td>1</td>\n",
       "      <td>200000</td>\n",
       "      <td>Sacador</td>\n",
       "    </tr>\n",
       "    <tr>\n",
       "      <th>4</th>\n",
       "      <td>Rafael Nadal</td>\n",
       "      <td>Spain</td>\n",
       "      <td>26</td>\n",
       "      <td>185</td>\n",
       "      <td>2012</td>\n",
       "      <td>289.0</td>\n",
       "      <td>67.4</td>\n",
       "      <td>74.6</td>\n",
       "      <td>57.1</td>\n",
       "      <td>87.8</td>\n",
       "      <td>...</td>\n",
       "      <td>242.4</td>\n",
       "      <td>49.2</td>\n",
       "      <td>70.5</td>\n",
       "      <td>72.7</td>\n",
       "      <td>50.0</td>\n",
       "      <td>124</td>\n",
       "      <td>87.50</td>\n",
       "      <td>0</td>\n",
       "      <td>200000</td>\n",
       "      <td>Restador</td>\n",
       "    </tr>\n",
       "    <tr>\n",
       "      <th>5</th>\n",
       "      <td>David Ferrer</td>\n",
       "      <td>Spain</td>\n",
       "      <td>30</td>\n",
       "      <td>175</td>\n",
       "      <td>2012</td>\n",
       "      <td>279.9</td>\n",
       "      <td>63.4</td>\n",
       "      <td>73.1</td>\n",
       "      <td>56.7</td>\n",
       "      <td>85.5</td>\n",
       "      <td>...</td>\n",
       "      <td>264.9</td>\n",
       "      <td>44.1</td>\n",
       "      <td>65.0</td>\n",
       "      <td>62.5</td>\n",
       "      <td>93.3</td>\n",
       "      <td>109</td>\n",
       "      <td>83.52</td>\n",
       "      <td>0</td>\n",
       "      <td>200000</td>\n",
       "      <td>Restador</td>\n",
       "    </tr>\n",
       "    <tr>\n",
       "      <th>6</th>\n",
       "      <td>Tomas Berdych</td>\n",
       "      <td>Czech Republic</td>\n",
       "      <td>27</td>\n",
       "      <td>196</td>\n",
       "      <td>2012</td>\n",
       "      <td>282.5</td>\n",
       "      <td>58.7</td>\n",
       "      <td>77.5</td>\n",
       "      <td>53.3</td>\n",
       "      <td>86.9</td>\n",
       "      <td>...</td>\n",
       "      <td>231.4</td>\n",
       "      <td>42.4</td>\n",
       "      <td>70.8</td>\n",
       "      <td>51.5</td>\n",
       "      <td>66.7</td>\n",
       "      <td>117</td>\n",
       "      <td>72.62</td>\n",
       "      <td>0</td>\n",
       "      <td>200000</td>\n",
       "      <td>Sacador</td>\n",
       "    </tr>\n",
       "    <tr>\n",
       "      <th>7</th>\n",
       "      <td>Juan Martin del Potro</td>\n",
       "      <td>Argentina</td>\n",
       "      <td>24</td>\n",
       "      <td>198</td>\n",
       "      <td>2012</td>\n",
       "      <td>287.3</td>\n",
       "      <td>64.7</td>\n",
       "      <td>75.1</td>\n",
       "      <td>54.6</td>\n",
       "      <td>87.5</td>\n",
       "      <td>...</td>\n",
       "      <td>244.8</td>\n",
       "      <td>43.2</td>\n",
       "      <td>68.8</td>\n",
       "      <td>61.4</td>\n",
       "      <td>71.4</td>\n",
       "      <td>119</td>\n",
       "      <td>79.27</td>\n",
       "      <td>1</td>\n",
       "      <td>200000</td>\n",
       "      <td>Sacador</td>\n",
       "    </tr>\n",
       "    <tr>\n",
       "      <th>8</th>\n",
       "      <td>Janko Tipsarevic</td>\n",
       "      <td>Serbia</td>\n",
       "      <td>28</td>\n",
       "      <td>180</td>\n",
       "      <td>2012</td>\n",
       "      <td>276.2</td>\n",
       "      <td>57.8</td>\n",
       "      <td>75.3</td>\n",
       "      <td>54.4</td>\n",
       "      <td>83.2</td>\n",
       "      <td>...</td>\n",
       "      <td>225.1</td>\n",
       "      <td>40.2</td>\n",
       "      <td>63.2</td>\n",
       "      <td>65.7</td>\n",
       "      <td>56.0</td>\n",
       "      <td>116</td>\n",
       "      <td>66.67</td>\n",
       "      <td>0</td>\n",
       "      <td>200000</td>\n",
       "      <td>Sacador</td>\n",
       "    </tr>\n",
       "    <tr>\n",
       "      <th>9</th>\n",
       "      <td>Jo-Wilfried Tsonga</td>\n",
       "      <td>France</td>\n",
       "      <td>27</td>\n",
       "      <td>188</td>\n",
       "      <td>2012</td>\n",
       "      <td>283.6</td>\n",
       "      <td>61.9</td>\n",
       "      <td>75.8</td>\n",
       "      <td>53.1</td>\n",
       "      <td>86.1</td>\n",
       "      <td>...</td>\n",
       "      <td>217.8</td>\n",
       "      <td>41.7</td>\n",
       "      <td>69.2</td>\n",
       "      <td>59.5</td>\n",
       "      <td>47.4</td>\n",
       "      <td>111</td>\n",
       "      <td>68.80</td>\n",
       "      <td>0</td>\n",
       "      <td>100000</td>\n",
       "      <td>Sacador</td>\n",
       "    </tr>\n",
       "    <tr>\n",
       "      <th>10</th>\n",
       "      <td>Richard Gasquet</td>\n",
       "      <td>France</td>\n",
       "      <td>26</td>\n",
       "      <td>183</td>\n",
       "      <td>2012</td>\n",
       "      <td>279.0</td>\n",
       "      <td>63.2</td>\n",
       "      <td>72.8</td>\n",
       "      <td>55.6</td>\n",
       "      <td>83.8</td>\n",
       "      <td>...</td>\n",
       "      <td>216.9</td>\n",
       "      <td>41.7</td>\n",
       "      <td>63.5</td>\n",
       "      <td>45.0</td>\n",
       "      <td>66.7</td>\n",
       "      <td>107</td>\n",
       "      <td>65.63</td>\n",
       "      <td>1</td>\n",
       "      <td>100000</td>\n",
       "      <td>Equilibrado</td>\n",
       "    </tr>\n",
       "  </tbody>\n",
       "</table>\n",
       "<p>10 rows × 27 columns</p>\n",
       "</div>"
      ],
      "text/plain": [
       "                       Jugador    Nacionalidad  Edad  Altura cm   Año  \\\n",
       "Ranking                                                                 \n",
       "1               Novak Djokovic          Serbia    25        188  2012   \n",
       "2                Roger Federer     Switzerland    31        185  2012   \n",
       "3                  Andy Murray  United Kingdom    25        191  2012   \n",
       "4                 Rafael Nadal           Spain    26        185  2012   \n",
       "5                 David Ferrer           Spain    30        175  2012   \n",
       "6                Tomas Berdych  Czech Republic    27        196  2012   \n",
       "7        Juan Martin del Potro       Argentina    24        198  2012   \n",
       "8             Janko Tipsarevic          Serbia    28        180  2012   \n",
       "9           Jo-Wilfried Tsonga          France    27        188  2012   \n",
       "10             Richard Gasquet          France    26        183  2012   \n",
       "\n",
       "         Efectividad Al Saque ©  % 1er Servicio  % Puntos Ganados 1er Saque  \\\n",
       "Ranking                                                                       \n",
       "1                         286.7            64.2                        74.9   \n",
       "2                         298.3            62.9                        77.7   \n",
       "3                         277.1            59.9                        74.0   \n",
       "4                         289.0            67.4                        74.6   \n",
       "5                         279.9            63.4                        73.1   \n",
       "6                         282.5            58.7                        77.5   \n",
       "7                         287.3            64.7                        75.1   \n",
       "8                         276.2            57.8                        75.3   \n",
       "9                         283.6            61.9                        75.8   \n",
       "10                        279.0            63.2                        72.8   \n",
       "\n",
       "         % Puntos Ganados 2do Saque  % Games Ganados Saque  ...  \\\n",
       "Ranking                                                     ...   \n",
       "1                              56.4                   87.0  ...   \n",
       "2                              59.9                   91.0  ...   \n",
       "3                              54.4                   83.9  ...   \n",
       "4                              57.1                   87.8  ...   \n",
       "5                              56.7                   85.5  ...   \n",
       "6                              53.3                   86.9  ...   \n",
       "7                              54.6                   87.5  ...   \n",
       "8                              54.4                   83.2  ...   \n",
       "9                              53.1                   86.1  ...   \n",
       "10                             55.6                   83.8  ...   \n",
       "\n",
       "         Efectividad Bajo Presión  % Break Points Convertidos.1  \\\n",
       "Ranking                                                           \n",
       "1                           255.5                          46.5   \n",
       "2                           252.9                          41.9   \n",
       "3                           230.2                          41.2   \n",
       "4                           242.4                          49.2   \n",
       "5                           264.9                          44.1   \n",
       "6                           231.4                          42.4   \n",
       "7                           244.8                          43.2   \n",
       "8                           225.1                          40.2   \n",
       "9                           217.8                          41.7   \n",
       "10                          216.9                          41.7   \n",
       "\n",
       "         % Break Points Salvados  % Tie Breaks Ganados  \\\n",
       "Ranking                                                  \n",
       "1                           66.2                  58.6   \n",
       "2                           68.6                  60.0   \n",
       "3                           66.7                  66.7   \n",
       "4                           70.5                  72.7   \n",
       "5                           65.0                  62.5   \n",
       "6                           70.8                  51.5   \n",
       "7                           68.8                  61.4   \n",
       "8                           63.2                  65.7   \n",
       "9                           69.2                  59.5   \n",
       "10                          63.5                  45.0   \n",
       "\n",
       "         % Victorias Sets Definitivos  Tiempo de partido (min)  \\\n",
       "Ranking                                                          \n",
       "1                                84.2                      117   \n",
       "2                                82.4                      105   \n",
       "3                                55.6                      128   \n",
       "4                                50.0                      124   \n",
       "5                                93.3                      109   \n",
       "6                                66.7                      117   \n",
       "7                                71.4                      119   \n",
       "8                                56.0                      116   \n",
       "9                                47.4                      111   \n",
       "10                               66.7                      107   \n",
       "\n",
       "         % de Victorias   Lesiones  Tarifa Jugador  Perfil jugador  \n",
       "Ranking                                                             \n",
       "1                  86.21         1          200000     Equilibrado  \n",
       "2                  85.54         1          200000         Sacador  \n",
       "3                  77.78         1          200000         Sacador  \n",
       "4                  87.50         0          200000        Restador  \n",
       "5                  83.52         0          200000        Restador  \n",
       "6                  72.62         0          200000         Sacador  \n",
       "7                  79.27         1          200000         Sacador  \n",
       "8                  66.67         0          200000         Sacador  \n",
       "9                  68.80         0          100000         Sacador  \n",
       "10                 65.63         1          100000     Equilibrado  \n",
       "\n",
       "[10 rows x 27 columns]"
      ]
     },
     "execution_count": 104,
     "metadata": {},
     "output_type": "execute_result"
    }
   ],
   "source": [
    "tdf_2012.head(10)"
   ]
  },
  {
   "cell_type": "code",
   "execution_count": 100,
   "metadata": {},
   "outputs": [
    {
     "data": {
      "text/html": [
       "<div>\n",
       "<style scoped>\n",
       "    .dataframe tbody tr th:only-of-type {\n",
       "        vertical-align: middle;\n",
       "    }\n",
       "\n",
       "    .dataframe tbody tr th {\n",
       "        vertical-align: top;\n",
       "    }\n",
       "\n",
       "    .dataframe thead th {\n",
       "        text-align: right;\n",
       "    }\n",
       "</style>\n",
       "<table border=\"1\" class=\"dataframe\">\n",
       "  <thead>\n",
       "    <tr style=\"text-align: right;\">\n",
       "      <th></th>\n",
       "      <th>Edad</th>\n",
       "      <th>Altura cm</th>\n",
       "      <th>Año</th>\n",
       "      <th>Efectividad Al Saque ©</th>\n",
       "      <th>% 1er Servicio</th>\n",
       "      <th>% Puntos Ganados 1er Saque</th>\n",
       "      <th>% Puntos Ganados 2do Saque</th>\n",
       "      <th>% Games Ganados Saque</th>\n",
       "      <th>Prom. Aces Por Partido</th>\n",
       "      <th>Prom. Dobles Por Partido</th>\n",
       "      <th>...</th>\n",
       "      <th>% Break Points Convertidos</th>\n",
       "      <th>Efectividad Bajo Presión</th>\n",
       "      <th>% Break Points Convertidos.1</th>\n",
       "      <th>% Break Points Salvados</th>\n",
       "      <th>% Tie Breaks Ganados</th>\n",
       "      <th>% Victorias Sets Definitivos</th>\n",
       "      <th>Tiempo de partido (min)</th>\n",
       "      <th>% de Victorias</th>\n",
       "      <th>Lesiones</th>\n",
       "      <th>Tarifa Jugador</th>\n",
       "    </tr>\n",
       "  </thead>\n",
       "  <tbody>\n",
       "    <tr>\n",
       "      <th>count</th>\n",
       "      <td>85.000000</td>\n",
       "      <td>85.000000</td>\n",
       "      <td>85.0</td>\n",
       "      <td>85.000000</td>\n",
       "      <td>85.000000</td>\n",
       "      <td>85.000000</td>\n",
       "      <td>85.000000</td>\n",
       "      <td>85.000000</td>\n",
       "      <td>85.000000</td>\n",
       "      <td>85.000000</td>\n",
       "      <td>...</td>\n",
       "      <td>85.000000</td>\n",
       "      <td>85.000000</td>\n",
       "      <td>85.000000</td>\n",
       "      <td>85.000000</td>\n",
       "      <td>85.000000</td>\n",
       "      <td>85.000000</td>\n",
       "      <td>85.000000</td>\n",
       "      <td>85.000000</td>\n",
       "      <td>85.000000</td>\n",
       "      <td>85.000000</td>\n",
       "    </tr>\n",
       "    <tr>\n",
       "      <th>mean</th>\n",
       "      <td>27.000000</td>\n",
       "      <td>186.376471</td>\n",
       "      <td>2012.0</td>\n",
       "      <td>264.791765</td>\n",
       "      <td>61.114118</td>\n",
       "      <td>71.044706</td>\n",
       "      <td>51.115294</td>\n",
       "      <td>78.390588</td>\n",
       "      <td>5.810588</td>\n",
       "      <td>2.683529</td>\n",
       "      <td>...</td>\n",
       "      <td>39.791765</td>\n",
       "      <td>197.409412</td>\n",
       "      <td>39.791765</td>\n",
       "      <td>60.720000</td>\n",
       "      <td>47.341176</td>\n",
       "      <td>49.556471</td>\n",
       "      <td>108.800000</td>\n",
       "      <td>52.455059</td>\n",
       "      <td>0.494118</td>\n",
       "      <td>75882.352941</td>\n",
       "    </tr>\n",
       "    <tr>\n",
       "      <th>std</th>\n",
       "      <td>3.387653</td>\n",
       "      <td>7.232494</td>\n",
       "      <td>0.0</td>\n",
       "      <td>18.100317</td>\n",
       "      <td>4.392964</td>\n",
       "      <td>5.121024</td>\n",
       "      <td>3.973469</td>\n",
       "      <td>7.851700</td>\n",
       "      <td>3.361159</td>\n",
       "      <td>0.904071</td>\n",
       "      <td>...</td>\n",
       "      <td>8.071588</td>\n",
       "      <td>40.331849</td>\n",
       "      <td>8.071588</td>\n",
       "      <td>8.513796</td>\n",
       "      <td>18.340057</td>\n",
       "      <td>20.806664</td>\n",
       "      <td>11.503416</td>\n",
       "      <td>15.380268</td>\n",
       "      <td>0.502933</td>\n",
       "      <td>45389.691447</td>\n",
       "    </tr>\n",
       "    <tr>\n",
       "      <th>min</th>\n",
       "      <td>19.000000</td>\n",
       "      <td>168.000000</td>\n",
       "      <td>2012.0</td>\n",
       "      <td>186.500000</td>\n",
       "      <td>51.300000</td>\n",
       "      <td>51.600000</td>\n",
       "      <td>37.300000</td>\n",
       "      <td>40.700000</td>\n",
       "      <td>0.300000</td>\n",
       "      <td>0.900000</td>\n",
       "      <td>...</td>\n",
       "      <td>0.000000</td>\n",
       "      <td>25.000000</td>\n",
       "      <td>0.000000</td>\n",
       "      <td>25.000000</td>\n",
       "      <td>0.000000</td>\n",
       "      <td>0.000000</td>\n",
       "      <td>60.000000</td>\n",
       "      <td>0.000000</td>\n",
       "      <td>0.000000</td>\n",
       "      <td>50000.000000</td>\n",
       "    </tr>\n",
       "    <tr>\n",
       "      <th>25%</th>\n",
       "      <td>25.000000</td>\n",
       "      <td>181.000000</td>\n",
       "      <td>2012.0</td>\n",
       "      <td>253.300000</td>\n",
       "      <td>58.200000</td>\n",
       "      <td>67.800000</td>\n",
       "      <td>49.000000</td>\n",
       "      <td>74.300000</td>\n",
       "      <td>3.400000</td>\n",
       "      <td>2.000000</td>\n",
       "      <td>...</td>\n",
       "      <td>37.200000</td>\n",
       "      <td>187.900000</td>\n",
       "      <td>37.200000</td>\n",
       "      <td>57.500000</td>\n",
       "      <td>41.900000</td>\n",
       "      <td>41.200000</td>\n",
       "      <td>105.000000</td>\n",
       "      <td>44.400000</td>\n",
       "      <td>0.000000</td>\n",
       "      <td>50000.000000</td>\n",
       "    </tr>\n",
       "    <tr>\n",
       "      <th>50%</th>\n",
       "      <td>27.000000</td>\n",
       "      <td>186.000000</td>\n",
       "      <td>2012.0</td>\n",
       "      <td>264.800000</td>\n",
       "      <td>60.900000</td>\n",
       "      <td>71.400000</td>\n",
       "      <td>51.600000</td>\n",
       "      <td>79.300000</td>\n",
       "      <td>5.000000</td>\n",
       "      <td>2.700000</td>\n",
       "      <td>...</td>\n",
       "      <td>40.300000</td>\n",
       "      <td>207.900000</td>\n",
       "      <td>40.300000</td>\n",
       "      <td>61.800000</td>\n",
       "      <td>50.000000</td>\n",
       "      <td>53.300000</td>\n",
       "      <td>110.000000</td>\n",
       "      <td>50.000000</td>\n",
       "      <td>0.000000</td>\n",
       "      <td>50000.000000</td>\n",
       "    </tr>\n",
       "    <tr>\n",
       "      <th>75%</th>\n",
       "      <td>30.000000</td>\n",
       "      <td>190.000000</td>\n",
       "      <td>2012.0</td>\n",
       "      <td>277.100000</td>\n",
       "      <td>63.900000</td>\n",
       "      <td>74.600000</td>\n",
       "      <td>53.200000</td>\n",
       "      <td>83.800000</td>\n",
       "      <td>7.500000</td>\n",
       "      <td>3.300000</td>\n",
       "      <td>...</td>\n",
       "      <td>42.400000</td>\n",
       "      <td>218.700000</td>\n",
       "      <td>42.400000</td>\n",
       "      <td>65.100000</td>\n",
       "      <td>58.600000</td>\n",
       "      <td>61.500000</td>\n",
       "      <td>115.000000</td>\n",
       "      <td>63.640000</td>\n",
       "      <td>1.000000</td>\n",
       "      <td>100000.000000</td>\n",
       "    </tr>\n",
       "    <tr>\n",
       "      <th>max</th>\n",
       "      <td>34.000000</td>\n",
       "      <td>211.000000</td>\n",
       "      <td>2012.0</td>\n",
       "      <td>309.300000</td>\n",
       "      <td>71.300000</td>\n",
       "      <td>82.300000</td>\n",
       "      <td>61.300000</td>\n",
       "      <td>93.300000</td>\n",
       "      <td>16.900000</td>\n",
       "      <td>4.900000</td>\n",
       "      <td>...</td>\n",
       "      <td>75.000000</td>\n",
       "      <td>264.900000</td>\n",
       "      <td>75.000000</td>\n",
       "      <td>83.300000</td>\n",
       "      <td>85.000000</td>\n",
       "      <td>93.300000</td>\n",
       "      <td>144.000000</td>\n",
       "      <td>87.500000</td>\n",
       "      <td>1.000000</td>\n",
       "      <td>200000.000000</td>\n",
       "    </tr>\n",
       "  </tbody>\n",
       "</table>\n",
       "<p>8 rows × 24 columns</p>\n",
       "</div>"
      ],
      "text/plain": [
       "            Edad   Altura cm     Año  Efectividad Al Saque ©  % 1er Servicio  \\\n",
       "count  85.000000   85.000000    85.0               85.000000       85.000000   \n",
       "mean   27.000000  186.376471  2012.0              264.791765       61.114118   \n",
       "std     3.387653    7.232494     0.0               18.100317        4.392964   \n",
       "min    19.000000  168.000000  2012.0              186.500000       51.300000   \n",
       "25%    25.000000  181.000000  2012.0              253.300000       58.200000   \n",
       "50%    27.000000  186.000000  2012.0              264.800000       60.900000   \n",
       "75%    30.000000  190.000000  2012.0              277.100000       63.900000   \n",
       "max    34.000000  211.000000  2012.0              309.300000       71.300000   \n",
       "\n",
       "       % Puntos Ganados 1er Saque  % Puntos Ganados 2do Saque  \\\n",
       "count                   85.000000                   85.000000   \n",
       "mean                    71.044706                   51.115294   \n",
       "std                      5.121024                    3.973469   \n",
       "min                     51.600000                   37.300000   \n",
       "25%                     67.800000                   49.000000   \n",
       "50%                     71.400000                   51.600000   \n",
       "75%                     74.600000                   53.200000   \n",
       "max                     82.300000                   61.300000   \n",
       "\n",
       "       % Games Ganados Saque  Prom. Aces Por Partido  \\\n",
       "count              85.000000               85.000000   \n",
       "mean               78.390588                5.810588   \n",
       "std                 7.851700                3.361159   \n",
       "min                40.700000                0.300000   \n",
       "25%                74.300000                3.400000   \n",
       "50%                79.300000                5.000000   \n",
       "75%                83.800000                7.500000   \n",
       "max                93.300000               16.900000   \n",
       "\n",
       "       Prom. Dobles Por Partido  ...  % Break Points Convertidos  \\\n",
       "count                 85.000000  ...                   85.000000   \n",
       "mean                   2.683529  ...                   39.791765   \n",
       "std                    0.904071  ...                    8.071588   \n",
       "min                    0.900000  ...                    0.000000   \n",
       "25%                    2.000000  ...                   37.200000   \n",
       "50%                    2.700000  ...                   40.300000   \n",
       "75%                    3.300000  ...                   42.400000   \n",
       "max                    4.900000  ...                   75.000000   \n",
       "\n",
       "       Efectividad Bajo Presión  % Break Points Convertidos.1  \\\n",
       "count                 85.000000                     85.000000   \n",
       "mean                 197.409412                     39.791765   \n",
       "std                   40.331849                      8.071588   \n",
       "min                   25.000000                      0.000000   \n",
       "25%                  187.900000                     37.200000   \n",
       "50%                  207.900000                     40.300000   \n",
       "75%                  218.700000                     42.400000   \n",
       "max                  264.900000                     75.000000   \n",
       "\n",
       "       % Break Points Salvados  % Tie Breaks Ganados  \\\n",
       "count                85.000000             85.000000   \n",
       "mean                 60.720000             47.341176   \n",
       "std                   8.513796             18.340057   \n",
       "min                  25.000000              0.000000   \n",
       "25%                  57.500000             41.900000   \n",
       "50%                  61.800000             50.000000   \n",
       "75%                  65.100000             58.600000   \n",
       "max                  83.300000             85.000000   \n",
       "\n",
       "       % Victorias Sets Definitivos  Tiempo de partido (min)  % de Victorias   \\\n",
       "count                     85.000000                85.000000        85.000000   \n",
       "mean                      49.556471               108.800000        52.455059   \n",
       "std                       20.806664                11.503416        15.380268   \n",
       "min                        0.000000                60.000000         0.000000   \n",
       "25%                       41.200000               105.000000        44.400000   \n",
       "50%                       53.300000               110.000000        50.000000   \n",
       "75%                       61.500000               115.000000        63.640000   \n",
       "max                       93.300000               144.000000        87.500000   \n",
       "\n",
       "        Lesiones  Tarifa Jugador  \n",
       "count  85.000000       85.000000  \n",
       "mean    0.494118    75882.352941  \n",
       "std     0.502933    45389.691447  \n",
       "min     0.000000    50000.000000  \n",
       "25%     0.000000    50000.000000  \n",
       "50%     0.000000    50000.000000  \n",
       "75%     1.000000   100000.000000  \n",
       "max     1.000000   200000.000000  \n",
       "\n",
       "[8 rows x 24 columns]"
      ]
     },
     "execution_count": 100,
     "metadata": {},
     "output_type": "execute_result"
    }
   ],
   "source": [
    "tdf_2012.describe()"
   ]
  },
  {
   "cell_type": "markdown",
   "metadata": {},
   "source": [
    "## Identificación de los mercados con mayor potencial\n",
    "\n",
    "El tenis es un deporte bastante popular en muchos países, pero creemos que una buena estrategia es centrarnos en aquellos países donde el deporte este mas arraigado y por lo tanto lo practique más gente."
   ]
  },
  {
   "cell_type": "markdown",
   "metadata": {
    "heading_collapsed": true
   },
   "source": [
    "#### Código"
   ]
  },
  {
   "cell_type": "code",
   "execution_count": 71,
   "metadata": {
    "hidden": true,
    "scrolled": true
   },
   "outputs": [
    {
     "data": {
      "text/plain": [
       "85"
      ]
     },
     "execution_count": 71,
     "metadata": {},
     "output_type": "execute_result"
    }
   ],
   "source": [
    "sum(nacionalidad_jugadores)"
   ]
  },
  {
   "cell_type": "code",
   "execution_count": null,
   "metadata": {
    "hidden": true
   },
   "outputs": [],
   "source": [
    "# Identificación de mercados potenciales"
   ]
  },
  {
   "cell_type": "code",
   "execution_count": 70,
   "metadata": {
    "hidden": true
   },
   "outputs": [],
   "source": [
    "nacionalidad_jugadores=tdf_2012[(tdf_2012['Año']==2012)].groupby('Nacionalidad')['Jugador'].count().sort_values(ascending=False)"
   ]
  },
  {
   "cell_type": "markdown",
   "metadata": {},
   "source": [
    "### Volumen de representantes según nacionalidad\n",
    "- Insights:\n",
    "\n",
    "  - Francia y España son los países que tienen mayor representación en el top del ranking mundial, por lo que podemos asumir que este es un deporte muy seguido en estos países por lo que existe un gran mercado.\n",
    "\n",
    "CONCLUSIÓN: TRATAR DE CONTRATAR A UN JUGADOR FRANCES O ESPAÑOL"
   ]
  },
  {
   "cell_type": "code",
   "execution_count": 72,
   "metadata": {},
   "outputs": [
    {
     "data": {
      "application/vnd.plotly.v1+json": {
       "config": {
        "plotlyServerURL": "https://plot.ly"
       },
       "data": [
        {
         "alignmentgroup": "True",
         "hovertemplate": "variable=Nacionalidad<br>index=%{x}<br>value=%{y}<extra></extra>",
         "legendgroup": "Nacionalidad",
         "marker": {
          "color": "#636efa"
         },
         "name": "Nacionalidad",
         "offsetgroup": "Nacionalidad",
         "orientation": "v",
         "showlegend": true,
         "textposition": "auto",
         "type": "bar",
         "x": [
          "France",
          "Spain",
          "Serbia",
          "United States",
          "Italy",
          "Belgium",
          "Australia",
          "Argentina",
          "Czech Republic",
          "Croatia",
          "Germany",
          "Russian Federation",
          "Japan",
          "Slovakia",
          "United Kingdom",
          "Switzerland",
          "Ukraine",
          "Austria",
          "Colombia",
          "Netherlands",
          "Uzbekistan",
          "Canada",
          "South Africa",
          "Hungary",
          "Taiwan",
          "Finland",
          "Cyprus",
          "Luxembourg",
          "Brazil",
          "Poland",
          "Bulgaria"
         ],
         "xaxis": "x",
         "y": [
          11,
          10,
          5,
          5,
          4,
          4,
          4,
          4,
          3,
          3,
          3,
          3,
          2,
          2,
          2,
          2,
          2,
          2,
          2,
          1,
          1,
          1,
          1,
          1,
          1,
          1,
          1,
          1,
          1,
          1,
          1
         ],
         "yaxis": "y"
        }
       ],
       "layout": {
        "barmode": "relative",
        "legend": {
         "title": {
          "text": "variable"
         },
         "tracegroupgap": 0
        },
        "margin": {
         "t": 60
        },
        "template": {
         "data": {
          "bar": [
           {
            "error_x": {
             "color": "#2a3f5f"
            },
            "error_y": {
             "color": "#2a3f5f"
            },
            "marker": {
             "line": {
              "color": "#E5ECF6",
              "width": 0.5
             }
            },
            "type": "bar"
           }
          ],
          "barpolar": [
           {
            "marker": {
             "line": {
              "color": "#E5ECF6",
              "width": 0.5
             }
            },
            "type": "barpolar"
           }
          ],
          "carpet": [
           {
            "aaxis": {
             "endlinecolor": "#2a3f5f",
             "gridcolor": "white",
             "linecolor": "white",
             "minorgridcolor": "white",
             "startlinecolor": "#2a3f5f"
            },
            "baxis": {
             "endlinecolor": "#2a3f5f",
             "gridcolor": "white",
             "linecolor": "white",
             "minorgridcolor": "white",
             "startlinecolor": "#2a3f5f"
            },
            "type": "carpet"
           }
          ],
          "choropleth": [
           {
            "colorbar": {
             "outlinewidth": 0,
             "ticks": ""
            },
            "type": "choropleth"
           }
          ],
          "contour": [
           {
            "colorbar": {
             "outlinewidth": 0,
             "ticks": ""
            },
            "colorscale": [
             [
              0,
              "#0d0887"
             ],
             [
              0.1111111111111111,
              "#46039f"
             ],
             [
              0.2222222222222222,
              "#7201a8"
             ],
             [
              0.3333333333333333,
              "#9c179e"
             ],
             [
              0.4444444444444444,
              "#bd3786"
             ],
             [
              0.5555555555555556,
              "#d8576b"
             ],
             [
              0.6666666666666666,
              "#ed7953"
             ],
             [
              0.7777777777777778,
              "#fb9f3a"
             ],
             [
              0.8888888888888888,
              "#fdca26"
             ],
             [
              1,
              "#f0f921"
             ]
            ],
            "type": "contour"
           }
          ],
          "contourcarpet": [
           {
            "colorbar": {
             "outlinewidth": 0,
             "ticks": ""
            },
            "type": "contourcarpet"
           }
          ],
          "heatmap": [
           {
            "colorbar": {
             "outlinewidth": 0,
             "ticks": ""
            },
            "colorscale": [
             [
              0,
              "#0d0887"
             ],
             [
              0.1111111111111111,
              "#46039f"
             ],
             [
              0.2222222222222222,
              "#7201a8"
             ],
             [
              0.3333333333333333,
              "#9c179e"
             ],
             [
              0.4444444444444444,
              "#bd3786"
             ],
             [
              0.5555555555555556,
              "#d8576b"
             ],
             [
              0.6666666666666666,
              "#ed7953"
             ],
             [
              0.7777777777777778,
              "#fb9f3a"
             ],
             [
              0.8888888888888888,
              "#fdca26"
             ],
             [
              1,
              "#f0f921"
             ]
            ],
            "type": "heatmap"
           }
          ],
          "heatmapgl": [
           {
            "colorbar": {
             "outlinewidth": 0,
             "ticks": ""
            },
            "colorscale": [
             [
              0,
              "#0d0887"
             ],
             [
              0.1111111111111111,
              "#46039f"
             ],
             [
              0.2222222222222222,
              "#7201a8"
             ],
             [
              0.3333333333333333,
              "#9c179e"
             ],
             [
              0.4444444444444444,
              "#bd3786"
             ],
             [
              0.5555555555555556,
              "#d8576b"
             ],
             [
              0.6666666666666666,
              "#ed7953"
             ],
             [
              0.7777777777777778,
              "#fb9f3a"
             ],
             [
              0.8888888888888888,
              "#fdca26"
             ],
             [
              1,
              "#f0f921"
             ]
            ],
            "type": "heatmapgl"
           }
          ],
          "histogram": [
           {
            "marker": {
             "colorbar": {
              "outlinewidth": 0,
              "ticks": ""
             }
            },
            "type": "histogram"
           }
          ],
          "histogram2d": [
           {
            "colorbar": {
             "outlinewidth": 0,
             "ticks": ""
            },
            "colorscale": [
             [
              0,
              "#0d0887"
             ],
             [
              0.1111111111111111,
              "#46039f"
             ],
             [
              0.2222222222222222,
              "#7201a8"
             ],
             [
              0.3333333333333333,
              "#9c179e"
             ],
             [
              0.4444444444444444,
              "#bd3786"
             ],
             [
              0.5555555555555556,
              "#d8576b"
             ],
             [
              0.6666666666666666,
              "#ed7953"
             ],
             [
              0.7777777777777778,
              "#fb9f3a"
             ],
             [
              0.8888888888888888,
              "#fdca26"
             ],
             [
              1,
              "#f0f921"
             ]
            ],
            "type": "histogram2d"
           }
          ],
          "histogram2dcontour": [
           {
            "colorbar": {
             "outlinewidth": 0,
             "ticks": ""
            },
            "colorscale": [
             [
              0,
              "#0d0887"
             ],
             [
              0.1111111111111111,
              "#46039f"
             ],
             [
              0.2222222222222222,
              "#7201a8"
             ],
             [
              0.3333333333333333,
              "#9c179e"
             ],
             [
              0.4444444444444444,
              "#bd3786"
             ],
             [
              0.5555555555555556,
              "#d8576b"
             ],
             [
              0.6666666666666666,
              "#ed7953"
             ],
             [
              0.7777777777777778,
              "#fb9f3a"
             ],
             [
              0.8888888888888888,
              "#fdca26"
             ],
             [
              1,
              "#f0f921"
             ]
            ],
            "type": "histogram2dcontour"
           }
          ],
          "mesh3d": [
           {
            "colorbar": {
             "outlinewidth": 0,
             "ticks": ""
            },
            "type": "mesh3d"
           }
          ],
          "parcoords": [
           {
            "line": {
             "colorbar": {
              "outlinewidth": 0,
              "ticks": ""
             }
            },
            "type": "parcoords"
           }
          ],
          "pie": [
           {
            "automargin": true,
            "type": "pie"
           }
          ],
          "scatter": [
           {
            "marker": {
             "colorbar": {
              "outlinewidth": 0,
              "ticks": ""
             }
            },
            "type": "scatter"
           }
          ],
          "scatter3d": [
           {
            "line": {
             "colorbar": {
              "outlinewidth": 0,
              "ticks": ""
             }
            },
            "marker": {
             "colorbar": {
              "outlinewidth": 0,
              "ticks": ""
             }
            },
            "type": "scatter3d"
           }
          ],
          "scattercarpet": [
           {
            "marker": {
             "colorbar": {
              "outlinewidth": 0,
              "ticks": ""
             }
            },
            "type": "scattercarpet"
           }
          ],
          "scattergeo": [
           {
            "marker": {
             "colorbar": {
              "outlinewidth": 0,
              "ticks": ""
             }
            },
            "type": "scattergeo"
           }
          ],
          "scattergl": [
           {
            "marker": {
             "colorbar": {
              "outlinewidth": 0,
              "ticks": ""
             }
            },
            "type": "scattergl"
           }
          ],
          "scattermapbox": [
           {
            "marker": {
             "colorbar": {
              "outlinewidth": 0,
              "ticks": ""
             }
            },
            "type": "scattermapbox"
           }
          ],
          "scatterpolar": [
           {
            "marker": {
             "colorbar": {
              "outlinewidth": 0,
              "ticks": ""
             }
            },
            "type": "scatterpolar"
           }
          ],
          "scatterpolargl": [
           {
            "marker": {
             "colorbar": {
              "outlinewidth": 0,
              "ticks": ""
             }
            },
            "type": "scatterpolargl"
           }
          ],
          "scatterternary": [
           {
            "marker": {
             "colorbar": {
              "outlinewidth": 0,
              "ticks": ""
             }
            },
            "type": "scatterternary"
           }
          ],
          "surface": [
           {
            "colorbar": {
             "outlinewidth": 0,
             "ticks": ""
            },
            "colorscale": [
             [
              0,
              "#0d0887"
             ],
             [
              0.1111111111111111,
              "#46039f"
             ],
             [
              0.2222222222222222,
              "#7201a8"
             ],
             [
              0.3333333333333333,
              "#9c179e"
             ],
             [
              0.4444444444444444,
              "#bd3786"
             ],
             [
              0.5555555555555556,
              "#d8576b"
             ],
             [
              0.6666666666666666,
              "#ed7953"
             ],
             [
              0.7777777777777778,
              "#fb9f3a"
             ],
             [
              0.8888888888888888,
              "#fdca26"
             ],
             [
              1,
              "#f0f921"
             ]
            ],
            "type": "surface"
           }
          ],
          "table": [
           {
            "cells": {
             "fill": {
              "color": "#EBF0F8"
             },
             "line": {
              "color": "white"
             }
            },
            "header": {
             "fill": {
              "color": "#C8D4E3"
             },
             "line": {
              "color": "white"
             }
            },
            "type": "table"
           }
          ]
         },
         "layout": {
          "annotationdefaults": {
           "arrowcolor": "#2a3f5f",
           "arrowhead": 0,
           "arrowwidth": 1
          },
          "autotypenumbers": "strict",
          "coloraxis": {
           "colorbar": {
            "outlinewidth": 0,
            "ticks": ""
           }
          },
          "colorscale": {
           "diverging": [
            [
             0,
             "#8e0152"
            ],
            [
             0.1,
             "#c51b7d"
            ],
            [
             0.2,
             "#de77ae"
            ],
            [
             0.3,
             "#f1b6da"
            ],
            [
             0.4,
             "#fde0ef"
            ],
            [
             0.5,
             "#f7f7f7"
            ],
            [
             0.6,
             "#e6f5d0"
            ],
            [
             0.7,
             "#b8e186"
            ],
            [
             0.8,
             "#7fbc41"
            ],
            [
             0.9,
             "#4d9221"
            ],
            [
             1,
             "#276419"
            ]
           ],
           "sequential": [
            [
             0,
             "#0d0887"
            ],
            [
             0.1111111111111111,
             "#46039f"
            ],
            [
             0.2222222222222222,
             "#7201a8"
            ],
            [
             0.3333333333333333,
             "#9c179e"
            ],
            [
             0.4444444444444444,
             "#bd3786"
            ],
            [
             0.5555555555555556,
             "#d8576b"
            ],
            [
             0.6666666666666666,
             "#ed7953"
            ],
            [
             0.7777777777777778,
             "#fb9f3a"
            ],
            [
             0.8888888888888888,
             "#fdca26"
            ],
            [
             1,
             "#f0f921"
            ]
           ],
           "sequentialminus": [
            [
             0,
             "#0d0887"
            ],
            [
             0.1111111111111111,
             "#46039f"
            ],
            [
             0.2222222222222222,
             "#7201a8"
            ],
            [
             0.3333333333333333,
             "#9c179e"
            ],
            [
             0.4444444444444444,
             "#bd3786"
            ],
            [
             0.5555555555555556,
             "#d8576b"
            ],
            [
             0.6666666666666666,
             "#ed7953"
            ],
            [
             0.7777777777777778,
             "#fb9f3a"
            ],
            [
             0.8888888888888888,
             "#fdca26"
            ],
            [
             1,
             "#f0f921"
            ]
           ]
          },
          "colorway": [
           "#636efa",
           "#EF553B",
           "#00cc96",
           "#ab63fa",
           "#FFA15A",
           "#19d3f3",
           "#FF6692",
           "#B6E880",
           "#FF97FF",
           "#FECB52"
          ],
          "font": {
           "color": "#2a3f5f"
          },
          "geo": {
           "bgcolor": "white",
           "lakecolor": "white",
           "landcolor": "#E5ECF6",
           "showlakes": true,
           "showland": true,
           "subunitcolor": "white"
          },
          "hoverlabel": {
           "align": "left"
          },
          "hovermode": "closest",
          "mapbox": {
           "style": "light"
          },
          "paper_bgcolor": "white",
          "plot_bgcolor": "#E5ECF6",
          "polar": {
           "angularaxis": {
            "gridcolor": "white",
            "linecolor": "white",
            "ticks": ""
           },
           "bgcolor": "#E5ECF6",
           "radialaxis": {
            "gridcolor": "white",
            "linecolor": "white",
            "ticks": ""
           }
          },
          "scene": {
           "xaxis": {
            "backgroundcolor": "#E5ECF6",
            "gridcolor": "white",
            "gridwidth": 2,
            "linecolor": "white",
            "showbackground": true,
            "ticks": "",
            "zerolinecolor": "white"
           },
           "yaxis": {
            "backgroundcolor": "#E5ECF6",
            "gridcolor": "white",
            "gridwidth": 2,
            "linecolor": "white",
            "showbackground": true,
            "ticks": "",
            "zerolinecolor": "white"
           },
           "zaxis": {
            "backgroundcolor": "#E5ECF6",
            "gridcolor": "white",
            "gridwidth": 2,
            "linecolor": "white",
            "showbackground": true,
            "ticks": "",
            "zerolinecolor": "white"
           }
          },
          "shapedefaults": {
           "line": {
            "color": "#2a3f5f"
           }
          },
          "ternary": {
           "aaxis": {
            "gridcolor": "white",
            "linecolor": "white",
            "ticks": ""
           },
           "baxis": {
            "gridcolor": "white",
            "linecolor": "white",
            "ticks": ""
           },
           "bgcolor": "#E5ECF6",
           "caxis": {
            "gridcolor": "white",
            "linecolor": "white",
            "ticks": ""
           }
          },
          "title": {
           "x": 0.05
          },
          "xaxis": {
           "automargin": true,
           "gridcolor": "white",
           "linecolor": "white",
           "ticks": "",
           "title": {
            "standoff": 15
           },
           "zerolinecolor": "white",
           "zerolinewidth": 2
          },
          "yaxis": {
           "automargin": true,
           "gridcolor": "white",
           "linecolor": "white",
           "ticks": "",
           "title": {
            "standoff": 15
           },
           "zerolinecolor": "white",
           "zerolinewidth": 2
          }
         }
        },
        "xaxis": {
         "anchor": "y",
         "domain": [
          0,
          1
         ],
         "title": {
          "text": "index"
         }
        },
        "yaxis": {
         "anchor": "x",
         "domain": [
          0,
          1
         ],
         "title": {
          "text": "value"
         }
        }
       }
      },
      "text/html": [
       "<div>                            <div id=\"5f3f017e-62e6-4d54-b695-d348e0787429\" class=\"plotly-graph-div\" style=\"height:525px; width:100%;\"></div>            <script type=\"text/javascript\">                require([\"plotly\"], function(Plotly) {                    window.PLOTLYENV=window.PLOTLYENV || {};                                    if (document.getElementById(\"5f3f017e-62e6-4d54-b695-d348e0787429\")) {                    Plotly.newPlot(                        \"5f3f017e-62e6-4d54-b695-d348e0787429\",                        [{\"alignmentgroup\": \"True\", \"hovertemplate\": \"variable=Nacionalidad<br>index=%{x}<br>value=%{y}<extra></extra>\", \"legendgroup\": \"Nacionalidad\", \"marker\": {\"color\": \"#636efa\"}, \"name\": \"Nacionalidad\", \"offsetgroup\": \"Nacionalidad\", \"orientation\": \"v\", \"showlegend\": true, \"textposition\": \"auto\", \"type\": \"bar\", \"x\": [\"France\", \"Spain\", \"Serbia\", \"United States\", \"Italy\", \"Belgium\", \"Australia\", \"Argentina\", \"Czech Republic\", \"Croatia\", \"Germany\", \"Russian Federation\", \"Japan\", \"Slovakia\", \"United Kingdom\", \"Switzerland\", \"Ukraine\", \"Austria\", \"Colombia\", \"Netherlands\", \"Uzbekistan\", \"Canada\", \"South Africa\", \"Hungary\", \"Taiwan\", \"Finland\", \"Cyprus\", \"Luxembourg\", \"Brazil\", \"Poland\", \"Bulgaria\"], \"xaxis\": \"x\", \"y\": [11, 10, 5, 5, 4, 4, 4, 4, 3, 3, 3, 3, 2, 2, 2, 2, 2, 2, 2, 1, 1, 1, 1, 1, 1, 1, 1, 1, 1, 1, 1], \"yaxis\": \"y\"}],                        {\"barmode\": \"relative\", \"legend\": {\"title\": {\"text\": \"variable\"}, \"tracegroupgap\": 0}, \"margin\": {\"t\": 60}, \"template\": {\"data\": {\"bar\": [{\"error_x\": {\"color\": \"#2a3f5f\"}, \"error_y\": {\"color\": \"#2a3f5f\"}, \"marker\": {\"line\": {\"color\": \"#E5ECF6\", \"width\": 0.5}}, \"type\": \"bar\"}], \"barpolar\": [{\"marker\": {\"line\": {\"color\": \"#E5ECF6\", \"width\": 0.5}}, \"type\": \"barpolar\"}], \"carpet\": [{\"aaxis\": {\"endlinecolor\": \"#2a3f5f\", \"gridcolor\": \"white\", \"linecolor\": \"white\", \"minorgridcolor\": \"white\", \"startlinecolor\": \"#2a3f5f\"}, \"baxis\": {\"endlinecolor\": \"#2a3f5f\", \"gridcolor\": \"white\", \"linecolor\": \"white\", \"minorgridcolor\": \"white\", \"startlinecolor\": \"#2a3f5f\"}, \"type\": \"carpet\"}], \"choropleth\": [{\"colorbar\": {\"outlinewidth\": 0, \"ticks\": \"\"}, \"type\": \"choropleth\"}], \"contour\": [{\"colorbar\": {\"outlinewidth\": 0, \"ticks\": \"\"}, \"colorscale\": [[0.0, \"#0d0887\"], [0.1111111111111111, \"#46039f\"], [0.2222222222222222, \"#7201a8\"], [0.3333333333333333, \"#9c179e\"], [0.4444444444444444, \"#bd3786\"], [0.5555555555555556, \"#d8576b\"], [0.6666666666666666, \"#ed7953\"], [0.7777777777777778, \"#fb9f3a\"], [0.8888888888888888, \"#fdca26\"], [1.0, \"#f0f921\"]], \"type\": \"contour\"}], \"contourcarpet\": [{\"colorbar\": {\"outlinewidth\": 0, \"ticks\": \"\"}, \"type\": \"contourcarpet\"}], \"heatmap\": [{\"colorbar\": {\"outlinewidth\": 0, \"ticks\": \"\"}, \"colorscale\": [[0.0, \"#0d0887\"], [0.1111111111111111, \"#46039f\"], [0.2222222222222222, \"#7201a8\"], [0.3333333333333333, \"#9c179e\"], [0.4444444444444444, \"#bd3786\"], [0.5555555555555556, \"#d8576b\"], [0.6666666666666666, \"#ed7953\"], [0.7777777777777778, \"#fb9f3a\"], [0.8888888888888888, \"#fdca26\"], [1.0, \"#f0f921\"]], \"type\": \"heatmap\"}], \"heatmapgl\": [{\"colorbar\": {\"outlinewidth\": 0, \"ticks\": \"\"}, \"colorscale\": [[0.0, \"#0d0887\"], [0.1111111111111111, \"#46039f\"], [0.2222222222222222, \"#7201a8\"], [0.3333333333333333, \"#9c179e\"], [0.4444444444444444, \"#bd3786\"], [0.5555555555555556, \"#d8576b\"], [0.6666666666666666, \"#ed7953\"], [0.7777777777777778, \"#fb9f3a\"], [0.8888888888888888, \"#fdca26\"], [1.0, \"#f0f921\"]], \"type\": \"heatmapgl\"}], \"histogram\": [{\"marker\": {\"colorbar\": {\"outlinewidth\": 0, \"ticks\": \"\"}}, \"type\": \"histogram\"}], \"histogram2d\": [{\"colorbar\": {\"outlinewidth\": 0, \"ticks\": \"\"}, \"colorscale\": [[0.0, \"#0d0887\"], [0.1111111111111111, \"#46039f\"], [0.2222222222222222, \"#7201a8\"], [0.3333333333333333, \"#9c179e\"], [0.4444444444444444, \"#bd3786\"], [0.5555555555555556, \"#d8576b\"], [0.6666666666666666, \"#ed7953\"], [0.7777777777777778, \"#fb9f3a\"], [0.8888888888888888, \"#fdca26\"], [1.0, \"#f0f921\"]], \"type\": \"histogram2d\"}], \"histogram2dcontour\": [{\"colorbar\": {\"outlinewidth\": 0, \"ticks\": \"\"}, \"colorscale\": [[0.0, \"#0d0887\"], [0.1111111111111111, \"#46039f\"], [0.2222222222222222, \"#7201a8\"], [0.3333333333333333, \"#9c179e\"], [0.4444444444444444, \"#bd3786\"], [0.5555555555555556, \"#d8576b\"], [0.6666666666666666, \"#ed7953\"], [0.7777777777777778, \"#fb9f3a\"], [0.8888888888888888, \"#fdca26\"], [1.0, \"#f0f921\"]], \"type\": \"histogram2dcontour\"}], \"mesh3d\": [{\"colorbar\": {\"outlinewidth\": 0, \"ticks\": \"\"}, \"type\": \"mesh3d\"}], \"parcoords\": [{\"line\": {\"colorbar\": {\"outlinewidth\": 0, \"ticks\": \"\"}}, \"type\": \"parcoords\"}], \"pie\": [{\"automargin\": true, \"type\": \"pie\"}], \"scatter\": [{\"marker\": {\"colorbar\": {\"outlinewidth\": 0, \"ticks\": \"\"}}, \"type\": \"scatter\"}], \"scatter3d\": [{\"line\": {\"colorbar\": {\"outlinewidth\": 0, \"ticks\": \"\"}}, \"marker\": {\"colorbar\": {\"outlinewidth\": 0, \"ticks\": \"\"}}, \"type\": \"scatter3d\"}], \"scattercarpet\": [{\"marker\": {\"colorbar\": {\"outlinewidth\": 0, \"ticks\": \"\"}}, \"type\": \"scattercarpet\"}], \"scattergeo\": [{\"marker\": {\"colorbar\": {\"outlinewidth\": 0, \"ticks\": \"\"}}, \"type\": \"scattergeo\"}], \"scattergl\": [{\"marker\": {\"colorbar\": {\"outlinewidth\": 0, \"ticks\": \"\"}}, \"type\": \"scattergl\"}], \"scattermapbox\": [{\"marker\": {\"colorbar\": {\"outlinewidth\": 0, \"ticks\": \"\"}}, \"type\": \"scattermapbox\"}], \"scatterpolar\": [{\"marker\": {\"colorbar\": {\"outlinewidth\": 0, \"ticks\": \"\"}}, \"type\": \"scatterpolar\"}], \"scatterpolargl\": [{\"marker\": {\"colorbar\": {\"outlinewidth\": 0, \"ticks\": \"\"}}, \"type\": \"scatterpolargl\"}], \"scatterternary\": [{\"marker\": {\"colorbar\": {\"outlinewidth\": 0, \"ticks\": \"\"}}, \"type\": \"scatterternary\"}], \"surface\": [{\"colorbar\": {\"outlinewidth\": 0, \"ticks\": \"\"}, \"colorscale\": [[0.0, \"#0d0887\"], [0.1111111111111111, \"#46039f\"], [0.2222222222222222, \"#7201a8\"], [0.3333333333333333, \"#9c179e\"], [0.4444444444444444, \"#bd3786\"], [0.5555555555555556, \"#d8576b\"], [0.6666666666666666, \"#ed7953\"], [0.7777777777777778, \"#fb9f3a\"], [0.8888888888888888, \"#fdca26\"], [1.0, \"#f0f921\"]], \"type\": \"surface\"}], \"table\": [{\"cells\": {\"fill\": {\"color\": \"#EBF0F8\"}, \"line\": {\"color\": \"white\"}}, \"header\": {\"fill\": {\"color\": \"#C8D4E3\"}, \"line\": {\"color\": \"white\"}}, \"type\": \"table\"}]}, \"layout\": {\"annotationdefaults\": {\"arrowcolor\": \"#2a3f5f\", \"arrowhead\": 0, \"arrowwidth\": 1}, \"autotypenumbers\": \"strict\", \"coloraxis\": {\"colorbar\": {\"outlinewidth\": 0, \"ticks\": \"\"}}, \"colorscale\": {\"diverging\": [[0, \"#8e0152\"], [0.1, \"#c51b7d\"], [0.2, \"#de77ae\"], [0.3, \"#f1b6da\"], [0.4, \"#fde0ef\"], [0.5, \"#f7f7f7\"], [0.6, \"#e6f5d0\"], [0.7, \"#b8e186\"], [0.8, \"#7fbc41\"], [0.9, \"#4d9221\"], [1, \"#276419\"]], \"sequential\": [[0.0, \"#0d0887\"], [0.1111111111111111, \"#46039f\"], [0.2222222222222222, \"#7201a8\"], [0.3333333333333333, \"#9c179e\"], [0.4444444444444444, \"#bd3786\"], [0.5555555555555556, \"#d8576b\"], [0.6666666666666666, \"#ed7953\"], [0.7777777777777778, \"#fb9f3a\"], [0.8888888888888888, \"#fdca26\"], [1.0, \"#f0f921\"]], \"sequentialminus\": [[0.0, \"#0d0887\"], [0.1111111111111111, \"#46039f\"], [0.2222222222222222, \"#7201a8\"], [0.3333333333333333, \"#9c179e\"], [0.4444444444444444, \"#bd3786\"], [0.5555555555555556, \"#d8576b\"], [0.6666666666666666, \"#ed7953\"], [0.7777777777777778, \"#fb9f3a\"], [0.8888888888888888, \"#fdca26\"], [1.0, \"#f0f921\"]]}, \"colorway\": [\"#636efa\", \"#EF553B\", \"#00cc96\", \"#ab63fa\", \"#FFA15A\", \"#19d3f3\", \"#FF6692\", \"#B6E880\", \"#FF97FF\", \"#FECB52\"], \"font\": {\"color\": \"#2a3f5f\"}, \"geo\": {\"bgcolor\": \"white\", \"lakecolor\": \"white\", \"landcolor\": \"#E5ECF6\", \"showlakes\": true, \"showland\": true, \"subunitcolor\": \"white\"}, \"hoverlabel\": {\"align\": \"left\"}, \"hovermode\": \"closest\", \"mapbox\": {\"style\": \"light\"}, \"paper_bgcolor\": \"white\", \"plot_bgcolor\": \"#E5ECF6\", \"polar\": {\"angularaxis\": {\"gridcolor\": \"white\", \"linecolor\": \"white\", \"ticks\": \"\"}, \"bgcolor\": \"#E5ECF6\", \"radialaxis\": {\"gridcolor\": \"white\", \"linecolor\": \"white\", \"ticks\": \"\"}}, \"scene\": {\"xaxis\": {\"backgroundcolor\": \"#E5ECF6\", \"gridcolor\": \"white\", \"gridwidth\": 2, \"linecolor\": \"white\", \"showbackground\": true, \"ticks\": \"\", \"zerolinecolor\": \"white\"}, \"yaxis\": {\"backgroundcolor\": \"#E5ECF6\", \"gridcolor\": \"white\", \"gridwidth\": 2, \"linecolor\": \"white\", \"showbackground\": true, \"ticks\": \"\", \"zerolinecolor\": \"white\"}, \"zaxis\": {\"backgroundcolor\": \"#E5ECF6\", \"gridcolor\": \"white\", \"gridwidth\": 2, \"linecolor\": \"white\", \"showbackground\": true, \"ticks\": \"\", \"zerolinecolor\": \"white\"}}, \"shapedefaults\": {\"line\": {\"color\": \"#2a3f5f\"}}, \"ternary\": {\"aaxis\": {\"gridcolor\": \"white\", \"linecolor\": \"white\", \"ticks\": \"\"}, \"baxis\": {\"gridcolor\": \"white\", \"linecolor\": \"white\", \"ticks\": \"\"}, \"bgcolor\": \"#E5ECF6\", \"caxis\": {\"gridcolor\": \"white\", \"linecolor\": \"white\", \"ticks\": \"\"}}, \"title\": {\"x\": 0.05}, \"xaxis\": {\"automargin\": true, \"gridcolor\": \"white\", \"linecolor\": \"white\", \"ticks\": \"\", \"title\": {\"standoff\": 15}, \"zerolinecolor\": \"white\", \"zerolinewidth\": 2}, \"yaxis\": {\"automargin\": true, \"gridcolor\": \"white\", \"linecolor\": \"white\", \"ticks\": \"\", \"title\": {\"standoff\": 15}, \"zerolinecolor\": \"white\", \"zerolinewidth\": 2}}}, \"xaxis\": {\"anchor\": \"y\", \"domain\": [0.0, 1.0], \"title\": {\"text\": \"index\"}}, \"yaxis\": {\"anchor\": \"x\", \"domain\": [0.0, 1.0], \"title\": {\"text\": \"value\"}}},                        {\"responsive\": true}                    ).then(function(){\n",
       "                            \n",
       "var gd = document.getElementById('5f3f017e-62e6-4d54-b695-d348e0787429');\n",
       "var x = new MutationObserver(function (mutations, observer) {{\n",
       "        var display = window.getComputedStyle(gd).display;\n",
       "        if (!display || display === 'none') {{\n",
       "            console.log([gd, 'removed!']);\n",
       "            Plotly.purge(gd);\n",
       "            observer.disconnect();\n",
       "        }}\n",
       "}});\n",
       "\n",
       "// Listen for the removal of the full notebook cells\n",
       "var notebookContainer = gd.closest('#notebook-container');\n",
       "if (notebookContainer) {{\n",
       "    x.observe(notebookContainer, {childList: true});\n",
       "}}\n",
       "\n",
       "// Listen for the clearing of the current output cell\n",
       "var outputEl = gd.closest('.output');\n",
       "if (outputEl) {{\n",
       "    x.observe(outputEl, {childList: true});\n",
       "}}\n",
       "\n",
       "                        })                };                });            </script>        </div>"
      ]
     },
     "metadata": {},
     "output_type": "display_data"
    }
   ],
   "source": [
    "px.bar(tdf_2012.Nacionalidad.value_counts())"
   ]
  },
  {
   "cell_type": "markdown",
   "metadata": {},
   "source": [
    "## Estilo de Juego: Sacador es el más efectivo\n",
    "\n",
    "A día de hoy existen diferentes formas de estilo de juego siendo las siguientes las más representativas:\n",
    "\n",
    "- Perfil Restador:Promedia menos de 3,5 saques directos por partido\n",
    "- Perfil Equilibrado: Promedia entre 3,5 y 6 saques directos por partido\n",
    "- Perfil Sacador: Promedia más de 6 saques directos por partido\n",
    "\n",
    "Desde Ironball queremos analizar cúal es el estilo que obtiene un mayor % de victorias"
   ]
  },
  {
   "cell_type": "markdown",
   "metadata": {
    "heading_collapsed": true
   },
   "source": [
    "#### Código 1"
   ]
  },
  {
   "cell_type": "code",
   "execution_count": 75,
   "metadata": {
    "hidden": true
   },
   "outputs": [
    {
     "data": {
      "text/html": [
       "        <script type=\"text/javascript\">\n",
       "        window.PlotlyConfig = {MathJaxConfig: 'local'};\n",
       "        if (window.MathJax) {MathJax.Hub.Config({SVG: {font: \"STIX-Web\"}});}\n",
       "        if (typeof require !== 'undefined') {\n",
       "        require.undef(\"plotly\");\n",
       "        requirejs.config({\n",
       "            paths: {\n",
       "                'plotly': ['https://cdn.plot.ly/plotly-latest.min']\n",
       "            }\n",
       "        });\n",
       "        require(['plotly'], function(Plotly) {\n",
       "            window._Plotly = Plotly;\n",
       "        });\n",
       "        }\n",
       "        </script>\n",
       "        "
      ]
     },
     "metadata": {},
     "output_type": "display_data"
    }
   ],
   "source": [
    "cf.set_config_file(offline=True)"
   ]
  },
  {
   "cell_type": "code",
   "execution_count": 76,
   "metadata": {
    "hidden": true
   },
   "outputs": [
    {
     "data": {
      "text/plain": [
       "<Figure size 1440x1008 with 0 Axes>"
      ]
     },
     "execution_count": 76,
     "metadata": {},
     "output_type": "execute_result"
    },
    {
     "data": {
      "text/plain": [
       "<Figure size 1440x1008 with 0 Axes>"
      ]
     },
     "metadata": {},
     "output_type": "display_data"
    }
   ],
   "source": [
    "plt.figure(figsize=(20,14))"
   ]
  },
  {
   "cell_type": "code",
   "execution_count": 78,
   "metadata": {
    "hidden": true
   },
   "outputs": [],
   "source": [
    "plt.rcParams['figure.figsize']=(12,8)"
   ]
  },
  {
   "cell_type": "markdown",
   "metadata": {},
   "source": [
    "### Representación gráfica Box plot:\n",
    "\n",
    "- Insights:\n",
    "\n",
    "\n",
    "  - 1.El perfil de jugador más eficaz es el de Sacador, con una media de victorias superior al 57%, cifra notablemente superior al de los otros dos estilos de juego (Equilibrado=48% y Restador=45%)\n",
    "\n",
    "  - 2. Podemos identificar valores outliers, correspondientes a jugadores con un muy bajo porcentaje de victorias, por lo que podemos filtrar nuestra busqueda.\n",
    "\n",
    "CONCLUSION: INTUIMOS QUE PUEDE EXISTIR CIERTA CORRELACIÓN ENTRE AQUELLOS JUGADORES QUE DISPONEN DE UN BUEN SERVICIO Y EL % DE VICTORIAS"
   ]
  },
  {
   "cell_type": "code",
   "execution_count": 263,
   "metadata": {},
   "outputs": [
    {
     "data": {
      "application/vnd.plotly.v1+json": {
       "config": {
        "linkText": "Export to plot.ly",
        "plotlyServerURL": "https://plot.ly",
        "showLink": true
       },
       "data": [
        {
         "boxpoints": "outliers",
         "line": {
          "width": 1.3
         },
         "marker": {
          "color": "rgba(255, 153, 51, 1.0)"
         },
         "name": "Equilibrado",
         "orientation": "v",
         "type": "box",
         "y": [
          86.21,
          null,
          null,
          null,
          null,
          null,
          null,
          null,
          null,
          65.63,
          null,
          null,
          null,
          null,
          null,
          63.24,
          null,
          null,
          null,
          null,
          null,
          null,
          58.46,
          59.26,
          61.11,
          null,
          46.94,
          44.44,
          55.88,
          47.06,
          null,
          55.1,
          50,
          null,
          null,
          null,
          null,
          null,
          null,
          null,
          null,
          null,
          null,
          null,
          54.84,
          null,
          null,
          47.22,
          null,
          null,
          49.06,
          null,
          40.43,
          null,
          47.4,
          40,
          null,
          null,
          null,
          null,
          null,
          null,
          null,
          46,
          44.4,
          null,
          null,
          null,
          null,
          null,
          56.41,
          null,
          null,
          42.4,
          null,
          42.5,
          null,
          null,
          null,
          12.5,
          0,
          null,
          33.1,
          null,
          null
         ]
        },
        {
         "boxpoints": "outliers",
         "line": {
          "width": 1.3
         },
         "marker": {
          "color": "rgba(55, 128, 191, 1.0)"
         },
         "name": "Restador",
         "orientation": "v",
         "type": "box",
         "y": [
          null,
          null,
          null,
          87.5,
          83.52,
          null,
          null,
          null,
          null,
          null,
          null,
          67.24,
          null,
          null,
          null,
          null,
          null,
          null,
          67.27,
          null,
          null,
          null,
          null,
          null,
          null,
          null,
          null,
          null,
          null,
          null,
          null,
          null,
          null,
          null,
          null,
          null,
          null,
          null,
          null,
          49.06,
          39.58,
          null,
          51.06,
          47.83,
          null,
          null,
          null,
          null,
          45.5,
          null,
          null,
          35.9,
          null,
          50,
          null,
          null,
          38.24,
          null,
          44.64,
          null,
          null,
          null,
          null,
          null,
          null,
          null,
          23.1,
          55.26,
          34.38,
          30.3,
          null,
          42.5,
          null,
          null,
          null,
          null,
          null,
          31.1,
          66.7,
          null,
          null,
          40,
          null,
          33.3,
          null
         ]
        },
        {
         "boxpoints": "outliers",
         "line": {
          "width": 1.3
         },
         "marker": {
          "color": "rgba(50, 171, 96, 1.0)"
         },
         "name": "Sacador",
         "orientation": "v",
         "type": "box",
         "y": [
          null,
          85.54,
          77.78,
          null,
          null,
          72.62,
          79.27,
          66.67,
          68.8,
          null,
          70.73,
          null,
          69.23,
          68.18,
          67.24,
          null,
          63.64,
          57.63,
          null,
          63.64,
          65.96,
          59.68,
          null,
          null,
          null,
          65.63,
          null,
          null,
          null,
          null,
          54.55,
          null,
          null,
          54,
          58.33,
          53.57,
          48.21,
          58.97,
          49.06,
          null,
          null,
          48.39,
          null,
          null,
          null,
          50,
          55.81,
          null,
          null,
          38.24,
          null,
          null,
          null,
          null,
          null,
          null,
          null,
          46.67,
          null,
          51.16,
          48.94,
          38.1,
          51.35,
          null,
          null,
          65.52,
          null,
          null,
          null,
          null,
          null,
          null,
          48.48,
          null,
          36.36,
          null,
          47.06,
          null,
          null,
          null,
          null,
          null,
          null,
          null,
          40.1
         ]
        }
       ],
       "layout": {
        "legend": {
         "bgcolor": "#F5F6F9",
         "font": {
          "color": "#4D5663"
         }
        },
        "paper_bgcolor": "#F5F6F9",
        "plot_bgcolor": "#F5F6F9",
        "template": {
         "data": {
          "bar": [
           {
            "error_x": {
             "color": "#2a3f5f"
            },
            "error_y": {
             "color": "#2a3f5f"
            },
            "marker": {
             "line": {
              "color": "#E5ECF6",
              "width": 0.5
             }
            },
            "type": "bar"
           }
          ],
          "barpolar": [
           {
            "marker": {
             "line": {
              "color": "#E5ECF6",
              "width": 0.5
             }
            },
            "type": "barpolar"
           }
          ],
          "carpet": [
           {
            "aaxis": {
             "endlinecolor": "#2a3f5f",
             "gridcolor": "white",
             "linecolor": "white",
             "minorgridcolor": "white",
             "startlinecolor": "#2a3f5f"
            },
            "baxis": {
             "endlinecolor": "#2a3f5f",
             "gridcolor": "white",
             "linecolor": "white",
             "minorgridcolor": "white",
             "startlinecolor": "#2a3f5f"
            },
            "type": "carpet"
           }
          ],
          "choropleth": [
           {
            "colorbar": {
             "outlinewidth": 0,
             "ticks": ""
            },
            "type": "choropleth"
           }
          ],
          "contour": [
           {
            "colorbar": {
             "outlinewidth": 0,
             "ticks": ""
            },
            "colorscale": [
             [
              0,
              "#0d0887"
             ],
             [
              0.1111111111111111,
              "#46039f"
             ],
             [
              0.2222222222222222,
              "#7201a8"
             ],
             [
              0.3333333333333333,
              "#9c179e"
             ],
             [
              0.4444444444444444,
              "#bd3786"
             ],
             [
              0.5555555555555556,
              "#d8576b"
             ],
             [
              0.6666666666666666,
              "#ed7953"
             ],
             [
              0.7777777777777778,
              "#fb9f3a"
             ],
             [
              0.8888888888888888,
              "#fdca26"
             ],
             [
              1,
              "#f0f921"
             ]
            ],
            "type": "contour"
           }
          ],
          "contourcarpet": [
           {
            "colorbar": {
             "outlinewidth": 0,
             "ticks": ""
            },
            "type": "contourcarpet"
           }
          ],
          "heatmap": [
           {
            "colorbar": {
             "outlinewidth": 0,
             "ticks": ""
            },
            "colorscale": [
             [
              0,
              "#0d0887"
             ],
             [
              0.1111111111111111,
              "#46039f"
             ],
             [
              0.2222222222222222,
              "#7201a8"
             ],
             [
              0.3333333333333333,
              "#9c179e"
             ],
             [
              0.4444444444444444,
              "#bd3786"
             ],
             [
              0.5555555555555556,
              "#d8576b"
             ],
             [
              0.6666666666666666,
              "#ed7953"
             ],
             [
              0.7777777777777778,
              "#fb9f3a"
             ],
             [
              0.8888888888888888,
              "#fdca26"
             ],
             [
              1,
              "#f0f921"
             ]
            ],
            "type": "heatmap"
           }
          ],
          "heatmapgl": [
           {
            "colorbar": {
             "outlinewidth": 0,
             "ticks": ""
            },
            "colorscale": [
             [
              0,
              "#0d0887"
             ],
             [
              0.1111111111111111,
              "#46039f"
             ],
             [
              0.2222222222222222,
              "#7201a8"
             ],
             [
              0.3333333333333333,
              "#9c179e"
             ],
             [
              0.4444444444444444,
              "#bd3786"
             ],
             [
              0.5555555555555556,
              "#d8576b"
             ],
             [
              0.6666666666666666,
              "#ed7953"
             ],
             [
              0.7777777777777778,
              "#fb9f3a"
             ],
             [
              0.8888888888888888,
              "#fdca26"
             ],
             [
              1,
              "#f0f921"
             ]
            ],
            "type": "heatmapgl"
           }
          ],
          "histogram": [
           {
            "marker": {
             "colorbar": {
              "outlinewidth": 0,
              "ticks": ""
             }
            },
            "type": "histogram"
           }
          ],
          "histogram2d": [
           {
            "colorbar": {
             "outlinewidth": 0,
             "ticks": ""
            },
            "colorscale": [
             [
              0,
              "#0d0887"
             ],
             [
              0.1111111111111111,
              "#46039f"
             ],
             [
              0.2222222222222222,
              "#7201a8"
             ],
             [
              0.3333333333333333,
              "#9c179e"
             ],
             [
              0.4444444444444444,
              "#bd3786"
             ],
             [
              0.5555555555555556,
              "#d8576b"
             ],
             [
              0.6666666666666666,
              "#ed7953"
             ],
             [
              0.7777777777777778,
              "#fb9f3a"
             ],
             [
              0.8888888888888888,
              "#fdca26"
             ],
             [
              1,
              "#f0f921"
             ]
            ],
            "type": "histogram2d"
           }
          ],
          "histogram2dcontour": [
           {
            "colorbar": {
             "outlinewidth": 0,
             "ticks": ""
            },
            "colorscale": [
             [
              0,
              "#0d0887"
             ],
             [
              0.1111111111111111,
              "#46039f"
             ],
             [
              0.2222222222222222,
              "#7201a8"
             ],
             [
              0.3333333333333333,
              "#9c179e"
             ],
             [
              0.4444444444444444,
              "#bd3786"
             ],
             [
              0.5555555555555556,
              "#d8576b"
             ],
             [
              0.6666666666666666,
              "#ed7953"
             ],
             [
              0.7777777777777778,
              "#fb9f3a"
             ],
             [
              0.8888888888888888,
              "#fdca26"
             ],
             [
              1,
              "#f0f921"
             ]
            ],
            "type": "histogram2dcontour"
           }
          ],
          "mesh3d": [
           {
            "colorbar": {
             "outlinewidth": 0,
             "ticks": ""
            },
            "type": "mesh3d"
           }
          ],
          "parcoords": [
           {
            "line": {
             "colorbar": {
              "outlinewidth": 0,
              "ticks": ""
             }
            },
            "type": "parcoords"
           }
          ],
          "pie": [
           {
            "automargin": true,
            "type": "pie"
           }
          ],
          "scatter": [
           {
            "marker": {
             "colorbar": {
              "outlinewidth": 0,
              "ticks": ""
             }
            },
            "type": "scatter"
           }
          ],
          "scatter3d": [
           {
            "line": {
             "colorbar": {
              "outlinewidth": 0,
              "ticks": ""
             }
            },
            "marker": {
             "colorbar": {
              "outlinewidth": 0,
              "ticks": ""
             }
            },
            "type": "scatter3d"
           }
          ],
          "scattercarpet": [
           {
            "marker": {
             "colorbar": {
              "outlinewidth": 0,
              "ticks": ""
             }
            },
            "type": "scattercarpet"
           }
          ],
          "scattergeo": [
           {
            "marker": {
             "colorbar": {
              "outlinewidth": 0,
              "ticks": ""
             }
            },
            "type": "scattergeo"
           }
          ],
          "scattergl": [
           {
            "marker": {
             "colorbar": {
              "outlinewidth": 0,
              "ticks": ""
             }
            },
            "type": "scattergl"
           }
          ],
          "scattermapbox": [
           {
            "marker": {
             "colorbar": {
              "outlinewidth": 0,
              "ticks": ""
             }
            },
            "type": "scattermapbox"
           }
          ],
          "scatterpolar": [
           {
            "marker": {
             "colorbar": {
              "outlinewidth": 0,
              "ticks": ""
             }
            },
            "type": "scatterpolar"
           }
          ],
          "scatterpolargl": [
           {
            "marker": {
             "colorbar": {
              "outlinewidth": 0,
              "ticks": ""
             }
            },
            "type": "scatterpolargl"
           }
          ],
          "scatterternary": [
           {
            "marker": {
             "colorbar": {
              "outlinewidth": 0,
              "ticks": ""
             }
            },
            "type": "scatterternary"
           }
          ],
          "surface": [
           {
            "colorbar": {
             "outlinewidth": 0,
             "ticks": ""
            },
            "colorscale": [
             [
              0,
              "#0d0887"
             ],
             [
              0.1111111111111111,
              "#46039f"
             ],
             [
              0.2222222222222222,
              "#7201a8"
             ],
             [
              0.3333333333333333,
              "#9c179e"
             ],
             [
              0.4444444444444444,
              "#bd3786"
             ],
             [
              0.5555555555555556,
              "#d8576b"
             ],
             [
              0.6666666666666666,
              "#ed7953"
             ],
             [
              0.7777777777777778,
              "#fb9f3a"
             ],
             [
              0.8888888888888888,
              "#fdca26"
             ],
             [
              1,
              "#f0f921"
             ]
            ],
            "type": "surface"
           }
          ],
          "table": [
           {
            "cells": {
             "fill": {
              "color": "#EBF0F8"
             },
             "line": {
              "color": "white"
             }
            },
            "header": {
             "fill": {
              "color": "#C8D4E3"
             },
             "line": {
              "color": "white"
             }
            },
            "type": "table"
           }
          ]
         },
         "layout": {
          "annotationdefaults": {
           "arrowcolor": "#2a3f5f",
           "arrowhead": 0,
           "arrowwidth": 1
          },
          "autotypenumbers": "strict",
          "coloraxis": {
           "colorbar": {
            "outlinewidth": 0,
            "ticks": ""
           }
          },
          "colorscale": {
           "diverging": [
            [
             0,
             "#8e0152"
            ],
            [
             0.1,
             "#c51b7d"
            ],
            [
             0.2,
             "#de77ae"
            ],
            [
             0.3,
             "#f1b6da"
            ],
            [
             0.4,
             "#fde0ef"
            ],
            [
             0.5,
             "#f7f7f7"
            ],
            [
             0.6,
             "#e6f5d0"
            ],
            [
             0.7,
             "#b8e186"
            ],
            [
             0.8,
             "#7fbc41"
            ],
            [
             0.9,
             "#4d9221"
            ],
            [
             1,
             "#276419"
            ]
           ],
           "sequential": [
            [
             0,
             "#0d0887"
            ],
            [
             0.1111111111111111,
             "#46039f"
            ],
            [
             0.2222222222222222,
             "#7201a8"
            ],
            [
             0.3333333333333333,
             "#9c179e"
            ],
            [
             0.4444444444444444,
             "#bd3786"
            ],
            [
             0.5555555555555556,
             "#d8576b"
            ],
            [
             0.6666666666666666,
             "#ed7953"
            ],
            [
             0.7777777777777778,
             "#fb9f3a"
            ],
            [
             0.8888888888888888,
             "#fdca26"
            ],
            [
             1,
             "#f0f921"
            ]
           ],
           "sequentialminus": [
            [
             0,
             "#0d0887"
            ],
            [
             0.1111111111111111,
             "#46039f"
            ],
            [
             0.2222222222222222,
             "#7201a8"
            ],
            [
             0.3333333333333333,
             "#9c179e"
            ],
            [
             0.4444444444444444,
             "#bd3786"
            ],
            [
             0.5555555555555556,
             "#d8576b"
            ],
            [
             0.6666666666666666,
             "#ed7953"
            ],
            [
             0.7777777777777778,
             "#fb9f3a"
            ],
            [
             0.8888888888888888,
             "#fdca26"
            ],
            [
             1,
             "#f0f921"
            ]
           ]
          },
          "colorway": [
           "#636efa",
           "#EF553B",
           "#00cc96",
           "#ab63fa",
           "#FFA15A",
           "#19d3f3",
           "#FF6692",
           "#B6E880",
           "#FF97FF",
           "#FECB52"
          ],
          "font": {
           "color": "#2a3f5f"
          },
          "geo": {
           "bgcolor": "white",
           "lakecolor": "white",
           "landcolor": "#E5ECF6",
           "showlakes": true,
           "showland": true,
           "subunitcolor": "white"
          },
          "hoverlabel": {
           "align": "left"
          },
          "hovermode": "closest",
          "mapbox": {
           "style": "light"
          },
          "paper_bgcolor": "white",
          "plot_bgcolor": "#E5ECF6",
          "polar": {
           "angularaxis": {
            "gridcolor": "white",
            "linecolor": "white",
            "ticks": ""
           },
           "bgcolor": "#E5ECF6",
           "radialaxis": {
            "gridcolor": "white",
            "linecolor": "white",
            "ticks": ""
           }
          },
          "scene": {
           "xaxis": {
            "backgroundcolor": "#E5ECF6",
            "gridcolor": "white",
            "gridwidth": 2,
            "linecolor": "white",
            "showbackground": true,
            "ticks": "",
            "zerolinecolor": "white"
           },
           "yaxis": {
            "backgroundcolor": "#E5ECF6",
            "gridcolor": "white",
            "gridwidth": 2,
            "linecolor": "white",
            "showbackground": true,
            "ticks": "",
            "zerolinecolor": "white"
           },
           "zaxis": {
            "backgroundcolor": "#E5ECF6",
            "gridcolor": "white",
            "gridwidth": 2,
            "linecolor": "white",
            "showbackground": true,
            "ticks": "",
            "zerolinecolor": "white"
           }
          },
          "shapedefaults": {
           "line": {
            "color": "#2a3f5f"
           }
          },
          "ternary": {
           "aaxis": {
            "gridcolor": "white",
            "linecolor": "white",
            "ticks": ""
           },
           "baxis": {
            "gridcolor": "white",
            "linecolor": "white",
            "ticks": ""
           },
           "bgcolor": "#E5ECF6",
           "caxis": {
            "gridcolor": "white",
            "linecolor": "white",
            "ticks": ""
           }
          },
          "title": {
           "x": 0.05
          },
          "xaxis": {
           "automargin": true,
           "gridcolor": "white",
           "linecolor": "white",
           "ticks": "",
           "title": {
            "standoff": 15
           },
           "zerolinecolor": "white",
           "zerolinewidth": 2
          },
          "yaxis": {
           "automargin": true,
           "gridcolor": "white",
           "linecolor": "white",
           "ticks": "",
           "title": {
            "standoff": 15
           },
           "zerolinecolor": "white",
           "zerolinewidth": 2
          }
         }
        },
        "title": {
         "font": {
          "color": "#4D5663"
         }
        },
        "xaxis": {
         "gridcolor": "#E1E5ED",
         "showgrid": true,
         "tickfont": {
          "color": "#4D5663"
         },
         "title": {
          "font": {
           "color": "#4D5663"
          },
          "text": ""
         },
         "zerolinecolor": "#E1E5ED"
        },
        "yaxis": {
         "gridcolor": "#E1E5ED",
         "showgrid": true,
         "tickfont": {
          "color": "#4D5663"
         },
         "title": {
          "font": {
           "color": "#4D5663"
          },
          "text": ""
         },
         "zerolinecolor": "#E1E5ED"
        }
       }
      },
      "text/html": [
       "<div>                            <div id=\"109da1d9-5aa1-4206-a210-7fa9c6bdd108\" class=\"plotly-graph-div\" style=\"height:525px; width:100%;\"></div>            <script type=\"text/javascript\">                require([\"plotly\"], function(Plotly) {                    window.PLOTLYENV=window.PLOTLYENV || {};\n",
       "                    window.PLOTLYENV.BASE_URL='https://plot.ly';                                    if (document.getElementById(\"109da1d9-5aa1-4206-a210-7fa9c6bdd108\")) {                    Plotly.newPlot(                        \"109da1d9-5aa1-4206-a210-7fa9c6bdd108\",                        [{\"boxpoints\": \"outliers\", \"line\": {\"width\": 1.3}, \"marker\": {\"color\": \"rgba(255, 153, 51, 1.0)\"}, \"name\": \"Equilibrado\", \"orientation\": \"v\", \"type\": \"box\", \"y\": [86.21, null, null, null, null, null, null, null, null, 65.63, null, null, null, null, null, 63.24, null, null, null, null, null, null, 58.46, 59.26, 61.11, null, 46.94, 44.44, 55.88, 47.06, null, 55.1, 50.0, null, null, null, null, null, null, null, null, null, null, null, 54.84, null, null, 47.22, null, null, 49.06, null, 40.43, null, 47.4, 40.0, null, null, null, null, null, null, null, 46.0, 44.4, null, null, null, null, null, 56.41, null, null, 42.4, null, 42.5, null, null, null, 12.5, 0.0, null, 33.1, null, null]}, {\"boxpoints\": \"outliers\", \"line\": {\"width\": 1.3}, \"marker\": {\"color\": \"rgba(55, 128, 191, 1.0)\"}, \"name\": \"Restador\", \"orientation\": \"v\", \"type\": \"box\", \"y\": [null, null, null, 87.5, 83.52, null, null, null, null, null, null, 67.24, null, null, null, null, null, null, 67.27, null, null, null, null, null, null, null, null, null, null, null, null, null, null, null, null, null, null, null, null, 49.06, 39.58, null, 51.06, 47.83, null, null, null, null, 45.5, null, null, 35.9, null, 50.0, null, null, 38.24, null, 44.64, null, null, null, null, null, null, null, 23.1, 55.26, 34.38, 30.3, null, 42.5, null, null, null, null, null, 31.1, 66.7, null, null, 40.0, null, 33.3, null]}, {\"boxpoints\": \"outliers\", \"line\": {\"width\": 1.3}, \"marker\": {\"color\": \"rgba(50, 171, 96, 1.0)\"}, \"name\": \"Sacador\", \"orientation\": \"v\", \"type\": \"box\", \"y\": [null, 85.54, 77.78, null, null, 72.62, 79.27, 66.67, 68.8, null, 70.73, null, 69.23, 68.18, 67.24, null, 63.64, 57.63, null, 63.64, 65.96, 59.68, null, null, null, 65.63, null, null, null, null, 54.55, null, null, 54.0, 58.33, 53.57, 48.21, 58.97, 49.06, null, null, 48.39, null, null, null, 50.0, 55.81, null, null, 38.24, null, null, null, null, null, null, null, 46.67, null, 51.16, 48.94, 38.1, 51.35, null, null, 65.52, null, null, null, null, null, null, 48.48, null, 36.36, null, 47.06, null, null, null, null, null, null, null, 40.1]}],                        {\"legend\": {\"bgcolor\": \"#F5F6F9\", \"font\": {\"color\": \"#4D5663\"}}, \"paper_bgcolor\": \"#F5F6F9\", \"plot_bgcolor\": \"#F5F6F9\", \"template\": {\"data\": {\"bar\": [{\"error_x\": {\"color\": \"#2a3f5f\"}, \"error_y\": {\"color\": \"#2a3f5f\"}, \"marker\": {\"line\": {\"color\": \"#E5ECF6\", \"width\": 0.5}}, \"type\": \"bar\"}], \"barpolar\": [{\"marker\": {\"line\": {\"color\": \"#E5ECF6\", \"width\": 0.5}}, \"type\": \"barpolar\"}], \"carpet\": [{\"aaxis\": {\"endlinecolor\": \"#2a3f5f\", \"gridcolor\": \"white\", \"linecolor\": \"white\", \"minorgridcolor\": \"white\", \"startlinecolor\": \"#2a3f5f\"}, \"baxis\": {\"endlinecolor\": \"#2a3f5f\", \"gridcolor\": \"white\", \"linecolor\": \"white\", \"minorgridcolor\": \"white\", \"startlinecolor\": \"#2a3f5f\"}, \"type\": \"carpet\"}], \"choropleth\": [{\"colorbar\": {\"outlinewidth\": 0, \"ticks\": \"\"}, \"type\": \"choropleth\"}], \"contour\": [{\"colorbar\": {\"outlinewidth\": 0, \"ticks\": \"\"}, \"colorscale\": [[0.0, \"#0d0887\"], [0.1111111111111111, \"#46039f\"], [0.2222222222222222, \"#7201a8\"], [0.3333333333333333, \"#9c179e\"], [0.4444444444444444, \"#bd3786\"], [0.5555555555555556, \"#d8576b\"], [0.6666666666666666, \"#ed7953\"], [0.7777777777777778, \"#fb9f3a\"], [0.8888888888888888, \"#fdca26\"], [1.0, \"#f0f921\"]], \"type\": \"contour\"}], \"contourcarpet\": [{\"colorbar\": {\"outlinewidth\": 0, \"ticks\": \"\"}, \"type\": \"contourcarpet\"}], \"heatmap\": [{\"colorbar\": {\"outlinewidth\": 0, \"ticks\": \"\"}, \"colorscale\": [[0.0, \"#0d0887\"], [0.1111111111111111, \"#46039f\"], [0.2222222222222222, \"#7201a8\"], [0.3333333333333333, \"#9c179e\"], [0.4444444444444444, \"#bd3786\"], [0.5555555555555556, \"#d8576b\"], [0.6666666666666666, \"#ed7953\"], [0.7777777777777778, \"#fb9f3a\"], [0.8888888888888888, \"#fdca26\"], [1.0, \"#f0f921\"]], \"type\": \"heatmap\"}], \"heatmapgl\": [{\"colorbar\": {\"outlinewidth\": 0, \"ticks\": \"\"}, \"colorscale\": [[0.0, \"#0d0887\"], [0.1111111111111111, \"#46039f\"], [0.2222222222222222, \"#7201a8\"], [0.3333333333333333, \"#9c179e\"], [0.4444444444444444, \"#bd3786\"], [0.5555555555555556, \"#d8576b\"], [0.6666666666666666, \"#ed7953\"], [0.7777777777777778, \"#fb9f3a\"], [0.8888888888888888, \"#fdca26\"], [1.0, \"#f0f921\"]], \"type\": \"heatmapgl\"}], \"histogram\": [{\"marker\": {\"colorbar\": {\"outlinewidth\": 0, \"ticks\": \"\"}}, \"type\": \"histogram\"}], \"histogram2d\": [{\"colorbar\": {\"outlinewidth\": 0, \"ticks\": \"\"}, \"colorscale\": [[0.0, \"#0d0887\"], [0.1111111111111111, \"#46039f\"], [0.2222222222222222, \"#7201a8\"], [0.3333333333333333, \"#9c179e\"], [0.4444444444444444, \"#bd3786\"], [0.5555555555555556, \"#d8576b\"], [0.6666666666666666, \"#ed7953\"], [0.7777777777777778, \"#fb9f3a\"], [0.8888888888888888, \"#fdca26\"], [1.0, \"#f0f921\"]], \"type\": \"histogram2d\"}], \"histogram2dcontour\": [{\"colorbar\": {\"outlinewidth\": 0, \"ticks\": \"\"}, \"colorscale\": [[0.0, \"#0d0887\"], [0.1111111111111111, \"#46039f\"], [0.2222222222222222, \"#7201a8\"], [0.3333333333333333, \"#9c179e\"], [0.4444444444444444, \"#bd3786\"], [0.5555555555555556, \"#d8576b\"], [0.6666666666666666, \"#ed7953\"], [0.7777777777777778, \"#fb9f3a\"], [0.8888888888888888, \"#fdca26\"], [1.0, \"#f0f921\"]], \"type\": \"histogram2dcontour\"}], \"mesh3d\": [{\"colorbar\": {\"outlinewidth\": 0, \"ticks\": \"\"}, \"type\": \"mesh3d\"}], \"parcoords\": [{\"line\": {\"colorbar\": {\"outlinewidth\": 0, \"ticks\": \"\"}}, \"type\": \"parcoords\"}], \"pie\": [{\"automargin\": true, \"type\": \"pie\"}], \"scatter\": [{\"marker\": {\"colorbar\": {\"outlinewidth\": 0, \"ticks\": \"\"}}, \"type\": \"scatter\"}], \"scatter3d\": [{\"line\": {\"colorbar\": {\"outlinewidth\": 0, \"ticks\": \"\"}}, \"marker\": {\"colorbar\": {\"outlinewidth\": 0, \"ticks\": \"\"}}, \"type\": \"scatter3d\"}], \"scattercarpet\": [{\"marker\": {\"colorbar\": {\"outlinewidth\": 0, \"ticks\": \"\"}}, \"type\": \"scattercarpet\"}], \"scattergeo\": [{\"marker\": {\"colorbar\": {\"outlinewidth\": 0, \"ticks\": \"\"}}, \"type\": \"scattergeo\"}], \"scattergl\": [{\"marker\": {\"colorbar\": {\"outlinewidth\": 0, \"ticks\": \"\"}}, \"type\": \"scattergl\"}], \"scattermapbox\": [{\"marker\": {\"colorbar\": {\"outlinewidth\": 0, \"ticks\": \"\"}}, \"type\": \"scattermapbox\"}], \"scatterpolar\": [{\"marker\": {\"colorbar\": {\"outlinewidth\": 0, \"ticks\": \"\"}}, \"type\": \"scatterpolar\"}], \"scatterpolargl\": [{\"marker\": {\"colorbar\": {\"outlinewidth\": 0, \"ticks\": \"\"}}, \"type\": \"scatterpolargl\"}], \"scatterternary\": [{\"marker\": {\"colorbar\": {\"outlinewidth\": 0, \"ticks\": \"\"}}, \"type\": \"scatterternary\"}], \"surface\": [{\"colorbar\": {\"outlinewidth\": 0, \"ticks\": \"\"}, \"colorscale\": [[0.0, \"#0d0887\"], [0.1111111111111111, \"#46039f\"], [0.2222222222222222, \"#7201a8\"], [0.3333333333333333, \"#9c179e\"], [0.4444444444444444, \"#bd3786\"], [0.5555555555555556, \"#d8576b\"], [0.6666666666666666, \"#ed7953\"], [0.7777777777777778, \"#fb9f3a\"], [0.8888888888888888, \"#fdca26\"], [1.0, \"#f0f921\"]], \"type\": \"surface\"}], \"table\": [{\"cells\": {\"fill\": {\"color\": \"#EBF0F8\"}, \"line\": {\"color\": \"white\"}}, \"header\": {\"fill\": {\"color\": \"#C8D4E3\"}, \"line\": {\"color\": \"white\"}}, \"type\": \"table\"}]}, \"layout\": {\"annotationdefaults\": {\"arrowcolor\": \"#2a3f5f\", \"arrowhead\": 0, \"arrowwidth\": 1}, \"autotypenumbers\": \"strict\", \"coloraxis\": {\"colorbar\": {\"outlinewidth\": 0, \"ticks\": \"\"}}, \"colorscale\": {\"diverging\": [[0, \"#8e0152\"], [0.1, \"#c51b7d\"], [0.2, \"#de77ae\"], [0.3, \"#f1b6da\"], [0.4, \"#fde0ef\"], [0.5, \"#f7f7f7\"], [0.6, \"#e6f5d0\"], [0.7, \"#b8e186\"], [0.8, \"#7fbc41\"], [0.9, \"#4d9221\"], [1, \"#276419\"]], \"sequential\": [[0.0, \"#0d0887\"], [0.1111111111111111, \"#46039f\"], [0.2222222222222222, \"#7201a8\"], [0.3333333333333333, \"#9c179e\"], [0.4444444444444444, \"#bd3786\"], [0.5555555555555556, \"#d8576b\"], [0.6666666666666666, \"#ed7953\"], [0.7777777777777778, \"#fb9f3a\"], [0.8888888888888888, \"#fdca26\"], [1.0, \"#f0f921\"]], \"sequentialminus\": [[0.0, \"#0d0887\"], [0.1111111111111111, \"#46039f\"], [0.2222222222222222, \"#7201a8\"], [0.3333333333333333, \"#9c179e\"], [0.4444444444444444, \"#bd3786\"], [0.5555555555555556, \"#d8576b\"], [0.6666666666666666, \"#ed7953\"], [0.7777777777777778, \"#fb9f3a\"], [0.8888888888888888, \"#fdca26\"], [1.0, \"#f0f921\"]]}, \"colorway\": [\"#636efa\", \"#EF553B\", \"#00cc96\", \"#ab63fa\", \"#FFA15A\", \"#19d3f3\", \"#FF6692\", \"#B6E880\", \"#FF97FF\", \"#FECB52\"], \"font\": {\"color\": \"#2a3f5f\"}, \"geo\": {\"bgcolor\": \"white\", \"lakecolor\": \"white\", \"landcolor\": \"#E5ECF6\", \"showlakes\": true, \"showland\": true, \"subunitcolor\": \"white\"}, \"hoverlabel\": {\"align\": \"left\"}, \"hovermode\": \"closest\", \"mapbox\": {\"style\": \"light\"}, \"paper_bgcolor\": \"white\", \"plot_bgcolor\": \"#E5ECF6\", \"polar\": {\"angularaxis\": {\"gridcolor\": \"white\", \"linecolor\": \"white\", \"ticks\": \"\"}, \"bgcolor\": \"#E5ECF6\", \"radialaxis\": {\"gridcolor\": \"white\", \"linecolor\": \"white\", \"ticks\": \"\"}}, \"scene\": {\"xaxis\": {\"backgroundcolor\": \"#E5ECF6\", \"gridcolor\": \"white\", \"gridwidth\": 2, \"linecolor\": \"white\", \"showbackground\": true, \"ticks\": \"\", \"zerolinecolor\": \"white\"}, \"yaxis\": {\"backgroundcolor\": \"#E5ECF6\", \"gridcolor\": \"white\", \"gridwidth\": 2, \"linecolor\": \"white\", \"showbackground\": true, \"ticks\": \"\", \"zerolinecolor\": \"white\"}, \"zaxis\": {\"backgroundcolor\": \"#E5ECF6\", \"gridcolor\": \"white\", \"gridwidth\": 2, \"linecolor\": \"white\", \"showbackground\": true, \"ticks\": \"\", \"zerolinecolor\": \"white\"}}, \"shapedefaults\": {\"line\": {\"color\": \"#2a3f5f\"}}, \"ternary\": {\"aaxis\": {\"gridcolor\": \"white\", \"linecolor\": \"white\", \"ticks\": \"\"}, \"baxis\": {\"gridcolor\": \"white\", \"linecolor\": \"white\", \"ticks\": \"\"}, \"bgcolor\": \"#E5ECF6\", \"caxis\": {\"gridcolor\": \"white\", \"linecolor\": \"white\", \"ticks\": \"\"}}, \"title\": {\"x\": 0.05}, \"xaxis\": {\"automargin\": true, \"gridcolor\": \"white\", \"linecolor\": \"white\", \"ticks\": \"\", \"title\": {\"standoff\": 15}, \"zerolinecolor\": \"white\", \"zerolinewidth\": 2}, \"yaxis\": {\"automargin\": true, \"gridcolor\": \"white\", \"linecolor\": \"white\", \"ticks\": \"\", \"title\": {\"standoff\": 15}, \"zerolinecolor\": \"white\", \"zerolinewidth\": 2}}}, \"title\": {\"font\": {\"color\": \"#4D5663\"}}, \"xaxis\": {\"gridcolor\": \"#E1E5ED\", \"showgrid\": true, \"tickfont\": {\"color\": \"#4D5663\"}, \"title\": {\"font\": {\"color\": \"#4D5663\"}, \"text\": \"\"}, \"zerolinecolor\": \"#E1E5ED\"}, \"yaxis\": {\"gridcolor\": \"#E1E5ED\", \"showgrid\": true, \"tickfont\": {\"color\": \"#4D5663\"}, \"title\": {\"font\": {\"color\": \"#4D5663\"}, \"text\": \"\"}, \"zerolinecolor\": \"#E1E5ED\"}},                        {\"showLink\": true, \"linkText\": \"Export to plot.ly\", \"plotlyServerURL\": \"https://plot.ly\", \"responsive\": true}                    ).then(function(){\n",
       "                            \n",
       "var gd = document.getElementById('109da1d9-5aa1-4206-a210-7fa9c6bdd108');\n",
       "var x = new MutationObserver(function (mutations, observer) {{\n",
       "        var display = window.getComputedStyle(gd).display;\n",
       "        if (!display || display === 'none') {{\n",
       "            console.log([gd, 'removed!']);\n",
       "            Plotly.purge(gd);\n",
       "            observer.disconnect();\n",
       "        }}\n",
       "}});\n",
       "\n",
       "// Listen for the removal of the full notebook cells\n",
       "var notebookContainer = gd.closest('#notebook-container');\n",
       "if (notebookContainer) {{\n",
       "    x.observe(notebookContainer, {childList: true});\n",
       "}}\n",
       "\n",
       "// Listen for the clearing of the current output cell\n",
       "var outputEl = gd.closest('.output');\n",
       "if (outputEl) {{\n",
       "    x.observe(outputEl, {childList: true});\n",
       "}}\n",
       "\n",
       "                        })                };                });            </script>        </div>"
      ]
     },
     "metadata": {},
     "output_type": "display_data"
    }
   ],
   "source": [
    "tdf_2012[['Perfil jugador','% de Victorias ']].pivot(columns='Perfil jugador',values='% de Victorias ').iplot(kind='box',boxpoints='outliers')"
   ]
  },
  {
   "cell_type": "markdown",
   "metadata": {},
   "source": [
    "## Correlación entre altura y estilo de juego\n",
    "\n",
    "Queremos conocer si existe relación entre la altura y el estilo de juego para ello hemos representado un gráfico scatter en el que se puede observar que existe una clara correlación entre las dos variables.\n",
    "\n",
    "Para definir cuál es la altura óptima del jugador, hemos calculado los intervalos de confianza correspondientes a la distribución de la altura de los jugadores según su perfil de juego.\n",
    "\n",
    "Intervalos de confianza al 95% (según perfil de jugador):\n",
    "\n",
    "- Restador: 178 y 182 cm\n",
    "- Equilibrado: 184 y 188 cm\n",
    "- Sacador: 188 y 193 cm\n",
    "\n",
    "\n",
    "- Insights:\n",
    "\n",
    "    - El jugador ideal debería medir entre 187 y 193 cm.\n",
    "    - Siendo preferible que este mida 188 cm, valor correspondiente a la moda de las alturas de los jugadores con un % de victorias mayor al 52% (media del circuito)."
   ]
  },
  {
   "cell_type": "markdown",
   "metadata": {},
   "source": [
    "#### Codigo"
   ]
  },
  {
   "cell_type": "code",
   "execution_count": 239,
   "metadata": {},
   "outputs": [
    {
     "data": {
      "text/plain": [
       "(178.00269154622958, 182.3609448174068)"
      ]
     },
     "execution_count": 239,
     "metadata": {},
     "output_type": "execute_result"
    }
   ],
   "source": [
    "# RESTADOR\n",
    "ic_altura = tdf_2012[tdf_2012['Perfil jugador']=='Restador']['Altura cm']\n",
    "\n",
    "alpha = 0.95\n",
    "\n",
    "m= ic_altura.mean()\n",
    "\n",
    "k_1 = len(ic_altura)-1\n",
    "\n",
    "stand_err = stats.sem(ic_altura)\n",
    "\n",
    "stats.t.interval(alpha, k_1, loc = m, scale = stand_err )"
   ]
  },
  {
   "cell_type": "code",
   "execution_count": 238,
   "metadata": {},
   "outputs": [
    {
     "data": {
      "text/plain": [
       "(184.55453811386386, 188.13776957844382)"
      ]
     },
     "execution_count": 238,
     "metadata": {},
     "output_type": "execute_result"
    }
   ],
   "source": [
    "# EQUILIBRADO:\n",
    "ic_altura = tdf_2012[tdf_2012['Perfil jugador']=='Equilibrado']['Altura cm']\n",
    "\n",
    "alpha = 0.95\n",
    "\n",
    "m= ic_altura.mean()\n",
    "\n",
    "k_1 = len(ic_altura)-1\n",
    "\n",
    "stand_err = stats.sem(ic_altura)\n",
    "\n",
    "stats.t.interval(alpha, k_1, loc = m, scale = stand_err )"
   ]
  },
  {
   "cell_type": "code",
   "execution_count": 85,
   "metadata": {},
   "outputs": [
    {
     "data": {
      "text/plain": [
       "(187.56951681239795, 192.59264534976424)"
      ]
     },
     "execution_count": 85,
     "metadata": {},
     "output_type": "execute_result"
    }
   ],
   "source": [
    "# SACADOR:\n",
    "ic_altura = tdf_2012[tdf_2012['Perfil jugador']=='Sacador']['Altura cm']\n",
    "\n",
    "alpha = 0.95\n",
    "\n",
    "m= ic_altura.mean()\n",
    "\n",
    "k_1 = len(ic_altura)-1\n",
    "\n",
    "stand_err = stats.sem(ic_altura)\n",
    "\n",
    "stats.t.interval(alpha, k_1, loc = m, scale = stand_err )"
   ]
  },
  {
   "cell_type": "code",
   "execution_count": 73,
   "metadata": {},
   "outputs": [
    {
     "data": {
      "application/vnd.jupyter.widget-view+json": {
       "model_id": "3af9a8a9fc32412a8e92071fb6731d95",
       "version_major": 2,
       "version_minor": 0
      },
      "text/plain": [
       "interactive(children=(Dropdown(description='x', options=('Jugador', 'Nacionalidad', 'Edad', 'Altura cm', 'Año'…"
      ]
     },
     "metadata": {},
     "output_type": "display_data"
    }
   ],
   "source": [
    "@interact(x=tdf_2012.columns,y=tdf_2012.columns,color=tdf_2012.select_dtypes('object'))\n",
    "def explore(x,y,color):\n",
    "    sns.relplot(data=tdf_2012,x=x,y=y,hue=color, legend=False)\n"
   ]
  },
  {
   "cell_type": "code",
   "execution_count": 82,
   "metadata": {},
   "outputs": [
    {
     "data": {
      "text/plain": [
       "[% de Victorias \n",
       " 53.57    203.0\n",
       " 54.00    185.0\n",
       " 54.55    188.0\n",
       " 54.84    180.0\n",
       " 55.10    188.0\n",
       " 55.26    180.0\n",
       " 55.81    190.0\n",
       " 55.88    190.0\n",
       " 56.41    178.0\n",
       " 57.63    180.0\n",
       " 58.33    178.0\n",
       " 58.46    190.0\n",
       " 58.97    187.0\n",
       " 59.26    187.0\n",
       " 59.68    198.0\n",
       " 61.11    183.0\n",
       " 63.24    180.0\n",
       " 63.64    180.5\n",
       " 65.52    193.0\n",
       " 65.63    185.5\n",
       " 65.96    188.0\n",
       " 66.67    180.0\n",
       " 66.70    183.0\n",
       " 67.24    188.0\n",
       " 67.27    178.0\n",
       " 68.18    208.0\n",
       " 68.80    188.0\n",
       " 69.23    196.0\n",
       " 70.73    183.0\n",
       " 72.62    196.0\n",
       " 77.78    191.0\n",
       " 79.27    198.0\n",
       " 83.52    175.0\n",
       " 85.54    185.0\n",
       " 86.21    188.0\n",
       " 87.50    185.0\n",
       " Name: Altura cm, dtype: float64]"
      ]
     },
     "execution_count": 82,
     "metadata": {},
     "output_type": "execute_result"
    }
   ],
   "source": [
    "altura_optima=[tdf_2012[(tdf_2012['% de Victorias ']>52)].groupby('% de Victorias ')['Altura cm'].mean()]\n",
    "altura_optima"
   ]
  },
  {
   "cell_type": "code",
   "execution_count": 83,
   "metadata": {},
   "outputs": [
    {
     "name": "stdout",
     "output_type": "stream",
     "text": [
      "0    188.0\n",
      "dtype: float64\n"
     ]
    }
   ],
   "source": [
    "for i in altura_optima:\n",
    "    print(i.mode())"
   ]
  },
  {
   "cell_type": "markdown",
   "metadata": {},
   "source": [
    "## A mayor experiencia mayor renidimiento\n",
    "\n",
    "Así como con la altura, hemos querido acotar el intervalo de edades óptimo en el cuál se puede disponer de un mayor rendimiento tenístico.\n",
    "\n",
    "- Insights:\n",
    "\n",
    "  - Podemos observar que la edad en la cuál el rendimiento de un jugador es más alto es durante su madurez tenística,\n",
    "    edad que comprende entre los 25 y 28 años.\n",
    "  - Siendo preferible que la edad de nuestro jugador sea entre los 26 y 27 años, valor correspondiente a la moda de las alturas de los jugadores con un % de victorias mayor al 52% (media del circuito).\n",
    "  - En el gráfico de la distribución de los valores podemos observar que el rendimiento en promedio empieza a disminuir pasada la treintena, por lo que a nuestro jugador todavía le quedarían 3-4 años, tiempo suficiente para posicionar nuestra marca en el mercado."
   ]
  },
  {
   "cell_type": "code",
   "execution_count": 105,
   "metadata": {},
   "outputs": [
    {
     "data": {
      "text/plain": [
       "(25.771904595619603, 27.715274891559886)"
      ]
     },
     "execution_count": 105,
     "metadata": {},
     "output_type": "execute_result"
    }
   ],
   "source": [
    "# Your code here:\n",
    "ic_edad = tdf_2012[tdf_2012['% de Victorias ']>52]['Edad']\n",
    "\n",
    "alpha = 0.95\n",
    "\n",
    "m= ic_edad.mean()\n",
    "\n",
    "k_1 = len(ic_edad)-1\n",
    "\n",
    "stand_err = stats.sem(ic_edad)\n",
    "\n",
    "stats.t.interval(alpha, k_1, loc = m, scale = stand_err )"
   ]
  },
  {
   "cell_type": "code",
   "execution_count": 264,
   "metadata": {
    "scrolled": false
   },
   "outputs": [],
   "source": [
    "edad_optima= tdf_2012[tdf_2012['% de Victorias ']>0]['Edad']"
   ]
  },
  {
   "cell_type": "code",
   "execution_count": 266,
   "metadata": {},
   "outputs": [
    {
     "name": "stderr",
     "output_type": "stream",
     "text": [
      "C:\\Users\\joanu\\anaconda\\lib\\site-packages\\seaborn\\distributions.py:2551: FutureWarning:\n",
      "\n",
      "`distplot` is a deprecated function and will be removed in a future version. Please adapt your code to use either `displot` (a figure-level function with similar flexibility) or `histplot` (an axes-level function for histograms).\n",
      "\n"
     ]
    },
    {
     "data": {
      "text/plain": [
       "<AxesSubplot:xlabel='Edad', ylabel='Density'>"
      ]
     },
     "execution_count": 266,
     "metadata": {},
     "output_type": "execute_result"
    },
    {
     "data": {
      "image/png": "[encoded data removed]",
      "text/plain": [
       "<Figure size 864x576 with 1 Axes>"
      ]
     },
     "metadata": {
      "needs_background": "light"
     },
     "output_type": "display_data"
    }
   ],
   "source": [
    "sns.distplot(edad_optima)"
   ]
  },
  {
   "cell_type": "code",
   "execution_count": 96,
   "metadata": {
    "scrolled": true
   },
   "outputs": [
    {
     "data": {
      "text/plain": [
       "[% de Victorias \n",
       " 53.57    26.0\n",
       " 54.00    31.0\n",
       " 54.55    25.0\n",
       " 54.84    22.0\n",
       " 55.10    25.0\n",
       " 55.26    30.0\n",
       " 55.81    21.0\n",
       " 55.88    23.0\n",
       " 56.41    28.0\n",
       " 57.63    24.0\n",
       " 58.33    27.0\n",
       " 58.46    28.0\n",
       " 58.97    30.0\n",
       " 59.26    29.0\n",
       " 59.68    25.0\n",
       " 61.11    30.0\n",
       " 63.24    28.0\n",
       " 63.64    28.0\n",
       " 65.52    26.0\n",
       " 65.63    28.5\n",
       " 65.96    34.0\n",
       " 66.67    28.0\n",
       " 66.70    22.0\n",
       " 67.24    26.5\n",
       " 67.27    23.0\n",
       " 68.18    27.0\n",
       " 68.80    27.0\n",
       " 69.23    22.0\n",
       " 70.73    28.0\n",
       " 72.62    27.0\n",
       " 77.78    25.0\n",
       " 79.27    24.0\n",
       " 83.52    30.0\n",
       " 85.54    31.0\n",
       " 86.21    25.0\n",
       " 87.50    26.0\n",
       " Name: Edad, dtype: float64]"
      ]
     },
     "execution_count": 96,
     "metadata": {},
     "output_type": "execute_result"
    }
   ],
   "source": [
    "int_edad_optima= [tdf_2012[(tdf_2012['% de Victorias '] >52)].groupby('% de Victorias ')['Edad'].mean()]\n",
    "int_edad_optima"
   ]
  },
  {
   "cell_type": "code",
   "execution_count": 110,
   "metadata": {},
   "outputs": [
    {
     "name": "stdout",
     "output_type": "stream",
     "text": [
      "26.7\n"
     ]
    }
   ],
   "source": [
    "for i in int_edad_optima:\n",
    "    print(round(i.mean(),1))"
   ]
  },
  {
   "cell_type": "markdown",
   "metadata": {},
   "source": [
    "##  No influye el hecho de padecer lesiones sobre el % de victorias\n",
    "\n",
    "Para ello hemos realizado un test estadístico sobre valores de una misma muestra en los que hemos comparado el% medio de % de Victorias entre aquellos jugadores que han sufrido lesiones y los que no.\n",
    "   \n",
    "- Insights:\n",
    "\n",
    "  - La media de % de Victorias entre jugadores que han sufrido una lesion y los que no, no existe una diferencia significativa entre las dos variables.\n",
    "\n",
    "  - Por lo que esta estadística no será crucial en nuestro análisis, pero evidentemente si el jugador esta sano, mejor.\n",
    "    - pvalue(0.23)>alfa(0.05) -->No se rechaza la HO"
   ]
  },
  {
   "cell_type": "code",
   "execution_count": 108,
   "metadata": {},
   "outputs": [
    {
     "data": {
      "text/plain": [
       "Ttest_indResult(statistic=-1.2059411938007638, pvalue=0.2314998221559872)"
      ]
     },
     "execution_count": 108,
     "metadata": {},
     "output_type": "execute_result"
    }
   ],
   "source": [
    "Lesionado=tdf_2012[tdf_2012['Lesiones']==1]\n",
    "No_Lesionado=tdf_2012[tdf_2012['Lesiones']==0]\n",
    "\n",
    "stats.ttest_ind(Lesionado['% de Victorias '],No_Lesionado['% de Victorias '],equal_var=False)"
   ]
  },
  {
   "cell_type": "markdown",
   "metadata": {},
   "source": [
    "## Identificación del candidato óptimo"
   ]
  },
  {
   "cell_type": "raw",
   "metadata": {},
   "source": [
    "Características generales a tener en conisderación:\n",
    "    - Nacionalidad: Francesa o Española\n",
    "    - Perfil de juego: Sacador\n",
    "    - Altura: Entre 188 y 193 cm\n",
    "    - Edad: Entre 25 y 28 años\n",
    "    - Tarifa del jugador= Igual o menor a 100.000 €\n",
    "    - A poder ser que no haya sufrido lesiones periódicas a lo largo de la temporada"
   ]
  },
  {
   "cell_type": "code",
   "execution_count": 113,
   "metadata": {},
   "outputs": [
    {
     "data": {
      "text/html": [
       "<div>\n",
       "<style scoped>\n",
       "    .dataframe tbody tr th:only-of-type {\n",
       "        vertical-align: middle;\n",
       "    }\n",
       "\n",
       "    .dataframe tbody tr th {\n",
       "        vertical-align: top;\n",
       "    }\n",
       "\n",
       "    .dataframe thead th {\n",
       "        text-align: right;\n",
       "    }\n",
       "</style>\n",
       "<table border=\"1\" class=\"dataframe\">\n",
       "  <thead>\n",
       "    <tr style=\"text-align: right;\">\n",
       "      <th></th>\n",
       "      <th>Jugador</th>\n",
       "      <th>Nacionalidad</th>\n",
       "      <th>Edad</th>\n",
       "      <th>Altura cm</th>\n",
       "      <th>Año</th>\n",
       "      <th>Efectividad Al Saque ©</th>\n",
       "      <th>% 1er Servicio</th>\n",
       "      <th>% Puntos Ganados 1er Saque</th>\n",
       "      <th>% Puntos Ganados 2do Saque</th>\n",
       "      <th>% Games Ganados Saque</th>\n",
       "      <th>...</th>\n",
       "      <th>Efectividad Bajo Presión</th>\n",
       "      <th>% Break Points Convertidos.1</th>\n",
       "      <th>% Break Points Salvados</th>\n",
       "      <th>% Tie Breaks Ganados</th>\n",
       "      <th>% Victorias Sets Definitivos</th>\n",
       "      <th>Tiempo de partido (min)</th>\n",
       "      <th>% de Victorias</th>\n",
       "      <th>Lesiones</th>\n",
       "      <th>Tarifa Jugador</th>\n",
       "      <th>Perfil jugador</th>\n",
       "    </tr>\n",
       "    <tr>\n",
       "      <th>Ranking</th>\n",
       "      <th></th>\n",
       "      <th></th>\n",
       "      <th></th>\n",
       "      <th></th>\n",
       "      <th></th>\n",
       "      <th></th>\n",
       "      <th></th>\n",
       "      <th></th>\n",
       "      <th></th>\n",
       "      <th></th>\n",
       "      <th></th>\n",
       "      <th></th>\n",
       "      <th></th>\n",
       "      <th></th>\n",
       "      <th></th>\n",
       "      <th></th>\n",
       "      <th></th>\n",
       "      <th></th>\n",
       "      <th></th>\n",
       "      <th></th>\n",
       "      <th></th>\n",
       "    </tr>\n",
       "  </thead>\n",
       "  <tbody>\n",
       "    <tr>\n",
       "      <th>9</th>\n",
       "      <td>Jo-Wilfried Tsonga</td>\n",
       "      <td>France</td>\n",
       "      <td>27</td>\n",
       "      <td>188</td>\n",
       "      <td>2012</td>\n",
       "      <td>283.6</td>\n",
       "      <td>61.9</td>\n",
       "      <td>75.8</td>\n",
       "      <td>53.1</td>\n",
       "      <td>86.1</td>\n",
       "      <td>...</td>\n",
       "      <td>217.8</td>\n",
       "      <td>41.7</td>\n",
       "      <td>69.2</td>\n",
       "      <td>59.5</td>\n",
       "      <td>47.4</td>\n",
       "      <td>111</td>\n",
       "      <td>68.80</td>\n",
       "      <td>0</td>\n",
       "      <td>100000</td>\n",
       "      <td>Sacador</td>\n",
       "    </tr>\n",
       "    <tr>\n",
       "      <th>32</th>\n",
       "      <td>Jeremy Chardy</td>\n",
       "      <td>France</td>\n",
       "      <td>25</td>\n",
       "      <td>188</td>\n",
       "      <td>2012</td>\n",
       "      <td>265.8</td>\n",
       "      <td>56.3</td>\n",
       "      <td>74.4</td>\n",
       "      <td>50.2</td>\n",
       "      <td>81.6</td>\n",
       "      <td>...</td>\n",
       "      <td>208.7</td>\n",
       "      <td>37.5</td>\n",
       "      <td>68.6</td>\n",
       "      <td>52.6</td>\n",
       "      <td>50.0</td>\n",
       "      <td>107</td>\n",
       "      <td>54.55</td>\n",
       "      <td>0</td>\n",
       "      <td>50000</td>\n",
       "      <td>Sacador</td>\n",
       "    </tr>\n",
       "    <tr>\n",
       "      <th>38</th>\n",
       "      <td>Viktor Troicki</td>\n",
       "      <td>Serbia</td>\n",
       "      <td>26</td>\n",
       "      <td>190</td>\n",
       "      <td>2012</td>\n",
       "      <td>256.7</td>\n",
       "      <td>60.9</td>\n",
       "      <td>71.0</td>\n",
       "      <td>45.0</td>\n",
       "      <td>73.8</td>\n",
       "      <td>...</td>\n",
       "      <td>210.6</td>\n",
       "      <td>41.4</td>\n",
       "      <td>56.3</td>\n",
       "      <td>55.0</td>\n",
       "      <td>57.9</td>\n",
       "      <td>112</td>\n",
       "      <td>48.21</td>\n",
       "      <td>1</td>\n",
       "      <td>50000</td>\n",
       "      <td>Sacador</td>\n",
       "    </tr>\n",
       "    <tr>\n",
       "      <th>43</th>\n",
       "      <td>Denis Istomin</td>\n",
       "      <td>Uzbekistan</td>\n",
       "      <td>26</td>\n",
       "      <td>188</td>\n",
       "      <td>2012</td>\n",
       "      <td>274.9</td>\n",
       "      <td>64.5</td>\n",
       "      <td>71.4</td>\n",
       "      <td>52.8</td>\n",
       "      <td>80.7</td>\n",
       "      <td>...</td>\n",
       "      <td>200.1</td>\n",
       "      <td>38.6</td>\n",
       "      <td>62.2</td>\n",
       "      <td>51.7</td>\n",
       "      <td>47.6</td>\n",
       "      <td>109</td>\n",
       "      <td>48.39</td>\n",
       "      <td>0</td>\n",
       "      <td>50000</td>\n",
       "      <td>Sacador</td>\n",
       "    </tr>\n",
       "  </tbody>\n",
       "</table>\n",
       "<p>4 rows × 27 columns</p>\n",
       "</div>"
      ],
      "text/plain": [
       "                    Jugador Nacionalidad  Edad  Altura cm   Año  \\\n",
       "Ranking                                                           \n",
       "9        Jo-Wilfried Tsonga       France    27        188  2012   \n",
       "32            Jeremy Chardy       France    25        188  2012   \n",
       "38           Viktor Troicki       Serbia    26        190  2012   \n",
       "43            Denis Istomin   Uzbekistan    26        188  2012   \n",
       "\n",
       "         Efectividad Al Saque ©  % 1er Servicio  % Puntos Ganados 1er Saque  \\\n",
       "Ranking                                                                       \n",
       "9                         283.6            61.9                        75.8   \n",
       "32                        265.8            56.3                        74.4   \n",
       "38                        256.7            60.9                        71.0   \n",
       "43                        274.9            64.5                        71.4   \n",
       "\n",
       "         % Puntos Ganados 2do Saque  % Games Ganados Saque  ...  \\\n",
       "Ranking                                                     ...   \n",
       "9                              53.1                   86.1  ...   \n",
       "32                             50.2                   81.6  ...   \n",
       "38                             45.0                   73.8  ...   \n",
       "43                             52.8                   80.7  ...   \n",
       "\n",
       "         Efectividad Bajo Presión  % Break Points Convertidos.1  \\\n",
       "Ranking                                                           \n",
       "9                           217.8                          41.7   \n",
       "32                          208.7                          37.5   \n",
       "38                          210.6                          41.4   \n",
       "43                          200.1                          38.6   \n",
       "\n",
       "         % Break Points Salvados  % Tie Breaks Ganados  \\\n",
       "Ranking                                                  \n",
       "9                           69.2                  59.5   \n",
       "32                          68.6                  52.6   \n",
       "38                          56.3                  55.0   \n",
       "43                          62.2                  51.7   \n",
       "\n",
       "         % Victorias Sets Definitivos  Tiempo de partido (min)  \\\n",
       "Ranking                                                          \n",
       "9                                47.4                      111   \n",
       "32                               50.0                      107   \n",
       "38                               57.9                      112   \n",
       "43                               47.6                      109   \n",
       "\n",
       "         % de Victorias   Lesiones  Tarifa Jugador  Perfil jugador  \n",
       "Ranking                                                             \n",
       "9                  68.80         0          100000         Sacador  \n",
       "32                 54.55         0           50000         Sacador  \n",
       "38                 48.21         1           50000         Sacador  \n",
       "43                 48.39         0           50000         Sacador  \n",
       "\n",
       "[4 rows x 27 columns]"
      ]
     },
     "execution_count": 113,
     "metadata": {},
     "output_type": "execute_result"
    }
   ],
   "source": [
    "tdf_2012[(tdf_2012['Perfil jugador']=='Sacador')&(tdf_2012['Altura cm']>187)&(tdf_2012['Altura cm']<192)&(tdf_2012['Tarifa Jugador']<200000)&(tdf_2012['Edad']>=25)&(tdf_2012['Edad']<28)]"
   ]
  },
  {
   "cell_type": "code",
   "execution_count": 115,
   "metadata": {},
   "outputs": [
    {
     "data": {
      "text/html": [
       "<div>\n",
       "<style scoped>\n",
       "    .dataframe tbody tr th:only-of-type {\n",
       "        vertical-align: middle;\n",
       "    }\n",
       "\n",
       "    .dataframe tbody tr th {\n",
       "        vertical-align: top;\n",
       "    }\n",
       "\n",
       "    .dataframe thead th {\n",
       "        text-align: right;\n",
       "    }\n",
       "</style>\n",
       "<table border=\"1\" class=\"dataframe\">\n",
       "  <thead>\n",
       "    <tr style=\"text-align: right;\">\n",
       "      <th></th>\n",
       "      <th>Jugador</th>\n",
       "      <th>Nacionalidad</th>\n",
       "      <th>Edad</th>\n",
       "      <th>Altura cm</th>\n",
       "      <th>Año</th>\n",
       "      <th>Efectividad Al Saque ©</th>\n",
       "      <th>% 1er Servicio</th>\n",
       "      <th>% Puntos Ganados 1er Saque</th>\n",
       "      <th>% Puntos Ganados 2do Saque</th>\n",
       "      <th>% Games Ganados Saque</th>\n",
       "      <th>...</th>\n",
       "      <th>Efectividad Bajo Presión</th>\n",
       "      <th>% Break Points Convertidos.1</th>\n",
       "      <th>% Break Points Salvados</th>\n",
       "      <th>% Tie Breaks Ganados</th>\n",
       "      <th>% Victorias Sets Definitivos</th>\n",
       "      <th>Tiempo de partido (min)</th>\n",
       "      <th>% de Victorias</th>\n",
       "      <th>Lesiones</th>\n",
       "      <th>Tarifa Jugador</th>\n",
       "      <th>Perfil jugador</th>\n",
       "    </tr>\n",
       "    <tr>\n",
       "      <th>Ranking</th>\n",
       "      <th></th>\n",
       "      <th></th>\n",
       "      <th></th>\n",
       "      <th></th>\n",
       "      <th></th>\n",
       "      <th></th>\n",
       "      <th></th>\n",
       "      <th></th>\n",
       "      <th></th>\n",
       "      <th></th>\n",
       "      <th></th>\n",
       "      <th></th>\n",
       "      <th></th>\n",
       "      <th></th>\n",
       "      <th></th>\n",
       "      <th></th>\n",
       "      <th></th>\n",
       "      <th></th>\n",
       "      <th></th>\n",
       "      <th></th>\n",
       "      <th></th>\n",
       "    </tr>\n",
       "  </thead>\n",
       "  <tbody>\n",
       "    <tr>\n",
       "      <th>9</th>\n",
       "      <td>Jo-Wilfried Tsonga</td>\n",
       "      <td>France</td>\n",
       "      <td>27</td>\n",
       "      <td>188</td>\n",
       "      <td>2012</td>\n",
       "      <td>283.6</td>\n",
       "      <td>61.9</td>\n",
       "      <td>75.8</td>\n",
       "      <td>53.1</td>\n",
       "      <td>86.1</td>\n",
       "      <td>...</td>\n",
       "      <td>217.8</td>\n",
       "      <td>41.7</td>\n",
       "      <td>69.2</td>\n",
       "      <td>59.5</td>\n",
       "      <td>47.4</td>\n",
       "      <td>111</td>\n",
       "      <td>68.80</td>\n",
       "      <td>0</td>\n",
       "      <td>100000</td>\n",
       "      <td>Sacador</td>\n",
       "    </tr>\n",
       "    <tr>\n",
       "      <th>32</th>\n",
       "      <td>Jeremy Chardy</td>\n",
       "      <td>France</td>\n",
       "      <td>25</td>\n",
       "      <td>188</td>\n",
       "      <td>2012</td>\n",
       "      <td>265.8</td>\n",
       "      <td>56.3</td>\n",
       "      <td>74.4</td>\n",
       "      <td>50.2</td>\n",
       "      <td>81.6</td>\n",
       "      <td>...</td>\n",
       "      <td>208.7</td>\n",
       "      <td>37.5</td>\n",
       "      <td>68.6</td>\n",
       "      <td>52.6</td>\n",
       "      <td>50.0</td>\n",
       "      <td>107</td>\n",
       "      <td>54.55</td>\n",
       "      <td>0</td>\n",
       "      <td>50000</td>\n",
       "      <td>Sacador</td>\n",
       "    </tr>\n",
       "  </tbody>\n",
       "</table>\n",
       "<p>2 rows × 27 columns</p>\n",
       "</div>"
      ],
      "text/plain": [
       "                    Jugador Nacionalidad  Edad  Altura cm   Año  \\\n",
       "Ranking                                                           \n",
       "9        Jo-Wilfried Tsonga       France    27        188  2012   \n",
       "32            Jeremy Chardy       France    25        188  2012   \n",
       "\n",
       "         Efectividad Al Saque ©  % 1er Servicio  % Puntos Ganados 1er Saque  \\\n",
       "Ranking                                                                       \n",
       "9                         283.6            61.9                        75.8   \n",
       "32                        265.8            56.3                        74.4   \n",
       "\n",
       "         % Puntos Ganados 2do Saque  % Games Ganados Saque  ...  \\\n",
       "Ranking                                                     ...   \n",
       "9                              53.1                   86.1  ...   \n",
       "32                             50.2                   81.6  ...   \n",
       "\n",
       "         Efectividad Bajo Presión  % Break Points Convertidos.1  \\\n",
       "Ranking                                                           \n",
       "9                           217.8                          41.7   \n",
       "32                          208.7                          37.5   \n",
       "\n",
       "         % Break Points Salvados  % Tie Breaks Ganados  \\\n",
       "Ranking                                                  \n",
       "9                           69.2                  59.5   \n",
       "32                          68.6                  52.6   \n",
       "\n",
       "         % Victorias Sets Definitivos  Tiempo de partido (min)  \\\n",
       "Ranking                                                          \n",
       "9                                47.4                      111   \n",
       "32                               50.0                      107   \n",
       "\n",
       "         % de Victorias   Lesiones  Tarifa Jugador  Perfil jugador  \n",
       "Ranking                                                             \n",
       "9                  68.80         0          100000         Sacador  \n",
       "32                 54.55         0           50000         Sacador  \n",
       "\n",
       "[2 rows x 27 columns]"
      ]
     },
     "execution_count": 115,
     "metadata": {},
     "output_type": "execute_result"
    }
   ],
   "source": [
    "tdf_2012[(tdf_2012['Perfil jugador']=='Sacador')&(tdf_2012['% de Victorias ']>52)&(tdf_2012['Altura cm']>187)&(tdf_2012['Altura cm']<192)&(tdf_2012['Tarifa Jugador']<200000)&(tdf_2012['Edad']>=25)&(tdf_2012['Edad']<28)]"
   ]
  },
  {
   "cell_type": "markdown",
   "metadata": {},
   "source": [
    "### Análisis de capacidades técnicas\n",
    "\n",
    "Para evaluar cúales son las estadísticas individuales más influyentes hemos medido la correlación entre cada una de estas estadísticas y el % de victorias.\n",
    "Siendo las siguientes las más relevantes:\n",
    "\n",
    " - Efectividad Bajo Presión: 0.7094981797129352\n",
    " - % Games Ganados Saque: 0.6672912810196581\n",
    " - Efectividad Al Saque ©: 0.6669986049751795\n",
    " - % Puntos Ganados 2do Saque: 0.6382952903417061\n",
    " - % Victorias Sets Definitivos: 0.6100999640057122\n",
    " \n",
    " \n",
    " Insights:\n",
    "- El jugador Jo Wilfred Tsonga supera todos los parametros mínimos excepto uno (4/5), el % de victorias en los sets definitivos.\n",
    "- Por lo que podemoos considerar el jugador como apto."
   ]
  },
  {
   "cell_type": "code",
   "execution_count": 116,
   "metadata": {},
   "outputs": [
    {
     "data": {
      "text/plain": [
       "% de Victorias                  1.000000\n",
       "Tarifa Jugador                  0.736054\n",
       "Efectividad Bajo Presión        0.709498\n",
       "% Games Ganados Saque           0.667291\n",
       "Efectividad Al Saque ©          0.666999\n",
       "% Puntos Ganados 2do Saque      0.638295\n",
       "% Victorias Sets Definitivos    0.610100\n",
       "% Puntos Ganados 1er Saque      0.565976\n",
       "% Games Al Resto                0.535884\n",
       "% Restos 1er Saque              0.528571\n",
       "% Tie Breaks Ganados            0.517393\n",
       "% Break Points Salvados         0.496138\n",
       "Efectividad Al Resto            0.475851\n",
       "Tiempo de partido (min)         0.411772\n",
       "Prom. Aces Por Partido          0.320933\n",
       "% Restos 2° Saque               0.317594\n",
       "% Break Points Convertidos      0.273576\n",
       "% Break Points Convertidos.1    0.273576\n",
       "Altura cm                       0.191849\n",
       "Edad                            0.059897\n",
       "% 1er Servicio                  0.044283\n",
       "Lesiones                       -0.131591\n",
       "Prom. Dobles Por Partido       -0.138982\n",
       "Año                                  NaN\n",
       "Name: % de Victorias , dtype: float64"
      ]
     },
     "execution_count": 116,
     "metadata": {},
     "output_type": "execute_result"
    }
   ],
   "source": [
    "corr=tdf_2012.corr()[\"% de Victorias \"].sort_values(ascending=False)\n",
    "corr"
   ]
  },
  {
   "cell_type": "code",
   "execution_count": 117,
   "metadata": {
    "scrolled": true
   },
   "outputs": [
    {
     "data": {
      "text/plain": [
       "{'Tarifa Jugador': 0.7360543998654379,\n",
       " 'Efectividad Bajo Presión': 0.7094981797129352,\n",
       " '% Games Ganados Saque': 0.6672912810196581,\n",
       " 'Efectividad Al Saque ©': 0.6669986049751795,\n",
       " '% Puntos Ganados 2do Saque': 0.6382952903417061,\n",
       " '% Victorias Sets Definitivos': 0.6100999640057122}"
      ]
     },
     "execution_count": 117,
     "metadata": {},
     "output_type": "execute_result"
    }
   ],
   "source": [
    "important_corrs = (corr[abs(corr) > 0.6][corr != 1.0]).to_dict()\n",
    "\n",
    "important_corrs"
   ]
  },
  {
   "cell_type": "markdown",
   "metadata": {
    "heading_collapsed": true
   },
   "source": [
    "#### Código"
   ]
  },
  {
   "cell_type": "code",
   "execution_count": 144,
   "metadata": {
    "hidden": true
   },
   "outputs": [],
   "source": [
    "min_Efectividad_BP=[tdf_2012['Efectividad Bajo Presión'].mean()]\n",
    "min_por_juegos_ganados_saque=tdf_2012['% Games Ganados Saque'].mean()\n",
    "min_efectividad_saque=tdf_2012['Efectividad Al Saque ©'].mean()\n",
    "min_pts_ganados_2ndosaque=tdf_2012['% Puntos Ganados 2do Saque'].mean()\n",
    "min_vic_sets_def=tdf_2012['% Victorias Sets Definitivos'].mean()"
   ]
  },
  {
   "cell_type": "code",
   "execution_count": 150,
   "metadata": {
    "hidden": true
   },
   "outputs": [],
   "source": [
    "# JO WILFRED TSONGA\n",
    "\n",
    "Efectividad_BP_JWT=tdf_2012[tdf_2012['Jugador']=='Jo-Wilfried Tsonga'].groupby('Jugador')['Efectividad Bajo Presión'].mean()\n",
    "Juegos_ganados_saque_JWT=tdf_2012[tdf_2012['Jugador']=='Jo-Wilfried Tsonga'].groupby('Jugador')['% Games Ganados Saque'].mean()\n",
    "Efectividad_saque_JWT=tdf_2012[tdf_2012['Jugador']=='Jo-Wilfried Tsonga'].groupby('Jugador')['Efectividad Al Saque ©'].mean()\n",
    "Pts_ganados_2ndosaque_JWT=tdf_2012[tdf_2012['Jugador']=='Jo-Wilfried Tsonga'].groupby('Jugador')['% Puntos Ganados 2do Saque'].mean()\n",
    "vic_set_def_JWT=tdf_2012[tdf_2012['Jugador']=='Jo-Wilfried Tsonga'].groupby('Jugador')['% Victorias Sets Definitivos'].mean()"
   ]
  },
  {
   "cell_type": "raw",
   "metadata": {
    "hidden": true
   },
   "source": []
  },
  {
   "cell_type": "code",
   "execution_count": 242,
   "metadata": {
    "hidden": true,
    "scrolled": true
   },
   "outputs": [
    {
     "name": "stdout",
     "output_type": "stream",
     "text": [
      "Jugador\n",
      "Jo-Wilfried Tsonga    True\n",
      "Name: Efectividad Bajo Presión, dtype: bool\n",
      "Jugador\n",
      "Jo-Wilfried Tsonga    True\n",
      "Name: % Games Ganados Saque, dtype: bool\n",
      "Jugador\n",
      "Jo-Wilfried Tsonga    True\n",
      "Name: Efectividad Al Saque ©, dtype: bool\n",
      "Jugador\n",
      "Jo-Wilfried Tsonga    True\n",
      "Name: % Puntos Ganados 2do Saque, dtype: bool\n",
      "Jugador\n",
      "Jo-Wilfried Tsonga    False\n",
      "Name: % Victorias Sets Definitivos, dtype: bool\n",
      "\n",
      "Jugador\n",
      "Jo-Wilfried Tsonga    2.156471\n",
      "Name: % Victorias Sets Definitivos, dtype: float64\n"
     ]
    }
   ],
   "source": [
    "print(min_Efectividad_BP<Efectividad_BP_JWT)\n",
    "print(min_por_juegos_ganados_saque<Juegos_ganados_saque_JWT)\n",
    "print(min_efectividad_saque<Efectividad_saque_JWT)\n",
    "print(min_pts_ganados_2ndosaque<Pts_ganados_2ndosaque_JWT)\n",
    "print(min_vic_sets_def<vic_set_def_JWT)\n",
    "print()\n",
    "print( min_vic_sets_def-vic_set_def_JWT)"
   ]
  },
  {
   "cell_type": "markdown",
   "metadata": {},
   "source": [
    "## Evaluación del Modelo\n",
    "\n",
    "- Insights:\n",
    "\n",
    "  - El modelo creado dispone de un R2 de 0.84 por lo que podemos definir que gran parte de la variabilidad es explicada con las variables del modelo"
   ]
  },
  {
   "cell_type": "markdown",
   "metadata": {
    "heading_collapsed": true
   },
   "source": [
    "#### Codigo"
   ]
  },
  {
   "cell_type": "code",
   "execution_count": 163,
   "metadata": {
    "hidden": true
   },
   "outputs": [],
   "source": [
    "lr=LinearRegression()"
   ]
  },
  {
   "cell_type": "code",
   "execution_count": 165,
   "metadata": {
    "hidden": true
   },
   "outputs": [],
   "source": [
    "# Eliminamos aquellas variables categoricas\n",
    "X=tdf_2012[['Edad', 'Altura cm',\n",
    "       'Efectividad Al Saque ©', '% 1er Servicio',\n",
    "       '% Puntos Ganados 1er Saque', '% Puntos Ganados 2do Saque',\n",
    "       '% Games Ganados Saque', 'Prom. Aces Por Partido',\n",
    "       'Prom. Dobles Por Partido', 'Efectividad Al Resto ',\n",
    "       '% Restos 1er Saque', '% Restos 2° Saque', '% Games Al Resto',\n",
    "       '% Break Points Convertidos', 'Efectividad Bajo Presión',\n",
    "       '% Break Points Convertidos.1', '% Break Points Salvados',\n",
    "       '% Tie Breaks Ganados', '% Victorias Sets Definitivos',\n",
    "       'Tiempo de partido (min)']]\n",
    "y=tdf_2012['% de Victorias ']"
   ]
  },
  {
   "cell_type": "code",
   "execution_count": 166,
   "metadata": {
    "hidden": true
   },
   "outputs": [],
   "source": [
    "X_train, X_test, y_train, y_test = train_test_split(X, y, test_size=0.4, random_state=42)"
   ]
  },
  {
   "cell_type": "code",
   "execution_count": 167,
   "metadata": {
    "hidden": true
   },
   "outputs": [
    {
     "data": {
      "text/plain": [
       "LinearRegression()"
      ]
     },
     "execution_count": 167,
     "metadata": {},
     "output_type": "execute_result"
    }
   ],
   "source": [
    "lr.fit(X_train, y_train)"
   ]
  },
  {
   "cell_type": "markdown",
   "metadata": {},
   "source": [
    "### R2 Score"
   ]
  },
  {
   "cell_type": "code",
   "execution_count": 168,
   "metadata": {},
   "outputs": [
    {
     "name": "stdout",
     "output_type": "stream",
     "text": [
      "R2 Score: 0.8407729728855806\n"
     ]
    }
   ],
   "source": [
    "print('R2 Score:',lr.score(X_test,y_test))"
   ]
  },
  {
   "cell_type": "code",
   "execution_count": 172,
   "metadata": {
    "scrolled": true
   },
   "outputs": [
    {
     "data": {
      "text/plain": [
       "array([91.54518797, 83.1578838 , 78.3963034 , 91.14783152, 78.22790002,\n",
       "       71.3789282 , 75.39741398, 63.7917886 , 63.75503695, 72.10257572,\n",
       "       66.52633311, 65.59997996, 72.35204277, 67.18318897, 66.50481152,\n",
       "       57.56469315, 61.23585444, 58.52999132, 71.25196382, 63.7698736 ,\n",
       "       59.66553231, 62.45582287, 59.91630941, 56.69356944, 58.80295752,\n",
       "       67.29312299, 51.62336835, 47.75163932, 57.78979816, 44.81734138,\n",
       "       52.16553231, 53.16442919, 42.2927895 , 53.51011187, 57.62663932,\n",
       "       58.02060429, 53.78867806, 59.11322294, 47.95159622, 47.97821653,\n",
       "       42.24540751, 51.99076494, 49.6191139 , 49.98188826, 52.07757668,\n",
       "       53.27999132, 57.75882572, 45.47795215, 46.80142367, 44.43841998,\n",
       "       48.78431122, 42.96580667, 44.95817839, 49.47624874, 41.52567143,\n",
       "       40.95315993, 40.47534677, 50.57085215, 53.46373251, 51.06532108,\n",
       "       51.33927845, 41.6219617 , 47.97423402, 46.2614349 , 42.64363256,\n",
       "       63.19414706, 31.78789706, 53.15198537, 40.68274141, 32.12025834,\n",
       "       50.87297558, 41.35719568, 55.68651369, 46.80226804, 39.34550127,\n",
       "       40.01072282, 50.5334822 , 33.5746504 , 60.48987587,  9.571928  ,\n",
       "       -1.24885167, 39.93280033, 30.67266269, 29.12082118, 15.39884463])"
      ]
     },
     "execution_count": 172,
     "metadata": {},
     "output_type": "execute_result"
    }
   ],
   "source": [
    "y_pred = lr.predict(X)\n",
    "y_pred"
   ]
  },
  {
   "cell_type": "markdown",
   "metadata": {},
   "source": [
    "# Previsión de rendimiento del jugador a dos años vista"
   ]
  },
  {
   "cell_type": "raw",
   "metadata": {},
   "source": [
    "Para asegurarnos de que el rendimiento de Tsonga de esta temporada no ha sido casual, queremos hacer una predicción mediante series temporales acerca del rendimiento de nuestro jugador para las dos próximas temporadas (22 periodos mensuales).\n",
    "\n",
    "Para ello hemos recolectado las estadísticas sobre el renidmiento de nuestro jugador de las dos últimas temporadas."
   ]
  },
  {
   "cell_type": "raw",
   "metadata": {},
   "source": [
    "tdf_FRA=pd.read_excel('Tenis_stats_FRA.xlsx')"
   ]
  },
  {
   "cell_type": "code",
   "execution_count": 174,
   "metadata": {},
   "outputs": [
    {
     "data": {
      "text/html": [
       "<div>\n",
       "<style scoped>\n",
       "    .dataframe tbody tr th:only-of-type {\n",
       "        vertical-align: middle;\n",
       "    }\n",
       "\n",
       "    .dataframe tbody tr th {\n",
       "        vertical-align: top;\n",
       "    }\n",
       "\n",
       "    .dataframe thead th {\n",
       "        text-align: right;\n",
       "    }\n",
       "</style>\n",
       "<table border=\"1\" class=\"dataframe\">\n",
       "  <thead>\n",
       "    <tr style=\"text-align: right;\">\n",
       "      <th></th>\n",
       "      <th>date</th>\n",
       "      <th>Jugador</th>\n",
       "      <th>Balance V/D</th>\n",
       "      <th>tournament</th>\n",
       "      <th>level</th>\n",
       "      <th>bestOf</th>\n",
       "      <th>surface</th>\n",
       "      <th>indoor</th>\n",
       "      <th>speed</th>\n",
       "      <th>round</th>\n",
       "      <th>...</th>\n",
       "      <th>loser_seed</th>\n",
       "      <th>loser_country_name</th>\n",
       "      <th>loser_country_id</th>\n",
       "      <th>loser_rank</th>\n",
       "      <th>loser_eloRatingDelta</th>\n",
       "      <th>loser_eloRating</th>\n",
       "      <th>score</th>\n",
       "      <th>outcome</th>\n",
       "      <th>loser_entry</th>\n",
       "      <th>winner_entry</th>\n",
       "    </tr>\n",
       "  </thead>\n",
       "  <tbody>\n",
       "    <tr>\n",
       "      <th>0</th>\n",
       "      <td>2012-11-05</td>\n",
       "      <td>Jo-Wilfried Tsonga</td>\n",
       "      <td>0</td>\n",
       "      <td>Tour Finals</td>\n",
       "      <td>F</td>\n",
       "      <td>3</td>\n",
       "      <td>H</td>\n",
       "      <td>True</td>\n",
       "      <td>77.0</td>\n",
       "      <td>RR</td>\n",
       "      <td>...</td>\n",
       "      <td>7</td>\n",
       "      <td>France</td>\n",
       "      <td>FRA</td>\n",
       "      <td>8</td>\n",
       "      <td>-6</td>\n",
       "      <td>2177.0</td>\n",
       "      <td>6-2 7-6(3)</td>\n",
       "      <td>NaN</td>\n",
       "      <td>NaN</td>\n",
       "      <td>NaN</td>\n",
       "    </tr>\n",
       "    <tr>\n",
       "      <th>1</th>\n",
       "      <td>2012-11-05</td>\n",
       "      <td>Jo-Wilfried Tsonga</td>\n",
       "      <td>0</td>\n",
       "      <td>Tour Finals</td>\n",
       "      <td>F</td>\n",
       "      <td>3</td>\n",
       "      <td>H</td>\n",
       "      <td>True</td>\n",
       "      <td>77.0</td>\n",
       "      <td>RR</td>\n",
       "      <td>...</td>\n",
       "      <td>7</td>\n",
       "      <td>France</td>\n",
       "      <td>FRA</td>\n",
       "      <td>8</td>\n",
       "      <td>-9</td>\n",
       "      <td>2186.0</td>\n",
       "      <td>7-5 3-6 6-1</td>\n",
       "      <td>NaN</td>\n",
       "      <td>NaN</td>\n",
       "      <td>NaN</td>\n",
       "    </tr>\n",
       "    <tr>\n",
       "      <th>2</th>\n",
       "      <td>2012-11-05</td>\n",
       "      <td>Jo-Wilfried Tsonga</td>\n",
       "      <td>0</td>\n",
       "      <td>Tour Finals</td>\n",
       "      <td>F</td>\n",
       "      <td>3</td>\n",
       "      <td>H</td>\n",
       "      <td>True</td>\n",
       "      <td>77.0</td>\n",
       "      <td>RR</td>\n",
       "      <td>...</td>\n",
       "      <td>7</td>\n",
       "      <td>France</td>\n",
       "      <td>FRA</td>\n",
       "      <td>8</td>\n",
       "      <td>-4</td>\n",
       "      <td>2190.0</td>\n",
       "      <td>7-6(4) 6-3</td>\n",
       "      <td>NaN</td>\n",
       "      <td>NaN</td>\n",
       "      <td>NaN</td>\n",
       "    </tr>\n",
       "    <tr>\n",
       "      <th>3</th>\n",
       "      <td>2012-10-29</td>\n",
       "      <td>Jo-Wilfried Tsonga</td>\n",
       "      <td>0</td>\n",
       "      <td>Paris Masters</td>\n",
       "      <td>M</td>\n",
       "      <td>3</td>\n",
       "      <td>H</td>\n",
       "      <td>True</td>\n",
       "      <td>69.0</td>\n",
       "      <td>QF</td>\n",
       "      <td>...</td>\n",
       "      <td>6</td>\n",
       "      <td>France</td>\n",
       "      <td>FRA</td>\n",
       "      <td>7</td>\n",
       "      <td>-8</td>\n",
       "      <td>2198.0</td>\n",
       "      <td>6-2 7-5</td>\n",
       "      <td>NaN</td>\n",
       "      <td>NaN</td>\n",
       "      <td>NaN</td>\n",
       "    </tr>\n",
       "    <tr>\n",
       "      <th>4</th>\n",
       "      <td>2012-10-29</td>\n",
       "      <td>Jo-Wilfried Tsonga</td>\n",
       "      <td>1</td>\n",
       "      <td>Paris Masters</td>\n",
       "      <td>M</td>\n",
       "      <td>3</td>\n",
       "      <td>H</td>\n",
       "      <td>True</td>\n",
       "      <td>69.0</td>\n",
       "      <td>R16</td>\n",
       "      <td>...</td>\n",
       "      <td>11</td>\n",
       "      <td>Spain</td>\n",
       "      <td>ESP</td>\n",
       "      <td>13</td>\n",
       "      <td>-8</td>\n",
       "      <td>2141.0</td>\n",
       "      <td>7-6(4) 7-6(3)</td>\n",
       "      <td>NaN</td>\n",
       "      <td>NaN</td>\n",
       "      <td>NaN</td>\n",
       "    </tr>\n",
       "    <tr>\n",
       "      <th>...</th>\n",
       "      <td>...</td>\n",
       "      <td>...</td>\n",
       "      <td>...</td>\n",
       "      <td>...</td>\n",
       "      <td>...</td>\n",
       "      <td>...</td>\n",
       "      <td>...</td>\n",
       "      <td>...</td>\n",
       "      <td>...</td>\n",
       "      <td>...</td>\n",
       "      <td>...</td>\n",
       "      <td>...</td>\n",
       "      <td>...</td>\n",
       "      <td>...</td>\n",
       "      <td>...</td>\n",
       "      <td>...</td>\n",
       "      <td>...</td>\n",
       "      <td>...</td>\n",
       "      <td>...</td>\n",
       "      <td>...</td>\n",
       "      <td>...</td>\n",
       "    </tr>\n",
       "    <tr>\n",
       "      <th>158</th>\n",
       "      <td>2011-01-17</td>\n",
       "      <td>Jo-Wilfried Tsonga</td>\n",
       "      <td>1</td>\n",
       "      <td>Australian Open</td>\n",
       "      <td>G</td>\n",
       "      <td>5</td>\n",
       "      <td>H</td>\n",
       "      <td>False</td>\n",
       "      <td>55.0</td>\n",
       "      <td>R128</td>\n",
       "      <td>...</td>\n",
       "      <td>GER</td>\n",
       "      <td>57</td>\n",
       "      <td>-7</td>\n",
       "      <td>1905</td>\n",
       "      <td>4-6 2-6 6-2 6-3 6-4</td>\n",
       "      <td>13.0</td>\n",
       "      <td>NaN</td>\n",
       "      <td>NaN</td>\n",
       "      <td>NaN</td>\n",
       "      <td>NaN</td>\n",
       "    </tr>\n",
       "    <tr>\n",
       "      <th>159</th>\n",
       "      <td>2011-01-03</td>\n",
       "      <td>Jo-Wilfried Tsonga</td>\n",
       "      <td>0</td>\n",
       "      <td>Doha</td>\n",
       "      <td>B</td>\n",
       "      <td>3</td>\n",
       "      <td>H</td>\n",
       "      <td>False</td>\n",
       "      <td>73.0</td>\n",
       "      <td>SF</td>\n",
       "      <td>...</td>\n",
       "      <td>FRA</td>\n",
       "      <td>13</td>\n",
       "      <td>-3</td>\n",
       "      <td>2121</td>\n",
       "      <td>6-3 7-6(2)</td>\n",
       "      <td>2.0</td>\n",
       "      <td>3</td>\n",
       "      <td>NaN</td>\n",
       "      <td>NaN</td>\n",
       "      <td>NaN</td>\n",
       "    </tr>\n",
       "    <tr>\n",
       "      <th>160</th>\n",
       "      <td>2011-01-03</td>\n",
       "      <td>Jo-Wilfried Tsonga</td>\n",
       "      <td>1</td>\n",
       "      <td>Doha</td>\n",
       "      <td>B</td>\n",
       "      <td>3</td>\n",
       "      <td>H</td>\n",
       "      <td>False</td>\n",
       "      <td>73.0</td>\n",
       "      <td>QF</td>\n",
       "      <td>...</td>\n",
       "      <td>ESP</td>\n",
       "      <td>33</td>\n",
       "      <td>-6</td>\n",
       "      <td>2002</td>\n",
       "      <td>7-6(4) 7-6(9)</td>\n",
       "      <td>3.0</td>\n",
       "      <td>7</td>\n",
       "      <td>NaN</td>\n",
       "      <td>NaN</td>\n",
       "      <td>NaN</td>\n",
       "    </tr>\n",
       "    <tr>\n",
       "      <th>161</th>\n",
       "      <td>2011-01-03</td>\n",
       "      <td>Jo-Wilfried Tsonga</td>\n",
       "      <td>1</td>\n",
       "      <td>Doha</td>\n",
       "      <td>B</td>\n",
       "      <td>3</td>\n",
       "      <td>H</td>\n",
       "      <td>False</td>\n",
       "      <td>73.0</td>\n",
       "      <td>R16</td>\n",
       "      <td>...</td>\n",
       "      <td>UKR</td>\n",
       "      <td>320</td>\n",
       "      <td>-4</td>\n",
       "      <td>1756</td>\n",
       "      <td>6-2 6-4</td>\n",
       "      <td>3.0</td>\n",
       "      <td>NaN</td>\n",
       "      <td>NaN</td>\n",
       "      <td>WC</td>\n",
       "      <td>NaN</td>\n",
       "    </tr>\n",
       "    <tr>\n",
       "      <th>162</th>\n",
       "      <td>2011-01-03</td>\n",
       "      <td>Jo-Wilfried Tsonga</td>\n",
       "      <td>1</td>\n",
       "      <td>Doha</td>\n",
       "      <td>B</td>\n",
       "      <td>3</td>\n",
       "      <td>H</td>\n",
       "      <td>False</td>\n",
       "      <td>73.0</td>\n",
       "      <td>R32</td>\n",
       "      <td>...</td>\n",
       "      <td>ESP</td>\n",
       "      <td>77</td>\n",
       "      <td>-4</td>\n",
       "      <td>1695</td>\n",
       "      <td>6-2 6-0</td>\n",
       "      <td>3.0</td>\n",
       "      <td>NaN</td>\n",
       "      <td>NaN</td>\n",
       "      <td>NaN</td>\n",
       "      <td>NaN</td>\n",
       "    </tr>\n",
       "  </tbody>\n",
       "</table>\n",
       "<p>163 rows × 28 columns</p>\n",
       "</div>"
      ],
      "text/plain": [
       "          date             Jugador  Balance V/D       tournament level  \\\n",
       "0   2012-11-05  Jo-Wilfried Tsonga            0      Tour Finals     F   \n",
       "1   2012-11-05  Jo-Wilfried Tsonga            0      Tour Finals     F   \n",
       "2   2012-11-05  Jo-Wilfried Tsonga            0      Tour Finals     F   \n",
       "3   2012-10-29  Jo-Wilfried Tsonga            0    Paris Masters     M   \n",
       "4   2012-10-29  Jo-Wilfried Tsonga            1    Paris Masters     M   \n",
       "..         ...                 ...          ...              ...   ...   \n",
       "158 2011-01-17  Jo-Wilfried Tsonga            1  Australian Open     G   \n",
       "159 2011-01-03  Jo-Wilfried Tsonga            0             Doha     B   \n",
       "160 2011-01-03  Jo-Wilfried Tsonga            1             Doha     B   \n",
       "161 2011-01-03  Jo-Wilfried Tsonga            1             Doha     B   \n",
       "162 2011-01-03  Jo-Wilfried Tsonga            1             Doha     B   \n",
       "\n",
       "     bestOf surface  indoor  speed round  ... loser_seed loser_country_name  \\\n",
       "0         3       H    True   77.0    RR  ...          7             France   \n",
       "1         3       H    True   77.0    RR  ...          7             France   \n",
       "2         3       H    True   77.0    RR  ...          7             France   \n",
       "3         3       H    True   69.0    QF  ...          6             France   \n",
       "4         3       H    True   69.0   R16  ...         11              Spain   \n",
       "..      ...     ...     ...    ...   ...  ...        ...                ...   \n",
       "158       5       H   False   55.0  R128  ...        GER                 57   \n",
       "159       3       H   False   73.0    SF  ...        FRA                 13   \n",
       "160       3       H   False   73.0    QF  ...        ESP                 33   \n",
       "161       3       H   False   73.0   R16  ...        UKR                320   \n",
       "162       3       H   False   73.0   R32  ...        ESP                 77   \n",
       "\n",
       "    loser_country_id loser_rank  loser_eloRatingDelta  loser_eloRating  \\\n",
       "0                FRA          8                    -6           2177.0   \n",
       "1                FRA          8                    -9           2186.0   \n",
       "2                FRA          8                    -4           2190.0   \n",
       "3                FRA          7                    -8           2198.0   \n",
       "4                ESP         13                    -8           2141.0   \n",
       "..               ...        ...                   ...              ...   \n",
       "158               -7       1905   4-6 2-6 6-2 6-3 6-4             13.0   \n",
       "159               -3       2121            6-3 7-6(2)              2.0   \n",
       "160               -6       2002         7-6(4) 7-6(9)              3.0   \n",
       "161               -4       1756               6-2 6-4              3.0   \n",
       "162               -4       1695               6-2 6-0              3.0   \n",
       "\n",
       "             score outcome loser_entry winner_entry  \n",
       "0       6-2 7-6(3)     NaN         NaN          NaN  \n",
       "1      7-5 3-6 6-1     NaN         NaN          NaN  \n",
       "2       7-6(4) 6-3     NaN         NaN          NaN  \n",
       "3          6-2 7-5     NaN         NaN          NaN  \n",
       "4    7-6(4) 7-6(3)     NaN         NaN          NaN  \n",
       "..             ...     ...         ...          ...  \n",
       "158            NaN     NaN         NaN          NaN  \n",
       "159              3     NaN         NaN          NaN  \n",
       "160              7     NaN         NaN          NaN  \n",
       "161            NaN     NaN          WC          NaN  \n",
       "162            NaN     NaN         NaN          NaN  \n",
       "\n",
       "[163 rows x 28 columns]"
      ]
     },
     "execution_count": 174,
     "metadata": {},
     "output_type": "execute_result"
    }
   ],
   "source": [
    "tdf_FRA"
   ]
  },
  {
   "cell_type": "markdown",
   "metadata": {
    "heading_collapsed": true
   },
   "source": [
    "#### Código"
   ]
  },
  {
   "cell_type": "code",
   "execution_count": 175,
   "metadata": {
    "hidden": true
   },
   "outputs": [],
   "source": [
    "tdf_ts=tdf_FRA[['date','Balance V/D']]"
   ]
  },
  {
   "cell_type": "code",
   "execution_count": 176,
   "metadata": {
    "hidden": true
   },
   "outputs": [
    {
     "data": {
      "text/html": [
       "<div>\n",
       "<style scoped>\n",
       "    .dataframe tbody tr th:only-of-type {\n",
       "        vertical-align: middle;\n",
       "    }\n",
       "\n",
       "    .dataframe tbody tr th {\n",
       "        vertical-align: top;\n",
       "    }\n",
       "\n",
       "    .dataframe thead th {\n",
       "        text-align: right;\n",
       "    }\n",
       "</style>\n",
       "<table border=\"1\" class=\"dataframe\">\n",
       "  <thead>\n",
       "    <tr style=\"text-align: right;\">\n",
       "      <th></th>\n",
       "      <th>date</th>\n",
       "      <th>Balance V/D</th>\n",
       "    </tr>\n",
       "  </thead>\n",
       "  <tbody>\n",
       "    <tr>\n",
       "      <th>0</th>\n",
       "      <td>2012-11-05</td>\n",
       "      <td>0</td>\n",
       "    </tr>\n",
       "    <tr>\n",
       "      <th>1</th>\n",
       "      <td>2012-11-05</td>\n",
       "      <td>0</td>\n",
       "    </tr>\n",
       "    <tr>\n",
       "      <th>2</th>\n",
       "      <td>2012-11-05</td>\n",
       "      <td>0</td>\n",
       "    </tr>\n",
       "    <tr>\n",
       "      <th>3</th>\n",
       "      <td>2012-10-29</td>\n",
       "      <td>0</td>\n",
       "    </tr>\n",
       "    <tr>\n",
       "      <th>4</th>\n",
       "      <td>2012-10-29</td>\n",
       "      <td>1</td>\n",
       "    </tr>\n",
       "    <tr>\n",
       "      <th>...</th>\n",
       "      <td>...</td>\n",
       "      <td>...</td>\n",
       "    </tr>\n",
       "    <tr>\n",
       "      <th>158</th>\n",
       "      <td>2011-01-17</td>\n",
       "      <td>1</td>\n",
       "    </tr>\n",
       "    <tr>\n",
       "      <th>159</th>\n",
       "      <td>2011-01-03</td>\n",
       "      <td>0</td>\n",
       "    </tr>\n",
       "    <tr>\n",
       "      <th>160</th>\n",
       "      <td>2011-01-03</td>\n",
       "      <td>1</td>\n",
       "    </tr>\n",
       "    <tr>\n",
       "      <th>161</th>\n",
       "      <td>2011-01-03</td>\n",
       "      <td>1</td>\n",
       "    </tr>\n",
       "    <tr>\n",
       "      <th>162</th>\n",
       "      <td>2011-01-03</td>\n",
       "      <td>1</td>\n",
       "    </tr>\n",
       "  </tbody>\n",
       "</table>\n",
       "<p>163 rows × 2 columns</p>\n",
       "</div>"
      ],
      "text/plain": [
       "          date  Balance V/D\n",
       "0   2012-11-05            0\n",
       "1   2012-11-05            0\n",
       "2   2012-11-05            0\n",
       "3   2012-10-29            0\n",
       "4   2012-10-29            1\n",
       "..         ...          ...\n",
       "158 2011-01-17            1\n",
       "159 2011-01-03            0\n",
       "160 2011-01-03            1\n",
       "161 2011-01-03            1\n",
       "162 2011-01-03            1\n",
       "\n",
       "[163 rows x 2 columns]"
      ]
     },
     "execution_count": 176,
     "metadata": {},
     "output_type": "execute_result"
    }
   ],
   "source": [
    "tdf_ts"
   ]
  },
  {
   "cell_type": "code",
   "execution_count": 177,
   "metadata": {
    "hidden": true
   },
   "outputs": [],
   "source": [
    "tdf_ts['date']=pd.to_datetime(tdf_ts.date)"
   ]
  },
  {
   "cell_type": "code",
   "execution_count": 178,
   "metadata": {
    "hidden": true
   },
   "outputs": [],
   "source": [
    "tdf_ts.set_index('date',inplace=True)"
   ]
  },
  {
   "cell_type": "code",
   "execution_count": 179,
   "metadata": {
    "hidden": true
   },
   "outputs": [],
   "source": [
    "tdf_ts=tdf_ts.groupby(pd.Grouper(freq='M')).sum()"
   ]
  },
  {
   "cell_type": "markdown",
   "metadata": {},
   "source": [
    "## Agrupamos el número de victorias por meses"
   ]
  },
  {
   "cell_type": "code",
   "execution_count": 180,
   "metadata": {},
   "outputs": [
    {
     "data": {
      "text/html": [
       "<div>\n",
       "<style scoped>\n",
       "    .dataframe tbody tr th:only-of-type {\n",
       "        vertical-align: middle;\n",
       "    }\n",
       "\n",
       "    .dataframe tbody tr th {\n",
       "        vertical-align: top;\n",
       "    }\n",
       "\n",
       "    .dataframe thead th {\n",
       "        text-align: right;\n",
       "    }\n",
       "</style>\n",
       "<table border=\"1\" class=\"dataframe\">\n",
       "  <thead>\n",
       "    <tr style=\"text-align: right;\">\n",
       "      <th></th>\n",
       "      <th>Balance V/D</th>\n",
       "    </tr>\n",
       "    <tr>\n",
       "      <th>date</th>\n",
       "      <th></th>\n",
       "    </tr>\n",
       "  </thead>\n",
       "  <tbody>\n",
       "    <tr>\n",
       "      <th>2011-01-31</th>\n",
       "      <td>5</td>\n",
       "    </tr>\n",
       "    <tr>\n",
       "      <th>2011-02-28</th>\n",
       "      <td>6</td>\n",
       "    </tr>\n",
       "    <tr>\n",
       "      <th>2011-03-31</th>\n",
       "      <td>1</td>\n",
       "    </tr>\n",
       "    <tr>\n",
       "      <th>2011-04-30</th>\n",
       "      <td>1</td>\n",
       "    </tr>\n",
       "    <tr>\n",
       "      <th>2011-05-31</th>\n",
       "      <td>5</td>\n",
       "    </tr>\n",
       "    <tr>\n",
       "      <th>2011-06-30</th>\n",
       "      <td>10</td>\n",
       "    </tr>\n",
       "    <tr>\n",
       "      <th>2011-07-31</th>\n",
       "      <td>1</td>\n",
       "    </tr>\n",
       "    <tr>\n",
       "      <th>2011-08-31</th>\n",
       "      <td>9</td>\n",
       "    </tr>\n",
       "    <tr>\n",
       "      <th>2011-09-30</th>\n",
       "      <td>4</td>\n",
       "    </tr>\n",
       "    <tr>\n",
       "      <th>2011-10-31</th>\n",
       "      <td>8</td>\n",
       "    </tr>\n",
       "    <tr>\n",
       "      <th>2011-11-30</th>\n",
       "      <td>7</td>\n",
       "    </tr>\n",
       "    <tr>\n",
       "      <th>2011-12-31</th>\n",
       "      <td>0</td>\n",
       "    </tr>\n",
       "    <tr>\n",
       "      <th>2012-01-31</th>\n",
       "      <td>8</td>\n",
       "    </tr>\n",
       "    <tr>\n",
       "      <th>2012-02-29</th>\n",
       "      <td>6</td>\n",
       "    </tr>\n",
       "    <tr>\n",
       "      <th>2012-03-31</th>\n",
       "      <td>5</td>\n",
       "    </tr>\n",
       "    <tr>\n",
       "      <th>2012-04-30</th>\n",
       "      <td>3</td>\n",
       "    </tr>\n",
       "    <tr>\n",
       "      <th>2012-05-31</th>\n",
       "      <td>7</td>\n",
       "    </tr>\n",
       "    <tr>\n",
       "      <th>2012-06-30</th>\n",
       "      <td>6</td>\n",
       "    </tr>\n",
       "    <tr>\n",
       "      <th>2012-07-31</th>\n",
       "      <td>3</td>\n",
       "    </tr>\n",
       "    <tr>\n",
       "      <th>2012-08-31</th>\n",
       "      <td>4</td>\n",
       "    </tr>\n",
       "    <tr>\n",
       "      <th>2012-09-30</th>\n",
       "      <td>4</td>\n",
       "    </tr>\n",
       "    <tr>\n",
       "      <th>2012-10-31</th>\n",
       "      <td>11</td>\n",
       "    </tr>\n",
       "    <tr>\n",
       "      <th>2012-11-30</th>\n",
       "      <td>0</td>\n",
       "    </tr>\n",
       "  </tbody>\n",
       "</table>\n",
       "</div>"
      ],
      "text/plain": [
       "            Balance V/D\n",
       "date                   \n",
       "2011-01-31            5\n",
       "2011-02-28            6\n",
       "2011-03-31            1\n",
       "2011-04-30            1\n",
       "2011-05-31            5\n",
       "2011-06-30           10\n",
       "2011-07-31            1\n",
       "2011-08-31            9\n",
       "2011-09-30            4\n",
       "2011-10-31            8\n",
       "2011-11-30            7\n",
       "2011-12-31            0\n",
       "2012-01-31            8\n",
       "2012-02-29            6\n",
       "2012-03-31            5\n",
       "2012-04-30            3\n",
       "2012-05-31            7\n",
       "2012-06-30            6\n",
       "2012-07-31            3\n",
       "2012-08-31            4\n",
       "2012-09-30            4\n",
       "2012-10-31           11\n",
       "2012-11-30            0"
      ]
     },
     "execution_count": 180,
     "metadata": {},
     "output_type": "execute_result"
    }
   ],
   "source": [
    "tdf_ts"
   ]
  },
  {
   "cell_type": "code",
   "execution_count": 182,
   "metadata": {},
   "outputs": [],
   "source": [
    "tdf_ts = tdf_ts[(tdf_ts.T != 0).any()]"
   ]
  },
  {
   "cell_type": "markdown",
   "metadata": {},
   "source": [
    "##  Modelo ARIMA"
   ]
  },
  {
   "cell_type": "code",
   "execution_count": 184,
   "metadata": {},
   "outputs": [
    {
     "name": "stdout",
     "output_type": "stream",
     "text": [
      "Performing stepwise search to minimize aic\n",
      " ARIMA(1,1,1)(0,1,0)[12]             : AIC=inf, Time=0.23 sec\n",
      " ARIMA(0,1,0)(0,1,0)[12]             : AIC=56.503, Time=0.02 sec\n",
      " ARIMA(1,1,0)(1,1,0)[12]             : AIC=inf, Time=0.21 sec\n",
      " ARIMA(0,1,1)(0,1,1)[12]             : AIC=inf, Time=0.13 sec\n",
      " ARIMA(0,1,0)(1,1,0)[12]             : AIC=58.503, Time=0.10 sec\n",
      " ARIMA(0,1,0)(0,1,1)[12]             : AIC=58.503, Time=0.08 sec\n",
      " ARIMA(0,1,0)(1,1,1)[12]             : AIC=60.503, Time=0.22 sec\n",
      " ARIMA(1,1,0)(0,1,0)[12]             : AIC=54.591, Time=0.03 sec\n",
      " ARIMA(1,1,0)(0,1,1)[12]             : AIC=inf, Time=0.15 sec\n",
      " ARIMA(1,1,0)(1,1,1)[12]             : AIC=58.521, Time=0.27 sec\n",
      " ARIMA(2,1,0)(0,1,0)[12]             : AIC=56.394, Time=0.03 sec\n",
      " ARIMA(0,1,1)(0,1,0)[12]             : AIC=inf, Time=0.05 sec\n",
      " ARIMA(2,1,1)(0,1,0)[12]             : AIC=inf, Time=0.15 sec\n",
      " ARIMA(1,1,0)(0,1,0)[12] intercept   : AIC=56.541, Time=0.03 sec\n",
      "\n",
      "Best model:  ARIMA(1,1,0)(0,1,0)[12]          \n",
      "Total fit time: 1.751 seconds\n"
     ]
    }
   ],
   "source": [
    "model=auto_arima(tdf_ts,start_p=1,d=1,start_q=1,\n",
    "          max_p=2,max_d=2,max_q=2, start_P=0,\n",
    "          D=1, start_Q=0, max_P=2,max_D=2,\n",
    "          max_Q=2, m=12, seasonal=True,\n",
    "          error_action='warn',trace=True,\n",
    "          supress_warnings=True,stepwise=True,\n",
    "          random_state=20,n_fits=50)"
   ]
  },
  {
   "cell_type": "code",
   "execution_count": 185,
   "metadata": {},
   "outputs": [],
   "source": [
    "prediction=model.predict(n_periods=22)"
   ]
  },
  {
   "cell_type": "code",
   "execution_count": 186,
   "metadata": {},
   "outputs": [
    {
     "data": {
      "text/plain": [
       "array([ 6.8, 11.4,  8.5,  9.2,  6.4,  5.6,  8.8,  8.4,  4.9,  6.2,  6. ,\n",
       "       13.2,  8.8, 13.6, 10.6, 11.3,  8.5,  7.7, 10.9, 10.5,  7.1,  8.3])"
      ]
     },
     "execution_count": 186,
     "metadata": {},
     "output_type": "execute_result"
    }
   ],
   "source": [
    "prediction.round((1))"
   ]
  },
  {
   "cell_type": "markdown",
   "metadata": {
    "heading_collapsed": true
   },
   "source": [
    "#### Código"
   ]
  },
  {
   "cell_type": "code",
   "execution_count": null,
   "metadata": {
    "hidden": true
   },
   "outputs": [],
   "source": [
    "# Creamos un data frame a partir del array correspondiente a las victorias predecidas para las próximas dos temporadas"
   ]
  },
  {
   "cell_type": "code",
   "execution_count": 187,
   "metadata": {
    "hidden": true
   },
   "outputs": [],
   "source": [
    "columns=['Balance V/D']\n",
    "rows=['2013-01-31',\n",
    "'2013-02-28',\n",
    "'2013-03-31',\n",
    "'2013-04-30',\n",
    "'2013-05-31',\n",
    "'2013-06-30',\n",
    "'2013-07-31',\n",
    "'2013-08-31',\n",
    "'2013-09-30',\n",
    "'2013-10-31',\n",
    "'2013-11-30',\n",
    "'2014-01-31',\n",
    "'2014-02-28',\n",
    "'2014-03-31',\n",
    "'2014-04-30',\n",
    "'2014-05-31',\n",
    "'2014-06-30',\n",
    "'2014-07-31',\n",
    "'2014-08-31',\n",
    "'2014-09-30',\n",
    "'2014-10-31',\n",
    "'2014-11-30']\n",
    "df=pd.DataFrame(data=prediction,index=rows,columns=columns)"
   ]
  },
  {
   "cell_type": "code",
   "execution_count": 188,
   "metadata": {
    "hidden": true
   },
   "outputs": [],
   "source": [
    "df.index.name = 'date'"
   ]
  },
  {
   "cell_type": "code",
   "execution_count": null,
   "metadata": {
    "hidden": true
   },
   "outputs": [],
   "source": [
    "# Anexamos el dataframe de los resultados predichos con los actuales resultados"
   ]
  },
  {
   "cell_type": "code",
   "execution_count": 189,
   "metadata": {
    "hidden": true,
    "scrolled": true
   },
   "outputs": [],
   "source": [
    "result_df=tdf_ts.append(df)"
   ]
  },
  {
   "cell_type": "code",
   "execution_count": 190,
   "metadata": {
    "hidden": true
   },
   "outputs": [],
   "source": [
    "result_df.index = result_df.index.values.astype('M8[D]')"
   ]
  },
  {
   "cell_type": "code",
   "execution_count": 191,
   "metadata": {
    "hidden": true
   },
   "outputs": [],
   "source": [
    "result_df.index.name = 'date'"
   ]
  },
  {
   "cell_type": "code",
   "execution_count": 192,
   "metadata": {
    "hidden": true
   },
   "outputs": [],
   "source": [
    "result_df.rename(columns={'Balance V/D':'Victorias Mensuales'},inplace=True)"
   ]
  },
  {
   "cell_type": "code",
   "execution_count": 193,
   "metadata": {
    "hidden": true
   },
   "outputs": [],
   "source": [
    "result_df['Victorias Mensuales']=result_df['Victorias Mensuales'].round()"
   ]
  },
  {
   "cell_type": "markdown",
   "metadata": {},
   "source": [
    "##  Analizamos la tendencia de los restultados"
   ]
  },
  {
   "cell_type": "code",
   "execution_count": 194,
   "metadata": {},
   "outputs": [
    {
     "data": {
      "text/html": [
       "<div>\n",
       "<style scoped>\n",
       "    .dataframe tbody tr th:only-of-type {\n",
       "        vertical-align: middle;\n",
       "    }\n",
       "\n",
       "    .dataframe tbody tr th {\n",
       "        vertical-align: top;\n",
       "    }\n",
       "\n",
       "    .dataframe thead th {\n",
       "        text-align: right;\n",
       "    }\n",
       "</style>\n",
       "<table border=\"1\" class=\"dataframe\">\n",
       "  <thead>\n",
       "    <tr style=\"text-align: right;\">\n",
       "      <th></th>\n",
       "      <th>Victorias Mensuales</th>\n",
       "    </tr>\n",
       "    <tr>\n",
       "      <th>date</th>\n",
       "      <th></th>\n",
       "    </tr>\n",
       "  </thead>\n",
       "  <tbody>\n",
       "    <tr>\n",
       "      <th>2011-01-31</th>\n",
       "      <td>5.0</td>\n",
       "    </tr>\n",
       "    <tr>\n",
       "      <th>2011-02-28</th>\n",
       "      <td>6.0</td>\n",
       "    </tr>\n",
       "    <tr>\n",
       "      <th>2011-03-31</th>\n",
       "      <td>1.0</td>\n",
       "    </tr>\n",
       "    <tr>\n",
       "      <th>2011-04-30</th>\n",
       "      <td>1.0</td>\n",
       "    </tr>\n",
       "    <tr>\n",
       "      <th>2011-05-31</th>\n",
       "      <td>5.0</td>\n",
       "    </tr>\n",
       "    <tr>\n",
       "      <th>2011-06-30</th>\n",
       "      <td>10.0</td>\n",
       "    </tr>\n",
       "    <tr>\n",
       "      <th>2011-07-31</th>\n",
       "      <td>1.0</td>\n",
       "    </tr>\n",
       "    <tr>\n",
       "      <th>2011-08-31</th>\n",
       "      <td>9.0</td>\n",
       "    </tr>\n",
       "    <tr>\n",
       "      <th>2011-09-30</th>\n",
       "      <td>4.0</td>\n",
       "    </tr>\n",
       "    <tr>\n",
       "      <th>2011-10-31</th>\n",
       "      <td>8.0</td>\n",
       "    </tr>\n",
       "    <tr>\n",
       "      <th>2011-11-30</th>\n",
       "      <td>7.0</td>\n",
       "    </tr>\n",
       "    <tr>\n",
       "      <th>2012-01-31</th>\n",
       "      <td>8.0</td>\n",
       "    </tr>\n",
       "    <tr>\n",
       "      <th>2012-02-29</th>\n",
       "      <td>6.0</td>\n",
       "    </tr>\n",
       "    <tr>\n",
       "      <th>2012-03-31</th>\n",
       "      <td>5.0</td>\n",
       "    </tr>\n",
       "    <tr>\n",
       "      <th>2012-04-30</th>\n",
       "      <td>3.0</td>\n",
       "    </tr>\n",
       "    <tr>\n",
       "      <th>2012-05-31</th>\n",
       "      <td>7.0</td>\n",
       "    </tr>\n",
       "    <tr>\n",
       "      <th>2012-06-30</th>\n",
       "      <td>6.0</td>\n",
       "    </tr>\n",
       "    <tr>\n",
       "      <th>2012-07-31</th>\n",
       "      <td>3.0</td>\n",
       "    </tr>\n",
       "    <tr>\n",
       "      <th>2012-08-31</th>\n",
       "      <td>4.0</td>\n",
       "    </tr>\n",
       "    <tr>\n",
       "      <th>2012-09-30</th>\n",
       "      <td>4.0</td>\n",
       "    </tr>\n",
       "    <tr>\n",
       "      <th>2012-10-31</th>\n",
       "      <td>11.0</td>\n",
       "    </tr>\n",
       "    <tr>\n",
       "      <th>2013-01-31</th>\n",
       "      <td>7.0</td>\n",
       "    </tr>\n",
       "    <tr>\n",
       "      <th>2013-02-28</th>\n",
       "      <td>11.0</td>\n",
       "    </tr>\n",
       "    <tr>\n",
       "      <th>2013-03-31</th>\n",
       "      <td>9.0</td>\n",
       "    </tr>\n",
       "    <tr>\n",
       "      <th>2013-04-30</th>\n",
       "      <td>9.0</td>\n",
       "    </tr>\n",
       "    <tr>\n",
       "      <th>2013-05-31</th>\n",
       "      <td>6.0</td>\n",
       "    </tr>\n",
       "    <tr>\n",
       "      <th>2013-06-30</th>\n",
       "      <td>6.0</td>\n",
       "    </tr>\n",
       "    <tr>\n",
       "      <th>2013-07-31</th>\n",
       "      <td>9.0</td>\n",
       "    </tr>\n",
       "    <tr>\n",
       "      <th>2013-08-31</th>\n",
       "      <td>8.0</td>\n",
       "    </tr>\n",
       "    <tr>\n",
       "      <th>2013-09-30</th>\n",
       "      <td>5.0</td>\n",
       "    </tr>\n",
       "    <tr>\n",
       "      <th>2013-10-31</th>\n",
       "      <td>6.0</td>\n",
       "    </tr>\n",
       "    <tr>\n",
       "      <th>2013-11-30</th>\n",
       "      <td>6.0</td>\n",
       "    </tr>\n",
       "    <tr>\n",
       "      <th>2014-01-31</th>\n",
       "      <td>13.0</td>\n",
       "    </tr>\n",
       "    <tr>\n",
       "      <th>2014-02-28</th>\n",
       "      <td>9.0</td>\n",
       "    </tr>\n",
       "    <tr>\n",
       "      <th>2014-03-31</th>\n",
       "      <td>14.0</td>\n",
       "    </tr>\n",
       "    <tr>\n",
       "      <th>2014-04-30</th>\n",
       "      <td>11.0</td>\n",
       "    </tr>\n",
       "    <tr>\n",
       "      <th>2014-05-31</th>\n",
       "      <td>11.0</td>\n",
       "    </tr>\n",
       "    <tr>\n",
       "      <th>2014-06-30</th>\n",
       "      <td>8.0</td>\n",
       "    </tr>\n",
       "    <tr>\n",
       "      <th>2014-07-31</th>\n",
       "      <td>8.0</td>\n",
       "    </tr>\n",
       "    <tr>\n",
       "      <th>2014-08-31</th>\n",
       "      <td>11.0</td>\n",
       "    </tr>\n",
       "    <tr>\n",
       "      <th>2014-09-30</th>\n",
       "      <td>10.0</td>\n",
       "    </tr>\n",
       "    <tr>\n",
       "      <th>2014-10-31</th>\n",
       "      <td>7.0</td>\n",
       "    </tr>\n",
       "    <tr>\n",
       "      <th>2014-11-30</th>\n",
       "      <td>8.0</td>\n",
       "    </tr>\n",
       "  </tbody>\n",
       "</table>\n",
       "</div>"
      ],
      "text/plain": [
       "            Victorias Mensuales\n",
       "date                           \n",
       "2011-01-31                  5.0\n",
       "2011-02-28                  6.0\n",
       "2011-03-31                  1.0\n",
       "2011-04-30                  1.0\n",
       "2011-05-31                  5.0\n",
       "2011-06-30                 10.0\n",
       "2011-07-31                  1.0\n",
       "2011-08-31                  9.0\n",
       "2011-09-30                  4.0\n",
       "2011-10-31                  8.0\n",
       "2011-11-30                  7.0\n",
       "2012-01-31                  8.0\n",
       "2012-02-29                  6.0\n",
       "2012-03-31                  5.0\n",
       "2012-04-30                  3.0\n",
       "2012-05-31                  7.0\n",
       "2012-06-30                  6.0\n",
       "2012-07-31                  3.0\n",
       "2012-08-31                  4.0\n",
       "2012-09-30                  4.0\n",
       "2012-10-31                 11.0\n",
       "2013-01-31                  7.0\n",
       "2013-02-28                 11.0\n",
       "2013-03-31                  9.0\n",
       "2013-04-30                  9.0\n",
       "2013-05-31                  6.0\n",
       "2013-06-30                  6.0\n",
       "2013-07-31                  9.0\n",
       "2013-08-31                  8.0\n",
       "2013-09-30                  5.0\n",
       "2013-10-31                  6.0\n",
       "2013-11-30                  6.0\n",
       "2014-01-31                 13.0\n",
       "2014-02-28                  9.0\n",
       "2014-03-31                 14.0\n",
       "2014-04-30                 11.0\n",
       "2014-05-31                 11.0\n",
       "2014-06-30                  8.0\n",
       "2014-07-31                  8.0\n",
       "2014-08-31                 11.0\n",
       "2014-09-30                 10.0\n",
       "2014-10-31                  7.0\n",
       "2014-11-30                  8.0"
      ]
     },
     "execution_count": 194,
     "metadata": {},
     "output_type": "execute_result"
    }
   ],
   "source": [
    "result_df"
   ]
  },
  {
   "cell_type": "code",
   "execution_count": 259,
   "metadata": {},
   "outputs": [
    {
     "name": "stdout",
     "output_type": "stream",
     "text": [
      "2011 Promedio de Victorias Mensuales    5.2\n",
      "dtype: float64\n"
     ]
    }
   ],
   "source": [
    "Vict_men_2011=result_df[:11].mean()\n",
    "Vict_men_2012=result_df[11:21].mean()\n",
    "Vict_men_2013=result_df[21:32].mean()\n",
    "Vict_men_2014=result_df[32:44].mean()"
   ]
  },
  {
   "cell_type": "code",
   "execution_count": 261,
   "metadata": {},
   "outputs": [
    {
     "name": "stdout",
     "output_type": "stream",
     "text": [
      "2011 Promedio de Victorias Mensuales    5.2\n",
      "dtype: float64\n",
      "2012 Promedio de Victorias Mensuales    5.7\n",
      "dtype: float64\n",
      "2013 Promedio de Victorias Mensuales    7.5\n",
      "dtype: float64\n",
      "2014 Promedio de Victorias Mensuales    10.0\n",
      "dtype: float64 1\n"
     ]
    }
   ],
   "source": [
    "print('2011 Promedio de',round(Vict_men_2011,1))\n",
    "print('2012 Promedio de',round(Vict_men_2012,1))\n",
    "print('2013 Promedio de',round(Vict_men_2013,1))\n",
    "print('2014 Promedio de',round(Vict_men_2014),1)"
   ]
  },
  {
   "cell_type": "code",
   "execution_count": 260,
   "metadata": {},
   "outputs": [
    {
     "data": {
      "text/plain": [
       "<AxesSubplot:xlabel='date'>"
      ]
     },
     "execution_count": 260,
     "metadata": {},
     "output_type": "execute_result"
    },
    {
     "data": {
      "image/png": "[encoded data removed]",
      "text/plain": [
       "<Figure size 864x576 with 1 Axes>"
      ]
     },
     "metadata": {
      "needs_background": "light"
     },
     "output_type": "display_data"
    }
   ],
   "source": [
    "result_df.plot()"
   ]
  },
  {
   "cell_type": "raw",
   "metadata": {},
   "source": [
    "Tras el análisis temporal realizado podemos afirmar que el rendimiento de nuestro representante incrementará para las 2 próximas temporadas, por lo que este es el jugador idóneo para representar nuestra marca Ironball "
   ]
  }
 ],
 "metadata": {
  "celltoolbar": "Slideshow",
  "kernelspec": {
   "display_name": "Python 3",
   "language": "python",
   "name": "python3"
  },
  "language_info": {
   "codemirror_mode": {
    "name": "ipython",
    "version": 3
   },
   "file_extension": ".py",
   "mimetype": "text/x-python",
   "name": "python",
   "nbconvert_exporter": "python",
   "pygments_lexer": "ipython3",
   "version": "3.8.5"
  },
  "toc": {
   "base_numbering": 1,
   "nav_menu": {},
   "number_sections": true,
   "sideBar": true,
   "skip_h1_title": false,
   "title_cell": "Table of Contents",
   "title_sidebar": "Contents",
   "toc_cell": false,
   "toc_position": {
    "height": "calc(100% - 180px)",
    "left": "10px",
    "top": "150px",
    "width": "240.667px"
   },
   "toc_section_display": true,
   "toc_window_display": false
  },
  "varInspector": {
   "cols": {
    "lenName": 16,
    "lenType": 16,
    "lenVar": 40
   },
   "kernels_config": {
    "python": {
     "delete_cmd_postfix": "",
     "delete_cmd_prefix": "del ",
     "library": "var_list.py",
     "varRefreshCmd": "print(var_dic_list())"
    },
    "r": {
     "delete_cmd_postfix": ") ",
     "delete_cmd_prefix": "rm(",
     "library": "var_list.r",
     "varRefreshCmd": "cat(var_dic_list()) "
    }
   },
   "types_to_exclude": [
    "module",
    "function",
    "builtin_function_or_method",
    "instance",
    "_Feature"
   ],
   "window_display": false
  }
 },
 "nbformat": 4,
 "nbformat_minor": 4
}
